{
 "cells": [
  {
   "cell_type": "markdown",
   "metadata": {},
   "source": [
    "# Clase 16: Derivadas numéricas"
   ]
  },
  {
   "cell_type": "markdown",
   "metadata": {},
   "source": [
    "En muchos casos la derivada de una función es fácil de calcular. Sin embargo con frecuencia la función se conoce sólo en algunos puntos (por ejemplo cuando es el resultado de una medición o de una simulación) y los métodos numéricos para tomar derivadas pueden resultar muy útiles."
   ]
  },
  {
   "cell_type": "code",
   "execution_count": 3,
   "metadata": {},
   "outputs": [],
   "source": [
    "import numpy as np\n",
    "import matplotlib.pyplot as plt"
   ]
  },
  {
   "cell_type": "markdown",
   "metadata": {},
   "source": [
    "# Fórmula de dos puntos"
   ]
  },
  {
   "cell_type": "markdown",
   "metadata": {},
   "source": [
    "Recordemos la definición de la derivada\n",
    "\n",
    "$$\n",
    "f'(x_o) = \\lim_{h\\rightarrow 0}\\frac{f(x_o + h) - f(x_o)}{h}\n",
    "$$\n",
    "\n",
    "Podemos entonces tomar un $h$ lo suficientemente pequeño. Para obtener una estimación del error usamos la expansión de Taylor\n",
    "\n",
    "$$\n",
    "f(x_o + h) = f(x_o) + h f'(x_o) + \\frac{1}{2}h^2 f''(\\xi)\n",
    "$$\n",
    "\n",
    "tal que\n",
    "\n",
    "$$\n",
    "f'(x_o) = \\frac{f(x_o + h) - f(x_o)}{h} - \\frac{1}{2}h f''(\\xi)\n",
    "$$\n",
    "\n",
    "El error es entonces\n",
    "\n",
    "$$\n",
    "\\left|f'(x_o) - \\frac{f(x_o + h) - f(x_o)}{h}\\right| \\leq \\frac{h}{2}\\,\\text{max}_{x\\in[x_o, x_o+h]}\\,|f''(x)|\n",
    "$$"
   ]
  },
  {
   "cell_type": "code",
   "execution_count": 4,
   "metadata": {},
   "outputs": [],
   "source": [
    "def deriv2p(f, x, h):\n",
    "    return (f(x + h) - f(x))/h"
   ]
  },
  {
   "cell_type": "markdown",
   "metadata": {},
   "source": [
    "También podríamos haber usado\n",
    "\n",
    "$$\n",
    "f'(x_o) = \\frac{f(x_o) - f(x_o - h)}{h} + \\frac{1}{2}h f''(\\xi)\n",
    "$$"
   ]
  },
  {
   "cell_type": "markdown",
   "metadata": {},
   "source": [
    "Una manera alternativa de deducir esta fórmula es usando los polinomios de Lagrange. El polinomio de orden uno es\n",
    "\n",
    "$$\n",
    "f(x) = f(x_o) L_{1,0}(x) + f(x_1) L_{1,1}(x) + \\frac{1}{2}f''(\\xi)(x - x_o)(x - x_1)\n",
    "$$\n",
    "\n",
    "$$\n",
    "L_{1,0}(x) = \\frac{(x - x_1)}{(x_o - x_1)}\\,,\\quad L_{1,1}(x) = \\frac{(x - x_o)}{(x_1 - x_o)}\n",
    "$$\n",
    "\n",
    "Tomando $x_1 = x_o + h$ obtenemos\n",
    "\n",
    "$$\n",
    "f(x) = -f(x_o) \\frac{(x - x_o - h)}{h} + f(x_1) \\frac{(x - x_o)}{h} + \\frac{1}{2}f''(\\xi)(x - x_o)(x - x_o -h)\n",
    "$$\n",
    "\n",
    "tal que\n",
    "\n",
    "$$\n",
    "f'(x_o) = \\frac{f(x_1) - f(x_o)}{h} - \\frac{h}{2}f''(\\xi) \n",
    "$$"
   ]
  },
  {
   "cell_type": "code",
   "execution_count": 5,
   "metadata": {},
   "outputs": [
    {
     "data": {
      "text/plain": [
       "<matplotlib.legend.Legend at 0x121fad450>"
      ]
     },
     "execution_count": 5,
     "metadata": {},
     "output_type": "execute_result"
    },
    {
     "data": {
      "image/png": "[encoded data removed]",
      "text/plain": [
       "<Figure size 432x288 with 1 Axes>"
      ]
     },
     "metadata": {
      "needs_background": "light"
     },
     "output_type": "display_data"
    }
   ],
   "source": [
    "x = np.linspace(0,4,100)\n",
    "exactas = np.cos(x)\n",
    "aprox2 = [deriv2p(np.sin, xi, 0.2) for xi in x]\n",
    "\n",
    "plt.plot(x, exactas, label='Exacta')\n",
    "plt.plot(x, aprox2, label='Orden 2')\n",
    "plt.legend()"
   ]
  },
  {
   "cell_type": "markdown",
   "metadata": {},
   "source": [
    "## Fórmulas de más puntos"
   ]
  },
  {
   "cell_type": "markdown",
   "metadata": {},
   "source": [
    "Podemos usar los polinomios de Legendre para encontrar fórmulas que involucran más puntos. Estas pueden ser más lentas porque necesitan un mayor número de evaluaciones de la función, pero son más precisas como veremos."
   ]
  },
  {
   "cell_type": "markdown",
   "metadata": {},
   "source": [
    "El polinomio de orden dos es\n",
    "\n",
    "$$\n",
    "f(x) = f(x_o) L_{2,0}(x) + f(x_1) L_{2,1}(x) + f(x_2) L_{2,2}(x) + \\frac{1}{6}f^{(3)}(\\xi)(x - x_o)(x - x_1)(x - x_2)\n",
    "$$\n",
    "\n",
    "$$\n",
    "L_{2,0}(x) = \\frac{(x - x_1)(x - x_2)}{(x_o - x_1)(x_o - x_2)}\\,,\\quad L_{2,1}(x) = \\frac{(x - x_o)(x - x_2)}{(x_1 - x_o)(x_1 - x_2)}\\,,\\quad L_{2,2}(x) = \\frac{(x - x_o)(x - x_1)}{(x_2 - x_o)(x_2 - x_1)}\n",
    "$$"
   ]
  },
  {
   "cell_type": "markdown",
   "metadata": {},
   "source": [
    "Tomando $x_o = x_o - h$, $x_1 = x_o$ y $x_2 = x_o + h$ obtenemos\n",
    "\n",
    "$$\n",
    "f(x) = f(x_o - h) \\frac{(x - x_o)(x - x_o - h)}{2h^2} - f(x_o) \\frac{(x - x_o - h)(x - x_o + h)}{h^2} + f(x_o + h) \\frac{(x - x_o + h)(x - x_o)}{2h^2} + \\frac{1}{6}f^{(3)}(\\xi)(x - x_o)(x - x_o - h)(x - x_o + h)\n",
    "$$\n",
    "\n",
    "tal que\n",
    "\n",
    "$$\n",
    "f'(x_o) = - f(x_o - h)\\frac{h}{2h^2} + f(x_o + h)\\frac{h}{2h^2} - \\frac{h^2}{6}f^{(3)}(\\xi)\n",
    "$$\n",
    "\n",
    "simplificando\n",
    "\n",
    "$$\n",
    "f'(x_o) =\\frac{1}{2h}\\left(f(x_o + h) - f(x_o - h)\\right) + \\frac{h^2}{6}f^{(3)}(\\xi)\n",
    "$$"
   ]
  },
  {
   "cell_type": "markdown",
   "metadata": {},
   "source": [
    "¡Obtenemos una mayor precisión (error cuadrático) haciendo un número igual de evaluaciones que la fórmula de dos puntos!"
   ]
  },
  {
   "cell_type": "code",
   "execution_count": 6,
   "metadata": {},
   "outputs": [],
   "source": [
    "def deriv3p(f, x, h):\n",
    "    return (f(x + h) - f(x - h))/(2*h)"
   ]
  },
  {
   "cell_type": "code",
   "execution_count": 8,
   "metadata": {},
   "outputs": [
    {
     "data": {
      "text/plain": [
       "<matplotlib.legend.Legend at 0x122a22290>"
      ]
     },
     "execution_count": 8,
     "metadata": {},
     "output_type": "execute_result"
    },
    {
     "data": {
      "image/png": "[encoded data removed]",
      "text/plain": [
       "<Figure size 432x288 with 1 Axes>"
      ]
     },
     "metadata": {
      "needs_background": "light"
     },
     "output_type": "display_data"
    }
   ],
   "source": [
    "x = np.linspace(0,4,100)\n",
    "exactas = np.cos(x)\n",
    "aprox2 = [deriv2p(np.sin, xi, 0.2) for xi in x]\n",
    "aprox3 = [deriv3p(np.sin, xi, 0.2) for xi in x]\n",
    "\n",
    "plt.plot(x, exactas - aprox2, label='Orden 2')\n",
    "plt.plot(x, exactas - aprox3, label='Orden 3')\n",
    "plt.legend()"
   ]
  },
  {
   "cell_type": "markdown",
   "metadata": {},
   "source": [
    "Tomando $x_1 = x_o + h$ y $x_2 = x_o + 2h$ obtenemos\n",
    "\n",
    "$$\n",
    "f(x) = f(x_o) \\frac{(x - x_o - h)(x - x_o - 2h)}{2h^2} - f(x_o + h) \\frac{(x - x_o)(x - x_o - 2h)}{h^2} + f(x_o + 2h) \\frac{(x - x_o)(x - x_o - h)}{2h^2} + \\frac{1}{6}f^{(3)}(\\xi)(x - x_o)(x - x_o - h)(x - x_o - 2h)\n",
    "$$\n",
    "\n",
    "tal que\n",
    "\n",
    "$$\n",
    "f'(x_o) = - f(x_o)\\frac{3h}{2h^2} + f(x_o + h) \\frac{2h}{h^2} - f(x_o + 2h)\\frac{h}{2h^2} + \\frac{h^2}{3}f^{(3)}(\\xi)\n",
    "$$\n",
    "\n",
    "simplificando\n",
    "\n",
    "$$\n",
    "f'(x_o) =\\frac{1}{2h}\\left(- 3f(x_o) + 4f(x_o + h) - f(x_o + 2h)\\right) + \\frac{h^2}{3}f^{(3)}(\\xi)\n",
    "$$"
   ]
  },
  {
   "cell_type": "markdown",
   "metadata": {},
   "source": [
    "Esta fórmula sirve para estimar la derivada de una función en los bordes, cuando no conocemos $f(x)$ para $x < x_o$. También se puede usar cuando no conocemos la función para $x > x_o$, en cuyo caso reemplazamos $h \\rightarrow -h$. Tiene dos desventajas respecto a la anterior: Necesita tres evaluaciones y el error es aproximadamente el doble."
   ]
  },
  {
   "cell_type": "code",
   "execution_count": 9,
   "metadata": {},
   "outputs": [],
   "source": [
    "def deriv3p_extremo(f, x, h):\n",
    "    return (-3*f(x) + 4*f(x + h) - f(x + 2*h))/(2*h)"
   ]
  },
  {
   "cell_type": "markdown",
   "metadata": {},
   "source": [
    "También podemos usar polinomios de más alto orden para obtener fórmulas de más puntos. Por ejemplo la fórmula de tres puntos tiene un error $(h^4/30)f^{(5)}(\\xi)$."
   ]
  },
  {
   "cell_type": "code",
   "execution_count": 10,
   "metadata": {},
   "outputs": [],
   "source": [
    "def deriv5p(f, x, h):\n",
    "    return (f(x - 2*h) - 8*f(x - h) + 8*f(x + h) - f(x + 2*h))/(12*h)"
   ]
  },
  {
   "cell_type": "code",
   "execution_count": 28,
   "metadata": {},
   "outputs": [],
   "source": [
    "def deriv5p_extremo(f, x, h):\n",
    "    return (-25*f(x) + 48*f(x + h) - 36*f(x + 2*h) + 16*f(x + 3*h) - 3*f(x + 4*h))/(12*h)"
   ]
  },
  {
   "cell_type": "markdown",
   "metadata": {},
   "source": [
    "De manera análoga se pueden deducir fórmulas para derivadas de más alto orden (que necesitarán una mayor número de evaluaciones). Si consideramos la expansión de Taylor\n",
    "\n",
    "$$\n",
    "f(x_o + h) = f(x_o) + f'(x_o)h + \\frac{1}{2}f''(x_o)h^2 + \\frac{1}{6}f^{(3)}(x_o)h^3 + \\frac{1}{24}f^{(4)}(\\xi)h^4\n",
    "$$\n",
    "\n",
    "de donde vemos que\n",
    "\n",
    "$$\n",
    "f(x_o + h) + f(x_o - h) = 2f(x_o) + f''(x_o)h^2 + \\frac{1}{12}f^{(4)}(\\xi)h^4\\,.\n",
    "$$\n",
    "\n",
    "y entonces\n",
    "\n",
    "$$\n",
    "f''(x_o) = \\frac{1}{h^2}\\left(f(x_o + h) - 2f(x_o) + f(x_o - h)\\right) - \\frac{1}{12}f^{(4)}(\\xi)h^2\n",
    "$$"
   ]
  },
  {
   "cell_type": "code",
   "execution_count": 11,
   "metadata": {},
   "outputs": [],
   "source": [
    "def segunda_deriv(f, x, h):\n",
    "    return (f(x + h) - 2*f(x) + f(x - h))/(h*h)"
   ]
  },
  {
   "cell_type": "markdown",
   "metadata": {},
   "source": [
    "## Las derivadas numéricas son inestables y ruidosas"
   ]
  },
  {
   "cell_type": "markdown",
   "metadata": {},
   "source": [
    "Las derivadas numéricas sufren de una inestabilidad respecto a los errores de redondeo. Para verlo consideremos la fórmula a tres puntos y supongamos que el error de redondeo (o un error de la simulación) está acotado por un valor $e$ y $f(x) = \\tilde{f}(x) + e(x)$ donde $\\tilde{f}$ es el verdadero valor, tal que $e(x) \\leq e$. Entonces\n",
    "\n",
    "$$\n",
    "\\left|f'(x_o) - \\frac{1}{2h}\\left(f(x_o + h) - f(x_o - h)\\right)\\right| \\leq \\left|\\frac{1}{2h}(e(x_o + h) - e(x_o - h))\\right| + \\frac{h^2}{6} M \\leq \\frac{e}{h} + \\frac{h^2}{6} M\n",
    "$$\n",
    "\n",
    "¡Al disminuir $h$ aumentamos el primer término de este error!"
   ]
  },
  {
   "cell_type": "code",
   "execution_count": 12,
   "metadata": {},
   "outputs": [],
   "source": [
    "x = np.arange(0, 4, 0.1)\n",
    "datos_r = np.sin(x) + np.random.normal(0, 0.05, 40)\n",
    "datos_e = np.sin(x)"
   ]
  },
  {
   "cell_type": "code",
   "execution_count": 13,
   "metadata": {},
   "outputs": [
    {
     "data": {
      "text/plain": [
       "<matplotlib.collections.PathCollection at 0x122b7ba10>"
      ]
     },
     "execution_count": 13,
     "metadata": {},
     "output_type": "execute_result"
    },
    {
     "data": {
      "image/png": "[encoded data removed]",
      "text/plain": [
       "<Figure size 432x288 with 1 Axes>"
      ]
     },
     "metadata": {
      "needs_background": "light"
     },
     "output_type": "display_data"
    }
   ],
   "source": [
    "plt.scatter(x, datos_e)\n",
    "plt.scatter(x, datos_r)"
   ]
  },
  {
   "cell_type": "code",
   "execution_count": 57,
   "metadata": {},
   "outputs": [],
   "source": [
    "\n",
    "def deriv3_datos(fxo, fx2, h):\n",
    "    return (fx2 - fxo)/(2*h)\n",
    "\n",
    "def deriv3_borde_datos(fxo, fx1, fx2, h):\n",
    "    return (-3*fxo + 4*fx1 - fx2)/(2*h)\n",
    "\n",
    "def deriv_datos(fx, h):\n",
    "    \n",
    "    n = len(fx)\n",
    "    deriv = np.zeros(n)\n",
    "    for i in range(n):\n",
    "        if i == 0:\n",
    "            deriv[i] = deriv3_borde_datos(fx[0], fx[1], fx[2], h)\n",
    "        elif i == n - 1:\n",
    "            deriv[i] = deriv3_borde_datos(fx[n-1], fx[n-2], fx[n-3], -h)\n",
    "        else:\n",
    "            deriv[i] = deriv3_datos(fx[i-1], fx[i+1], h)\n",
    "    return deriv\n",
    "    return (fx2 - fxo)/(2*h)"
   ]
  },
  {
   "cell_type": "code",
   "execution_count": 80,
   "metadata": {
    "scrolled": true
   },
   "outputs": [
    {
     "data": {
      "text/plain": [
       "[<matplotlib.lines.Line2D at 0x124a74d10>]"
      ]
     },
     "execution_count": 80,
     "metadata": {},
     "output_type": "execute_result"
    },
    {
     "data": {
      "image/png": "[encoded data removed]",
      "text/plain": [
       "<Figure size 432x288 with 1 Axes>"
      ]
     },
     "metadata": {
      "needs_background": "light"
     },
     "output_type": "display_data"
    }
   ],
   "source": [
    "num = 20\n",
    "x = np.linspace(0, 4, 20)\n",
    "h = 4/num\n",
    "datos_e = np.sin(x)\n",
    "datos_r = np.sin(x) + np.random.normal(0, 0.001, num)\n",
    "plt.plot(x, deriv_datos(datos_e, h) - np.cos(x))\n",
    "plt.plot(x, deriv_datos(datos_r, h) - np.cos(x))"
   ]
  },
  {
   "cell_type": "markdown",
   "metadata": {},
   "source": [
    "## Extrapolación de Richardson"
   ]
  },
  {
   "cell_type": "markdown",
   "metadata": {},
   "source": [
    "Cuando se conoce la forma del error, se puede intentar combinar diferentes evaluaciones para eliminarlo."
   ]
  },
  {
   "cell_type": "markdown",
   "metadata": {},
   "source": [
    "Supongamos que la evaluación numérica $N_1(h)$ de una cierta cantidad $M$ está dada por\n",
    "\n",
    "$$\n",
    "M = N_1(h) + K_1 h + K_2 h^2 + ...\n",
    "$$\n",
    "\n",
    "Podemos entonces escribir también\n",
    "\n",
    "$$\n",
    "M = N_1(h/2) + \\frac{1}{2} K_1 h + \\frac{1}{4} K_2 h^2 + ...\n",
    "$$\n",
    "\n",
    "Usando ambas ecuaciones podemos eliminar el término proporcional a $h$\n",
    "\n",
    "$$\n",
    "M = 2N_1(h/2) - N_1(h) - \\frac{1}{2} K_2 h^2 + ...\n",
    "$$\n",
    "\n",
    "Así obtenemos una nueva aproximación con un error cuadrático\n",
    "\n",
    "$$\n",
    "N_2(h) = 2N_1(h/2) - N_1(h)\n",
    "$$\n",
    "\n",
    "Se puede proceder de esta forma para obtener\n",
    "\n",
    "$$\n",
    "N_j(h) = N_{j - 1}(h/2) + \\frac{N_{j-1}(h/2) - N_{j-1}(h)}{2^{j-1} - 1}\n",
    "$$\n",
    "\n",
    "Además se puede chequear convergencia cuando $N_{j}(h) - N_{j-1}(h)$ sea menor que un cierto valor."
   ]
  },
  {
   "cell_type": "markdown",
   "metadata": {},
   "source": [
    "En muchos casos de interés los errores toman la forma\n",
    "\n",
    "$$\n",
    "M = N_1(h) + K_1 h^2 + K_2 h^4 + ...\n",
    "$$\n",
    "\n",
    "Podemos entonces escribir también\n",
    "\n",
    "$$\n",
    "M = N_1(h/2) + \\frac{1}{4} K_1 h^2 + \\frac{1}{16} K_2 h^4 + ...\n",
    "$$\n",
    "\n",
    "Usando ambas ecuaciones podemos eliminar el término proporcional a $h^2$\n",
    "\n",
    "$$\n",
    "3M = 4N_1(h/2) - N_1(h) - \\frac{3}{4} K_2 h^4 + ...\n",
    "$$\n",
    "\n",
    "Así obtenemos una nueva aproximación con un error cuártico\n",
    "\n",
    "$$\n",
    "N_2(h) = \\frac{4N_1(h/2) - N_1(h)}{3}\n",
    "$$\n",
    "\n",
    "Se puede proceder de esta forma para obtener\n",
    "\n",
    "$$\n",
    "N_j(h) = N_{j - 1}(h/2) + \\frac{N_{j-1}(h/2) - N_{j-1}(h)}{4^{j-1} - 1}\n",
    "$$\n",
    "\n",
    "Además se puede chequear convergencia cuando $N_{j}(h) - N_{j-1}(h)$ sea menor que un cierto valor."
   ]
  },
  {
   "cell_type": "markdown",
   "metadata": {},
   "source": [
    "Las fórmulas de derivadas a tres o cinco puntos se pueden deducir como extrapolaciones de este estilo (sólo que evaluadas en puntos distintos de $h/2$). Veremos otro ejemplo interesante en la próxima clase."
   ]
  },
  {
   "cell_type": "markdown",
   "metadata": {},
   "source": [
    "## Scipy"
   ]
  },
  {
   "cell_type": "markdown",
   "metadata": {},
   "source": [
    "Scipy usa la fórmula a tres puntos para la primera derivada, pero además ya tiene programadas derivadas de varios órdenes."
   ]
  },
  {
   "cell_type": "code",
   "execution_count": 1,
   "metadata": {},
   "outputs": [
    {
     "data": {
      "text/plain": [
       "4.999999999921734"
      ]
     },
     "execution_count": 1,
     "metadata": {},
     "output_type": "execute_result"
    }
   ],
   "source": [
    "from scipy.misc import derivative\n",
    "\n",
    "def f(x):\n",
    "    return x**3 + x**2\n",
    "\n",
    "derivative(f, 1.0, dx=1e-6)"
   ]
  },
  {
   "cell_type": "markdown",
   "metadata": {},
   "source": [
    "## Tareas"
   ]
  },
  {
   "cell_type": "markdown",
   "metadata": {},
   "source": [
    "### Tarea 8.6"
   ]
  },
  {
   "cell_type": "markdown",
   "metadata": {},
   "source": [
    "Los siguientes datos corresponden al cálculo numérico de una cierta propiedad estadística de la distribución de materia en el universo (el espectro de potencias) $P(k)$ en función del modo de Fourier $k$. Use la derivada numérica para encontrar $d\\ln P/d\\ln k$ en cada punto. Para estimar el error cometido en esta derivada numérica compare el resultado de la fórmula a tres puntos con el resultado de la fórmula a cinco puntos. Será necesario usar las fórmulas a tres y cinco puntos en los extremos que se encuentran en este mismo notebook."
   ]
  },
  {
   "cell_type": "code",
   "execution_count": 30,
   "metadata": {},
   "outputs": [],
   "source": [
    "datos = np.array([       [5.531683013105e-04,       1.070304113861e+12], \n",
    "       [5.910227121702e-04,       1.139622191891e+12], \n",
    "       [6.315688849627e-04,       1.213481232452e+12], \n",
    "       [6.750065137883e-04,       1.292169597309e+12], \n",
    "       [7.215301959429e-04,       1.375954296780e+12], \n",
    "       [7.713235180257e-04,       1.465069697719e+12], \n",
    "       [8.245525173319e-04,       1.559705507566e+12], \n",
    "       [8.813589235833e-04,       1.659994890361e+12], \n",
    "       [9.418537183337e-04,       1.766003776663e+12], \n",
    "       [1.006111625261e-03,       1.877722471320e+12], \n",
    "       [1.074167130425e-03,       1.995060685935e+12], \n",
    "       [1.146012510269e-03,       2.117846703996e+12], \n",
    "       [1.221598126720e-03,       2.245831037960e+12], \n",
    "       [1.300834972303e-03,       2.378694410099e+12], \n",
    "       [1.383599172303e-03,       2.516052095865e+12], \n",
    "       [1.469737934874e-03,       2.657475892684e+12], \n",
    "       [1.559076324033e-03,       2.802524407596e+12], \n",
    "       [1.651424225675e-03,       2.950729179407e+12], \n",
    "       [1.746582964833e-03,       3.101618970269e+12], \n",
    "       [1.844351177716e-03,       3.254730780491e+12], \n",
    "       [1.944529704896e-03,       3.409618695392e+12], \n",
    "       [2.046925420592e-03,       3.565860320889e+12], \n",
    "       [2.151354028418e-03,       3.723061333248e+12], \n",
    "       [2.257641930146e-03,       3.880858018481e+12] ])"
   ]
  },
  {
   "cell_type": "code",
   "execution_count": 39,
   "metadata": {},
   "outputs": [],
   "source": [
    "def deriv3p_extremo_pts (fx0, fx1, fx2, h):\n",
    "    return (-3*fx0 + 4*fx1 - fx2)/(2*h)\n",
    "\n",
    "def deriv3p_pts(fxm1, fxp1, h):\n",
    "    return (fxp1 - fxm1)/(2*h)"
   ]
  },
  {
   "cell_type": "code",
   "execution_count": 43,
   "metadata": {},
   "outputs": [],
   "source": [
    "def deriv(puntos):\n",
    "    \n",
    "    n = len(puntos)\n",
    "    h = puntos[1,0] - puntos[0,0]\n",
    "    fs = puntos[:,1]\n",
    "    resultado = np.zeros(n)\n",
    "    for i in range(n):\n",
    "        if i == 0:\n",
    "            resultado[i] = deriv3p_extremo_pts(fs[i], fs[i+1], fs[i+2], h)\n",
    "        elif i == n-1:\n",
    "            resultado[i] = deriv3p_extremo_pts(fs[i], fs[i-1], fs[i-2], -h)\n",
    "        else:\n",
    "            resultado[i] = deriv3p_pts(fs[i-1], fs[i+1], h)\n",
    "    \n",
    "    return resultado"
   ]
  },
  {
   "cell_type": "code",
   "execution_count": 44,
   "metadata": {},
   "outputs": [
    {
     "data": {
      "text/plain": [
       "[<matplotlib.lines.Line2D at 0x123240f90>]"
      ]
     },
     "execution_count": 44,
     "metadata": {},
     "output_type": "execute_result"
    },
    {
     "data": {
      "image/png": "[encoded data removed]",
      "text/plain": [
       "<Figure size 432x288 with 1 Axes>"
      ]
     },
     "metadata": {
      "needs_background": "light"
     },
     "output_type": "display_data"
    }
   ],
   "source": [
    "plt.plot(datos[:,0], datos[:,1])"
   ]
  },
  {
   "cell_type": "code",
   "execution_count": 53,
   "metadata": {},
   "outputs": [
    {
     "data": {
      "text/plain": [
       "Text(0, 0.5, '$d\\\\ln P/d\\\\ln k$')"
      ]
     },
     "execution_count": 53,
     "metadata": {},
     "output_type": "execute_result"
    },
    {
     "data": {
      "image/png": "[encoded data removed]",
      "text/plain": [
       "<Figure size 432x288 with 1 Axes>"
      ]
     },
     "metadata": {
      "needs_background": "light"
     },
     "output_type": "display_data"
    }
   ],
   "source": [
    "logders = deriv(datos)*datos[:,0]/datos[:,1]\n",
    "plt.plot(datos[:,0], logders)\n",
    "plt.xlabel('$k$')\n",
    "plt.ylabel('$d\\ln P/d\\ln k$')"
   ]
  },
  {
   "cell_type": "code",
   "execution_count": 48,
   "metadata": {},
   "outputs": [],
   "source": [
    "def deriv5p_extremo_pts (fx0, fx1, fx2, fx3, fx4, h):\n",
    "    return (-25*fx0 + 48*fx1 - 36*fx2 + 16*fx3 - 3*fx4)/(12*h)\n",
    "\n",
    "def deriv5p_pts(fxm2, fxm1, fxp1, fxp2, h):\n",
    "    return (fxm2 - 8*fxm1 + 8*fxp1 - fxp2)/(12*h)"
   ]
  },
  {
   "cell_type": "code",
   "execution_count": 49,
   "metadata": {},
   "outputs": [],
   "source": [
    "def deriv5(puntos):\n",
    "    \n",
    "    n = len(puntos)\n",
    "    h = puntos[1,0] - puntos[0,0]\n",
    "    fs = puntos[:,1]\n",
    "    resultado = np.zeros(n)\n",
    "    for i in range(n):\n",
    "        if i < 2:\n",
    "            resultado[i] = deriv5p_extremo_pts(fs[i], fs[i+1], fs[i+2], fs[i+3], fs[i+4], h)\n",
    "        elif i > n-3:\n",
    "            resultado[i] = deriv5p_extremo_pts(fs[i], fs[i-1], fs[i-2], fs[i-3], fs[i-4], -h)\n",
    "        else:\n",
    "            resultado[i] = deriv5p_pts(fs[i-2], fs[i-1], fs[i+1], fs[i+2], h)\n",
    "    \n",
    "    return resultado"
   ]
  },
  {
   "cell_type": "code",
   "execution_count": 54,
   "metadata": {},
   "outputs": [
    {
     "data": {
      "text/plain": [
       "Text(0, 0.5, 'Error relativo')"
      ]
     },
     "execution_count": 54,
     "metadata": {},
     "output_type": "execute_result"
    },
    {
     "data": {
      "image/png": "[encoded data removed]",
      "text/plain": [
       "<Figure size 432x288 with 1 Axes>"
      ]
     },
     "metadata": {
      "needs_background": "light"
     },
     "output_type": "display_data"
    }
   ],
   "source": [
    "logders3 = deriv(datos)*datos[:,0]/datos[:,1]\n",
    "logders5 = deriv5(datos)*datos[:,0]/datos[:,1]\n",
    "plt.plot(datos[:,0], np.abs((logders5-logders)/logders5))\n",
    "plt.xlabel('$k$')\n",
    "plt.ylabel('Error relativo')"
   ]
  },
  {
   "cell_type": "markdown",
   "metadata": {},
   "source": [
    "### Tarea 8.7"
   ]
  },
  {
   "cell_type": "markdown",
   "metadata": {},
   "source": [
    "Encuentre la separación óptima entre puntos para el ejemplo con ruido hecho en clase."
   ]
  },
  {
   "cell_type": "code",
   "execution_count": 55,
   "metadata": {
    "scrolled": true
   },
   "outputs": [
    {
     "data": {
      "text/plain": [
       "<matplotlib.collections.PathCollection at 0x123a28950>"
      ]
     },
     "execution_count": 55,
     "metadata": {},
     "output_type": "execute_result"
    },
    {
     "data": {
      "image/png": "[encoded data removed]",
      "text/plain": [
       "<Figure size 432x288 with 1 Axes>"
      ]
     },
     "metadata": {
      "needs_background": "light"
     },
     "output_type": "display_data"
    }
   ],
   "source": [
    "x = np.arange(0, 4, 0.1)\n",
    "datos_r = np.sin(x) + np.random.normal(0, 0.05, 40)\n",
    "datos_e = np.sin(x)\n",
    "\n",
    "plt.scatter(x, datos_e)\n",
    "plt.scatter(x, datos_r)"
   ]
  },
  {
   "cell_type": "code",
   "execution_count": 77,
   "metadata": {
    "scrolled": false
   },
   "outputs": [
    {
     "data": {
      "text/plain": [
       "[<matplotlib.lines.Line2D at 0x123db5510>]"
      ]
     },
     "execution_count": 77,
     "metadata": {},
     "output_type": "execute_result"
    },
    {
     "data": {
      "image/png": "[encoded data removed]",
      "text/plain": [
       "<Figure size 432x288 with 1 Axes>"
      ]
     },
     "metadata": {
      "needs_background": "light"
     },
     "output_type": "display_data"
    }
   ],
   "source": [
    "errors = []\n",
    "max_num = 30\n",
    "for num in range(4, max_num):\n",
    "    x = np.linspace(0, 4, num)\n",
    "    h = 4/num\n",
    "    datos_r = np.sin(x) + np.random.normal(0, 0.001, num)\n",
    "    e = np.abs((deriv_datos(datos_r, h) - np.cos(x))/np.cos(x))\n",
    "    errors.append(e.mean())\n",
    "plt.plot(range(4, max_num), errors)"
   ]
  },
  {
   "cell_type": "markdown",
   "metadata": {},
   "source": [
    "El $h$ óptimo se logra cerca de $20$ puntos, con un $h = 4/20 = 0.2$. Podemos tomar $h$ un poco más ppequeño, tal vez con 23 puntos, cerca de los $24$ puntos las fluctuaciones debidas al ruido empiezan a ser grandes e impredecibles. Esto se puede ver corriendo el código varias veces."
   ]
  },
  {
   "cell_type": "markdown",
   "metadata": {},
   "source": [
    "### Tarea 8.8"
   ]
  },
  {
   "cell_type": "markdown",
   "metadata": {},
   "source": [
    "A partir de la fórmula de tres puntos para la derivada en el extremo, asumiendo que esta tiene un error del tipo\n",
    "\n",
    "$$\n",
    "M = N_1(h) + K_1 h^2 + K_2 h^4 + ...\n",
    "$$\n",
    "\n",
    "use la extrapolación de Richardson para mejorar la aproximación. Escriba un código usando esta nueva fórmula y compárela con las fórmulas a tres y cinco puntos en los extremos introducidas en clase actuando sobre alguna función sencilla y comparando los errores de las tres."
   ]
  },
  {
   "cell_type": "markdown",
   "metadata": {},
   "source": [
    "**Solución**: La fórmula de Richardson nos dice que\n",
    "\n",
    "$$\n",
    "N_2(h) = \\frac{4N_1(h/2) - N_1(h)}{3}\n",
    "$$\n",
    "\n",
    "Entonces la fórmula mejorada de la derivada es\n",
    "\n",
    "$$\n",
    "f'(x_o) = \\frac{8(-3f(x_o) + 4f(x_o + h/2) - f(x_o + h)) - (-3f(x_o) + 4f(x_o + h) - f(x_o + 2h))}{6h}\n",
    "$$\n",
    "\n",
    "$$\n",
    "f'(x_o) = \\frac{-21f(x_o) + 32f(x_o + h/2) - 12f(x_o + h) + f(x_o + 2h)}{6h}\n",
    "$$"
   ]
  },
  {
   "cell_type": "code",
   "execution_count": 81,
   "metadata": {},
   "outputs": [],
   "source": [
    "def richardson(f, x, h):\n",
    "    return (-21*f(x) + 32*f(x + h/2) - 12*f(x + h) + f(x + 2*h))/(6*h)"
   ]
  },
  {
   "cell_type": "code",
   "execution_count": 90,
   "metadata": {},
   "outputs": [
    {
     "data": {
      "text/plain": [
       "2.9128247169829535e-06"
      ]
     },
     "execution_count": 90,
     "metadata": {},
     "output_type": "execute_result"
    }
   ],
   "source": [
    "np.abs(-1 - richardson(np.cos, np.pi/2, 0.1))"
   ]
  },
  {
   "cell_type": "code",
   "execution_count": 91,
   "metadata": {},
   "outputs": [
    {
     "data": {
      "text/plain": [
       "0.0008326043588524623"
      ]
     },
     "execution_count": 91,
     "metadata": {},
     "output_type": "execute_result"
    }
   ],
   "source": [
    "np.abs(-1 - deriv3p_extremo(np.cos, np.pi/2, 0.05))"
   ]
  },
  {
   "cell_type": "code",
   "execution_count": 92,
   "metadata": {},
   "outputs": [
    {
     "data": {
      "text/plain": [
       "1.2451680875269489e-06"
      ]
     },
     "execution_count": 92,
     "metadata": {},
     "output_type": "execute_result"
    }
   ],
   "source": [
    "np.abs(-1 - deriv5p_extremo(np.cos, np.pi/2, 0.05))"
   ]
  },
  {
   "cell_type": "markdown",
   "metadata": {},
   "source": [
    "Vemos que la nueva fórmula es mejor que la obtenida en clase y tiene un error del mismo orden de magnitud de la fórmula a cinco puntos. La ventaja respecto a la última es que requiere sólo cuatro evaluaciones de la función.\n",
    "\n",
    "Note que hemos tomado en cuenta que el verdadero paso de la fórmula de Richardson es $h/2$ al hacer la comparación, ya que hay evaluaciones en el punto $x_o + h/2$ etc."
   ]
  },
  {
   "cell_type": "markdown",
   "metadata": {},
   "source": [
    "### Tarea 8.9"
   ]
  },
  {
   "cell_type": "markdown",
   "metadata": {},
   "source": [
    "En clase introducimos una fórmula para la segunda derivada usando tres evaluaciones de la función. Use la expansión en Taylor de $f(x_o + h)$, $f(x_o - h)$, $f(x_o + 2h)$ y $f(x_o - 2h)$ para encontrar una fórmula para la segunda derivada con cinco evaluaciones y estime el error cometido (la potencia de $h$)."
   ]
  },
  {
   "cell_type": "markdown",
   "metadata": {},
   "source": [
    "**Solución:** Usamos las expansiones de Taylor\n",
    "\n",
    "$$\n",
    "f(x_o + h) = f(x_o) + h f'(x_o) + \\frac{1}{2}h^2 f''(x_o) + \\frac{1}{6}h^3 f^{(3)}(x_o) + \\frac{1}{24}h^4 f^{(4)}(x_o) + \\frac{1}{120}h^5 f^{(5)}(x_o) + \\frac{1}{720} h^6 f^{(6)}(\\xi)\n",
    "$$\n",
    "\n",
    "Combinando las diferentes series de Taylor podemos obtener\n",
    "\n",
    "$$\n",
    "\\frac{1}{2}(f(x_o + h) + f(x_o - h)) = f(x_o) + \\frac{1}{2}h^2 f''(x_o) + \\frac{1}{24}h^4 f^{(4)}(x_o) + \\frac{1}{720} h^6 f^{(6)}(\\xi)\n",
    "$$\n",
    "\n",
    "$$\n",
    "\\frac{1}{2}(f(x_o + 2h) + f(x_o - 2h)) = f(x_o) + 2h^2 f''(x_o) + \\frac{2}{3}h^4 f^{(4)}(x_o) + \\frac{4}{45} h^6 f^{(6)}(\\xi)\n",
    "$$\n",
    "\n",
    "Podemos cancelar el término proporcional a $h^4$ combinando ambas expresiones\n",
    "\n",
    "$$\n",
    "12(f(x_o + h) + f(x_o - h)) - \\frac{3}{4}(f(x_o + 2h) + f(x_o - 2h)) = \\frac{45}{2}f(x_o) +9 h^2 f''(x_o) - \\frac{1}{10} h^6 f^{(6)}(\\xi)\n",
    "$$\n",
    "\n",
    "despejando\n",
    "\n",
    "$$\n",
    "f''(x_o) = -\\frac{30 f(x_o) + 16f(x_o + h) + 16f(x_o - h) - f(x_o + 2h) - f(x_o - 2h)}{12h^2} + \\frac{1}{90} h^4 f^{(6)}(\\xi)\n",
    "$$"
   ]
  },
  {
   "cell_type": "markdown",
   "metadata": {},
   "source": [
    "### Tarea 8.10"
   ]
  },
  {
   "cell_type": "markdown",
   "metadata": {},
   "source": [
    "Considere los siguientes datos que son el resultado de cinco simulaciones muy costosas. Estime la derivada de $n$ respecto a $\\sigma$ así como el error cometido. \n",
    "\n",
    "| $\\sigma$ |          $n$            |\n",
    "|----------|-------------------------|\n",
    "| $0.75$   | $1.1324\\times 10^{-3}$  |\n",
    "| $0.77$   | $1.1376\\times 10^{-3}$  |\n",
    "| $0.79$   | $1.1386\\times 10^{-3}$  |\n",
    "| $0.81$   | $1.1454\\times 10^{-3}$  |\n",
    "| $0.83$   | $1.1474\\times 10^{-3}$  |\n",
    "\n",
    "Para estimar el error use la fórmula de error junto con una expresión a cinco puntos para la tercera derivada. Además considere el error de $n$ ($\\Delta n = 10^{-6}$).\n",
    "\n",
    "Para encontrar una expresión para la tercera derivada use la expansión en Taylor de $f(x_o + h)$, $f(x_o - h)$, $f(x_o + 2h)$ y $f(x_o - 2h)$."
   ]
  },
  {
   "cell_type": "markdown",
   "metadata": {},
   "source": [
    "**Solución:** Para obtener la tercera derivada usamos las expansiones de Taylor\n",
    "\n",
    "$$\n",
    "f(x_o + h) = f(x_o) + h f'(x_o) + \\frac{1}{2}h^2 f''(x_o) + \\frac{1}{6}h^3 f^{(3)}(x_o) + \\frac{1}{24}h^4 f^{(4)}(x_o) + \\frac{1}{120}h^5 f^{(5)}(\\xi)\n",
    "$$\n",
    "\n",
    "Combinando las diferentes series de Taylor podemos obtener\n",
    "\n",
    "$$\n",
    "\\frac{1}{2h}(f(x_o + h) - f(x_o - h)) = f'(x_o) + \\frac{1}{6}h^2 f^{(3)}(x_o) + \\frac{1}{120}h^4 f^{(5)}(\\xi)\n",
    "$$\n",
    "\n",
    "$$\n",
    "\\frac{1}{4h}(f(x_o + 2h) - f(x_o - 2h)) = f'(x_o) + \\frac{2}{3}h^2 f^{(3)}(x_o) + \\frac{2}{15}h^4 f^{(5)}(\\xi)\n",
    "$$\n",
    "\n",
    "Entonces\n",
    "\n",
    "$$\n",
    "\\frac{1}{4h}(f(x_o + 2h) - 2f(x_o + h) + 2f(x_o - h) - f(x_o - 2h)) = \\frac{1}{2}h^2 f^{(3)}(x_o) + \\frac{1}{8}h^4 f^{(5)}(\\xi)\n",
    "$$\n",
    "\n",
    "$$\n",
    "f^{(3)}(x_o) = \\frac{1}{2h^3}(f(x_o + 2h) - 2f(x_o + h) + 2f(x_o - h) - f(x_o - 2h)) - \\frac{1}{4}h^2 f^{(5)}(\\xi)\n",
    "$$"
   ]
  },
  {
   "cell_type": "code",
   "execution_count": 93,
   "metadata": {},
   "outputs": [],
   "source": [
    "def deriv3p_pts(fxm1, fxp1, h):\n",
    "    return (fxp1 - fxm1)/(2*h)\n",
    "\n",
    "def tercera_deriv_pts(fxm2, fxm1, fxp1, fxp2, h):\n",
    "    return (fxp2 - 2*fxp1 + 2*fxm1 - fxm2)/(2*h*h*h)"
   ]
  },
  {
   "cell_type": "code",
   "execution_count": 109,
   "metadata": {},
   "outputs": [],
   "source": [
    "sigma = 0.79\n",
    "n = 1.1386*(10**(-3))\n",
    "nm1 = 1.1376*(10**(-3))\n",
    "nm2 = 1.1324*(10**(-3))\n",
    "np1 = 1.1454*(10**(-3))\n",
    "np2 = 1.1474*(10**(-3))\n",
    "h = 0.02"
   ]
  },
  {
   "cell_type": "markdown",
   "metadata": {},
   "source": [
    "La derivada logarítmica $d n/d \\sigma$ es:"
   ]
  },
  {
   "cell_type": "code",
   "execution_count": 111,
   "metadata": {},
   "outputs": [
    {
     "data": {
      "text/plain": [
       "0.00019500000000000203"
      ]
     },
     "execution_count": 111,
     "metadata": {},
     "output_type": "execute_result"
    }
   ],
   "source": [
    "deriv3p_pts(nm1, np1, h)"
   ]
  },
  {
   "cell_type": "markdown",
   "metadata": {},
   "source": [
    "El error se puede estimar como $f^{(3)}(\\sigma)h^3/6$"
   ]
  },
  {
   "cell_type": "code",
   "execution_count": 113,
   "metadata": {},
   "outputs": [
    {
     "data": {
      "text/plain": [
       "-5.000000000002832e-08"
      ]
     },
     "execution_count": 113,
     "metadata": {},
     "output_type": "execute_result"
    }
   ],
   "source": [
    "tercera_deriv_pts(nm2, nm1, np1, np2, h)*h**3/6"
   ]
  }
 ],
 "metadata": {
  "kernelspec": {
   "display_name": "Python 3",
   "language": "python",
   "name": "python3"
  },
  "language_info": {
   "codemirror_mode": {
    "name": "ipython",
    "version": 3
   },
   "file_extension": ".py",
   "mimetype": "text/x-python",
   "name": "python",
   "nbconvert_exporter": "python",
   "pygments_lexer": "ipython3",
   "version": "3.7.7"
  }
 },
 "nbformat": 4,
 "nbformat_minor": 4
}
