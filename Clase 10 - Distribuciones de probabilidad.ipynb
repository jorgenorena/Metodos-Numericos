{
 "cells": [
  {
   "cell_type": "markdown",
   "metadata": {},
   "source": [
    "# Clase 10: Distribuciones de probabilidad"
   ]
  },
  {
   "cell_type": "markdown",
   "metadata": {},
   "source": [
    "Veamos varios ejemplos de las distribuciones de probabilidad más usadas. Para verificarlas reutilizaremos algunas funciones de la clase pasada."
   ]
  },
  {
   "cell_type": "code",
   "execution_count": 1,
   "metadata": {},
   "outputs": [],
   "source": [
    "import numpy as np"
   ]
  },
  {
   "cell_type": "code",
   "execution_count": 2,
   "metadata": {},
   "outputs": [],
   "source": [
    "def prob(evento, dist):\n",
    "    '''\n",
    "    Calcula la probabilidad de un evento a partir de una distribución. El evento debe ser una función que\n",
    "    regresa verdadero o falso y la distribución debe ser un diccionario (evento: frecuencia)\n",
    "    '''\n",
    "    \n",
    "    conjunto = {e for e in dist.keys() if evento(e)}\n",
    "    total = sum(d for d in dist.values())\n",
    "    frec = sum(dist[e] for e in conjunto)\n",
    "    return frec/total"
   ]
  },
  {
   "cell_type": "markdown",
   "metadata": {},
   "source": [
    "## Distribución binomial"
   ]
  },
  {
   "cell_type": "markdown",
   "metadata": {},
   "source": [
    "Consideremos un experimento que puede dar un resultado positivo con probabilidad $p$ o negativo con probabilidad $1 - p$. Preguntamos cuál es la probabilidad de obtener $n$ resultados positivos cuando se realiza el experimento $r$ veces de manera independiente."
   ]
  },
  {
   "cell_type": "markdown",
   "metadata": {},
   "source": [
    "A manera de ejemplo preguntemos primero cuál es la probabilidad de obtener $3$ positivos cuando se realiza el experimento $4$ veces. Estos tres resultados positivos pueden aparecer de las siguientes maneras\n",
    "$$\n",
    "\\text{+++-},\\,\\text{++-+},\\,\\text{+-++},\\,\\text{-+++}\\,.\n",
    "$$\n",
    "La probabilidad de obtener el primer resultado es\n",
    "$$\n",
    "p\\times p\\times p\\times (1-p) = p^3 (1-p)\\,.\n",
    "$$\n",
    "La probabilidad de las otras tres posibilidades es igual y entonces\n",
    "$$\n",
    "P(3;4,p) = 3 p^3(1-p)\\,.\n",
    "$$"
   ]
  },
  {
   "cell_type": "markdown",
   "metadata": {},
   "source": [
    "La fórmula general es\n",
    "\n",
    "$$\n",
    "P(n;r,p) = \\frac{r!}{n!(n-r)!} p^n (1-p)^{r - n}\n",
    "$$"
   ]
  },
  {
   "cell_type": "code",
   "execution_count": 3,
   "metadata": {},
   "outputs": [],
   "source": [
    "def realizar_experimento(muestra, dist):\n",
    "    '''\n",
    "    Definimos una función que simula realizar un experimento.\n",
    "    Toma una muestra que es una lista con todos los posibles resultados de realizar n-1 experimentos\n",
    "    y regresa una lista con todos los posibles resultados de realizar n experimentos.\n",
    "    muestra y dist son la distribución de n-1 experimentos y la distribución de un experimento.\n",
    "    '''\n",
    "    nueva = {}\n",
    "    if len(muestra) == 0:\n",
    "        return {e:p for e, p in dist.items()}\n",
    "    for e, prob_e in muestra.items():\n",
    "        for res, prob_r in dist.items():\n",
    "            nuevo_evento = e + res\n",
    "            nueva_prob = prob_e*prob_r\n",
    "            nueva[nuevo_evento] = nueva_prob\n",
    "    return nueva\n",
    "\n",
    "def r_experimentos(r, p):\n",
    "    '''\n",
    "    Simula realizar r experimentos, toma el número de experimentos y la probabilidad de éxito.\n",
    "    '''\n",
    "    dist_un_experimento = {'+': p, '-': (1-p)}\n",
    "    muestra = {}\n",
    "    for i in range(r):\n",
    "        muestra = realizar_experimento(muestra, dist_un_experimento)\n",
    "    return muestra\n",
    "\n",
    "def n_exitos(n, e):\n",
    "    return e.count('+') == n"
   ]
  },
  {
   "cell_type": "code",
   "execution_count": 4,
   "metadata": {},
   "outputs": [],
   "source": [
    "def binomial_fuerza_bruta(n, r, p):\n",
    "    '''\n",
    "    Calcula la distribución polinomial a fuerza bruta: Simula la realización de r experimentos\n",
    "    y cuenta los casos en los que hay n éxitos.\n",
    "    '''\n",
    "    dist = r_experimentos(r, p)\n",
    "    def evento(e):\n",
    "        return n_exitos(n, e)\n",
    "    return prob(evento, dist)"
   ]
  },
  {
   "cell_type": "code",
   "execution_count": 5,
   "metadata": {
    "scrolled": true
   },
   "outputs": [
    {
     "data": {
      "text/plain": [
       "0.0036"
      ]
     },
     "execution_count": 5,
     "metadata": {},
     "output_type": "execute_result"
    }
   ],
   "source": [
    "binomial_fuerza_bruta(3, 4, 0.1)"
   ]
  },
  {
   "cell_type": "code",
   "execution_count": 79,
   "metadata": {},
   "outputs": [],
   "source": [
    "from scipy.special import comb\n",
    "\n",
    "def binomial(n, r, p):\n",
    "    return comb(r, n)*p**n*(1-p)**(r - n)"
   ]
  },
  {
   "cell_type": "code",
   "execution_count": 7,
   "metadata": {},
   "outputs": [
    {
     "data": {
      "text/plain": [
       "0.005891602469304398"
      ]
     },
     "execution_count": 7,
     "metadata": {},
     "output_type": "execute_result"
    }
   ],
   "source": [
    "binomial(3, 100, 0.1)"
   ]
  },
  {
   "cell_type": "code",
   "execution_count": 8,
   "metadata": {},
   "outputs": [
    {
     "data": {
      "text/plain": [
       "0.19011987137645303"
      ]
     },
     "execution_count": 8,
     "metadata": {},
     "output_type": "execute_result"
    }
   ],
   "source": [
    "binomial_fuerza_bruta(3, 20, 0.1)"
   ]
  },
  {
   "cell_type": "code",
   "execution_count": 9,
   "metadata": {},
   "outputs": [
    {
     "data": {
      "text/plain": [
       "0.19011987137619904"
      ]
     },
     "execution_count": 9,
     "metadata": {},
     "output_type": "execute_result"
    }
   ],
   "source": [
    "binomial(3,20,0.1)"
   ]
  },
  {
   "cell_type": "code",
   "execution_count": 10,
   "metadata": {},
   "outputs": [],
   "source": [
    "import matplotlib.pyplot as plt"
   ]
  },
  {
   "cell_type": "code",
   "execution_count": 11,
   "metadata": {},
   "outputs": [],
   "source": [
    "def probs(r, p):\n",
    "    return [binomial(n, r, p) for n in range(r+1)]"
   ]
  },
  {
   "cell_type": "code",
   "execution_count": 12,
   "metadata": {},
   "outputs": [
    {
     "name": "stderr",
     "output_type": "stream",
     "text": [
      "/Users/jorgenorena/anaconda3/lib/python3.7/site-packages/ipykernel_launcher.py:33: UserWarning: Matplotlib is currently using module://ipykernel.pylab.backend_inline, which is a non-GUI backend, so cannot show the figure.\n"
     ]
    },
    {
     "data": {
      "image/png": "[encoded data removed]",
      "text/plain": [
       "<Figure size 800x2000 with 8 Axes>"
      ]
     },
     "metadata": {
      "needs_background": "light"
     },
     "output_type": "display_data"
    }
   ],
   "source": [
    "fig = plt.figure(figsize=(8,20), dpi= 100)\n",
    "\n",
    "ax1 = fig.add_subplot(8,2,1)\n",
    "ax2 = fig.add_subplot(8,2,2)\n",
    "ax3 = fig.add_subplot(8,2,3)\n",
    "ax4 = fig.add_subplot(8,2,4)\n",
    "ax5 = fig.add_subplot(8,2,5)\n",
    "ax6 = fig.add_subplot(8,2,6)\n",
    "ax7 = fig.add_subplot(8,2,7)\n",
    "ax8 = fig.add_subplot(8,2,8)\n",
    "\n",
    "ax1.bar(range(4+1), probs(4,0.5))\n",
    "ax2.bar(range(5+1), probs(5,0.5))\n",
    "ax3.bar(range(15+1), probs(15,0.5))\n",
    "ax4.bar(range(50+1), probs(50,0.5))\n",
    "ax5.bar(range(5+1), probs(5,0.1))\n",
    "ax6.bar(range(15+1), probs(15,0.1))\n",
    "ax7.bar(range(5+1), probs(5,0.9))\n",
    "ax8.bar(range(15+1), probs(15,0.9))\n",
    "        \n",
    "ax1.set_title('r = 4, p = 0.5')\n",
    "ax2.set_title('r = 5, p = 0.5')\n",
    "ax3.set_title('r = 15, p = 0.5')\n",
    "ax4.set_title('r = 50, p = 0.5')\n",
    "ax5.set_title('r = 5, p = 0.1')\n",
    "ax6.set_title('r = 15, p = 0.1')\n",
    "ax7.set_title('r = 5, p = 0.9')\n",
    "ax8.set_title('r = 15, p = 0.9')\n",
    "\n",
    "fig.tight_layout(pad=2.0)\n",
    "\n",
    "\n",
    "fig.show()"
   ]
  },
  {
   "cell_type": "markdown",
   "metadata": {},
   "source": [
    "* Valor esperado: $\\langle n \\rangle = rp$\n",
    "* Varianza: $\\sigma^2 = np(1-p)$"
   ]
  },
  {
   "cell_type": "code",
   "execution_count": 13,
   "metadata": {},
   "outputs": [],
   "source": [
    "import random\n",
    "\n",
    "def realizacion(r, p):\n",
    "    probs = np.random.rand(r)\n",
    "    return probs < p\n",
    "\n",
    "def num_exitos(num_realizaciones, r, p):\n",
    "    # probando me dí cuenta que al sumar me regresa el número\n",
    "    # de elementos que son True\n",
    "    return np.array([sum(realizacion(r, p)) for i in range(num_realizaciones)])"
   ]
  },
  {
   "cell_type": "code",
   "execution_count": 14,
   "metadata": {},
   "outputs": [
    {
     "data": {
      "text/plain": [
       "1.0"
      ]
     },
     "execution_count": 14,
     "metadata": {},
     "output_type": "execute_result"
    }
   ],
   "source": [
    "num_exitos(3, 10, 0.2).mean()"
   ]
  },
  {
   "cell_type": "code",
   "execution_count": 15,
   "metadata": {},
   "outputs": [
    {
     "data": {
      "text/plain": [
       "2.0165"
      ]
     },
     "execution_count": 15,
     "metadata": {},
     "output_type": "execute_result"
    }
   ],
   "source": [
    "num_exitos(10000, 10, 0.2).mean()"
   ]
  },
  {
   "cell_type": "code",
   "execution_count": 16,
   "metadata": {},
   "outputs": [
    {
     "data": {
      "text/plain": [
       "0.816496580927726"
      ]
     },
     "execution_count": 16,
     "metadata": {},
     "output_type": "execute_result"
    }
   ],
   "source": [
    "num_exitos(3, 10, 0.2).std()"
   ]
  },
  {
   "cell_type": "code",
   "execution_count": 17,
   "metadata": {},
   "outputs": [
    {
     "data": {
      "text/plain": [
       "1.2675955821948892"
      ]
     },
     "execution_count": 17,
     "metadata": {},
     "output_type": "execute_result"
    }
   ],
   "source": [
    "num_exitos(10000, 10, 0.2).std()"
   ]
  },
  {
   "cell_type": "code",
   "execution_count": 18,
   "metadata": {},
   "outputs": [
    {
     "data": {
      "text/plain": [
       "1.2649110640673518"
      ]
     },
     "execution_count": 18,
     "metadata": {},
     "output_type": "execute_result"
    }
   ],
   "source": [
    "np.sqrt(10*0.2*0.8)"
   ]
  },
  {
   "cell_type": "markdown",
   "metadata": {},
   "source": [
    "## Distribución de Poisson"
   ]
  },
  {
   "cell_type": "markdown",
   "metadata": {},
   "source": [
    "Es la probabilidad de obtener $n$ eventos de un proceso que en promedio ocurre $\\lambda$ veces en un intervalo."
   ]
  },
  {
   "cell_type": "markdown",
   "metadata": {},
   "source": [
    "Si dividimos el continuo en $r$ subintervalos, y la probabilidad de que el evento ocurra en un subintervalo dado es $\\lambda/r$, entonces podemos usar la distribución binomial\n",
    "\n",
    "$$\n",
    "P(n; r, \\lambda/r) = \\frac{\\lambda^n}{r^n}\\left(1 - \\frac{\\lambda^n}{r^n}\\right)^{r - n}\\frac{r!}{n!(r-n)!}\n",
    "$$\n",
    "\n",
    "Si hay infinitos subintervalos $r\\rightarrow \\infty$ tenemos que\n",
    "\n",
    "$$\n",
    "\\frac{r!}{(r-n)!} = r(r-1)(r-2)...(r-n + 1) \\rightarrow r^n\\,,\n",
    "$$\n",
    "$$\n",
    "\\left(1 - \\frac{\\lambda^n}{r^n}\\right)^{r - n} \\rightarrow \\left(1 - \\frac{\\lambda^n}{r^n}\\right)^{r} \\rightarrow e^{-\\lambda}\n",
    "$$\n",
    "\n",
    "(La última se puede demostrar expandiendo ambos lados en Taylor). Así obtenemos la distribución de Poisson:\n",
    "\n",
    "$$\n",
    "P(n; \\lambda) = \\frac{\\lambda^n}{n!} e^{-\\lambda}\n",
    "$$"
   ]
  },
  {
   "cell_type": "code",
   "execution_count": 19,
   "metadata": {},
   "outputs": [],
   "source": [
    "def poisson(n, lamda):\n",
    "    return lamda**n*np.exp(-lamda)/np.math.factorial(n)"
   ]
  },
  {
   "cell_type": "markdown",
   "metadata": {},
   "source": [
    "Ejemplo: Si en promedio caen dos rayos por minuto en una tormenta eléctrica. ¿Cuál es la probabilidad de obtener 5 rayos en un minuto?"
   ]
  },
  {
   "cell_type": "code",
   "execution_count": 20,
   "metadata": {
    "scrolled": true
   },
   "outputs": [
    {
     "data": {
      "text/plain": [
       "0.03608940886309672"
      ]
     },
     "execution_count": 20,
     "metadata": {},
     "output_type": "execute_result"
    }
   ],
   "source": [
    "poisson(5,2)"
   ]
  },
  {
   "cell_type": "markdown",
   "metadata": {},
   "source": [
    "Ejemplo: Número de neutrinos detectados en intervalos de 10 segundos por un experimento el 27 de febrero de 1987. Alrededor de esa fecha se observó laa explosión de la supernova SN1987a. "
   ]
  },
  {
   "cell_type": "code",
   "execution_count": 21,
   "metadata": {},
   "outputs": [],
   "source": [
    "datos = np.array([[0,1042],\n",
    "         [1,860],\n",
    "         [2,307],\n",
    "         [3,78],\n",
    "         [4,15],\n",
    "         [5,3],\n",
    "         [6,0],\n",
    "         [70,0],\n",
    "         [8,0],\n",
    "         [9,1]])"
   ]
  },
  {
   "cell_type": "markdown",
   "metadata": {},
   "source": [
    "El punto con 9 eventos es anómalo. Excluyámoslo por ahora y calculemos el número promedio de eventos en un intervalo de 10 segundos"
   ]
  },
  {
   "cell_type": "code",
   "execution_count": 22,
   "metadata": {},
   "outputs": [],
   "source": [
    "lamda = sum(datos[:-1,0]*datos[:-1,1])/sum(datos[:-1,1])"
   ]
  },
  {
   "cell_type": "code",
   "execution_count": 23,
   "metadata": {},
   "outputs": [],
   "source": [
    "predicciones = np.array([poisson(n, lamda)*sum(datos[:-1,1]) for n in range(10)])"
   ]
  },
  {
   "cell_type": "code",
   "execution_count": 24,
   "metadata": {
    "scrolled": true
   },
   "outputs": [
    {
     "data": {
      "text/plain": [
       "array([1.06347823e+03, 8.22638474e+02, 3.18170152e+02, 8.20386667e+01,\n",
       "       1.58649613e+01, 2.45442307e+00, 3.16430683e-01, 3.49672084e-02,\n",
       "       3.38104840e-03, 2.90595772e-04])"
      ]
     },
     "execution_count": 24,
     "metadata": {},
     "output_type": "execute_result"
    }
   ],
   "source": [
    "predicciones"
   ]
  },
  {
   "cell_type": "markdown",
   "metadata": {},
   "source": [
    "La mayoría de intervalos siguen una distribución de Poisson que se atribuye a un ruido de fondo. El intervalo con 9 eventos no sigue esa distribución y se puede decir que se detectó la emisión de neutrinos por parte de la supernova. Veremos un criterio para esto más adelante."
   ]
  },
  {
   "cell_type": "code",
   "execution_count": 25,
   "metadata": {},
   "outputs": [
    {
     "name": "stderr",
     "output_type": "stream",
     "text": [
      "/Users/jorgenorena/anaconda3/lib/python3.7/site-packages/ipykernel_launcher.py:36: UserWarning: Matplotlib is currently using module://ipykernel.pylab.backend_inline, which is a non-GUI backend, so cannot show the figure.\n"
     ]
    },
    {
     "data": {
      "image/png": "[encoded data removed]",
      "text/plain": [
       "<Figure size 800x1200 with 8 Axes>"
      ]
     },
     "metadata": {
      "needs_background": "light"
     },
     "output_type": "display_data"
    }
   ],
   "source": [
    "def probs(lamda, m):\n",
    "    return [poisson(n, lamda) for n in range(m+1)]\n",
    "\n",
    "fig = plt.figure(figsize=(8,12), dpi= 100)\n",
    "\n",
    "ax1 = fig.add_subplot(4,2,1)\n",
    "ax2 = fig.add_subplot(4,2,2)\n",
    "ax3 = fig.add_subplot(4,2,3)\n",
    "ax4 = fig.add_subplot(4,2,4)\n",
    "ax5 = fig.add_subplot(4,2,5)\n",
    "ax6 = fig.add_subplot(4,2,6)\n",
    "ax7 = fig.add_subplot(4,2,7)\n",
    "ax8 = fig.add_subplot(4,2,8)\n",
    "\n",
    "ax1.bar(range(5+1), probs(0.2, 5))\n",
    "ax2.bar(range(5+1), probs(0.5, 5))\n",
    "ax3.bar(range(10+1), probs(1, 10))\n",
    "ax4.bar(range(10+1), probs(2, 10))\n",
    "ax5.bar(range(15+1), probs(5, 15))\n",
    "ax6.bar(range(25+1), probs(10, 25))\n",
    "ax7.bar(range(40+1), probs(20, 40))\n",
    "ax8.bar(range(80+1), probs(50, 80))\n",
    "        \n",
    "ax1.set_title('$\\lambda = 0.2$')\n",
    "ax2.set_title('$\\lambda = 0.5$')\n",
    "ax3.set_title('$\\lambda = 1$')\n",
    "ax4.set_title('$\\lambda = 2$')\n",
    "ax5.set_title('$\\lambda = 5$')\n",
    "ax6.set_title('$\\lambda = 10$')\n",
    "ax7.set_title('$\\lambda = 20$')\n",
    "ax8.set_title('$\\lambda = 50$')\n",
    "\n",
    "fig.tight_layout(pad=2.0)\n",
    "\n",
    "\n",
    "fig.show()"
   ]
  },
  {
   "cell_type": "code",
   "execution_count": 26,
   "metadata": {},
   "outputs": [
    {
     "data": {
      "text/plain": [
       "[0.8187307530779818,\n",
       " 0.1637461506155964,\n",
       " 0.016374615061559638,\n",
       " 0.001091641004103976,\n",
       " 5.45820502051988e-05,\n",
       " 2.183282008207952e-06]"
      ]
     },
     "execution_count": 26,
     "metadata": {},
     "output_type": "execute_result"
    }
   ],
   "source": [
    "probs(0.2, 5)"
   ]
  },
  {
   "cell_type": "markdown",
   "metadata": {},
   "source": [
    "* Valor esperado: $\\langle n \\rangle = \\lambda$\n",
    "* Varianza: $\\sigma^2 = \\lambda$"
   ]
  },
  {
   "cell_type": "markdown",
   "metadata": {},
   "source": [
    "## Tareas"
   ]
  },
  {
   "cell_type": "markdown",
   "metadata": {},
   "source": [
    "### Tarea 5.6"
   ]
  },
  {
   "cell_type": "markdown",
   "metadata": {},
   "source": [
    "Un cierto sensor se deja abierto por un segundo. El sensor consiste en $r$ pixeles y en promedio el sensor es golpeado por $2$ partículas por segundo, tal que la probabilidad de detectar una partícula en un pixel dado es de $2/r$ (para $r \\gg 2$). Grafique la distribución de probabilidad de observar $n$ partículas para un pixel dado, en función de $n$, para diferentes valores de $r$:\n",
    "\n",
    "* Usando la distribución binomial.\n",
    "\n",
    "* ¿Cuándo es posible usar la distribución de Poisson?"
   ]
  },
  {
   "cell_type": "markdown",
   "metadata": {},
   "source": [
    "### Tarea 5.7"
   ]
  },
  {
   "cell_type": "markdown",
   "metadata": {},
   "source": [
    "En ausencia de una señal, un cierto detector de partículas en promedio detecta $2$ impactos por segundo debidos a una contaminación de fondo. Durante una medición se obtienen las siguientes observaciones (esta es una lista del número de señales por cada segundo de duración del experimento):"
   ]
  },
  {
   "cell_type": "code",
   "execution_count": 36,
   "metadata": {},
   "outputs": [],
   "source": [
    "mediciones = [2, 3, 3, 3, 0, 1, 2, 2, 0, 4, 10, 0, 2, 4, 6, 3, 2, 1, 1, 1]"
   ]
  },
  {
   "cell_type": "markdown",
   "metadata": {},
   "source": [
    "Compare estos resultados con la distribución de Poisson. Discuta en cuáles intervalos cree usted que se detectó una señal que no es contaminación."
   ]
  },
  {
   "cell_type": "markdown",
   "metadata": {},
   "source": [
    "### Tarea 5.8"
   ]
  },
  {
   "cell_type": "markdown",
   "metadata": {},
   "source": [
    "Problema 3.3 del libro \"Statistics - A guide to the use of statistical methods in the physical sciences\", de R. J. Barlow, Wiley, 1989"
   ]
  },
  {
   "cell_type": "markdown",
   "metadata": {},
   "source": [
    "Durante una lluvia de meteoritos se observan $15.7$ estrellas fugaces cada hora en promedio. Grafique la distribución de probabilidad de observar $n$ estrellas fugaces en media hora."
   ]
  },
  {
   "cell_type": "markdown",
   "metadata": {},
   "source": [
    "### Tarea 5.9"
   ]
  },
  {
   "cell_type": "markdown",
   "metadata": {},
   "source": [
    "Problema 3.1 del libro \"Statistics - A guide to the use of statistical methods in the physical sciences\", de R. J. Barlow, Wiley, 1989"
   ]
  },
  {
   "cell_type": "markdown",
   "metadata": {},
   "source": [
    "Un cierto sistema de defensa contra misiles balísticos tiene una eficiencia del $95\\%$. Grafique la probabilidad de interceptar todos los misiles lanzados por un agresor, si este lanza $n$ misiles, en función de $n$. ¿Cuántos misiles debe lanzar un agresor para tener una probabilidad de $0.5$ de que al menos uno logre impactar?"
   ]
  },
  {
   "cell_type": "markdown",
   "metadata": {},
   "source": [
    "### Tarea 5.10"
   ]
  },
  {
   "cell_type": "markdown",
   "metadata": {},
   "source": [
    "Un sensor recibe en promedio $50$ partículas por minuto. Ese sensor está diseñado tal que puede detectar si fue impactado por al menos una partícula, pero no tiene ninguna información sobre cuántas partículas lo impactaron.\n",
    "\n",
    "El sensor se encendió durante un segundo e indicó impacto. Grafique la distribución de probabilidad de que ese pixel haya sido impactado por $n$ partículas."
   ]
  }
 ],
 "metadata": {
  "kernelspec": {
   "display_name": "Python 3",
   "language": "python",
   "name": "python3"
  },
  "language_info": {
   "codemirror_mode": {
    "name": "ipython",
    "version": 3
   },
   "file_extension": ".py",
   "mimetype": "text/x-python",
   "name": "python",
   "nbconvert_exporter": "python",
   "pygments_lexer": "ipython3",
   "version": "3.7.7"
  }
 },
 "nbformat": 4,
 "nbformat_minor": 4
}
