{
 "cells": [
  {
   "cell_type": "markdown",
   "metadata": {},
   "source": [
    "# Clase 13: El método de Newton"
   ]
  },
  {
   "cell_type": "markdown",
   "metadata": {},
   "source": [
    "## El método de Newton"
   ]
  },
  {
   "cell_type": "markdown",
   "metadata": {},
   "source": [
    "Este es uno de los métodos más conocidos (y poderosos) para encontrar el cero de una función."
   ]
  },
  {
   "cell_type": "markdown",
   "metadata": {},
   "source": [
    "Una manera heurística de deducirlo es a partir de la serie de Taylor. Si tenemos un punto $p_o$ cercano al cero de la función $p$ entonces\n",
    "\n",
    "$$\n",
    "0 = f(p) = f(p_o) + f'(p_o)(p - p_o) + \\frac{1}{2}f''(\\xi)(p - p_o)^2\n",
    "$$\n",
    "\n",
    "para algún $\\xi$ entre $p$ y $p_o$. Si $p$ es lo suficientemente cercano a $p_o$, podemos ignorar ese segundo término y obtener\n",
    "\n",
    "$$\n",
    "0 \\approx f(p_o) + f'(p_o)(p - p_o)\n",
    "$$\n",
    "\n",
    "despejando encontramos una aproximación para $p$\n",
    "\n",
    "$$\n",
    "p \\approx p_o - \\frac{f(p_o)}{f'(p_o)}\n",
    "$$\n",
    "\n",
    "A esta aproximación la llamamos $p_1$ y debería ser más cercana a $p$. Podemos entonces repetir el proceso empezando desde $p_1$."
   ]
  },
  {
   "cell_type": "code",
   "execution_count": 10,
   "metadata": {},
   "outputs": [],
   "source": [
    "import numpy as np\n",
    "import matplotlib.pyplot as plt"
   ]
  },
  {
   "cell_type": "code",
   "execution_count": 2,
   "metadata": {},
   "outputs": [],
   "source": [
    "class MaxIterations(Exception):\n",
    "    pass"
   ]
  },
  {
   "cell_type": "code",
   "execution_count": 59,
   "metadata": {},
   "outputs": [],
   "source": [
    "def newton(f, df, po, epsilon, N=1000000):\n",
    "    \n",
    "    for i in range(N):\n",
    "        p = po - f(po)/df(po)\n",
    "        if abs(p - po)/abs(p) < epsilon:\n",
    "            return p, i+1\n",
    "        po = p\n",
    "    \n",
    "    raise MaxIterations(\"No se encontró el cero luego de\", N, \"iteraciones.\")"
   ]
  },
  {
   "cell_type": "markdown",
   "metadata": {},
   "source": [
    "Así como antes, puede haber varios criterios para determinar la convergencia de este algoritmo. Comparemos con el método de bisección."
   ]
  },
  {
   "cell_type": "code",
   "execution_count": 60,
   "metadata": {},
   "outputs": [],
   "source": [
    "def biseccion(f, a, b, epsilon, N=1000000):\n",
    "    \n",
    "    pp = a\n",
    "    for i in range(N):\n",
    "        p = a + (b - a)/2\n",
    "        if abs(pp - p)/abs(p) < epsilon:\n",
    "            return p, i+1\n",
    "        elif f(p)*f(a) > 0:\n",
    "            a = p\n",
    "        else:\n",
    "            b = p\n",
    "        pp = p\n",
    "        \n",
    "    raise MaxIterations(\"No se encontró el cero luego de\", N, \"iteraciones.\")"
   ]
  },
  {
   "cell_type": "code",
   "execution_count": 61,
   "metadata": {},
   "outputs": [],
   "source": [
    "def f(x):\n",
    "    return x - np.cos(x)"
   ]
  },
  {
   "cell_type": "code",
   "execution_count": 62,
   "metadata": {},
   "outputs": [],
   "source": [
    "def df(x):\n",
    "    return 1 + np.sin(x)"
   ]
  },
  {
   "cell_type": "code",
   "execution_count": 63,
   "metadata": {},
   "outputs": [
    {
     "data": {
      "text/plain": [
       "[<matplotlib.lines.Line2D at 0x101ff16290>]"
      ]
     },
     "execution_count": 63,
     "metadata": {},
     "output_type": "execute_result"
    },
    {
     "data": {
      "image/png": "[encoded data removed]",
      "text/plain": [
       "<Figure size 432x288 with 1 Axes>"
      ]
     },
     "metadata": {
      "needs_background": "light"
     },
     "output_type": "display_data"
    }
   ],
   "source": [
    "x = np.linspace(0,5,100)\n",
    "plt.plot(x, f(x))"
   ]
  },
  {
   "cell_type": "code",
   "execution_count": 64,
   "metadata": {},
   "outputs": [
    {
     "data": {
      "text/plain": [
       "(0.7390861511230469, 18)"
      ]
     },
     "execution_count": 64,
     "metadata": {},
     "output_type": "execute_result"
    }
   ],
   "source": [
    "biseccion(f, 0, 1, 0.00001)"
   ]
  },
  {
   "cell_type": "code",
   "execution_count": 65,
   "metadata": {},
   "outputs": [
    {
     "data": {
      "text/plain": [
       "(0.7390851332151606, 4)"
      ]
     },
     "execution_count": 65,
     "metadata": {},
     "output_type": "execute_result"
    }
   ],
   "source": [
    "newton(f, df, 1, 0.00001)"
   ]
  },
  {
   "cell_type": "markdown",
   "metadata": {},
   "source": [
    "**Teorema**: Sea $f \\in C^2[a, b]$ tal que $f(p) = 0$. Entonces existe un $\\delta$ tal que el método de Newton genera una secuencia en $[p - \\delta, p + \\delta]$ que converge a $p$ a partir de cualquier $p_o \\in (p - \\delta, p + \\delta)$."
   ]
  },
  {
   "cell_type": "markdown",
   "metadata": {},
   "source": [
    "Se demuestra demostrando antes que $g(x) = x - f(x)/f'(x)$ tiene un punto fijo.\n",
    "\n",
    "Supongamos que $f'(p_o) \\neq 0$. Entonces como $f'$ es continua existe una vecindad $(p - \\delta_1, p + \\delta_1)$ en la cual $f'(x) \\neq 0$, tal que $g(x) \\in C(p - \\delta_1, p + \\delta_1)$.\n",
    "\n",
    "Primero verifiquemos la condición sobre la derivada\n",
    "\n",
    "$$\n",
    "g'(x) = \\frac{f(x)f''(x)}{(f'(x))^2}\n",
    "$$\n",
    "\n",
    "y vemos que $g'(p) = 0$. Como $g'(x)$ es continua esto quiere decir que para todo $0 < k < 1$ existe $\\delta>0$ tal que\n",
    "\n",
    "$$\n",
    "|g'(x)| < k\\quad \\text{si} \\quad |x - p| < \\delta\\,.\n",
    "$$\n",
    "\n",
    "Luego, si $x \\in [p - \\delta, p + \\delta]$ queremos demostrar que $g(x) \\in [p - \\delta, p + \\delta]$ para cualquier $\\delta \\leq \\delta_1$. Esto se hace usando el teorema del valor intermedio\n",
    "\n",
    "$$\n",
    "|g(x) - p| = |g(x) - g(p)| = |g'(\\xi)||x - p| < k |x - p| < \\delta\n",
    "$$\n",
    "\n"
   ]
  },
  {
   "cell_type": "markdown",
   "metadata": {},
   "source": [
    "El problema del método de Newton es que necesitamos la derivada, pero como veremos ésta puede en general ser costosa de calcular (más costosa que encontrar el cero). Por eso se introduce el método de la secante que consiste en aproximar\n",
    "\n",
    "$$\n",
    "f'(p_n) \\approx \\frac{f(p_n) - f(p_{n-1})}{p_n - p_{n-1}}\n",
    "$$"
   ]
  },
  {
   "cell_type": "code",
   "execution_count": 26,
   "metadata": {},
   "outputs": [],
   "source": [
    "def secante(f, po, p1, epsilon, N=1000000):\n",
    "    \n",
    "    qo = f(po)\n",
    "    q1 = f(p1)\n",
    "    for i in range(1, N):\n",
    "        p = p1 - q1*(p1 - po)/(q1 - qo)\n",
    "        if abs(p - p1)/abs(p) < epsilon:\n",
    "            return p, i\n",
    "        po = p1\n",
    "        p1 = p\n",
    "        qo = q1\n",
    "        q1 = f(p1)\n",
    "        \n",
    "    raise MaxIterations('No se encontró el cero luego de', N, 'iteraciones')"
   ]
  },
  {
   "cell_type": "code",
   "execution_count": 27,
   "metadata": {},
   "outputs": [
    {
     "data": {
      "text/plain": [
       "(0.7390851332150012, 5)"
      ]
     },
     "execution_count": 27,
     "metadata": {},
     "output_type": "execute_result"
    }
   ],
   "source": [
    "secante(f, 0, 1, 0.00001)"
   ]
  },
  {
   "cell_type": "markdown",
   "metadata": {},
   "source": [
    "## Convergencia del método de Newton"
   ]
  },
  {
   "cell_type": "markdown",
   "metadata": {},
   "source": [
    "Para una sucesión $\\{p_n\\}$ se dice que tiene orden de convergencia $\\alpha$ con constante de error $\\lambda$ si\n",
    "\n",
    "$$\n",
    "\\lim_{n \\rightarrow \\infty}\\frac{|p_{n+!} - p|}{|p_n - p|^\\alpha} = \\lambda\n",
    "$$"
   ]
  },
  {
   "cell_type": "markdown",
   "metadata": {},
   "source": [
    "**Teorema:** Para $g$ que satisface las condiciones necesarias de convergencia del método de iteración de punto fijo, éste converge linealmente ($\\alpha = 0$) si $g'(x) \\neq 0$ en todo punto de la secuencia."
   ]
  },
  {
   "cell_type": "markdown",
   "metadata": {},
   "source": [
    "$$\n",
    "|p_{n+1} - p| = |g(p_n) - g(p)| = |g(\\xi_n)||p_n - p|\n",
    "$$\n",
    "\n",
    "para algún $\\xi$ entre $p_n$ y $p$. Como $\\lim_{n\\rightarrow\\infty} p_n = p$ tenemos que $\\xi_n \\rightarrow p$ y\n",
    "\n",
    "$$\n",
    "\\lim_{n\\rightarrow\\infty} \\frac{|p_{n+1} - p|}{|p_n - p|} = \\lim_{n\\rightarrow \\infty} |g(\\xi_n)| = |g(p)|\n",
    "$$"
   ]
  },
  {
   "cell_type": "markdown",
   "metadata": {},
   "source": [
    "**Teorema**: Sea $p$ tal que $p = g(p)$ con $g'(p) = 0$ y $g''(x)$ continua y acotada en un intervalo abierto que contiene $p$, es decir $|g''(x)| < M$. Entonces existe un intervalo $(p - \\delta, p + \\delta)$ tal que la secuencia $p_n = g(p_{n-1})$ converge a $p$ cuadráticamente ($\\alpha = 2$)."
   ]
  },
  {
   "cell_type": "markdown",
   "metadata": {},
   "source": [
    "Como $g'$ es continua tenemos que existe un intervalo $(x - \\delta, x + \\delta)$ alrededor de $p$ tal que $|g'(x)| < k$. Así mismopor el argumento usual $g(x) \\in (x - \\delta, x + \\delta)$ para $x \\in (x - \\delta, x + \\delta)$. Por estos motivos concluimos que la secuencia converge a $p$.\n",
    "\n",
    "Además\n",
    "\n",
    "$$\n",
    "g(x) = g(p) + g'(p)(x - p) + \\frac{g''(\\xi)}{2}(x - p)^2\n",
    "$$\n",
    "\n",
    "entonces\n",
    "\n",
    "$$\n",
    "p_{n+1} = g(p_n) = p + \\frac{g''(\\xi)}{2}(p_n - p)^2\n",
    "$$\n",
    "\n",
    "por lo cual\n",
    "\n",
    "$$\n",
    "\\lim_{n\\rightarrow \\infty}\\frac{|p_{n+1} - p|}{|p_n - p|} = \\frac{|g''(p)|}{2}\n",
    "$$"
   ]
  },
  {
   "cell_type": "markdown",
   "metadata": {},
   "source": [
    "El método de Newton es tal que $g(x) = x - f(x)/f'(x)$ satisface las condiciones de este teorema. Por eso es tan rápido."
   ]
  },
  {
   "cell_type": "markdown",
   "metadata": {},
   "source": [
    "Hay problemas cuando la multiplicidad de un cero es mayor que uno, es decir cuando $f(x) = q(x)(x - p)^n$ con $n > 1$ y $q(p) \\neq 0$. Para resolver este problema existe el método de Newton modificado."
   ]
  },
  {
   "cell_type": "markdown",
   "metadata": {},
   "source": [
    "## Métodos de scipy"
   ]
  },
  {
   "cell_type": "markdown",
   "metadata": {},
   "source": [
    "Estos métodos ya fueron programados en scipy. Lo siguiente es copiado de su documentación (https://docs.scipy.org/doc/scipy/reference/optimize.html)."
   ]
  },
  {
   "cell_type": "code",
   "execution_count": 31,
   "metadata": {},
   "outputs": [],
   "source": [
    "from scipy import optimize"
   ]
  },
  {
   "cell_type": "code",
   "execution_count": 32,
   "metadata": {},
   "outputs": [],
   "source": [
    "def f(x):\n",
    "    return (x**3 - 1)\n",
    "\n",
    "def fprime(x):\n",
    "    return 3*x**2"
   ]
  },
  {
   "cell_type": "code",
   "execution_count": 33,
   "metadata": {},
   "outputs": [
    {
     "data": {
      "text/plain": [
       "(1.0, 10, 11)"
      ]
     },
     "execution_count": 33,
     "metadata": {},
     "output_type": "execute_result"
    }
   ],
   "source": [
    "# El método de Brent es considerado el mejor, es una modificación del método de la secante.\n",
    "# Implementa una fase inicial de acercamiento al cero usando bisección.\n",
    "\n",
    "# Es necesario dar el intervalo en el cual se encuentra el cero.\n",
    "sol = optimize.root_scalar(f, bracket=[0, 3], method='brentq')\n",
    "sol.root, sol.iterations, sol.function_calls"
   ]
  },
  {
   "cell_type": "code",
   "execution_count": 34,
   "metadata": {},
   "outputs": [
    {
     "data": {
      "text/plain": [
       "(1.0, 11, 22)"
      ]
     },
     "execution_count": 34,
     "metadata": {},
     "output_type": "execute_result"
    }
   ],
   "source": [
    "# Podemos también llamar directamente el método de Newton si tenemos la derivada.\n",
    "\n",
    "sol = optimize.root_scalar(f, x0=0.2, fprime=fprime, method='newton')\n",
    "sol.root, sol.iterations, sol.function_calls"
   ]
  },
  {
   "cell_type": "markdown",
   "metadata": {},
   "source": [
    "## Tareas"
   ]
  },
  {
   "cell_type": "markdown",
   "metadata": {},
   "source": [
    "### Tarea 7.1"
   ]
  },
  {
   "cell_type": "markdown",
   "metadata": {},
   "source": [
    "Encuentre un cero de la función\n",
    "\n",
    "$$\n",
    "f(x) = 1 - \\cos(x) -\\frac{\\sin(x)}{x}\n",
    "$$\n",
    "\n",
    "entre $-6.4$ y $-6.0$ usando el método de Newton y el método de bisección. Grafique el número de iteraciones requerido así como el tiempo requerido en función de la precisión para ambos métodos."
   ]
  },
  {
   "cell_type": "markdown",
   "metadata": {},
   "source": [
    "### Tarea 7.2"
   ]
  },
  {
   "cell_type": "markdown",
   "metadata": {},
   "source": [
    "Queremos encontrar los ceros de la función $f(x) = \\sinh(x) - \\cos(x)$. Para lograrlo, primero use algunas iteraciones del método de bisección y así obtener un punto inicial para el método de Newton."
   ]
  },
  {
   "cell_type": "markdown",
   "metadata": {},
   "source": [
    "### Tarea 7.3"
   ]
  },
  {
   "cell_type": "markdown",
   "metadata": {},
   "source": [
    "Ejercicio 2.1.15 del libro de Burden."
   ]
  },
  {
   "cell_type": "markdown",
   "metadata": {},
   "source": [
    "Un abrevadero (contenedor de agua para dar de beber a los animales) es mitad de un cilindro. Tiene una sección transversal a forma de semi-círculo de radio $r = 48.934$ cm y una longitud $L = 1.3245$ m. Si el volumen del agua contenido es de $10.013$ litros, encuentre la profundidad del agua en metros con una precisión de cinco cifras decimales. (Para lograrlo, primero use algunas iteraciones del método de bisección y así obtener un par de puntos iniciales para el método de Newton.)."
   ]
  },
  {
   "cell_type": "markdown",
   "metadata": {},
   "source": [
    "### Tarea 7.4"
   ]
  },
  {
   "cell_type": "markdown",
   "metadata": {},
   "source": [
    "Ejercicio 2.3.25, libro de Burden:\n",
    "\n",
    "El modelo logístico de crecimimiento de poblaciones está descrito por una ecuación de la forma:\n",
    "\n",
    "$$\n",
    "P(t) = \\frac{P_L}{1 - ce^{-k t}}\\,.\n",
    "$$\n",
    "\n",
    "Use los datos correspondientes a 1960, 1970 y 1980 de la siguiente tabla para encontrar $c$, $k$ y $P_L$. Luego prediga los valores para 1990 y 2020. Compare la predicción para 1990 con los datos reales de la tabla."
   ]
  },
  {
   "cell_type": "markdown",
   "metadata": {},
   "source": [
    "|Población| Año|\n",
    "|---------|----|\n",
    "|179 323  |1960|\n",
    "|203 302  |1970|\n",
    "|226 542  |1980|\n",
    "|249 633  |1990|\n",
    "|281 422  |2000|\n",
    "|308 746  |2010|"
   ]
  },
  {
   "cell_type": "markdown",
   "metadata": {},
   "source": [
    "### Tarea 7.5"
   ]
  },
  {
   "cell_type": "markdown",
   "metadata": {},
   "source": [
    "Intente escribir su propia versión del método de Newton, haciéndola lo más rápida posible. Luego compare el tiempo que tarda en resolver el ejemplo de clase (el cero de la función $f(x) = x - \\cos(x)$) con el tiempo que tarda el método de Newton que se encuentra en scipy."
   ]
  }
 ],
 "metadata": {
  "kernelspec": {
   "display_name": "Python 3",
   "language": "python",
   "name": "python3"
  },
  "language_info": {
   "codemirror_mode": {
    "name": "ipython",
    "version": 3
   },
   "file_extension": ".py",
   "mimetype": "text/x-python",
   "name": "python",
   "nbconvert_exporter": "python",
   "pygments_lexer": "ipython3",
   "version": "3.7.7"
  }
 },
 "nbformat": 4,
 "nbformat_minor": 4
}
