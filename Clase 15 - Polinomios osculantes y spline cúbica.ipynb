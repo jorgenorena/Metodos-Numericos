{
 "cells": [
  {
   "cell_type": "markdown",
   "metadata": {},
   "source": [
    "# Clase 15: Polinomios osculantes y spline cúbica"
   ]
  },
  {
   "cell_type": "markdown",
   "metadata": {},
   "source": [
    "## Polinomios osculantes"
   ]
  },
  {
   "cell_type": "markdown",
   "metadata": {},
   "source": [
    "Ahora queremos requerir que nuestros polinomios no sólo pasen por todos los puntos entre los cuales se quiere interpolar, si no que además coincidan también sus derivadas. Este caso no se da con mucha frecuencia ya que es raro tener las derivadas de una función que se quiere interpolar, pero puede ser de alguna utilidad."
   ]
  },
  {
   "cell_type": "markdown",
   "metadata": {},
   "source": [
    "Los polinomios que satisfacen\n",
    "\n",
    "$$\n",
    "P(x_i) = f(x_i)\\,,\\quad P'(x_i) = f'(x_i)\\,,\n",
    "$$\n",
    "\n",
    "en $n$ puntos, se llaman polinomios de Hermite. Estos polinomios deben ser de grado $2n$ para satisfacer estas condiciones. "
   ]
  },
  {
   "cell_type": "markdown",
   "metadata": {},
   "source": [
    "Un modo de obtener los polinomios de Hermite es a través de las diferencias divididas. Sólo que ahora contamos cada punto dos veces: $z_{2i} = z_{2i + 1} = x_i$. Además tomamos por definición\n",
    "\n",
    "$$\n",
    "f[z_{2i}, z_{2i + 1}] = f'(x_i).\n",
    "$$\n",
    "\n",
    "El polinomio de Hermite está entonces dado por\n",
    "\n",
    "$$\n",
    "P(x) = f[z_o] + \\sum_{k=1}^{2n + 1} f[z_o, ..., z_k] (z - z_o)...(z - z_{k-1})\n",
    "$$"
   ]
  },
  {
   "cell_type": "code",
   "execution_count": 1,
   "metadata": {},
   "outputs": [],
   "source": [
    "import numpy as np\n",
    "import matplotlib.pyplot as plt"
   ]
  },
  {
   "cell_type": "code",
   "execution_count": 2,
   "metadata": {},
   "outputs": [],
   "source": [
    "def hermite(puntos):\n",
    "    \n",
    "    n = len(puntos) - 1\n",
    "    zs = np.zeros(2*n + 2) # Creamos el doble de puntos\n",
    "    Fs = [np.zeros(2*n + 2), np.zeros(2*n + 1)] # Creamos las primeras columnas de f[]\n",
    "    \n",
    "    # Llenamos las dos primeras columnas de f[]\n",
    "    for i in range(n + 1):\n",
    "        zs[2*i] = puntos[i][0]\n",
    "        zs[2*i + 1] = puntos[i][0]\n",
    "        Fs[0][2*i] = puntos[i][1]\n",
    "        Fs[0][2*i+1] = puntos[i][1]\n",
    "        Fs[1][2*i] = puntos[i][2]\n",
    "        if i != 0:\n",
    "            Fs[1][2*i-1] = (Fs[0][2*i] - Fs[0][2*i-1])/(zs[2*i] - zs[2*i-1])\n",
    "            \n",
    "    # Calculamos las diferencias divididas\n",
    "    for i in range(2, 2*n + 2):\n",
    "        Fs.append(np.zeros(2*n + 2 - i))\n",
    "        for j in range(2, i + 1):\n",
    "            Fs[j][i-j] = (Fs[j-1][i-j+1] - Fs[j-1][i-j])/(zs[i] - zs[i-j])\n",
    "    \n",
    "    return [Fs[i][0] for i in range(2*n + 2)]"
   ]
  },
  {
   "cell_type": "code",
   "execution_count": 3,
   "metadata": {},
   "outputs": [],
   "source": [
    "puntos = [[1.3, 0.6200860, -0.5220232], [1.6, 0.4554022, -0.5698959], [1.9, 0.2818186, -0.5811571]]"
   ]
  },
  {
   "cell_type": "code",
   "execution_count": 4,
   "metadata": {},
   "outputs": [],
   "source": [
    "coefs = hermite(puntos)"
   ]
  },
  {
   "cell_type": "code",
   "execution_count": 5,
   "metadata": {},
   "outputs": [],
   "source": [
    "def poly_hermite(x, coefs, puntos):\n",
    "    zs = [puntos[n//2][0] for n in range(len(coefs))]\n",
    "    s = 0\n",
    "    terms = [(x - zs[i]) for i in range(len(coefs))]\n",
    "    for n in range(len(coefs)):\n",
    "        s += coefs[n]*np.prod(terms[:n])\n",
    "    return s"
   ]
  },
  {
   "cell_type": "code",
   "execution_count": 6,
   "metadata": {
    "scrolled": true
   },
   "outputs": [
    {
     "data": {
      "text/plain": [
       "0.5118277017283951"
      ]
     },
     "execution_count": 6,
     "metadata": {},
     "output_type": "execute_result"
    }
   ],
   "source": [
    "poly_hermite(1.5, coefs, puntos)"
   ]
  },
  {
   "cell_type": "markdown",
   "metadata": {},
   "source": [
    "Hagamos un ejemplo. Interpolemos la función de $1/x$ entre $0.2$ y $2$ usando tres puntos usando un polinomio de Lagrange y luego usando un polinomio de Hermite."
   ]
  },
  {
   "cell_type": "code",
   "execution_count": 7,
   "metadata": {},
   "outputs": [],
   "source": [
    "def difer(puntos):\n",
    "    \n",
    "    n = len(puntos) - 1\n",
    "    Fs = [np.zeros(n + 1)]\n",
    "    for i in range(n + 1):\n",
    "        Fs[0][i] = puntos[i][1]\n",
    "    for i in range(1, n + 1):\n",
    "        Fs.append(np.zeros(n + 1 - i))\n",
    "        for j in range(1, i + 1):\n",
    "            Fs[j][i-j] = (Fs[j-1][i-j+1] - Fs[j-1][i-j])/(puntos[i][0] - puntos[i-j][0])\n",
    "    \n",
    "    return [Fs[i][0] for i in range(n + 1)]"
   ]
  },
  {
   "cell_type": "code",
   "execution_count": 8,
   "metadata": {},
   "outputs": [],
   "source": [
    "puntos = np.array([[0.5, 1/0.5, -1/0.5**2], [1,1,-1], [2,1/2,-1/4]])"
   ]
  },
  {
   "cell_type": "code",
   "execution_count": 9,
   "metadata": {},
   "outputs": [],
   "source": [
    "coefs_lagrange = difer(puntos)"
   ]
  },
  {
   "cell_type": "code",
   "execution_count": 10,
   "metadata": {},
   "outputs": [],
   "source": [
    "def poly_lagrange(x, coefs, puntos):\n",
    "    return sum(coefs[n]*np.prod([(x - puntos[i,0]) for i in range(n)]) for n in range(len(coefs)))"
   ]
  },
  {
   "cell_type": "code",
   "execution_count": 11,
   "metadata": {},
   "outputs": [],
   "source": [
    "coefs_hermite = hermite(puntos)"
   ]
  },
  {
   "cell_type": "code",
   "execution_count": 12,
   "metadata": {
    "scrolled": true
   },
   "outputs": [
    {
     "data": {
      "text/plain": [
       "[<matplotlib.lines.Line2D at 0x11b73ae10>]"
      ]
     },
     "execution_count": 12,
     "metadata": {},
     "output_type": "execute_result"
    },
    {
     "data": {
      "image/png": "[encoded data removed]",
      "text/plain": [
       "<Figure size 432x288 with 1 Axes>"
      ]
     },
     "metadata": {
      "needs_background": "light"
     },
     "output_type": "display_data"
    }
   ],
   "source": [
    "x = np.linspace(0.15, 2.5, 100)\n",
    "exact = 1/x\n",
    "lag = [poly_lagrange(xi, coefs_lagrange, puntos) for xi in x]\n",
    "her = [poly_hermite(xi, coefs_hermite, puntos) for xi in x]\n",
    "\n",
    "plt.plot(x, exact)\n",
    "plt.plot(x, lag)\n",
    "plt.plot(x, her)"
   ]
  },
  {
   "cell_type": "markdown",
   "metadata": {},
   "source": [
    "## Splines cúbicas"
   ]
  },
  {
   "cell_type": "markdown",
   "metadata": {},
   "source": [
    "Los polinomios de alto orden tienen problemas al intentar interpolar una función. Intentemos un ejemplo tomando muchos puntos."
   ]
  },
  {
   "cell_type": "code",
   "execution_count": 13,
   "metadata": {},
   "outputs": [
    {
     "data": {
      "text/plain": [
       "[<matplotlib.lines.Line2D at 0x11b83e850>]"
      ]
     },
     "execution_count": 13,
     "metadata": {},
     "output_type": "execute_result"
    },
    {
     "data": {
      "image/png": "[encoded data removed]",
      "text/plain": [
       "<Figure size 432x288 with 1 Axes>"
      ]
     },
     "metadata": {
      "needs_background": "light"
     },
     "output_type": "display_data"
    }
   ],
   "source": [
    "mini = 0.1\n",
    "maxi = 20\n",
    "order = 9\n",
    "\n",
    "xp = np.linspace(mini, maxi, order)\n",
    "puntos = np.array([[xi, np.sin(xi)/xi] for xi in xp])\n",
    "coefs_lagrange = difer(puntos)\n",
    "\n",
    "x = np.linspace(mini, maxi, 100)\n",
    "exact = np.sin(x)/x\n",
    "lag = [poly_lagrange(xi, coefs_lagrange, puntos) for xi in x]\n",
    "\n",
    "plt.scatter(puntos[:,0], puntos[:,1], color='red')\n",
    "plt.plot(x, exact)\n",
    "plt.plot(x, lag)"
   ]
  },
  {
   "cell_type": "markdown",
   "metadata": {},
   "source": [
    "Lo mismo ocurre cuando los puntos de datos contienen un error numérico."
   ]
  },
  {
   "cell_type": "markdown",
   "metadata": {},
   "source": [
    "Por este motivo es más práctico hacer una interpolación de la función tramo por tramo."
   ]
  },
  {
   "cell_type": "code",
   "execution_count": 14,
   "metadata": {},
   "outputs": [],
   "source": [
    "def find_ind(x, puntos):\n",
    "    for i in range(len(puntos)):\n",
    "        if x < puntos[i,0] and i != 0:\n",
    "            return i-1\n",
    "\n",
    "def lin_interp(x, puntos):\n",
    "    if x >= puntos[len(puntos)-1,0]:\n",
    "        return puntos[len(puntos)-1,1]\n",
    "    elif x <= puntos[0,0]:\n",
    "        return puntos[0,1]\n",
    "    \n",
    "    i = find_ind(x, puntos)\n",
    "    Lo = puntos[i][1]*(x - puntos[i+1][0])/(puntos[i][0] - puntos[i+1][0])\n",
    "    L1 = puntos[i+1][1]*(x - puntos[i][0])/(puntos[i+1][0] - puntos[i][0])\n",
    "    return Lo + L1"
   ]
  },
  {
   "cell_type": "code",
   "execution_count": 15,
   "metadata": {
    "scrolled": true
   },
   "outputs": [
    {
     "data": {
      "text/plain": [
       "[<matplotlib.lines.Line2D at 0x11b9a8a90>]"
      ]
     },
     "execution_count": 15,
     "metadata": {},
     "output_type": "execute_result"
    },
    {
     "data": {
      "image/png": "[encoded data removed]",
      "text/plain": [
       "<Figure size 432x288 with 1 Axes>"
      ]
     },
     "metadata": {
      "needs_background": "light"
     },
     "output_type": "display_data"
    }
   ],
   "source": [
    "mini = 0.1\n",
    "maxi = 20\n",
    "order = 9\n",
    "\n",
    "xp = np.linspace(mini, maxi, order)\n",
    "puntos = np.array([[xi, np.sin(xi)/xi] for xi in xp])\n",
    "\n",
    "x = np.linspace(mini, maxi, 100)\n",
    "exact = np.sin(x)/x\n",
    "lin = [lin_interp(xi, puntos) for xi in x]\n",
    "\n",
    "plt.scatter(puntos[:,0], puntos[:,1], color='red')\n",
    "plt.plot(x, exact)\n",
    "plt.plot(x, lin)"
   ]
  },
  {
   "cell_type": "markdown",
   "metadata": {},
   "source": [
    "Para lograr un mejor ajuste (más suave) podemos imponer más condiciones. Por ejemplo podemos pedir que la derivada sea igual a la derivada de la función que queremos interpolar. Pero con frecuencia no tenemos la derivada de la función.\n",
    "\n",
    "Sea $S_i$ el polinomio que interpola entre los puntos $x_i$ y $x_{i+1}$. Podemos pedir que la derivada de la interpolación sea continua, es decir \n",
    "\n",
    "$$\n",
    "S_{i}'(x_{i+1}) = S_{i+1}'(x_{i+1})\n",
    "$$\n",
    "\n",
    "Estas son $n - 2$ condiciones adicionales (sobre las $2n - 2$ condiciones $S_{i}(x_i) = f(x_i)$ y $S_{i}(x_{i+1}) = f(x_{i+1})$). Tendremos $n-1$ polinomios interpolantes, tal que para lograr imponer estas condiciones es neceario usar polinomios cuadráticos, cada uno de los cuales contiene tres coeficientes para un total de $3n - 3$. \n",
    "\n",
    "El tipo de polinomios más usados tienen una condición sobre las anteriores\n",
    "\n",
    "$$\n",
    "S_{i}''(x_{i+1}) = S_{i+1}''(x_{i+1})\n",
    "$$\n",
    "\n",
    "Ahora tendremos $4n - 6$ condiciones. Para cumplirlas necesitamos polinomios de orden al menos cúbico, para un total de $4n - 4$ coeficientes libres. A estos polinomios se los llama splines cúbicas. Pero para fijarlos completamente falta una condición. Escogemos la que es más útil en la práctica\n",
    "\n",
    "$$\n",
    "S_0''(x_o) = S_{n-1}''(x_n) = 0\n",
    "$$\n",
    "\n",
    "A estas se las llama splines naturales. Se pueden encontrar resolviendo un sistema de $4n - 4$ ecuaciones."
   ]
  },
  {
   "cell_type": "code",
   "execution_count": 16,
   "metadata": {},
   "outputs": [],
   "source": [
    "def spline_coefs(puntos):\n",
    "    \n",
    "    n = len(puntos) - 1\n",
    "    \n",
    "    h = np.zeros(n)\n",
    "    for i in range(n):\n",
    "        h[i] = puntos[i + 1][0] - puntos[i][0]\n",
    "    \n",
    "    a = puntos[:,1]\n",
    "    alpha = np.zeros(n - 1)\n",
    "    for i in range(1, n):\n",
    "        alpha[i-1] = (3/h[i])*(a[i+1] - a[i]) - (3/h[i-1])*(a[i] - a[i-1])\n",
    "        \n",
    "        \n",
    "    # Se resuelve un sistema de ecuaciones:\n",
    "    l = np.ones(n + 1)\n",
    "    mu = np.zeros(n)\n",
    "    z = np.zeros(n + 1)\n",
    "    for i in range(1, n):\n",
    "        l[i] = 2*(puntos[i+1][0] - puntos[i-1][0]) - h[i-1]*mu[i-1]\n",
    "        mu[i] = h[i]/l[i]\n",
    "        z[i] = (alpha[i-1] - h[i-1]*z[i-1])/l[i]\n",
    "    b = np.zeros(n)\n",
    "    c = np.zeros(n+1)\n",
    "    d = np.zeros(n)\n",
    "    for j in range(n-1,-1,-1):\n",
    "        c[j] = z[j] - mu[j]*c[j+1]\n",
    "        b[j] = (a[j+1] - a[j])/h[j] - h[j]*(c[j+1] + 2*c[j])/3\n",
    "        d[j] = (c[j+1] - c[j])/(3*h[j])\n",
    "        \n",
    "    return a, b, c, d"
   ]
  },
  {
   "cell_type": "code",
   "execution_count": 17,
   "metadata": {},
   "outputs": [],
   "source": [
    "def spline_eval(x, coefs, puntos):\n",
    "\n",
    "    if x >= puntos[-1,0]:\n",
    "        return puntos[-1,1]\n",
    "    elif x <= puntos[0,0]:\n",
    "        return puntos[0,1]\n",
    "    \n",
    "    i = find_ind(x, puntos)\n",
    "    a, b, c, d = coefs\n",
    "    return (a[i] + b[i]*(x - puntos[i][0]) + \\\n",
    "            c[i]*(x - puntos[i][0])**2 + d[i]*(x - puntos[i][0])**3)"
   ]
  },
  {
   "cell_type": "code",
   "execution_count": 20,
   "metadata": {},
   "outputs": [
    {
     "data": {
      "text/plain": [
       "[<matplotlib.lines.Line2D at 0xb1d251f90>]"
      ]
     },
     "execution_count": 20,
     "metadata": {},
     "output_type": "execute_result"
    },
    {
     "data": {
      "image/png": "[encoded data removed]",
      "text/plain": [
       "<Figure size 432x288 with 1 Axes>"
      ]
     },
     "metadata": {
      "needs_background": "light"
     },
     "output_type": "display_data"
    }
   ],
   "source": [
    "mini = 0.1\n",
    "maxi = 20\n",
    "order = 9\n",
    "\n",
    "xp = np.linspace(mini, maxi, order)\n",
    "puntos = np.array([[xi, np.sin(xi)/xi] for xi in xp])\n",
    "coefs= spline_coefs(puntos)\n",
    "\n",
    "x = np.linspace(mini, maxi, 100)\n",
    "exact = np.sin(x)/x\n",
    "spline = [spline_eval(xi, coefs, puntos) for xi in x]\n",
    "\n",
    "plt.scatter(puntos[:,0], puntos[:,1], color='red')\n",
    "plt.plot(x, exact)\n",
    "plt.plot(x, spline)"
   ]
  },
  {
   "cell_type": "markdown",
   "metadata": {},
   "source": [
    "\n",
    "\n",
    "## Scipy"
   ]
  },
  {
   "cell_type": "code",
   "execution_count": 21,
   "metadata": {
    "scrolled": true
   },
   "outputs": [
    {
     "data": {
      "image/png": "[encoded data removed]",
      "text/plain": [
       "<Figure size 432x288 with 1 Axes>"
      ]
     },
     "metadata": {
      "needs_background": "light"
     },
     "output_type": "display_data"
    }
   ],
   "source": [
    "# Tomado de: https://docs.scipy.org/doc/scipy/reference/tutorial/interpolate.html\n",
    "\n",
    "from scipy.interpolate import interp1d\n",
    "\n",
    "x = np.linspace(0, 10, num=11, endpoint=True)\n",
    "y = np.cos(-x**2/9.0)\n",
    "f = interp1d(x, y)\n",
    "f2 = interp1d(x, y, kind='cubic')\n",
    "\n",
    "xnew = np.linspace(0, 10, num=41, endpoint=True)\n",
    "import matplotlib.pyplot as plt\n",
    "plt.plot(x, y, 'o', xnew, f(xnew), '-', xnew, f2(xnew), '--')\n",
    "plt.legend(['data', 'linear', 'cubic'], loc='best')\n",
    "plt.show()"
   ]
  },
  {
   "cell_type": "markdown",
   "metadata": {},
   "source": [
    "## Tareas"
   ]
  },
  {
   "cell_type": "markdown",
   "metadata": {},
   "source": [
    "### Tarea 8.1"
   ]
  },
  {
   "cell_type": "markdown",
   "metadata": {},
   "source": [
    "Tome 20 puntos entre $x = -2$ y $x = 2$ para interpolar la función $\\tanh(x)$. Hágalo usando la spline cúbica introducida en clase y la función de scipy. ¿Cuál tiene un error mayor?"
   ]
  },
  {
   "cell_type": "markdown",
   "metadata": {},
   "source": [
    "### Tarea 8.2"
   ]
  },
  {
   "cell_type": "markdown",
   "metadata": {},
   "source": [
    "Escriba un código similar a la interpolación lineal de la clase, pero que realice una interpolación cuadrática. Es decir, este código interpola usando una parábola para cada trío de puntos. Grafique sus resultados para el mismo ejemplo usado en la interpolación lineal."
   ]
  },
  {
   "cell_type": "markdown",
   "metadata": {},
   "source": [
    "### Tarea 8.3"
   ]
  },
  {
   "cell_type": "markdown",
   "metadata": {},
   "source": [
    "Considere una curva gaussiana con media $0$ y varianza $1$. Aproxime esta curva con una spline cúbica usando 5 puntos entre $x = 0$ y $x = 2$. Use esta spline para calcular la integral de la función. Compare el resultado con su valor exacto (ver la función de error de tareas anteriores)."
   ]
  },
  {
   "cell_type": "markdown",
   "metadata": {},
   "source": [
    "### Tarea 8.4"
   ]
  },
  {
   "cell_type": "markdown",
   "metadata": {},
   "source": [
    "Considere la función $f(x) = 4 x^3 - 3x^2 + x -5$. Use sólo dos puntos para interpolar usando una spline cúbica entre $x =-1$ y $x = 1$. Haga lo mismo con 4 puntos equidistantes. Explique por qué la spline cúbica es diferente del polinomio original si ambos son polinomios cúbicos."
   ]
  },
  {
   "cell_type": "markdown",
   "metadata": {},
   "source": [
    "### Tarea 8.5"
   ]
  },
  {
   "cell_type": "markdown",
   "metadata": {},
   "source": [
    "Haga una interpolación con polinomios de Lagrange y con spline cúbica a los siguientes datos. Compare y explique."
   ]
  },
  {
   "cell_type": "code",
   "execution_count": 91,
   "metadata": {},
   "outputs": [],
   "source": [
    "puntos = np.array([[0.0, 0.8554428669760865],\n",
    " [0.10256410256410256, 0.8192503889643609],\n",
    " [0.20512820512820512, 0.9106698108197717],\n",
    " [0.3076923076923077, 0.8712405328999302],\n",
    " [0.41025641025641024, 1.028882810913172],\n",
    " [0.5128205128205128, 0.9042429634802972],\n",
    " [0.6153846153846154, 0.855131704289422],\n",
    " [0.717948717948718, 0.8320615040511042],\n",
    " [0.8205128205128205, 0.5404161442504423],\n",
    " [0.923076923076923, 0.4607411363876057],\n",
    " [1.0256410256410255, 0.5230079911073856],\n",
    " [1.1282051282051282, 0.4319333734735373],\n",
    " [1.2307692307692308, 0.3194709855419703],\n",
    " [1.3333333333333333, 0.3176511643072673],\n",
    " [1.435897435897436, 0.08845060273327107],\n",
    " [1.5384615384615383, -0.1118729194358061],\n",
    " [1.641025641025641, -0.05123505155215124],\n",
    " [1.7435897435897436, -0.2758484321392249],\n",
    " [1.846153846153846, -0.3354753113897514],\n",
    " [1.9487179487179487, -0.26956032827356446],\n",
    " [2.051282051282051, -0.571247853583287],\n",
    " [2.1538461538461537, -0.7087933751789464],\n",
    " [2.2564102564102564, -0.7346123839017604],\n",
    " [2.358974358974359, -0.9422578154572859],\n",
    " [2.4615384615384617, -0.6839691792454056],\n",
    " [2.564102564102564, -0.9525757587137708],\n",
    " [2.6666666666666665, -0.8747644889180131],\n",
    " [2.769230769230769, -0.9126743380349072],\n",
    " [2.871794871794872, -1.0825927238281552],\n",
    " [2.9743589743589745, -1.0103075868775828],\n",
    " [3.0769230769230766, -0.907399219424252],\n",
    " [3.1794871794871793, -0.851996743383459],\n",
    " [3.282051282051282, -0.9446601118164999],\n",
    " [3.3846153846153846, -1.0173310927863406],\n",
    " [3.4871794871794872, -0.8906772736257376],\n",
    " [3.5897435897435894, -0.896632562845944],\n",
    " [3.692307692307692, -0.8524291153089643],\n",
    " [3.7948717948717947, -0.6563668686292993],\n",
    " [3.8974358974358974, -0.8565509469076233],\n",
    " [4.0, -0.6052319246737182]])\n"
   ]
  }
 ],
 "metadata": {
  "kernelspec": {
   "display_name": "Python 3",
   "language": "python",
   "name": "python3"
  },
  "language_info": {
   "codemirror_mode": {
    "name": "ipython",
    "version": 3
   },
   "file_extension": ".py",
   "mimetype": "text/x-python",
   "name": "python",
   "nbconvert_exporter": "python",
   "pygments_lexer": "ipython3",
   "version": "3.7.7"
  }
 },
 "nbformat": 4,
 "nbformat_minor": 4
}
