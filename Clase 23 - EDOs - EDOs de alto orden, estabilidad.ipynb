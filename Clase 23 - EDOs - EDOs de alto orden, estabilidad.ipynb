{
 "cells": [
  {
   "cell_type": "markdown",
   "metadata": {},
   "source": [
    "# Clase 23: EDOs - EDOs de alto orden, estabilidad"
   ]
  },
  {
   "cell_type": "code",
   "execution_count": 1,
   "metadata": {},
   "outputs": [],
   "source": [
    "import numpy as np\n",
    "import matplotlib.pyplot as plt"
   ]
  },
  {
   "cell_type": "markdown",
   "metadata": {},
   "source": [
    "## Sistemas de ecuaciones diferenciales"
   ]
  },
  {
   "cell_type": "markdown",
   "metadata": {},
   "source": [
    "Podemos aplicar todo lo que hemos estudiado a sistemas de ecuaciones del tipo\n",
    "\n",
    "$$\n",
    "\\begin{align}\n",
    "y_1'(t) &= f_1(t, y_1, y_2, ..., y_n) \\\\\n",
    "y_2'(t) &= f_2(t, y_1, y_2, ..., y_n) \\\\\n",
    "\\vdots &\\phantom{=}\\quad \\vdots \\\\\n",
    "y_n'(t) &= f_n(t, y_1, y_2, ..., y_n)\n",
    "\\end{align}\n",
    "$$\n",
    "\n",
    "para $a \\leq t \\leq b$ con condiciones iniciales\n",
    "\n",
    "$$\n",
    "y_1(a) = \\alpha_1\\,,\\quad y_2(a) = \\alpha_2\\,,\\quad ...\\,, \\quad y_n(a) = \\alpha_n\\,.\n",
    "$$"
   ]
  },
  {
   "cell_type": "markdown",
   "metadata": {},
   "source": [
    "En los desarrollos teóricos sólo tenemos que generalizar la condición de Lipfschitz\n",
    "\n",
    "$$\n",
    "|f(t, u_1, ..., u_n) - f(t, w_1, ..., w_n)| \\leq L \\sum_{j = 1}^n |u_j - w_j|\n",
    "$$\n",
    "\n",
    "Que se cumple siempre que \n",
    "\n",
    "$$\n",
    "\\left|\\frac{\\partial f}{\\partial u_i}\\right| \\leq L\n",
    "$$\n",
    "\n",
    "para todo $u_i$. Cuando se satisface esta condición de Lpfschitz, el sistema tene una solución única."
   ]
  },
  {
   "cell_type": "markdown",
   "metadata": {},
   "source": [
    "Generalizar los métodos ya vistos es directo."
   ]
  },
  {
   "cell_type": "code",
   "execution_count": 2,
   "metadata": {},
   "outputs": [],
   "source": [
    "def rk4s(f, a, b, yo, N):\n",
    "    \n",
    "    h = (b-a)/N\n",
    "    t = a\n",
    "    w = yo\n",
    "    m = len(yo)\n",
    "    ts = np.zeros(N+1)\n",
    "    sol = np.zeros((m,N+1))\n",
    "    \n",
    "    for i in range(N):\n",
    "        ts[i] = t\n",
    "        sol[:,i] = w\n",
    "        k1 = h*f(t, w)\n",
    "        k2 = h*f(t+h/2, w+k1/2)\n",
    "        k3 = h*f(t+h/2, w+k2/2)\n",
    "        k4 = h*f(t + h, w + k3)\n",
    "        w = w + (k1 + 2*k2 + 2*k3 + k4)/6\n",
    "        t = t + h\n",
    "        \n",
    "    ts[N] = t\n",
    "    sol[:,N] = w\n",
    "    \n",
    "    return ts, sol"
   ]
  },
  {
   "cell_type": "markdown",
   "metadata": {},
   "source": [
    "## Ecuaciones de alto orden"
   ]
  },
  {
   "cell_type": "markdown",
   "metadata": {},
   "source": [
    "Con lo visto arriba, una ecuación de alto orden es fácil de resolver, consideremos\n",
    "\n",
    "$$\n",
    "y''(t) = f(t, y, y') \\,,\\quad a \\leq t \\leq b\\,,\\quad y(a) = y_o\\,,\\quad y'(a) = y'_o\\,,\n",
    "$$\n",
    "\n",
    "este se puede transformar en un sistema haciendo $y_1 = y$, $y_2 = y'$.\n",
    "\n",
    "$$\n",
    "\\begin{align}\n",
    "y_1'(t) &= y_2 \\\\\n",
    "y_2'(t) &= f(t, y_1, y_2) \\,.\n",
    "\\end{align}\n",
    "$$\n",
    "\n",
    "Similarmente para ecuaciones de orden más alto."
   ]
  },
  {
   "cell_type": "markdown",
   "metadata": {},
   "source": [
    "Resolvamos el siguiente problema de valor inicial\n",
    "\n",
    "$$\n",
    "y''(t) - 2y'(t) + 2y(t) = e^{2t}\\sin(t)\\,,\\quad 0\\leq t\\leq 1\\,,\\quad y(0) = -0.4\\,,\\quad y'(0)= -0.6\n",
    "$$"
   ]
  },
  {
   "cell_type": "code",
   "execution_count": 3,
   "metadata": {},
   "outputs": [],
   "source": [
    "def f(t, y):\n",
    "    return np.array([y[1], 2*y[1] - 2*y[0] + np.exp(2*t)*np.sin(t)])\n",
    "\n",
    "a = 0\n",
    "b = 1\n",
    "yo = np.array([-0.4, -0.6])"
   ]
  },
  {
   "cell_type": "code",
   "execution_count": 4,
   "metadata": {},
   "outputs": [
    {
     "data": {
      "text/plain": [
       "(array([0. , 0.1, 0.2, 0.3, 0.4, 0.5, 0.6, 0.7, 0.8, 0.9, 1. ]),\n",
       " array([[-0.4       , -0.46173334, -0.52555988, -0.58860144, -0.64661231,\n",
       "         -0.69356666, -0.7211519 , -0.71815295, -0.66971133, -0.5564429 ,\n",
       "         -0.35339886],\n",
       "        [-0.6       , -0.63163124, -0.64014895, -0.61366381, -0.53658203,\n",
       "         -0.3887381 , -0.14438087,  0.22899702,  0.7719918 ,  1.53478148,\n",
       "          2.57876634]]))"
      ]
     },
     "execution_count": 4,
     "metadata": {},
     "output_type": "execute_result"
    }
   ],
   "source": [
    "rk4s(f, a, b, yo, 10)"
   ]
  },
  {
   "cell_type": "code",
   "execution_count": 5,
   "metadata": {},
   "outputs": [],
   "source": [
    "def exacta(t):\n",
    "    return 0.2*np.exp(2*t)*(np.sin(t) - 2*np.cos(t))"
   ]
  },
  {
   "cell_type": "code",
   "execution_count": 6,
   "metadata": {},
   "outputs": [
    {
     "data": {
      "text/plain": [
       "[<matplotlib.lines.Line2D at 0x11f3b25d0>]"
      ]
     },
     "execution_count": 6,
     "metadata": {},
     "output_type": "execute_result"
    },
    {
     "data": {
      "image/png": "[encoded data removed]",
      "text/plain": [
       "<Figure size 432x288 with 1 Axes>"
      ]
     },
     "metadata": {
      "needs_background": "light"
     },
     "output_type": "display_data"
    }
   ],
   "source": [
    "sol = rk4s(f, a, b, yo, 10)\n",
    "plt.plot(sol[0], sol[1][0])"
   ]
  },
  {
   "cell_type": "code",
   "execution_count": 7,
   "metadata": {},
   "outputs": [
    {
     "data": {
      "text/plain": [
       "[<matplotlib.lines.Line2D at 0x11f4a4250>]"
      ]
     },
     "execution_count": 7,
     "metadata": {},
     "output_type": "execute_result"
    },
    {
     "data": {
      "image/png": "[encoded data removed]",
      "text/plain": [
       "<Figure size 432x288 with 1 Axes>"
      ]
     },
     "metadata": {
      "needs_background": "light"
     },
     "output_type": "display_data"
    }
   ],
   "source": [
    "plt.plot(sol[0], sol[1][0] - exacta(sol[0]))"
   ]
  },
  {
   "cell_type": "markdown",
   "metadata": {},
   "source": [
    "## Estabilidad"
   ]
  },
  {
   "cell_type": "markdown",
   "metadata": {},
   "source": [
    "Hasta ahora hemos discutido el error cometido a cada paso. Pero nos preocupa que el error total al $N$-ésimo paso pueda ser grande (y de hecho hemos visto casos donde lo es), ya que un pequeño error en un paso puede llevar a errores grandes si el método no es estable."
   ]
  },
  {
   "cell_type": "markdown",
   "metadata": {},
   "source": [
    "Un método se dice **consistente** si todos los errores tienden a cero cuando el tamaño del paso tiende a cero\n",
    "\n",
    "$$\n",
    "\\lim_{h\\rightarrow 0} \\max_{1 \\leq i \\leq N}|\\tau_i(h)| = 0\\,.\n",
    "$$\n",
    "\n",
    "Un método se dice **convergente** si la aproximación tiende a la verdadera solución cuando el tamaño del paso tiende a cero\n",
    "\n",
    "$$\n",
    "\\lim_{h\\rightarrow 0} \\max_{1 \\leq i \\leq N}|y(t_i) - w_i| = 0\\,.\n",
    "$$"
   ]
  },
  {
   "cell_type": "markdown",
   "metadata": {},
   "source": [
    "Por ejemplo el método de Euler es convergente porque la fórmula de error es\n",
    "\n",
    "$$\n",
    "\\frac{hM}{2L}(e^{L(t_i - a)} - 1)\n",
    "$$\n",
    "\n",
    "tal que tiende a cero cuando $h$ tiende a cero."
   ]
  },
  {
   "cell_type": "markdown",
   "metadata": {},
   "source": [
    "**Teorema:** Considere el problema de condición inicial\n",
    "\n",
    "$$\n",
    "y'(t) = f(t, y)\\,,\\quad a \\leq t \\leq b \\,,\\quad y(a) = \\alpha\\,,\n",
    "$$\n",
    "\n",
    "que se aproxima usando el método dado por\n",
    "\n",
    "$$\n",
    "w_{i+1} = w_i + h\\phi(t_i, w_i, h)\\,,\n",
    "$$\n",
    "\n",
    "si $\\phi$ satisface la condición de Lipfshitz en el conjunto $\\{(t, w, h) | a \\leq t \\leq b\\,,\\, -\\infty \\leq w \\leq \\infty\\,,\\, 0\\leq h \\leq h_o \\}$ entonces\n",
    "\n",
    "1. El método es estable (pequeñas perturbaciones en la condición inicial implican pequeñas perturbaciones en la solución).\n",
    "\n",
    "2. El método es convergente si y sólo si es consistente, lo que es equivalente a la condición $\\phi(t, y, 0) = f(t, y)$.\n",
    "\n",
    "3. Si una función $\\tau(h)$ existe tal que para cada paso el error de truncación local satisface $|\\tau_i(h)| \\leq \\tau(h)$ cuando $0 \\leq h \\leq h_o$, entonces\n",
    "\n",
    "$$\n",
    "|y(t_i) - w_i| \\leq \\frac{\\tau(h)}{L}e^{L(t_i - a)}\\,.\n",
    "$$"
   ]
  },
  {
   "cell_type": "markdown",
   "metadata": {},
   "source": [
    "Un análisis similar para métodos de múltiples pasos se puede encontrar en el libro de Burden."
   ]
  },
  {
   "cell_type": "markdown",
   "metadata": {},
   "source": [
    "## Ecuaciones diferenciales rígidas"
   ]
  },
  {
   "cell_type": "code",
   "execution_count": 8,
   "metadata": {},
   "outputs": [],
   "source": [
    "def f(t, y):\n",
    "    return np.array([9*y[0] + 24*y[1] + 5*np.cos(t) - (1/3)*np.sin(t),\n",
    "                    -24*y[0] - 51*y[1] - 9*np.cos(t) + (1/3)*np.sin(t)])\n",
    "\n",
    "yo = np.array([4/3, 2/3])\n",
    "a = 0\n",
    "b = 1"
   ]
  },
  {
   "cell_type": "code",
   "execution_count": 9,
   "metadata": {},
   "outputs": [],
   "source": [
    "def exacta(t):\n",
    "    return [2*np.exp(-3*t) - np.exp(-39*t) + (1/3)*np.cos(t), \n",
    "            -np.exp(-3*t) + 2*np.exp(-39*t) - (1/3)*np.cos(t)]"
   ]
  },
  {
   "cell_type": "code",
   "execution_count": 10,
   "metadata": {
    "scrolled": true
   },
   "outputs": [],
   "source": [
    "sol_10 = rk4s(f, a, b, yo, 10)\n",
    "sol_20 = rk4s(f, a, b, yo, 20)"
   ]
  },
  {
   "cell_type": "code",
   "execution_count": 11,
   "metadata": {},
   "outputs": [
    {
     "data": {
      "text/plain": [
       "[<matplotlib.lines.Line2D at 0x11f5f1c50>]"
      ]
     },
     "execution_count": 11,
     "metadata": {},
     "output_type": "execute_result"
    },
    {
     "data": {
      "image/png": "[encoded data removed]",
      "text/plain": [
       "<Figure size 432x288 with 1 Axes>"
      ]
     },
     "metadata": {
      "needs_background": "light"
     },
     "output_type": "display_data"
    }
   ],
   "source": [
    "plt.plot(sol_10[0], sol_10[1][0] - exacta(sol_10[0])[0])\n",
    "plt.plot(sol_20[0], sol_20[1][0] - exacta(sol_20[0])[0])"
   ]
  },
  {
   "cell_type": "code",
   "execution_count": 12,
   "metadata": {},
   "outputs": [
    {
     "data": {
      "text/plain": [
       "[<matplotlib.lines.Line2D at 0x11f6d4ed0>]"
      ]
     },
     "execution_count": 12,
     "metadata": {},
     "output_type": "execute_result"
    },
    {
     "data": {
      "image/png": "[encoded data removed]",
      "text/plain": [
       "<Figure size 432x288 with 1 Axes>"
      ]
     },
     "metadata": {
      "needs_background": "light"
     },
     "output_type": "display_data"
    }
   ],
   "source": [
    "plt.plot(sol_10[0], sol_10[1][1] - exacta(sol_10[0])[1])\n",
    "plt.plot(sol_20[0], sol_20[1][1] - exacta(sol_20[0])[1])"
   ]
  },
  {
   "cell_type": "markdown",
   "metadata": {},
   "source": [
    "Lo que está pasando aquí es que en la solución analítica aparece el término $e^{-39t}$ que tiende rápidamente a cero. Pero sus derivadas son grandes, tal que el error de un método de alto orden, como el Runge-Kutta, puede ser grande y necesario escoger un $h$ que lo compense. Este tipo de ecuaciones se llaman **rígidas**."
   ]
  },
  {
   "cell_type": "markdown",
   "metadata": {},
   "source": [
    "Para evaluar la utilidad de un método para resolver ecuaciones rígidas se puede considerar la ecuación más sencilla\n",
    "\n",
    "$$\n",
    "y'(t) = \\lambda y(t)\\,,\\quad y(0) = \\alpha\\,,\\quad \\lambda < 0.\n",
    "$$"
   ]
  },
  {
   "cell_type": "markdown",
   "metadata": {},
   "source": [
    "Por ejemplo, para el método de Euler, el error absoluto al $j$-ésimo paso está dado por\n",
    "\n",
    "$$\n",
    "|y(t_j) - w_j| = |e^{j\\lambda h} - (1 + h\\lambda)^j||\\alpha| \n",
    "$$\n",
    "\n",
    "tal que la convergencia del método dependerá de cómo $(1 + h\\lambda)$ aproxima la función $e^{h\\lambda}$. Para $j$ grande $e^{jh\\lambda}$ tiende rápidamente a cero, pero esto sólo será verdad para $(1 + h\\lambda)^j$ si $|1 + h\\lambda| < 1$ tal que es necesario tomar $0 < h < 2/|\\lambda|$.\n",
    "\n",
    "En general un método de un paso, la aproximación se puede escribir\n",
    "\n",
    "$$\n",
    "w_{j+1} = Q(h\\lambda)w_j\n",
    "$$\n",
    "\n",
    "para alguna función $Q$ y será estable si se escoge el paso $h$ tal que\n",
    "\n",
    "$$\n",
    "|Q(h\\lambda)| < 1.\n",
    "$$"
   ]
  },
  {
   "cell_type": "markdown",
   "metadata": {},
   "source": [
    "Una alternativa es buscar métodos que sean estables para $\\lambda < 0$ y cualquier $h$. O mejor aún para $\\text{Re} \\lambda < 0$. A los métodos que satisfacen esta segunda condición se los llama A-estables. Un método A-estable es el método implícito dado por la regla del trapecio\n",
    "\n",
    "$$\n",
    "\\begin{align}\n",
    "w_o &= \\alpha \\\\\n",
    "w_{j+1} &= w_j + \\frac{h}{2} (f(t_{j+1}, w_{j+1}) + f(t_j, w_j))\\,,\n",
    "\\end{align}\n",
    "$$\n",
    "\n",
    "el problema es que se necesita saber $w_{j+1}$ que requiere despejar esta ecuación. Para ese despeje se puede usar el método de Newton."
   ]
  },
  {
   "cell_type": "code",
   "execution_count": 100,
   "metadata": {},
   "outputs": [],
   "source": [
    "class MaxIterations(Exception):\n",
    "    pass\n",
    "\n",
    "def tn(f, df, a, b, yo, tol, N, M = 1000):\n",
    "    \n",
    "    h = (b - a)/N\n",
    "    t = a\n",
    "    w = yo\n",
    "    \n",
    "    ws = np.zeros(N+1)\n",
    "    ts = np.zeros(N+1)\n",
    "    ws[0] = w\n",
    "    ts[0] = t\n",
    "    \n",
    "    for i in range(N):\n",
    "        k1 = w + h*f(t, w)/2\n",
    "        wo = k1\n",
    "        \n",
    "        j = 1\n",
    "        while True:\n",
    "            w = wo - (wo - h*f(t + h, wo)/2 - k1)/(1 - h*df(t + h, wo)/2)\n",
    "            if abs(w - wo) < tol:\n",
    "                break\n",
    "            else:\n",
    "                j = j+1\n",
    "                wo = w\n",
    "                if j > M:\n",
    "                    raise MaxIterations('Se excedió el número máximo de iteraciones')\n",
    "        \n",
    "        t += h\n",
    "        ts[i+1] = t\n",
    "        ws[i+1] = w\n",
    "        \n",
    "    return ts, ws"
   ]
  },
  {
   "cell_type": "markdown",
   "metadata": {},
   "source": [
    "Resolvamos el problema \n",
    "\n",
    "$$\n",
    "y'(t) = 5e^{5t}(y - t)^2 - 1\\,,\\quad 0\\leq t\\leq 1\\,,\\quad y(0) = -1\\,.\n",
    "$$\n",
    "\n",
    "La solución analítica es $y(t) = t - e^{-5t}$."
   ]
  },
  {
   "cell_type": "code",
   "execution_count": 101,
   "metadata": {},
   "outputs": [],
   "source": [
    "def f(t, y):\n",
    "    return 5*np.exp(5*t)*(y - t)**2 - 1\n",
    "\n",
    "def df(t, y):\n",
    "    return 10*np.exp(5*t)*(y - t)\n",
    "\n",
    "a = 0\n",
    "b = 1\n",
    "yo = -1\n",
    "\n",
    "def exacta(t):\n",
    "    return t - np.exp(-5*t)"
   ]
  },
  {
   "cell_type": "code",
   "execution_count": 102,
   "metadata": {},
   "outputs": [],
   "source": [
    "def rk4(f, a, b, yo, N):\n",
    "    \n",
    "    h = (b-a)/N\n",
    "    t = a\n",
    "    w = yo\n",
    "    ts = np.zeros(N+1)\n",
    "    sol = np.zeros(N+1)\n",
    "    \n",
    "    for i in range(N):\n",
    "        ts[i] = t\n",
    "        sol[i] = w\n",
    "        k1 = h*f(t, w)\n",
    "        k2 = h*f(t+h/2, w+k1/2)\n",
    "        k3 = h*f(t+h/2, w+k2/2)\n",
    "        k4 = h*f(t + h, w + k3)\n",
    "        w = w + (k1 + 2*k2 + 2*k3 + k4)/6\n",
    "        t = t + h\n",
    "        \n",
    "    ts[N] = t\n",
    "    sol[N] = w\n",
    "    \n",
    "    return ts, sol"
   ]
  },
  {
   "cell_type": "code",
   "execution_count": 103,
   "metadata": {},
   "outputs": [],
   "source": [
    "sol_rk4_5 = rk4(f, a, b, yo, 5)\n",
    "sol_rk4_20 = rk4(f, a, b, yo, 20)\n",
    "sol_tn_5 = tn(f, df, a, b, yo, 1e-6, 5)\n",
    "sol_tn_20 = tn(f, df, a, b, yo, 1e-6, 20)"
   ]
  },
  {
   "cell_type": "code",
   "execution_count": 104,
   "metadata": {
    "scrolled": true
   },
   "outputs": [
    {
     "data": {
      "text/plain": [
       "array([-1.        , -0.16787944,  0.26466472,  0.55021293,  0.78168436,\n",
       "        0.99326205])"
      ]
     },
     "execution_count": 104,
     "metadata": {},
     "output_type": "execute_result"
    }
   ],
   "source": [
    "exacta(sol_rk4_5[0])"
   ]
  },
  {
   "cell_type": "code",
   "execution_count": 105,
   "metadata": {},
   "outputs": [
    {
     "data": {
      "text/plain": [
       "(array([0. , 0.2, 0.4, 0.6, 0.8, 1. ]),\n",
       " array([-1.00000000e+000, -3.58615674e-001,  1.83292601e-001,\n",
       "         1.41234549e+000,  5.67600244e+015,  2.94453567e+275]))"
      ]
     },
     "execution_count": 105,
     "metadata": {},
     "output_type": "execute_result"
    }
   ],
   "source": [
    "sol_rk4_5"
   ]
  },
  {
   "cell_type": "code",
   "execution_count": 106,
   "metadata": {},
   "outputs": [
    {
     "data": {
      "text/plain": [
       "(array([-1. ,  0.2,  0.4,  0.6,  0.8,  1. ]),\n",
       " array([-1.        , -0.32515935,  0.12634786,  0.44482793,  0.70962255,\n",
       "         0.94633261]))"
      ]
     },
     "execution_count": 106,
     "metadata": {},
     "output_type": "execute_result"
    }
   ],
   "source": [
    "sol_tn_5"
   ]
  },
  {
   "cell_type": "code",
   "execution_count": 107,
   "metadata": {},
   "outputs": [
    {
     "data": {
      "text/plain": [
       "array([-1.        , -0.72880078, -0.50653066, -0.32236655, -0.16787944,\n",
       "       -0.0365048 ,  0.07686984,  0.17622606,  0.26466472,  0.34460078,\n",
       "        0.417915  ,  0.48607214,  0.55021293,  0.61122579,  0.66980262,\n",
       "        0.72648225,  0.78168436,  0.83573577,  0.888891  ,  0.9413483 ,\n",
       "        0.99326205])"
      ]
     },
     "execution_count": 107,
     "metadata": {},
     "output_type": "execute_result"
    }
   ],
   "source": [
    "exacta(sol_rk4_20[0])"
   ]
  },
  {
   "cell_type": "code",
   "execution_count": 108,
   "metadata": {
    "scrolled": false
   },
   "outputs": [
    {
     "data": {
      "text/plain": [
       "(array([0.  , 0.05, 0.1 , 0.15, 0.2 , 0.25, 0.3 , 0.35, 0.4 , 0.45, 0.5 ,\n",
       "        0.55, 0.6 , 0.65, 0.7 , 0.75, 0.8 , 0.85, 0.9 , 0.95, 1.  ]),\n",
       " array([-1.        , -0.80690858, -0.62937   , -0.46857821, -0.32416489,\n",
       "        -0.19475982, -0.07848497,  0.02667647,  0.12264169,  0.21109906,\n",
       "         0.29345978,  0.37086223,  0.44420564,  0.51419443,  0.58138089,\n",
       "         0.64619865,  0.70898195,  0.76995827,  0.82915925,  0.88599789,\n",
       "         0.93870176]))"
      ]
     },
     "execution_count": 108,
     "metadata": {},
     "output_type": "execute_result"
    }
   ],
   "source": [
    "sol_rk4_20"
   ]
  },
  {
   "cell_type": "code",
   "execution_count": 109,
   "metadata": {},
   "outputs": [
    {
     "data": {
      "text/plain": [
       "(array([-1.  ,  0.05,  0.1 ,  0.15,  0.2 ,  0.25,  0.3 ,  0.35,  0.4 ,\n",
       "         0.45,  0.5 ,  0.55,  0.6 ,  0.65,  0.7 ,  0.75,  0.8 ,  0.85,\n",
       "         0.9 ,  0.95,  1.  ]),\n",
       " array([-1.        , -0.80709301, -0.62950844, -0.46857579, -0.3240176 ,\n",
       "        -0.19450837, -0.07818057,  0.02699155,  0.12294135,  0.21137304,\n",
       "         0.29370967,  0.37109688,  0.44443764,  0.5144387 ,  0.58165595,\n",
       "         0.64653193,  0.70942415,  0.77062537,  0.83037797,  0.88888453,\n",
       "         0.94631557]))"
      ]
     },
     "execution_count": 109,
     "metadata": {},
     "output_type": "execute_result"
    }
   ],
   "source": [
    "sol_tn_20"
   ]
  },
  {
   "cell_type": "markdown",
   "metadata": {},
   "source": [
    "Un método muy usado para tratar ecuaciones rígidas usan lo que se llama \"diferencias hacia atrás\" (backward difference) de orden $s$. La lógica es resolver una ecuación explícita del estilo\n",
    "\n",
    "$$\n",
    "\\sum_{k = 0}^s a_k y_{i + k} = h\\beta f(t, y_{i + s})\n",
    "$$\n",
    "\n",
    "Para encontrar los coeficientes $\\beta$ y $a_k$ se escribe\n",
    "\n",
    "$$\n",
    "y'(t_{i+s}) = P_s(t_{i+s})\n",
    "$$\n",
    "\n",
    "donde $P_s(t)$ es el polinomio interpolante de Lagrange que usa los puntos $(t_i, y_i), ..., (t_{i+s}, y_{i+s})$ para aproximar $f(t_{i+s}, y(t_{i + s}))$. \n",
    "\n",
    "Esto da:\n",
    "\n",
    "$$\n",
    "\\begin{align}\n",
    "y_{i + 1} - y_{i} &= hf(t_{i+1}, y_{i+1})\\,,\\\\\n",
    "y_{i+1} - \\frac{4}{3}y_i + \\frac{1}{3}y_{i - 1} &= \\frac{2}{3}hf(t_{i+1}, y_{i+1}) \\,,\\\\\n",
    "y_{i+1} - \\frac{18}{11}y_{i} + \\frac{9}{11}y_{i-1} - \\frac{2}{11}y_{i-2} &= \\frac{6}{11}hf(t_{i+1}, y_{i+1})\\,.\n",
    "\\end{align}\n",
    "$$"
   ]
  },
  {
   "cell_type": "markdown",
   "metadata": {},
   "source": [
    "## Scipy"
   ]
  },
  {
   "cell_type": "markdown",
   "metadata": {},
   "source": [
    "Como siempre, ejemplos copiados de la documentación de scipy: https://docs.scipy.org/doc/scipy/reference/generated/scipy.integrate.solve_ivp.html#scipy.integrate.solve_ivp"
   ]
  },
  {
   "cell_type": "markdown",
   "metadata": {},
   "source": [
    "Scipy puede usar varios métodos: \n",
    "\n",
    "- El método por defecto es el RK45 que es el Runge-Kutta-Fehlberg. Cuando se pide 'dense output' usa un polinomio interpolante de orden 4.\n",
    "\n",
    "- El método RK23 usa un Runge-Kutta de orden 2 para el control de error. El polinomio interpolante es un Hermiite.\n",
    "\n",
    "- El método BDF es un tipo de método de diferencias hacias atrás, pero con control de error y orden variable. Ideal para ecuaciones rígidas.\n",
    "\n",
    "- El método LSODA es un método de Adams que detecta cuándo una ecuación es rígida y cambia hacia un método de diferencias hacia atrás. No lo recomiendan en la documentación ya que el código usa un pedazo en Fortran envuelto en Python... (tal vez no es fácil de editar o tal vez no es eficiente, no lo especifican).\n",
    "\n",
    "Usa otros métodos que también son combinaciones de cosas que hemos visto en la clase. "
   ]
  },
  {
   "cell_type": "markdown",
   "metadata": {},
   "source": [
    "        scipy.integrate.solve_ivp(fun, t_span, y0, method='RK45', t_eval=None, dense_output=False, events=None, vectorized=False, args=None, **options)"
   ]
  },
  {
   "cell_type": "code",
   "execution_count": 23,
   "metadata": {},
   "outputs": [],
   "source": [
    "from scipy.integrate import solve_ivp\n",
    "def exponential_decay(t, y): return -0.5 * y\n",
    "sol = solve_ivp(exponential_decay, [0, 10], [2, 4, 8])"
   ]
  },
  {
   "cell_type": "code",
   "execution_count": 24,
   "metadata": {},
   "outputs": [
    {
     "name": "stdout",
     "output_type": "stream",
     "text": [
      "[ 0.          0.11487653  1.26364188  3.06061781  4.81611105  6.57445806\n",
      "  8.33328988 10.        ]\n"
     ]
    }
   ],
   "source": [
    "print(sol.t)"
   ]
  },
  {
   "cell_type": "code",
   "execution_count": 25,
   "metadata": {},
   "outputs": [
    {
     "name": "stdout",
     "output_type": "stream",
     "text": [
      "[[2.         1.88836035 1.06327177 0.43319312 0.18017253 0.07483045\n",
      "  0.03107158 0.01350781]\n",
      " [4.         3.7767207  2.12654355 0.86638624 0.36034507 0.14966091\n",
      "  0.06214316 0.02701561]\n",
      " [8.         7.5534414  4.25308709 1.73277247 0.72069014 0.29932181\n",
      "  0.12428631 0.05403123]]\n"
     ]
    }
   ],
   "source": [
    "print(sol.y)"
   ]
  },
  {
   "cell_type": "code",
   "execution_count": 26,
   "metadata": {},
   "outputs": [],
   "source": [
    "def lotkavolterra(t, z, a, b, c, d):\n",
    "    x, y = z\n",
    "    return [a*x - b*x*y, -c*y + d*x*y]"
   ]
  },
  {
   "cell_type": "code",
   "execution_count": 27,
   "metadata": {},
   "outputs": [],
   "source": [
    "sol = solve_ivp(lotkavolterra, [0, 15], [10, 5], args=(1.5, 1, 3, 1),\n",
    "                dense_output=True)"
   ]
  },
  {
   "cell_type": "code",
   "execution_count": 28,
   "metadata": {},
   "outputs": [
    {
     "data": {
      "image/png": "[encoded data removed]",
      "text/plain": [
       "<Figure size 432x288 with 1 Axes>"
      ]
     },
     "metadata": {
      "needs_background": "light"
     },
     "output_type": "display_data"
    }
   ],
   "source": [
    "t = np.linspace(0, 15, 300)\n",
    "z = sol.sol(t)\n",
    "import matplotlib.pyplot as plt\n",
    "plt.plot(t, z.T)\n",
    "plt.xlabel('t')\n",
    "plt.legend(['x', 'y'], shadow=True)\n",
    "plt.title('Lotka-Volterra System')\n",
    "plt.show()"
   ]
  },
  {
   "cell_type": "markdown",
   "metadata": {},
   "source": [
    "## Tareas"
   ]
  },
  {
   "cell_type": "markdown",
   "metadata": {},
   "source": [
    "### Tarea 12.1"
   ]
  },
  {
   "cell_type": "markdown",
   "metadata": {},
   "source": [
    "Estudiemos el péndulo rígido. Sabemos que la aceleración actúa en la componente vertical de la velocidad y que además debe satisfacer la ecuación de ligadura que el radio del movimiento sea constante. Esto lleva a la siguiente ecuación diferencial\n",
    "\n",
    "$$\n",
    "\\frac{d^2\\theta}{dt^2} = -\\frac{g}{L}\\sin\\theta\n",
    "$$\n",
    "\n",
    "donde $g = 9.81\\,\\text{m}/\\text{s}^2$ es la aceleración de la gravedad y $L = 1\\,\\text{m}$ es la longitud del péndulo.\n",
    "\n",
    "Grafique la solución a esta ecuación tomando $\\theta'(0) = 0$ para $\\theta(0) = 0.1$, $\\theta(0) = 1$,  $\\theta(0) = 3$ entre $0\\,\\text{s} \\leq t \\leq 6\\,\\text{s}$. Compare con el caso de pequeñas oscilaciones ($\\sin\\theta \\approx \\theta$)."
   ]
  },
  {
   "cell_type": "markdown",
   "metadata": {},
   "source": [
    "### Tarea 12.2"
   ]
  },
  {
   "cell_type": "markdown",
   "metadata": {},
   "source": [
    "Implemente un código para resolver una ecuación de orden $n$ usando el método de Runge-Kutta de orden 4. \n",
    "\n",
    "$$\n",
    "y^{(n)}(t) = f(t, y, y',...,y^{(n-1)})\\,,\n",
    "$$\n",
    "\n",
    "Este código debería recibir una función $f(t, y, y', ..., y^{(n-1)})$, los valores inical $a$ y final $b$ del parámetro $t$, junto con un arreglo de condiciones iniciales $(y(a),...,y^{(n-1)}(a))$ y el número de pasos. El código debe dar la solución $y(t_i)$.\n",
    "\n",
    "Para probar que funciona, resuelva la siguiente ecuación diferencial\n",
    "\n",
    "$$\n",
    "y'' - 2y' + y = te^t - t\\,,\\quad 0\\leq t\\leq 1\\,,\\quad y(0) = y'(0) = 0\\,.\n",
    "$$\n",
    "\n",
    "Esta tiene solución analítica $y(t) = (1/6)t^3e^t - te^t + 2e^t - t - 2$."
   ]
  },
  {
   "cell_type": "markdown",
   "metadata": {},
   "source": [
    "### Tarea 12.3"
   ]
  },
  {
   "cell_type": "markdown",
   "metadata": {},
   "source": [
    "Así como implementamos el método de Runge Kutta de orden 4 para resolver sistemas de ecuaciones diferenciales, implemente el método de Runge Kutta Fehlberg para esos sistemas de ecuaciones. \n",
    "\n",
    "Note que para modificar el tamaño del paso es necesario exigir que todas las soluciones alcancen la tolerancia pedida.\n",
    "\n",
    "Para probar su código, resuelva el siguiente problema de valor inicial:\n",
    "\n",
    "$$\n",
    "\\begin{align}\n",
    "y_1'(t) &= -4y_1 - 2y_2 + \\cos t + 4 \\sin t\\,,\\\\\n",
    "y_2'(t) &= 3y_1 + y_2 - 3\\sin t\\,,\n",
    "\\end{align}\n",
    "$$\n",
    "\n",
    "para $0 \\leq t \\leq 2$ con condiciones iniciales \n",
    "\n",
    "$$\n",
    "y_1(0) = 0\\,,\\quad y_2(t) = -1\\,.\n",
    "$$\n",
    "\n",
    "Este sistema tiene soluciones analíticas\n",
    "\n",
    "$$\n",
    "\\begin{align}\n",
    "u_1(t) &= 2e^{-t} - 2e^{-2t} + \\sin t\\,,\\\\\n",
    "u_2(t) &= -3e^{-t} + 2e^{-2t}\\,.\n",
    "\\end{align}\n",
    "$$"
   ]
  },
  {
   "cell_type": "markdown",
   "metadata": {},
   "source": [
    "### Tarea 12.4"
   ]
  },
  {
   "cell_type": "markdown",
   "metadata": {},
   "source": [
    "Escriba un código que implemente el algoritmo de diferencias hacia atrás\n",
    "\n",
    "$$\n",
    "y_{i+1} - \\frac{18}{11}y_{i} + \\frac{9}{11}y_{i-1} - \\frac{2}{11}y_{i-2} = \\frac{6}{11}hf(t_{i+1}, y_{i+1})\n",
    "$$\n",
    "\n",
    "como este es un método implícito, es necesario implementar un método de Newton similar a lo hecho para la regla del trapecio.\n",
    "\n",
    "Aplique este algoritmo a la solución del problema visto en clase:"
   ]
  },
  {
   "cell_type": "markdown",
   "metadata": {},
   "source": [
    "### Tarea 12.5"
   ]
  },
  {
   "cell_type": "markdown",
   "metadata": {},
   "source": [
    "Grafique la solución numérica a la siguiente ecuación diferencial, usando menos de 100 pasos\n",
    "\n",
    "$$\n",
    "y' = -30(y + y^2) + \\sin(t/2)\\,,\\quad 0\\leq t \\leq 20\\,,\\quad y(0) = 0\\,.\n",
    "$$"
   ]
  }
 ],
 "metadata": {
  "kernelspec": {
   "display_name": "Python 3",
   "language": "python",
   "name": "python3"
  },
  "language_info": {
   "codemirror_mode": {
    "name": "ipython",
    "version": 3
   },
   "file_extension": ".py",
   "mimetype": "text/x-python",
   "name": "python",
   "nbconvert_exporter": "python",
   "pygments_lexer": "ipython3",
   "version": "3.7.7"
  }
 },
 "nbformat": 4,
 "nbformat_minor": 4
}
