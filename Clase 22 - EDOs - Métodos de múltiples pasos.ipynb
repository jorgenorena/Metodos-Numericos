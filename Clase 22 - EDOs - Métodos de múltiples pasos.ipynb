{
 "cells": [
  {
   "cell_type": "markdown",
   "metadata": {},
   "source": [
    "# Clase 22: EDOs - Métodos de múltiples pasos"
   ]
  },
  {
   "cell_type": "markdown",
   "metadata": {},
   "source": [
    "Los métodos que hemos estudiado han intentado predecir $y(t_i)$ usando la predicción anterior $w_{i-1}$. Como hemos visto, el error cometido por los métodos estudiados hasta ahora va creciendo a medida que crece $t$. Debido a esto, vale la pena involucrar varias predicciones anteriores en la predicción apra $y(t_i)$."
   ]
  },
  {
   "cell_type": "code",
   "execution_count": 1084,
   "metadata": {},
   "outputs": [],
   "source": [
    "import numpy as np\n",
    "import matplotlib.pyplot as plt"
   ]
  },
  {
   "cell_type": "markdown",
   "metadata": {},
   "source": [
    "## Métodos de pasos múltiples"
   ]
  },
  {
   "cell_type": "markdown",
   "metadata": {},
   "source": [
    "La solución exacta a la ecuación diferencial está dada formalmente por\n",
    "\n",
    "$$\n",
    "y(t_{i+1}) = y(t_i) + \\int_{t_i}^{t_{i+1}}dt\\,f(t, y(t))\\,,\n",
    "$$\n",
    "\n",
    "no podemos resolver esa integral ya que depende de la función $y(t)$, pero podemos usar varias aproximaciones precedentes $(t_i, f(t_i, y(t_i))), (t_{i-1}, f(t_{i-1}, y(t_{i-1}))),...,(t_{i-m}, f(t_{i+1-m},y(t_{i+1-m})))$ para escribir un polinomio interpolante e integrarlo\n",
    "\n",
    "$$\n",
    "y(t_{i+1}) = y(t_i) + \\int_{t_i}^{t_{i+1}}dt\\,P_{m-1}(t) + \\frac{1}{m!}f^{(m)}(\\mu, y(\\mu))\\int_{t_i}^{t_{i+1}}dt\\,(t - t_i)...(t - t_{i+1-m})\\,,\n",
    "$$"
   ]
  },
  {
   "cell_type": "markdown",
   "metadata": {},
   "source": [
    "Veamos cómo funciona si usamos dos puntos anteriores. El polinomio interpolante será una interpolación lineal que escribiremos usando los polinomios de Lagrange\n",
    "\n",
    "$$\n",
    "P_2(t) = \\frac{(t - t_i)}{(t_{i - 1} - t_i)}f(t_{i-1}, y(t_{i-1})) + \\frac{(t - t_{i-1})}{(t_{i} - t_{i - 1})}f(t_{i}, y(t_{i})) = - s f(t_i - h, y(t_i - h)) + (s + 1)f(t_i, y(t_i))\n",
    "$$\n",
    "\n",
    "donde hemos escrito $t = t_i + sh$. Ahora tenemos\n",
    "\n",
    "$$\n",
    "y(t_{i+1}) = y(t_i) + h\\int_0^1ds\\,\\left[-s f(t_{i-1}, y(t_{i-1})) + (s + 1)f(t_i, y(t_i))\\right] + \\frac{h^3}{m!}f^{(m)}(\\mu, y(\\mu))\\int_{0}^{1}ds\\,s(s+1)\\,,\n",
    "$$\n",
    "\n",
    "$$\n",
    "y(t_{i+1}) = y(t_i) + h\\left[-\\frac{1}{2} f(t_{i-1}, y(t_{i-1}))+\\frac{3}{2}f(t_i, y(t_i))\\right] + \\frac{5h^3}{12}f^{(2)}(\\mu, y(\\mu))\\,,\n",
    "$$"
   ]
  },
  {
   "cell_type": "markdown",
   "metadata": {},
   "source": [
    "Análogamente para cuatro puntos\n",
    "\n",
    "$$\n",
    "P_4(s) = \\frac{(s+1)(s+2)(s+3)}{6}f(t_i,y(t_i)) - \\frac{s(s+2)(s+3)}{2}f(t_{i-1},y(t_{i-1}))+ \\frac{s(s+1)(s+3)}{2}f(t_{i-2},y(t_{i-2})) - \\frac{s(s+1)(s+2)}{6}f(t_{i-3},y(t_{i-3}))\n",
    "$$\n",
    "\n",
    "Las integrales en $s$ son fáciles de calcular y obtenemos\n",
    "\n",
    "$$\n",
    "y(t_{i+1}) = y(t_i) + \\frac{h}{24}\\left[55f(t_i, y(t_i)) - 59f(t_{i-1}, y(t_{i-1})) + 37f(t_{i-2}, y(t_{i-2})) - 9f(t_{i-3}, y(t_{i-3}))\\right] + \\frac{251}{720}h^5f^{(4)}(\\mu, y(\\mu))\n",
    "$$\n",
    "\n",
    "vemos que así obtenemos un método con error de truncación local de orden $h^4$. "
   ]
  },
  {
   "cell_type": "markdown",
   "metadata": {},
   "source": [
    "A estos métodos se los llama métodos de **Adams-Bashforth**. Necesitan tres condiciones iniciales para sus primeros pasos. Estas se pueden obtener usando por ejemplo un método de Runge-Kutta."
   ]
  },
  {
   "cell_type": "code",
   "execution_count": 1132,
   "metadata": {},
   "outputs": [],
   "source": [
    "def rk4_step(f, fi, t, w, h):\n",
    "    \n",
    "    k1 = h*fi\n",
    "    k2 = h*f(t+h/2, w+k1/2)\n",
    "    k3 = h*f(t+h/2, w+k2/2)\n",
    "    k4 = h*f(t + h, w + k3)\n",
    "    return (k1 + 2*k2 + 2*k3 + k4)/6\n",
    "\n",
    "def ab4(f, a, b, yo, N):\n",
    "    \n",
    "    h = (b-a)/N\n",
    "    i = 0\n",
    "    w = yo\n",
    "    t = a\n",
    "    \n",
    "    ws = np.zeros(N+1)\n",
    "    ts = np.zeros(N+1)\n",
    "    fi = 0\n",
    "    fim1 = 0\n",
    "    fim2 = 0\n",
    "    fim3 = 0\n",
    "    \n",
    "    for i in range(N):\n",
    "        ts[i] = t\n",
    "        ws[i] = w\n",
    "        fim3 = fim2\n",
    "        fim2 = fim1\n",
    "        fim1 = fi\n",
    "        fi = f(t,w)\n",
    "        if i < 3:\n",
    "            w += rk4_step(f, fi, t, w, h)\n",
    "        else:\n",
    "            w += h*(55*fi - 59*fim1 +37*fim2 - 9*fim3)/24\n",
    "        t += h\n",
    "        \n",
    "    ws[N] = w\n",
    "    ts[N] = t\n",
    "    \n",
    "    return ts, ws"
   ]
  },
  {
   "cell_type": "markdown",
   "metadata": {},
   "source": [
    "Comparemos con el método de Runge-Kutta"
   ]
  },
  {
   "cell_type": "code",
   "execution_count": 1133,
   "metadata": {},
   "outputs": [],
   "source": [
    "def rk4(f, a, b, yo, N):\n",
    "    \n",
    "    h = (b-a)/N\n",
    "    t = a\n",
    "    w = yo\n",
    "    ts = np.zeros(N+1)\n",
    "    sol = np.zeros(N+1)\n",
    "    \n",
    "    for i in range(N):\n",
    "        ts[i] = t\n",
    "        sol[i] = w\n",
    "        k1 = h*f(t, w)\n",
    "        k2 = h*f(t+h/2, w+k1/2)\n",
    "        k3 = h*f(t+h/2, w+k2/2)\n",
    "        k4 = h*f(t + h, w + k3)\n",
    "        w = w + (k1 + 2*k2 + 2*k3 + k4)/6\n",
    "        t = t + h\n",
    "        \n",
    "    ts[N] = t\n",
    "    sol[N] = w\n",
    "    \n",
    "    return ts, sol"
   ]
  },
  {
   "cell_type": "code",
   "execution_count": 1134,
   "metadata": {},
   "outputs": [],
   "source": [
    "def f(t, y):\n",
    "    return y - t**2 + 1\n",
    "\n",
    "a = 0\n",
    "b = 2\n",
    "yo = 0.5\n",
    "\n",
    "def exacta(t):\n",
    "    return (t + 1)**2 - 0.5*np.exp(t)"
   ]
  },
  {
   "cell_type": "code",
   "execution_count": 1135,
   "metadata": {},
   "outputs": [
    {
     "data": {
      "text/plain": [
       "<matplotlib.legend.Legend at 0x11c075750>"
      ]
     },
     "execution_count": 1135,
     "metadata": {},
     "output_type": "execute_result"
    },
    {
     "data": {
      "image/png": "[encoded data removed]",
      "text/plain": [
       "<Figure size 432x288 with 1 Axes>"
      ]
     },
     "metadata": {
      "needs_background": "light"
     },
     "output_type": "display_data"
    }
   ],
   "source": [
    "sol_rk4 = rk4(f, a, b, yo, 10)\n",
    "sol_ab4 = ab4(f, a, b, yo, 10)\n",
    "\n",
    "plt.plot(sol_rk4[0], sol_rk4[1] - exacta(sol_rk4[0]), label='RK4')\n",
    "plt.plot(sol_ab4[0], sol_ab4[1] - exacta(sol_ab4[0]), label='AB4')\n",
    "plt.legend()"
   ]
  },
  {
   "cell_type": "markdown",
   "metadata": {},
   "source": [
    "El error es mayor, y parte de la razón es que estamos usando un polinomio interpolante para extrapolar. Podemos mejorar la aproximación si usamos el punto $(t_{i+1}, f(y(t_{i+1})))$ para el polinomio interpolante:\n",
    "\n",
    "$$\n",
    "P_4(s) = \\frac{s(s+1)(s+2)}{6}f(t_{i+1},y(t_{i+1})) - \\frac{(s-1)(s+1)(s+2)}{2}f(t_{i},y(t_{i}))+ \\frac{s(s-1)(s+2)}{2}f(t_{i-1},y(t_{i-1})) - \\frac{s(s-1)(s+1)}{6}f(t_{i-3},y(t_{i-3}))\n",
    "$$\n",
    "\n",
    "Ahora las integrales dan\n",
    "\n",
    "$$\n",
    "y(t_{i+1}) = y(t_i) + \\frac{h}{24}\\left[9f(t_{i+1}, y(t_{i+1})) + 19f(t_{i}, y(t_{i})) - 5f(t_{i-1}, y(t_{i-1})) + f(t_{i-2}, y(t_{i-2}))\\right] - \\frac{19}{720}h^5f^{(4)}(\\mu, y(\\mu))\n",
    "$$\n",
    "\n",
    "Tenemos un método de orden $h^4$ de nuevo, pero es difícil ver cómo usarlo ya que necesitamos $y(t_{i+1})$, pero es lo que queremos calcular. Este método se llama de **Adams-Moulton**.\n",
    "\n",
    "Lo que podemos hacer es usar el Adams-Bashforth para predecir $y(t_{i+1})$ y usar esa aproximación dentro de la fórmula de Adams-Moulton para corregir la aproximación. A esto se lo llama un método **predictor-corrector**."
   ]
  },
  {
   "cell_type": "code",
   "execution_count": 1089,
   "metadata": {},
   "outputs": [],
   "source": [
    "def rk4_step(f, fi, t, w, h):\n",
    "    \n",
    "    k1 = h*fi\n",
    "    k2 = h*f(t+h/2, w+k1/2)\n",
    "    k3 = h*f(t+h/2, w+k2/2)\n",
    "    k4 = h*f(t + h, w + k3)\n",
    "    return (k1 + 2*k2 + 2*k3 + k4)/6\n",
    "\n",
    "def apc4(f, a, b, yo, N):\n",
    "    \n",
    "    h = (b-a)/N\n",
    "    i = 0\n",
    "    w = yo\n",
    "    t = a\n",
    "    \n",
    "    ws = np.zeros(N+1)\n",
    "    ts = np.zeros(N+1)\n",
    "    fi = 0\n",
    "    fim1 = 0\n",
    "    fim2 = 0\n",
    "    fim3 = 0\n",
    "    \n",
    "    for i in range(N):\n",
    "        ts[i] = t\n",
    "        ws[i] = w\n",
    "        fim3 = fim2\n",
    "        fim2 = fim1\n",
    "        fim1 = fi\n",
    "        fi = f(t,w)\n",
    "        if i < 3:\n",
    "            w += rk4_step(f, fi, t, w, h)\n",
    "        else:\n",
    "            # Predictor Adams-Bashforth de 4 pasos\n",
    "            w = ws[i] + h*(55*fi - 59*fim1 +37*fim2 - 9*fim3)/24\n",
    "            # Corrector Adams-Moulton de 3 pasos\n",
    "            w = ws[i] + h*(9*f(t + h, w) + 19*fi - 5*fim1 + fim2)/24\n",
    "        t += h\n",
    "        \n",
    "    ws[N] = w\n",
    "    ts[N] = t\n",
    "    \n",
    "    return ts, ws"
   ]
  },
  {
   "cell_type": "code",
   "execution_count": 1090,
   "metadata": {},
   "outputs": [
    {
     "data": {
      "text/plain": [
       "<matplotlib.legend.Legend at 0x11b316ad0>"
      ]
     },
     "execution_count": 1090,
     "metadata": {},
     "output_type": "execute_result"
    },
    {
     "data": {
      "image/png": "[encoded data removed]",
      "text/plain": [
       "<Figure size 432x288 with 1 Axes>"
      ]
     },
     "metadata": {
      "needs_background": "light"
     },
     "output_type": "display_data"
    }
   ],
   "source": [
    "sol_rk4 = rk4(f, a, b, yo, 10)\n",
    "sol_ab4 = ab4(f, a, b, yo, 10)\n",
    "sol_apc = apc4(f, a, b, yo, 10)\n",
    "\n",
    "plt.plot(sol_rk4[0], sol_rk4[1] - exacta(sol_rk4[0]), label='RK4')\n",
    "#plt.plot(sol_ab4[0], sol_ab4[1] - exacta(sol_ab4[0]), label='AB4')\n",
    "plt.plot(sol_apc[0], sol_apc[1] - exacta(sol_apc[0]), label='APC4')\n",
    "plt.legend()"
   ]
  },
  {
   "cell_type": "markdown",
   "metadata": {},
   "source": [
    "Vemos que el error es ligeramente menor (en valor absoluto). En realidad esto depende del problema particular en consideración, y de hecho puede que en este mismo problema el error de APC tenga un crecimiento más rápido que RK para valores grandes de $t$. Una ventaja del método de Adams es que requiere sólo dos nuevas evaluaciones a cada paso, lo que lo hace más rápido que RK para una precisión similar."
   ]
  },
  {
   "cell_type": "markdown",
   "metadata": {},
   "source": [
    "## Métodos de múltiples pasos con control de error"
   ]
  },
  {
   "cell_type": "markdown",
   "metadata": {},
   "source": [
    "En el método de Runge-Kutta-Fehlberg usamos dos aproximaciones para estimar el error cometido y ajustar el paso para obtener un error local menor que la tolerancia requerida. En el método de Adams predictor corrector tenemos ya las dos aproximaciones y las podemos usar para estimar el error. Veamos cómo:"
   ]
  },
  {
   "cell_type": "markdown",
   "metadata": {},
   "source": [
    "Los errores de truncación locales de Adams-Bashforth y Adams-Moulton son respectivamente\n",
    "\n",
    "$$\n",
    "\\hat{\\tau}_{i+1}(h) \\approx \\frac{y(t_{i+1}) - \\hat{w}_{i+1}}{h} = \\frac{251}{720}y^{(5)}(\\hat{\\mu})h^4\n",
    "$$\n",
    "\n",
    "$$\n",
    "\\tau_{i+1}(h) \\approx \\frac{y(t_{i+1}) - w_{i+1}}{h} = -\\frac{19}{720}y^{(5)}(\\mu)h^4\n",
    "$$\n",
    "\n",
    "donde hemos asumido que $y(t_i),...,y(t_{i-3})$ están bien aproximadas por $w_i,...,w_{i-3}$. Si adicionalmente asumimos que $y^{(5)}(\\mu) \\approx y^{(5)}(\\hat{\\mu})$ tenemos\n",
    "\n",
    "$$\n",
    "\\frac{w_{i+1} - \\hat{w}_{i+1}}{h} \\approx \\frac{3}{8}h^4y^{(5)}(\\mu)\n",
    "$$\n",
    "\n",
    "reemplazando esto en el error de Adams-Moulton obtenemos\n",
    "\n",
    "$$\n",
    "|\\tau_{i+1}(h)| = \\frac{19}{720}.\\frac{8}{3h^5}|w_{i+1} - \\hat{w}_{i+1}| = \\frac{19}{270h}|w_{i+1} - \\hat{w}_{i+1}|\n",
    "$$"
   ]
  },
  {
   "cell_type": "markdown",
   "metadata": {},
   "source": [
    "Ahora bien, queremos reducir el paso de un factor $\\delta$ tal que el error esté por debajo de una cierta tolerancia $\\epsilon$. Usando las expresiones del error tenemos que\n",
    "\n",
    "$$\n",
    "|\\tau_{i+1}(\\delta h)| = \\frac{19}{720}y^{(5)}(\\mu)\\delta^4h^4 = \\delta^4|\\tau_{i+1}(h)|\n",
    "$$\n",
    "\n",
    "entonces\n",
    "\n",
    "$$\n",
    "\\epsilon > |\\tau_{i+1}(\\delta h)| = \\delta^4|\\tau_{i+1}(h)| = \\frac{19\\delta^4}{270h}|w_{i+1} - \\hat{w}_{i+1}|\n",
    "$$\n",
    "\n",
    "despejando\n",
    "\n",
    "$$\n",
    "\\delta < \\left(\\frac{270}{19}\\frac{h\\epsilon}{|w_{i+1} - \\hat{w}_{i+1}|}\\right)^{1/4}\n",
    "$$"
   ]
  },
  {
   "cell_type": "code",
   "execution_count": 1091,
   "metadata": {},
   "outputs": [],
   "source": [
    "def rk4_step(f, fi, t, w, h):\n",
    "    \n",
    "    k1 = h*fi\n",
    "    k2 = h*f(t+h/2, w+k1/2)\n",
    "    k3 = h*f(t+h/2, w+k2/2)\n",
    "    k4 = h*f(t + h, w + k3)\n",
    "    return (k1 + 2*k2 + 2*k3 + k4)/6\n",
    "\n",
    "class MinStep(Exception):\n",
    "    pass\n",
    "\n",
    "def apce(f, a, b, yo, tol, hmin, hmax):\n",
    "    \n",
    "    h = hmax\n",
    "    flag = 1 # Indica si terminamos\n",
    "    last = 0 # Indica si es el último paso\n",
    "    \n",
    "    ts = [a]\n",
    "    ws = [yo]\n",
    "    hs = [h]\n",
    "    rs = [-1]\n",
    "    \n",
    "    fi = f(ts[0], ws[0])\n",
    "    fim1 = 0\n",
    "    fim2 = 0\n",
    "    fim3 = 0\n",
    "    \n",
    "    # Puntos iniciales obtenidos de Runge-Kutta\n",
    "    for i in range(3):\n",
    "        ws.append(ws[i] + rk4_step(f, fi, ts[i], ws[i], h))\n",
    "        ts.append(ts[i] + h)\n",
    "        hs.append(h)\n",
    "        rs.append(-1)\n",
    "        fim3 = fim2\n",
    "        fim2 = fim1\n",
    "        fim1 = fi\n",
    "        fi = f(ts[i+1], ws[i+1])\n",
    "    nflag = 1 # Indica si los últimos puntos fueron obtenidos con RK\n",
    "    i = 4\n",
    "    t = ts[3] + h\n",
    "    \n",
    "    while flag:\n",
    "        \n",
    "        # Predictor Adams-Bashforth de 4 pasos\n",
    "        wp = ws[i-1] + h*(55*fi - 59*fim1 +37*fim2 - 9*fim3)/24\n",
    "        # Corrector Adams-Moulton de 3 pasos\n",
    "        wc = ws[i-1] + h*(9*f(t, wp) + 19*fi - 5*fim1 + fim2)/24\n",
    "        \n",
    "        # Estima del error dada por la diferencia entre dos Adams\n",
    "        sigma = 19*abs(wc - wp)/(270*h)\n",
    "        \n",
    "        # Si el error es menor que la tolerancia, se acepta el paso\n",
    "        if sigma <= tol:\n",
    "            ws.append(wc)\n",
    "            ts.append(t)\n",
    "            hs.append(h)\n",
    "            rs.append(sigma)\n",
    "            fim3 = fim2\n",
    "            fim2 = fim1\n",
    "            fim1 = fi\n",
    "            fi = f(ts[i], ws[i])\n",
    "            \n",
    "            # Si es el último paso, terminamos\n",
    "            if last:\n",
    "                flag = 0\n",
    "            else:\n",
    "                i += 1\n",
    "                nflag = 0\n",
    "                \n",
    "                # Incrementamos h si es más preciso de lo requerido\n",
    "                # o lo reducimos para incluir b\n",
    "                if sigma <= 0.1*tol or ts[i-1] + h > b:\n",
    "                    delta = (tol/(2*sigma))**(1/4)\n",
    "                    if delta > 4: # Evitamos que crezca demasiado\n",
    "                        h = 4*h \n",
    "                    else:\n",
    "                        h = delta*h\n",
    "                    if h > hmax:\n",
    "                        h = hmax\n",
    "                    if ts[i-1] + 4*h > b:\n",
    "                        h = (b - ts[i-1])/4\n",
    "                        last = 1\n",
    "                    # Como h cambió, necesitamos volver a calcular los\n",
    "                    # puntos iniciales para los Adams\n",
    "                    for j in range(3):\n",
    "                        ws.append(ws[i+j-1] + rk4_step(f, fi, ts[i+j-1], ws[i+j-1], h))\n",
    "                        ts.append(ts[i+j-1] + h)\n",
    "                        hs.append(h)\n",
    "                        rs.append(-1)\n",
    "                        fim3 = fim2\n",
    "                        fim2 = fim1\n",
    "                        fim1 = fi\n",
    "                        fi = f(ts[i+j],ws[i+j])  \n",
    "                    i += 3\n",
    "                    nflag = 1\n",
    "        else: # sigma > tol\n",
    "            # disminuimos h\n",
    "            delta = (tol/(2*sigma))**(1/4)\n",
    "            if delta < 0.1: # evitamos que disminuya demasiado\n",
    "                h = 0.1*h\n",
    "            else:\n",
    "                h = delta*h\n",
    "                \n",
    "            if h < hmin:\n",
    "                raise MinStep('Tamaño de paso mínimo excedido', ts, ws, hs, rs)\n",
    "            else:\n",
    "                if nflag: # los últimos pasos vienen de RK\n",
    "                    i -= 3 # se rechazan los pasos anteriores del RK\n",
    "                    fi = fim3\n",
    "                    for j in range(3):\n",
    "                        ws[i+j] = ws[i+j-1] + rk4_step(f, fi, ts[i+j-1], ws[i+j-1], h)\n",
    "                        ts[i+j] = ts[i+j-1] + h\n",
    "                        hs[i+j] = h\n",
    "                        rs[i+j] = -1\n",
    "                        fim3 = fim2\n",
    "                        fim2 = fim1\n",
    "                        fim1 = fi\n",
    "                        fi = f(ts[i+j],ws[i+j])\n",
    "                    i += 3\n",
    "                    nflag = 1\n",
    "                else:\n",
    "                    for j in range(3):\n",
    "                        ws.append(ws[i+j-1] + rk4_step(f, fi, ts[i+j-1], ws[i+j-1], h))\n",
    "                        ts.append(ts[i+j-1] + h)\n",
    "                        hs.append(h)\n",
    "                        rs.append(-1)\n",
    "                        fim3 = fim2\n",
    "                        fim2 = fim1\n",
    "                        fim1 = fi\n",
    "                        fi = f(ts[i+j],ws[i+j])\n",
    "                    i += 3\n",
    "                    nflag = 1\n",
    "        \n",
    "        t = ts[i-1] + h\n",
    "        # fin del while\n",
    "            \n",
    "    return np.array(ts), np.array(ws), np.array(hs), np.array(rs)"
   ]
  },
  {
   "cell_type": "code",
   "execution_count": 1092,
   "metadata": {},
   "outputs": [],
   "source": [
    "def rkf(f, a, b, yo, tol, hmin, hmax):\n",
    "    \n",
    "    t = a\n",
    "    w = yo\n",
    "    h = hmax\n",
    "    flag = 1\n",
    "    \n",
    "    ts = [t]\n",
    "    sol = [w]\n",
    "    hs = []\n",
    "    rs = []\n",
    "    \n",
    "    while flag:\n",
    "        \n",
    "        # Evaluaciones de la función \n",
    "        k1 = h*f(t, w)\n",
    "        k2 = h*f(t + h/4, w + k1/4)\n",
    "        k3 = h*f(t + 3*h/8, w + 3*k1/32 + 9*k2/32)\n",
    "        k4 = h*f(t + 12*h/13, w + 1932*k1/2197 - 7200*k2/2197 + 7296*k3/2197)\n",
    "        k5 = h*f(t + h, w + 439*k1/216 - 8*k2 + 3680*k3/513 - 845*k4/4104)\n",
    "        k6 = h*f(t + h/2, w - 8*k1/27 + 2*k2 - 3544*k3/2565 + 1859*k4/4104 - 11*k5/40)\n",
    "        \n",
    "        # Estima del error dada por la diferencia entre dos RKs\n",
    "        R = abs(k1/360 - 128*k3/4275 - 2197*k4/75240 + k5/50 + 2*k6/55)\n",
    "        \n",
    "        # Si el error es menor que la tolerancia, se acepta el paso\n",
    "        if R <= tol:\n",
    "            t += h\n",
    "            w = w + 25*k1/216 + 1408*k3/2565 + 2197*k4/4104 - k5/5\n",
    "            ts.append(t)\n",
    "            sol.append(w)\n",
    "            hs.append(h)\n",
    "            rs.append(R)\n",
    "            \n",
    "        # el 0.84 es un factor para hacer la estima más conservadora \n",
    "        # corresponde a 1/2**(1/4)\n",
    "        q = 0.84*(tol/R)**(1/4)\n",
    "        \n",
    "        # ACTUALIZACIÓN DE h\n",
    "        # Se establece un q mínimo para no quedarse atrapado en alguna región.\n",
    "        # Esto se puede cambiar.\n",
    "        if q <= 0.1:\n",
    "            h = 0.1*h\n",
    "        # Se establece también un q máximo para no peder detalles de la función\n",
    "        elif q >= 4:\n",
    "            h = 4*h\n",
    "        else:\n",
    "            h = q*h\n",
    "        if h > hmax:\n",
    "            h = hmax\n",
    "        \n",
    "        # Si nos pasamos de b, terminamos\n",
    "        if t >= b:\n",
    "            flag = 0\n",
    "        # El último paso debe llegar a b\n",
    "        elif t + h > b:\n",
    "            h = b - t\n",
    "        elif h < hmin:\n",
    "            raise MinStep('Se excedió el paso mínimo.')\n",
    "            \n",
    "    return np.array(ts), np.array(sol), np.array(hs), np.array(rs)"
   ]
  },
  {
   "cell_type": "code",
   "execution_count": 1093,
   "metadata": {},
   "outputs": [
    {
     "data": {
      "text/plain": [
       "(array([0.        , 0.12841311, 0.25682622, 0.38523933, 0.51365244,\n",
       "        0.64206555, 0.77047866, 0.89889178, 1.02730489, 1.155718  ,\n",
       "        1.28413111, 1.38980571, 1.49548031, 1.6011549 , 1.7068295 ,\n",
       "        1.8125041 , 1.9181787 , 1.93863403, 1.95908935, 1.97954468,\n",
       "        2.        ]),\n",
       " array([0.5       , 0.70480426, 0.93320071, 1.18390304, 1.4554489 ,\n",
       "        1.74617506, 2.05419064, 2.3773457 , 2.7131957 , 3.05896114,\n",
       "        3.41148167, 3.70412624, 3.99667129, 4.28661635, 4.57118181,\n",
       "        4.84727903, 5.11147478, 5.16092479, 5.20975773, 5.25794355,\n",
       "        5.30545159]),\n",
       " array([0.2       , 0.12841311, 0.12841311, 0.12841311, 0.12841311,\n",
       "        0.12841311, 0.12841311, 0.12841311, 0.12841311, 0.12841311,\n",
       "        0.12841311, 0.1056746 , 0.1056746 , 0.1056746 , 0.1056746 ,\n",
       "        0.1056746 , 0.1056746 , 0.02045532, 0.02045532, 0.02045532,\n",
       "        0.02045532]),\n",
       " array([-1.00000000e+00, -1.00000000e+00, -1.00000000e+00, -1.00000000e+00,\n",
       "         4.43185053e-06,  5.05751905e-06,  5.73105156e-06,  6.52270486e-06,\n",
       "         7.41689456e-06,  8.43307968e-06,  9.58861104e-06, -1.00000000e+00,\n",
       "        -1.00000000e+00, -1.00000000e+00,  7.08535747e-06,  7.84416316e-06,\n",
       "         8.74710758e-06, -1.00000000e+00, -1.00000000e+00, -1.00000000e+00,\n",
       "         1.62700884e-08]))"
      ]
     },
     "execution_count": 1093,
     "metadata": {},
     "output_type": "execute_result"
    }
   ],
   "source": [
    "apce(f, a, b, yo, 1e-5, 0.01, 0.2)"
   ]
  },
  {
   "cell_type": "code",
   "execution_count": 1094,
   "metadata": {},
   "outputs": [
    {
     "data": {
      "text/plain": [
       "<matplotlib.legend.Legend at 0x11b5e0f50>"
      ]
     },
     "execution_count": 1094,
     "metadata": {},
     "output_type": "execute_result"
    },
    {
     "data": {
      "image/png": "[encoded data removed]",
      "text/plain": [
       "<Figure size 432x288 with 1 Axes>"
      ]
     },
     "metadata": {
      "needs_background": "light"
     },
     "output_type": "display_data"
    }
   ],
   "source": [
    "ts_rkf, sol_rkf, hs_rkf, rs_rkf = rkf(f, 0, 2, 0.5, 1e-6, 0.01, 0.25)\n",
    "ts_apce, sol_apce, hs_apce, rs_apce = apce(f, 0, 2, 0.5, 1e-6, 0.01, 0.25)\n",
    "exacta_rkf = (ts_rkf + 1)**2 - 0.5*np.exp(ts_rkf)\n",
    "exacta_apce = (ts_apce + 1)**2 - 0.5*np.exp(ts_apce)\n",
    "plt.plot(ts_rkf, sol_rkf - exacta_rkf, label='RKF')\n",
    "plt.plot(ts_apce, sol_apce - exacta_apce, label='APC con paso variable')\n",
    "plt.xlabel('$t$')\n",
    "plt.ylabel('Error absoluto')\n",
    "plt.legend()"
   ]
  },
  {
   "cell_type": "markdown",
   "metadata": {},
   "source": [
    "La desventaja de este método es que al modificar $h$ puede ser necesario recalcular varios puntos."
   ]
  },
  {
   "cell_type": "markdown",
   "metadata": {},
   "source": [
    "## Tareas"
   ]
  },
  {
   "cell_type": "markdown",
   "metadata": {},
   "source": [
    "## Tarea 11.6"
   ]
  },
  {
   "cell_type": "markdown",
   "metadata": {},
   "source": [
    "Modifique los códigos de Runge-Kutta-Fehlberg y Adams con control de error para que impriman el número de pasos requeridos. Luego resuelva el siguiente problema de condición incial con ambos métodos y compare para diferentes tolerancias:\n",
    "\n",
    "$$\n",
    "y'(t) = (1/t)(y^2 + y)\\,,\\quad 1 \\leq t \\leq 3\\,,\\quad y(1) = -2\\,.\n",
    "$$"
   ]
  },
  {
   "cell_type": "markdown",
   "metadata": {},
   "source": [
    "## Tarea 11.7"
   ]
  },
  {
   "cell_type": "markdown",
   "metadata": {},
   "source": [
    "Escriba un código que implemente el método de Adams-Bashforth de dos pasos. Úselo para resolver el siguiente problema\n",
    "\n",
    "$$\n",
    "y'(t) = 1 + \\frac{y}{t} + \\left(\\frac{y}{t}\\right)^2\\,,\\quad 1 \\leq t \\leq 1.5\\,,\\quad y(1) = 0\\,.\n",
    "$$\n",
    "\n",
    "Para ser consistente con el orden, los primeros pasos deberían ser dados por un Runge-Kutta de orden 2."
   ]
  },
  {
   "cell_type": "markdown",
   "metadata": {},
   "source": [
    "## Tarea 11.8"
   ]
  },
  {
   "cell_type": "markdown",
   "metadata": {},
   "source": [
    "Use el método de Adams-Moulton de tres pasos descrito en clase para resolver el siguiente problema de valor inicial:\n",
    "\n",
    "$$\n",
    "y'(t) = te^{3t} - 2y\\,,\\quad 0 \\leq t \\leq 1\\,, \\quad y(0) = 0\\,.\n",
    "$$\n",
    "\n",
    "Recuerde que este método usa $w_{i+1}$ para calcular $w_{i+1}$ tal que es necesario resolver algebráicamente la ecuación resultante y así obtener una expresión explícita para $w_{i + 1}$ que se pueda usar en el código."
   ]
  },
  {
   "cell_type": "markdown",
   "metadata": {},
   "source": [
    "## Tarea 11.9"
   ]
  },
  {
   "cell_type": "markdown",
   "metadata": {},
   "source": [
    "Ejercicio 5.6.15, libro de Burden\n",
    "\n",
    "El algoritmo del predictor-corrector intenta predecir el valor de $y_{i+1}$ a partir de un Adams-Bashforth y luego usa ese resultado dentro de un Adams-Moulton para aproximarse más al verdadero valor. Esto se podría iterar varias veces, es decir usar esa predicción corregida dentro del mismo Adams-Moulton para corregir ulteriormente el valor. \n",
    "\n",
    "* Modifique el algoritmo de predictor-corrector para que el corrector se pueda iterar $p$ veces.\n",
    "\n",
    "* Resuelva el siguiente problema de valor inicial para $p = 2, 3, 4$. ¿Cuál da un mejor resultado?\n",
    "\n",
    "$$\n",
    "y'(t) = \\frac{y}{t} - \\left(\\frac{y}{t}\\right)^2\\,,\\quad 1\\leq t\\leq 2, y(1) = 1,\n",
    "$$\n",
    "\n",
    "con $h = 0.1$, siendo la solución analítica $y(t) = t/(1+ \\ln(t))$."
   ]
  },
  {
   "cell_type": "markdown",
   "metadata": {},
   "source": [
    "## Tarea 11.10"
   ]
  },
  {
   "cell_type": "markdown",
   "metadata": {},
   "source": [
    "Ejercicio 5.7.12, libro de Burden\n",
    "\n",
    "Sea $P(t)$ la cantidad de individuos en una población al tiempo $t$, medido en años. Si el la tasa de nacimientos promedio $b$ es constante y la tasa de muerte promedio $d$ es proporcional al tamaño de la población (debido al hacinamiento), entonces la razón de crecimiento de la población está dada por la ecuación logística\n",
    "\n",
    "$$\n",
    "\\frac{d P(t)}{dt} = bP(t) - k[P(t)]^2\n",
    "$$\n",
    "\n",
    "donde $d = kP(t)$. Suponga que $P(0) = 50976$, $b = 2.9\\times 10^{-2}$ y $k = 1.4\\times 10^{-7}$. Encuentre la población luego de $5$ años."
   ]
  }
 ],
 "metadata": {
  "kernelspec": {
   "display_name": "Python 3",
   "language": "python",
   "name": "python3"
  },
  "language_info": {
   "codemirror_mode": {
    "name": "ipython",
    "version": 3
   },
   "file_extension": ".py",
   "mimetype": "text/x-python",
   "name": "python",
   "nbconvert_exporter": "python",
   "pygments_lexer": "ipython3",
   "version": "3.7.7"
  }
 },
 "nbformat": 4,
 "nbformat_minor": 4
}
