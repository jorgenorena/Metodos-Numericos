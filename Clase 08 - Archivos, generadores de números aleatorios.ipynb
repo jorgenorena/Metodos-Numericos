{
 "cells": [
  {
   "cell_type": "markdown",
   "metadata": {},
   "source": [
    "# Clase 8: Archivos, generadores de números aleatorios"
   ]
  },
  {
   "cell_type": "markdown",
   "metadata": {},
   "source": [
    "En esta clase trataremos un par de temas algo disconexos, antes de empezar a hablar de algoritmos."
   ]
  },
  {
   "cell_type": "markdown",
   "metadata": {},
   "source": [
    "## Archivos de texto"
   ]
  },
  {
   "cell_type": "markdown",
   "metadata": {},
   "source": [
    "Cuando hacemos un cálculo queremos guardar el resultado. Una manera de hacerlo es con archivos de texto."
   ]
  },
  {
   "cell_type": "code",
   "execution_count": 328,
   "metadata": {},
   "outputs": [],
   "source": [
    "import os"
   ]
  },
  {
   "cell_type": "code",
   "execution_count": 329,
   "metadata": {},
   "outputs": [],
   "source": [
    "os.chdir('/Users/jorgenorena/Dropbox/Academic_2020/')"
   ]
  },
  {
   "cell_type": "code",
   "execution_count": 330,
   "metadata": {},
   "outputs": [
    {
     "data": {
      "text/plain": [
       "['Equivalence.synctex.gz',\n",
       " 'Equivalence.tex',\n",
       " '.DS_Store',\n",
       " 'Equivalence.out',\n",
       " 'Bubbles_personal',\n",
       " 'Equivalence_Stochasticity.pdf',\n",
       " 'Equivalence.pdf',\n",
       " 'Notes',\n",
       " 'Burocratic',\n",
       " 'Teaching',\n",
       " 'Equivalence.aux',\n",
       " 'Seminars',\n",
       " 'Equivalence.log',\n",
       " 'DE_EFT',\n",
       " '.ipynb_checkpoints',\n",
       " 'Bispectrum_fNL_Like']"
      ]
     },
     "execution_count": 330,
     "metadata": {},
     "output_type": "execute_result"
    }
   ],
   "source": [
    "os.listdir()"
   ]
  },
  {
   "cell_type": "code",
   "execution_count": 331,
   "metadata": {},
   "outputs": [
    {
     "data": {
      "text/plain": [
       "'/Users/jorgenorena/Dropbox/Academic_2020'"
      ]
     },
     "execution_count": 331,
     "metadata": {},
     "output_type": "execute_result"
    }
   ],
   "source": [
    "os.getcwd()"
   ]
  },
  {
   "cell_type": "code",
   "execution_count": 332,
   "metadata": {},
   "outputs": [],
   "source": [
    "os.chdir('/Users/jorgenorena/Dropbox/Academic_2020/Teaching/NM/Notebooks')"
   ]
  },
  {
   "cell_type": "code",
   "execution_count": 336,
   "metadata": {},
   "outputs": [],
   "source": [
    "file = open('ejemplo.py', 'r')"
   ]
  },
  {
   "cell_type": "code",
   "execution_count": 334,
   "metadata": {},
   "outputs": [
    {
     "name": "stdout",
     "output_type": "stream",
     "text": [
      "#!/usr/bin/env python3\n",
      "# -*- coding: utf-8 -*-\n",
      "\"\"\"\n",
      "Created on Sat Aug 15 14:56:57 2020\n",
      "\n",
      "@author: jorgenorena\n",
      "\"\"\"\n",
      "\n",
      "def ejemplo1():\n",
      "    print('Una función')\n",
      "    \n",
      "def ejemplo2():\n",
      "    print('Otra cosa')\n",
      "    return 1"
     ]
    }
   ],
   "source": [
    "for line in file.readlines():\n",
    "    print(line, end='')"
   ]
  },
  {
   "cell_type": "code",
   "execution_count": 335,
   "metadata": {},
   "outputs": [],
   "source": [
    "file.close()"
   ]
  },
  {
   "cell_type": "code",
   "execution_count": 30,
   "metadata": {},
   "outputs": [],
   "source": [
    "with open('ejemplo.py', 'r') as file:\n",
    "    lineas = [line for line in file]\n",
    "\n",
    "with open('copia.py', 'w') as file:\n",
    "    for l in lineas:\n",
    "        file.write(l)"
   ]
  },
  {
   "cell_type": "code",
   "execution_count": 32,
   "metadata": {},
   "outputs": [
    {
     "name": "stdout",
     "output_type": "stream",
     "text": [
      "#!/usr/bin/env python3\n",
      "# -*- coding: utf-8 -*-\n",
      "\"\"\"\n",
      "Created on Sat Aug 15 14:56:57 2020\n",
      "\n",
      "@author: jorgenorena\n",
      "\"\"\"\n",
      "\n",
      "def ejemplo1():\n",
      "    print('Una función')\n",
      "    \n",
      "def ejemplo2():\n",
      "    print('Otra cosa')\n",
      "    return 1"
     ]
    }
   ],
   "source": [
    "with open('copia.py', 'r') as file:\n",
    "    for l in file:\n",
    "        print(l, end='')"
   ]
  },
  {
   "cell_type": "markdown",
   "metadata": {},
   "source": [
    "## Formato para archivos de texto"
   ]
  },
  {
   "cell_type": "markdown",
   "metadata": {},
   "source": [
    "Normalmente queremos guardar números bien formateados."
   ]
  },
  {
   "cell_type": "code",
   "execution_count": 33,
   "metadata": {},
   "outputs": [],
   "source": [
    "import numpy as np"
   ]
  },
  {
   "cell_type": "code",
   "execution_count": 40,
   "metadata": {},
   "outputs": [],
   "source": [
    "x = np.linspace(0,1,20)\n",
    "y = x**2"
   ]
  },
  {
   "cell_type": "code",
   "execution_count": 55,
   "metadata": {},
   "outputs": [],
   "source": [
    "with open('copia.txt', 'w') as file:\n",
    "    for i in range(len(x)):\n",
    "        texto = '%020.3f\\t%.3e\\n'%(x[i], y[i])\n",
    "        file.write(texto)"
   ]
  },
  {
   "cell_type": "code",
   "execution_count": 57,
   "metadata": {},
   "outputs": [
    {
     "name": "stdout",
     "output_type": "stream",
     "text": [
      "0000000000000000.000\t0.000e+00\n",
      "0000000000000000.053\t2.770e-03\n",
      "0000000000000000.105\t1.108e-02\n",
      "0000000000000000.158\t2.493e-02\n",
      "0000000000000000.211\t4.432e-02\n",
      "0000000000000000.263\t6.925e-02\n",
      "0000000000000000.316\t9.972e-02\n",
      "0000000000000000.368\t1.357e-01\n",
      "0000000000000000.421\t1.773e-01\n",
      "0000000000000000.474\t2.244e-01\n",
      "0000000000000000.526\t2.770e-01\n",
      "0000000000000000.579\t3.352e-01\n",
      "0000000000000000.632\t3.989e-01\n",
      "0000000000000000.684\t4.681e-01\n",
      "0000000000000000.737\t5.429e-01\n",
      "0000000000000000.789\t6.233e-01\n",
      "0000000000000000.842\t7.091e-01\n",
      "0000000000000000.895\t8.006e-01\n",
      "0000000000000000.947\t8.975e-01\n",
      "0000000000000001.000\t1.000e+00\n"
     ]
    }
   ],
   "source": [
    "with open('copia.py', 'r') as file:\n",
    "    x = []\n",
    "    y = []\n",
    "    for l in file:\n",
    "        xin, yin = l.split()\n",
    "        x.append(float(xin))\n",
    "        y.append(float(yin))\n",
    "        print(l, end='')"
   ]
  },
  {
   "cell_type": "code",
   "execution_count": 59,
   "metadata": {},
   "outputs": [
    {
     "data": {
      "text/plain": [
       "[0.0,\n",
       " 0.00277,\n",
       " 0.01108,\n",
       " 0.02493,\n",
       " 0.04432,\n",
       " 0.06925,\n",
       " 0.09972,\n",
       " 0.1357,\n",
       " 0.1773,\n",
       " 0.2244,\n",
       " 0.277,\n",
       " 0.3352,\n",
       " 0.3989,\n",
       " 0.4681,\n",
       " 0.5429,\n",
       " 0.6233,\n",
       " 0.7091,\n",
       " 0.8006,\n",
       " 0.8975,\n",
       " 1.0]"
      ]
     },
     "execution_count": 59,
     "metadata": {},
     "output_type": "execute_result"
    }
   ],
   "source": [
    "y"
   ]
  },
  {
   "cell_type": "markdown",
   "metadata": {},
   "source": [
    "## HDF5"
   ]
  },
  {
   "cell_type": "markdown",
   "metadata": {},
   "source": [
    "Tomado de: https://www.geeksforgeeks.org/hdf5-files-in-python/"
   ]
  },
  {
   "cell_type": "markdown",
   "metadata": {},
   "source": [
    "Una manera más eficiente de guardar grandes cantidades de datos es con archivos binarios. Pero el formato de los archivos queda a discreción del programador. Por eso ha surgido un formato más estándar llamadoo HDF5."
   ]
  },
  {
   "cell_type": "code",
   "execution_count": 64,
   "metadata": {},
   "outputs": [],
   "source": [
    "# Primero importamos el módulo\n",
    "import h5py\n",
    "\n",
    "# Estos son los datos\n",
    "x = np.linspace(0,10,30)\n",
    "y = x**2\n",
    "\n",
    "# Ahora los grabamos a un archivo\n",
    "with h5py.File('prueba.hd5', 'w') as file:\n",
    "    datos1 = file.create_dataset('datos1', data=x)\n",
    "    datos2 = file.create_dataset('datos2', data=y)"
   ]
  },
  {
   "cell_type": "code",
   "execution_count": 66,
   "metadata": {},
   "outputs": [
    {
     "name": "stdout",
     "output_type": "stream",
     "text": [
      "0.0\n",
      "1.3793103448275863\n"
     ]
    }
   ],
   "source": [
    "with h5py.File('prueba.hd5', 'r') as file:\n",
    "    d1 = file['datos1']\n",
    "    d2 = file['datos2']\n",
    "    \n",
    "    print(min(d1))\n",
    "    print(max(d1[:5]))"
   ]
  },
  {
   "cell_type": "markdown",
   "metadata": {},
   "source": [
    "La ventaja de esto es que en realidad las variables d1 y d2 no son arreglos. Son \"punteros\" a los datos que se encuentran en el disco duro en vez de estar en la RAM. Esto ahorra espacio en RAM."
   ]
  },
  {
   "cell_type": "code",
   "execution_count": 67,
   "metadata": {},
   "outputs": [
    {
     "name": "stdout",
     "output_type": "stream",
     "text": [
      "[  1.07015458   1.90249703   2.97265161   4.28061831   5.82639715\n",
      "   7.60998811   9.6313912   11.89060642  14.38763377  17.12247325\n",
      "  20.09512485  23.30558859  26.75386445  30.43995244  34.36385256\n",
      "  38.5255648   42.92508918  47.56242568  52.43757432  57.55053508\n",
      "  62.90130797  68.48989298  74.31629013  80.38049941  86.68252081\n",
      "  93.22235434 100.        ]\n"
     ]
    }
   ],
   "source": [
    "with h5py.File('prueba.hd5', 'r') as file:\n",
    "    d1 = file['datos1']\n",
    "    d2 = file['datos2']\n",
    "    \n",
    "    d3 = d2[d1[:] > 1]\n",
    "    print(d3)"
   ]
  },
  {
   "cell_type": "markdown",
   "metadata": {},
   "source": [
    "## Generadores de números aleatorios"
   ]
  },
  {
   "cell_type": "markdown",
   "metadata": {},
   "source": [
    "Tomado completamente de:\n",
    "\n",
    "* http://users.dimi.uniud.it/~alberto.policriti/home/sites/default/files/ASD/prng-slides.pdf\n",
    "* https://www.eg.bucknell.edu/~xmeng/Course/CS6337/Note/master/node40.html\n",
    "* https://realpython.com/python-random/"
   ]
  },
  {
   "cell_type": "markdown",
   "metadata": {},
   "source": [
    "Este es un tema sumamente interesante. Se le dedican libros enteros y es crucial para las simulaciones en física y estadística. Así mismo es una parte central de la criptografía moderna. Sin embargo, yo no soy un experto y este no es el tema central del curso, así que seremos un poco superficiales."
   ]
  },
  {
   "cell_type": "markdown",
   "metadata": {},
   "source": [
    "De las siguientes dos secuencias, la segunda parece más aleatoria:\n",
    "\n",
    "* 0101010101010101010101010101010101010101\n",
    "* 0010010000111111011010101000100010000101\n",
    "\n",
    "Esto es porque parece tener menos patrones y repeticiones. En realidad es una representación del número $\\pi$."
   ]
  },
  {
   "cell_type": "markdown",
   "metadata": {},
   "source": [
    "Se pueden obtener números verdaderamente aleatorios a partir de fenómenos físicos como rayos cósmicos, decaimiento de átomos, o incluso los estados electrónicos de algunos componentes del computador. También se pueden obtener números esencialmente aleatorios contando cuántas teclas ha presionado el usuario junto con el estado de la memoria RAM y el número del proceso en el sistema operativo (todo esto es determinista pero imposible de predecir en la práctica). En Python podemos acceder a tales números \"verdaderamente\" aleatorios:"
   ]
  },
  {
   "cell_type": "code",
   "execution_count": 83,
   "metadata": {},
   "outputs": [
    {
     "data": {
      "text/plain": [
       "8"
      ]
     },
     "execution_count": 83,
     "metadata": {},
     "output_type": "execute_result"
    }
   ],
   "source": [
    "import secrets\n",
    "\n",
    "secrets.randbelow(10)"
   ]
  },
  {
   "cell_type": "code",
   "execution_count": 85,
   "metadata": {},
   "outputs": [
    {
     "data": {
      "text/plain": [
       "777487225593345690"
      ]
     },
     "execution_count": 85,
     "metadata": {},
     "output_type": "execute_result"
    }
   ],
   "source": [
    "secrets.randbits(64)"
   ]
  },
  {
   "cell_type": "code",
   "execution_count": 86,
   "metadata": {},
   "outputs": [
    {
     "data": {
      "text/plain": [
       "3"
      ]
     },
     "execution_count": 86,
     "metadata": {},
     "output_type": "execute_result"
    }
   ],
   "source": [
    "lista = [1,2,3,4,5,6]\n",
    "secrets.choice(lista)"
   ]
  },
  {
   "cell_type": "markdown",
   "metadata": {},
   "source": [
    "Sin embargo estos números aleatorios son lentos de producir. En física, nos basta con que los números \"parezcan\" aleatorios. Es decir, que tenga buenas propiedades estadísticas y que no sea predecible."
   ]
  },
  {
   "cell_type": "markdown",
   "metadata": {},
   "source": [
    "Por ejemplo, pedimos que la variable aleatoria $x_i \\in [0,N]$ esté distribuida de manera uniforme. Es decir, si tomo $n$ muestras, y divido el intervalo $[0,N]$ en $m$ subintervalos, en promedio cada subintervalo contiene $n/m$ muestras."
   ]
  },
  {
   "cell_type": "markdown",
   "metadata": {},
   "source": [
    "Definir la ausencia de patrones es más difícil. Podemos pedir que maximice la entropía de Shannon:\n",
    "\n",
    "$$\n",
    "H(\\{x_i\\}) = -\\sum_{i} f_i \\log_2(f_i)\n",
    "$$\n",
    "\n",
    "donde $f_i$ es la frecuencia de cada dato $x_i$. Esta entropía es máxima cuando la distribución es uniforme (todos los $f_i$ son iguales). Por lo tanto podemos pedir que la entropía sea lo más grande posible.\n",
    "\n",
    "Por otra parte se puede definir la ausencia de patrones como una maximización de la complejidad de Kolmogorov de la secuencia. Esta se define como el programa más corto que puede generar esa secuencia. El problema es que esta es imposible de calcular en general. Una definición más pragmática es que al intentar de comprimir la secuencia, ésta no se reduzca de tamaño en el disco."
   ]
  },
  {
   "cell_type": "markdown",
   "metadata": {},
   "source": [
    "A los números que no son aleatorios pero parecen aleatorios se los llama números pseudo-aleatorios. Para generarlos se usan funciones que no tengan patrones fáciles de discernir y que sean caóticas (para condiciones iniciales cercanas producen secuencias muy diferentes)."
   ]
  },
  {
   "cell_type": "markdown",
   "metadata": {},
   "source": [
    "El punto en la secuencia se llama el \"estado\". Como el número de bits es finito, el \"estado\" tarde o temprano se repite. Las secuencias de números aleatorios tienen un período. Queremos que ese período sea lo más largo posible."
   ]
  },
  {
   "cell_type": "markdown",
   "metadata": {},
   "source": [
    "Ejemplo sencillo: Generadores de congruencia lineal.\n",
    "\n",
    "$$\n",
    "x_{n+1} = (a x_n + c)\\mod(m)\n",
    "$$"
   ]
  },
  {
   "cell_type": "code",
   "execution_count": 325,
   "metadata": {},
   "outputs": [],
   "source": [
    "# función (muy mala) que implementa el generador de congruencia lineal\n",
    "def lcg():\n",
    "    \n",
    "    # Variables que definen el generador\n",
    "    a = 7 # intentar todos los números de 2 a 9\n",
    "    c = 0\n",
    "    m = 11 # intentar 10 y 11, ojalá grande para dar un período grande\n",
    "    \n",
    "    # Esto intenta ejecutar un pedazo de código, y si encuentra un error\n",
    "    # ejecuta lo que hay luego de \"except\"\n",
    "    try:\n",
    "        # queremos que el estado no se borre cuando la función termine,\n",
    "        # de esa manera logramos que la función nos de el siguiente valor\n",
    "        # en la secuencia.\n",
    "        lcg.xn = (a*lcg.xn + c)%m\n",
    "    except(AttributeError):\n",
    "        # Habrá un error cuando lcg.xn no tenga un valor\n",
    "        print('Error: No se ha fijado la semilla.')\n",
    "        return\n",
    "        \n",
    "    return lcg.xn\n"
   ]
  },
  {
   "cell_type": "code",
   "execution_count": 326,
   "metadata": {},
   "outputs": [
    {
     "data": {
      "text/plain": [
       "7"
      ]
     },
     "execution_count": 326,
     "metadata": {},
     "output_type": "execute_result"
    }
   ],
   "source": [
    "lcg.xn = 1\n",
    "\n",
    "lcg()"
   ]
  },
  {
   "cell_type": "code",
   "execution_count": 327,
   "metadata": {},
   "outputs": [
    {
     "data": {
      "text/plain": [
       "<matplotlib.collections.PathCollection at 0x122e96d90>"
      ]
     },
     "execution_count": 327,
     "metadata": {},
     "output_type": "execute_result"
    },
    {
     "data": {
      "image/png": "[encoded data removed]",
      "text/plain": [
       "<Figure size 432x288 with 1 Axes>"
      ]
     },
     "metadata": {
      "needs_background": "light"
     },
     "output_type": "display_data"
    }
   ],
   "source": [
    "lcg.xn = 4\n",
    "num = 100\n",
    "aleatorios = [lcg() for i in range(num)]\n",
    "plt.scatter(range(num), aleatorios)"
   ]
  },
  {
   "cell_type": "code",
   "execution_count": 320,
   "metadata": {},
   "outputs": [],
   "source": [
    "# función (mala) que implementa el generador de congruencia lineal\n",
    "def lcg():\n",
    "    \n",
    "    # Variables que definen el generador\n",
    "    a = 7**5\n",
    "    c = 0\n",
    "    m = 2**31 - 1   # si es primo es más fácil obtener períodos grandes\n",
    "    \n",
    "    # Esto intenta ejecutar un pedazo de código, y si encuentra un error\n",
    "    # ejecuta lo que hay luego de \"except\"\n",
    "    try:\n",
    "        # queremos que el estado no se borre cuando la función termine,\n",
    "        # de esa manera logramos que la función nos de el siguiente valor\n",
    "        # en la secuencia.\n",
    "        lcg.xn = (a*lcg.xn + c)%m\n",
    "    except(AttributeError):\n",
    "        # Habrá un error cuando lcg.xn no tenga un valor\n",
    "        print('Error: No se ha fijado la semilla.')\n",
    "        return\n",
    "        \n",
    "    return lcg.xn%10 + 1\n"
   ]
  },
  {
   "cell_type": "code",
   "execution_count": 323,
   "metadata": {},
   "outputs": [
    {
     "data": {
      "text/plain": [
       "<matplotlib.collections.PathCollection at 0x122cff3d0>"
      ]
     },
     "execution_count": 323,
     "metadata": {},
     "output_type": "execute_result"
    },
    {
     "data": {
      "image/png": "[encoded data removed]",
      "text/plain": [
       "<Figure size 432x288 with 1 Axes>"
      ]
     },
     "metadata": {
      "needs_background": "light"
     },
     "output_type": "display_data"
    }
   ],
   "source": [
    "lcg.xn = 321\n",
    "num = 100\n",
    "aleatorios = [lcg() for i in range(num)]\n",
    "plt.scatter(range(num), aleatorios)"
   ]
  },
  {
   "cell_type": "markdown",
   "metadata": {},
   "source": [
    "Además, cuando se grafican las tuplas $(x_n, x_{n+1},\\dots, x_{n + k})$, todos los puntos yacen en $k - 1$ planos. Esto hace predecible la secuencia y no muy aleatoria."
   ]
  },
  {
   "cell_type": "markdown",
   "metadata": {},
   "source": [
    "Moraleja: **No programar su propio generador aleatorio**, si hay que hacerlo leer antes un libro dedicado a ello."
   ]
  },
  {
   "cell_type": "markdown",
   "metadata": {},
   "source": [
    "Python usa un algoritmo más sofisticado llamado \"Marsenne twister\". En cambio la librería estándar de C implementa un LCG."
   ]
  },
  {
   "cell_type": "code",
   "execution_count": 216,
   "metadata": {},
   "outputs": [],
   "source": [
    "import random"
   ]
  },
  {
   "cell_type": "code",
   "execution_count": 217,
   "metadata": {},
   "outputs": [
    {
     "data": {
      "text/plain": [
       "57"
      ]
     },
     "execution_count": 217,
     "metadata": {},
     "output_type": "execute_result"
    }
   ],
   "source": [
    "random.randint(1,100)"
   ]
  },
  {
   "cell_type": "code",
   "execution_count": 220,
   "metadata": {},
   "outputs": [
    {
     "data": {
      "text/plain": [
       "['d', 'a', 'b', 'c']"
      ]
     },
     "execution_count": 220,
     "metadata": {},
     "output_type": "execute_result"
    }
   ],
   "source": [
    "lista = ['a', 'b', 'c', 'd']\n",
    "random.shuffle(lista)\n",
    "lista"
   ]
  },
  {
   "cell_type": "code",
   "execution_count": 311,
   "metadata": {},
   "outputs": [
    {
     "data": {
      "text/plain": [
       "<matplotlib.collections.PathCollection at 0x12209ac10>"
      ]
     },
     "execution_count": 311,
     "metadata": {},
     "output_type": "execute_result"
    },
    {
     "data": {
      "image/png": "[encoded data removed]",
      "text/plain": [
       "<Figure size 432x288 with 1 Axes>"
      ]
     },
     "metadata": {
      "needs_background": "light"
     },
     "output_type": "display_data"
    }
   ],
   "source": [
    "num = 10000\n",
    "plt.scatter(range(num), np.random.random(num))"
   ]
  },
  {
   "cell_type": "code",
   "execution_count": 319,
   "metadata": {
    "scrolled": true
   },
   "outputs": [
    {
     "data": {
      "text/plain": [
       "<matplotlib.collections.PathCollection at 0x122a61dd0>"
      ]
     },
     "execution_count": 319,
     "metadata": {},
     "output_type": "execute_result"
    },
    {
     "data": {
      "image/png": "[encoded data removed]",
      "text/plain": [
       "<Figure size 432x288 with 1 Axes>"
      ]
     },
     "metadata": {
      "needs_background": "light"
     },
     "output_type": "display_data"
    }
   ],
   "source": [
    "num = 10000\n",
    "plt.scatter(range(num), np.random.randint(10, size=num) + 1)"
   ]
  },
  {
   "cell_type": "markdown",
   "metadata": {},
   "source": [
    "## Tareas"
   ]
  },
  {
   "cell_type": "markdown",
   "metadata": {},
   "source": [
    "### Tarea 4.6"
   ]
  },
  {
   "cell_type": "markdown",
   "metadata": {},
   "source": [
    "Escriba un código que lea un archivo de texto (.txt conteniendo por ejemplo un cuento breve) y lo guarde en otro archivo de texto pero con todas las palabras en una sola línea."
   ]
  },
  {
   "cell_type": "markdown",
   "metadata": {},
   "source": [
    "### Tarea 4.7"
   ]
  },
  {
   "cell_type": "markdown",
   "metadata": {},
   "source": [
    "Escriba una función dado(n) que simule lanzar un dado de $n$ caras. Corra la función 1000 veces para un dado de 6 caras y guarde los resultados en un archivo .hd5"
   ]
  },
  {
   "cell_type": "markdown",
   "metadata": {},
   "source": [
    "### Tarea 4.8"
   ]
  },
  {
   "cell_type": "markdown",
   "metadata": {},
   "source": [
    "Un colega le entrega a usted archivos de texto con los resultados de una simulación (simulacion.txt). Este archivo contiene tres columnas separadas por espacios tal que cada fila es un dato y las tres columnas son tres propiedades simuladas de ese dato. \n",
    "\n",
    "Escriba una función que lea ese archivo de texto y lo vuelva a guardar en un archivo simulacion.hd5 con tres datasets correspondientes a las tres propiedades de cada dato.\n",
    "\n",
    "Como usted quiere reutilizar esta función para cualquier otro archivo con tres columnas, la función debe tomar el nombre del archivo de texto y el nombre deseado para el nuevo archivo hd5 como argumentos.\n",
    "\n",
    "El archivo simulacion.txt contiene por ejemplo lo siguiente:"
   ]
  },
  {
   "cell_type": "raw",
   "metadata": {},
   "source": [
    "3.141590000000000094e-03 2.557680595776000416e+02 4.501400409434224770e+01 \n",
    "6.283180000000000189e-03 3.752818426478838205e+02 2.947770471609068110e+01 \n",
    "9.424770000000000716e-03 4.246697882492646841e+02 2.843524433400840579e+01 \n",
    "1.256636000000000038e-02 4.676325636948347437e+02 2.576223788106328882e+01 \n",
    "1.570795000000000177e-02 4.820912691815412359e+02 1.530261598082400276e+01 \n",
    "1.884954000000000143e-02 4.337667969674867550e+02 1.450243036000263963e+01 \n",
    "2.199113000000000109e-02 4.299064323187142804e+02 7.689521175184014012e+00 \n",
    "2.513272000000000075e-02 3.840742743415148084e+02 5.880658615460115257e+00 \n",
    "2.827431000000000041e-02 3.464876766126099596e+02 5.062040746246734280e+00 "
   ]
  },
  {
   "cell_type": "markdown",
   "metadata": {},
   "source": [
    "### Tarea 4.9"
   ]
  },
  {
   "cell_type": "markdown",
   "metadata": {},
   "source": [
    "Escriba un código que le asigne tareas a los estudiantes. La lista de 20 estudiantes está en un archivo estudiantes.txt. Hay un nombre de estudiante por línea. Su código debe asignarle a cada estudiante un número entre 1 y 10 que corresponde a la tarea que debe resolver. La distribución de tareas debe ser aleatoria pero cada número debe aparecer exactamente dos veces en la lista.\n",
    "\n",
    "El código debe producir un archivo con dos columnas llamado \"tarea.txt\", la primera columna contiene el nombre del estudiante y la segunda columna contiene la tarea asignada."
   ]
  },
  {
   "cell_type": "markdown",
   "metadata": {},
   "source": [
    "### Tarea 4.10"
   ]
  },
  {
   "cell_type": "markdown",
   "metadata": {},
   "source": [
    "Un colega le pasa a usted un archivo .hd5 que contiene tres \"datasets\" 'x', 'y', 'e'. Todos los datasets tienen la misma longitud y el i-ésimo elemento de cada dataset corresponde a una propiedad diferente del i-ésimo dato.\n",
    "\n",
    "Escriba una función que grafique esos resultados donde 'x' es el eje horizontal, 'y' el eje vertical y 'e' son las barras de error de 'y'.\n",
    "\n",
    "CUIDADO: Recuerde que el dataset es un puntero y deja de existir cuando se cierra el archivo."
   ]
  }
 ],
 "metadata": {
  "kernelspec": {
   "display_name": "Python 3",
   "language": "python",
   "name": "python3"
  },
  "language_info": {
   "codemirror_mode": {
    "name": "ipython",
    "version": 3
   },
   "file_extension": ".py",
   "mimetype": "text/x-python",
   "name": "python",
   "nbconvert_exporter": "python",
   "pygments_lexer": "ipython3",
   "version": "3.7.7"
  }
 },
 "nbformat": 4,
 "nbformat_minor": 4
}
