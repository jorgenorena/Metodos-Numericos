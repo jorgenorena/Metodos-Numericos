{
 "cells": [
  {
   "cell_type": "markdown",
   "metadata": {},
   "source": [
    "# Clase 24: Ajuste de mínimos cuadrados"
   ]
  },
  {
   "cell_type": "code",
   "execution_count": 1,
   "metadata": {},
   "outputs": [],
   "source": [
    "import numpy as np\n",
    "import matplotlib.pyplot as plt"
   ]
  },
  {
   "cell_type": "markdown",
   "metadata": {},
   "source": [
    "Vimos los métodos de interpolación para los cuales se exige que un polinomio pase por una serie de puntos $(x_o, y_o), ..., (x_n, y_n)$. Pero hay dos situaciones en las que esto no es práctico:"
   ]
  },
  {
   "cell_type": "markdown",
   "metadata": {},
   "source": [
    "Cuando los datos vienen de una medición, las mediciones vienen con un error, y hacer una interpolación de alto orden puede conllevar a oscilaciones. Además, como veremos la próxima clase, usar demasiados parámetros libres para ajustar datos experimentales es errado desde un punto de vista estadístico."
   ]
  },
  {
   "cell_type": "code",
   "execution_count": 2,
   "metadata": {},
   "outputs": [],
   "source": [
    "x = np.linspace(0, 1, 10)\n",
    "func = x**2\n",
    "n = np.random.normal(0, 0.02, 10)\n",
    "med = func + n"
   ]
  },
  {
   "cell_type": "code",
   "execution_count": 3,
   "metadata": {},
   "outputs": [
    {
     "data": {
      "text/plain": [
       "<matplotlib.collections.PathCollection at 0x11aa19610>"
      ]
     },
     "execution_count": 3,
     "metadata": {},
     "output_type": "execute_result"
    },
    {
     "data": {
      "image/png": "[encoded data removed]",
      "text/plain": [
       "<Figure size 432x288 with 1 Axes>"
      ]
     },
     "metadata": {
      "needs_background": "light"
     },
     "output_type": "display_data"
    }
   ],
   "source": [
    "plt.scatter(x, med)"
   ]
  },
  {
   "cell_type": "code",
   "execution_count": 4,
   "metadata": {},
   "outputs": [],
   "source": [
    "def difer(puntos):\n",
    "    \n",
    "    n = len(puntos) - 1\n",
    "    Fs = [np.zeros(n + 1)]\n",
    "    for i in range(n + 1):\n",
    "        Fs[0][i] = puntos[i][1]\n",
    "    for i in range(1, n + 1):\n",
    "        Fs.append(np.zeros(n + 1 - i))\n",
    "        for j in range(1, i + 1):\n",
    "            Fs[j][i-j] = (Fs[j-1][i-j+1] - Fs[j-1][i-j])/(puntos[i][0] - puntos[i-j][0])\n",
    "    \n",
    "    return [Fs[i][0] for i in range(n + 1)]\n",
    "\n",
    "def poly(x, coefs, puntos):\n",
    "    return sum(coefs[n]*np.prod([(x - puntos[i,0]) for i in range(n)]) for n in range(len(coefs)))"
   ]
  },
  {
   "cell_type": "code",
   "execution_count": 5,
   "metadata": {
    "scrolled": true
   },
   "outputs": [],
   "source": [
    "puntos  = np.array(list(zip(x, med)))\n",
    "coefs = difer(puntos)"
   ]
  },
  {
   "cell_type": "code",
   "execution_count": 6,
   "metadata": {
    "scrolled": true
   },
   "outputs": [
    {
     "data": {
      "text/plain": [
       "<matplotlib.collections.PathCollection at 0x11aa7d710>"
      ]
     },
     "execution_count": 6,
     "metadata": {},
     "output_type": "execute_result"
    },
    {
     "data": {
      "image/png": "[encoded data removed]",
      "text/plain": [
       "<Figure size 432x288 with 1 Axes>"
      ]
     },
     "metadata": {
      "needs_background": "light"
     },
     "output_type": "display_data"
    }
   ],
   "source": [
    "x = np.linspace(0, 1, 100)\n",
    "plt.plot(x, [poly(xi, coefs, puntos) for xi in x])\n",
    "plt.scatter(puntos[:,0], puntos[:,1], color='red')"
   ]
  },
  {
   "cell_type": "code",
   "execution_count": 7,
   "metadata": {},
   "outputs": [
    {
     "data": {
      "text/plain": [
       "[-0.007215843727261753,\n",
       " 0.24297330113920518,\n",
       " 0.9403939674077513,\n",
       " -7.942544859679486,\n",
       " 56.81352997807232,\n",
       " -213.32450177285372,\n",
       " 548.4559285104664,\n",
       " -1109.8262404728075,\n",
       " 1958.1568946774742,\n",
       " -3144.434478132942]"
      ]
     },
     "execution_count": 7,
     "metadata": {},
     "output_type": "execute_result"
    }
   ],
   "source": [
    "coefs"
   ]
  },
  {
   "cell_type": "markdown",
   "metadata": {},
   "source": [
    "Como vemos, el polinomio de alto orden no es un buen ajuste a estos datos. Y de hecho vemos que tiene coeficientes relativamente grandes hasta de orden 10, cuando sabemos que los datos son una parábola. Podríamos interpolar entre cada par de puntos usando una spline, pero entonces no podemos recuperar el modelo a partir de los datos.\n",
    "\n",
    "Adicionalmente, tenemos 10 coeficientes para 10 puntos de datos. Siempre es posible ajustar un número de coeficientes igual al número de datos pero esto tiende a inducir las oscilaciones que vemos arriba, a esto se lo llama \"overfitting\" o sobreajuste. \n",
    "\n",
    "Surge entonces una pregunta: ¿Cuál es el mejor polinomio de orden más bajo que se ajusta a los datos? Es decir, queremos que ese polinomio se \"acerque lo más posible a los datos\". Adicionalmente, ¿qué criterio debemos usar para decidir si es un buen ajuste?"
   ]
  },
  {
   "cell_type": "markdown",
   "metadata": {},
   "source": [
    "El segundo motivo es méramente práctico. Tal vez queremos encontrar un polinomio que aproxime una función en muchos puntos y no sólo en un cierto conjunto determinado, veamos:"
   ]
  },
  {
   "cell_type": "code",
   "execution_count": 8,
   "metadata": {},
   "outputs": [],
   "source": [
    "def f(x):\n",
    "    return 20*x*np.exp(-5*x) + np.sin(x)"
   ]
  },
  {
   "cell_type": "code",
   "execution_count": 9,
   "metadata": {},
   "outputs": [],
   "source": [
    "xp = np.linspace(0, 5, 10)\n",
    "puntos  = np.array(list(zip(xp, f(xp))))\n",
    "coefs = difer(puntos)"
   ]
  },
  {
   "cell_type": "code",
   "execution_count": 11,
   "metadata": {
    "scrolled": true
   },
   "outputs": [
    {
     "data": {
      "text/plain": [
       "<matplotlib.collections.PathCollection at 0x11abbb210>"
      ]
     },
     "execution_count": 11,
     "metadata": {},
     "output_type": "execute_result"
    },
    {
     "data": {
      "image/png": "[encoded data removed]",
      "text/plain": [
       "<Figure size 432x288 with 1 Axes>"
      ]
     },
     "metadata": {
      "needs_background": "light"
     },
     "output_type": "display_data"
    }
   ],
   "source": [
    "x = np.linspace(0, 5, 100)\n",
    "plt.plot(x, [poly(xi, coefs, puntos) for xi in x])\n",
    "plt.plot(x, f(x))\n",
    "plt.scatter(puntos[:,0], puntos[:,1], color='red')"
   ]
  },
  {
   "cell_type": "markdown",
   "metadata": {},
   "source": [
    "¿Podemos encontrar una función interpolante que se aproxime a la función completa?"
   ]
  },
  {
   "cell_type": "markdown",
   "metadata": {},
   "source": [
    "## Ajuste de mínimos cuadrados"
   ]
  },
  {
   "cell_type": "markdown",
   "metadata": {},
   "source": [
    "La respuesta a ambas preguntas tiene que ver con el ajuste de mínimos cuadrados. Consideremos primero el caso de las mediciones."
   ]
  },
  {
   "cell_type": "markdown",
   "metadata": {},
   "source": [
    "Supongamos que tenemos un modelo, que depende de varios parámetros libres (que queremos medir) $f(\\vec{\\theta}; x)$ donde $\\vec{\\theta} = (\\theta_1,...,\\theta_n)$ son los parámetros libres.\n",
    "\n",
    "Nuestros datos consisten de varios puntos $(x_o, \\hat{y}_o), ..., (x_m, \\hat{y}_m)$ tal que $f(\\vec{\\theta}; x) = y$. Sin embargo los datos $\\hat{y}$ contienen un error de medición $\\hat{y}_i = y_i + \\sigma_i$, y tenemos que tomarlo en cuenta a la hora de encontrar los parámetros $\\theta$.\n",
    "\n",
    "Si el error es gaussiano, la probabilidad de obtener un cierto valor $\\hat{y}_i$ es proporcional a\n",
    "\n",
    "$$\n",
    "P(\\hat{y}_i) \\propto \\exp\\left({-(\\hat{y}_i - y_i)^2/\\sigma_i}\\right)\n",
    "$$\n",
    "\n",
    "Si todos los datos son independientes, la probabilidad de obtener el conjunto de datos total será entonces la multiplicación de probabilidades, proporcional a\n",
    "\n",
    "$$\n",
    "P(\\hat{y}) \\propto \\exp\\left(-\\sum_i(\\hat{y}_i - y_i)^2/\\sigma_i\\right)\n",
    "$$\n",
    "\n",
    "pero en realidad esta probabilidad no la conocemos a-priori porque no conocemos los verdaderos valores $y_i$. Uno podría usar el modelo y escribir\n",
    "\n",
    "$$\n",
    "P(\\hat{y} | \\vec{\\theta}) \\propto \\exp\\left\\{-\\sum_i\\left[\\hat{y}_i - f(\\vec{\\theta};x_i)\\right]^2/\\sigma_i\\right\\}\n",
    "$$\n",
    "\n",
    "A esta se la llama función de verosimilitud (likelihood).\n",
    "\n",
    "En realidad lo que queremos es lo contrario: La probabilidad de que el verdadero valor de los parámetros sea $\\tilde{\\theta}$ dadas las mediciones (las mediciones las tenemos, los parámetros los queremos obtener). Esto se puede lograr usando el teorema de Bayes\n",
    "\n",
    "$$\n",
    "P(\\vec{\\theta}|\\hat{y}) = \\frac{P(\\hat{y} | \\vec{\\theta}) P(\\vec{\\theta})}{P(\\hat{y})}\n",
    "$$\n",
    "\n",
    "Si asumimos que $P(\\vec{\\theta})$ es una función constante (a-priori cualquier valor es igualmente probable), entonces el conjunto de parámetros que maximiza $P(\\vec{\\theta}|\\hat{y})$ es el que maximiza $P(\\vec{\\theta}|\\hat{y})$. Entonces esto se reduce a minimizar la función\n",
    "\n",
    "$$\n",
    "\\chi^2 \\equiv \\sum_i\\frac{\\left[\\hat{y}_i - f(\\vec{\\theta};x_i)\\right]^2}{\\sigma_i}\n",
    "$$\n",
    "\n",
    "Si todos los errores son iguales $\\sigma_i = \\sigma$ entonces esto se reduce a minimizar la suma de los cuadrados\n",
    "\n",
    "$$\n",
    "E(\\vec{\\theta}) = \\sum_i\\left[\\hat{y}_i - f(\\vec{\\theta};x_i)\\right]^2\n",
    "$$"
   ]
  },
  {
   "cell_type": "markdown",
   "metadata": {},
   "source": [
    "Podemos por ejemplo hacer un ajuste de una recta $f(a_o, a_1; x) = a_o + a_1 x$ y entonces\n",
    "\n",
    "$$\n",
    "E(a_o, a_1) =  \\sum_i\\left[\\hat{y}_i - (a_o + a_1 x_i)\\right]^2 = \\sum_i \\hat{y}_i^2 - 2\\sum_i (a_o + a_1 x_i)\\hat{y}_i + \\sum_i (a_o + a_1 x_i)^2\n",
    "$$\n",
    "\n",
    "El mínimo cumplirá que la derivada respecto a los parámetros es cero\n",
    "\n",
    "$$\n",
    "\\begin{align}\n",
    "\\frac{\\partial}{\\partial a_o} E(a_o, a_1) &=  -2\\sum_i \\hat{y}_i + 2\\sum_i (a_o + a_1 x_i) \\\\\n",
    "\\frac{\\partial}{\\partial a_1} E(a_o, a_1) &=  -2\\sum_i \\hat{y}_i x_i + 2\\sum_i x_i (a_o + a_1 x_i)\n",
    "\\end{align}\n",
    "$$\n",
    "\n",
    "Entonces el problema se reduce a resolver el sistema de ecuaciones\n",
    "\n",
    "$$\n",
    "\\begin{align}\n",
    "m a_o + \\alpha_1 a_1 &= \\beta_1\\\\\n",
    "\\alpha_1 a_o + \\alpha_2 a_1 &= \\beta_2\n",
    "\\end{align}\n",
    "$$\n",
    "\n",
    "con\n",
    "\n",
    "$$\n",
    "\\alpha_1 = \\sum_i x_i\\,, \\quad \\alpha_2 = \\sum_i x_i^2\\,,\\quad \\beta_1 = \\sum_i y_i\\,,\\quad \\beta_2 = \\sum_i y_i x_i\\,.\n",
    "$$\n",
    "\n",
    "de donde deducimos\n",
    "\n",
    "$$\n",
    "\\begin{align}\n",
    "a_o &= \\frac{\\alpha_2\\beta_1 - \\alpha_1\\beta_2}{m\\alpha_2 - \\alpha_1^2} \\\\\n",
    "a_1 &= \\frac{m\\beta_2 - \\alpha_1 \\beta_1}{m\\alpha_2 - \\alpha_1^2 }\n",
    "\\end{align}\n",
    "$$"
   ]
  },
  {
   "cell_type": "code",
   "execution_count": 15,
   "metadata": {},
   "outputs": [],
   "source": [
    "def lin_fit(puntos):\n",
    "    \n",
    "    alpha1 = sum(puntos[:,0])\n",
    "    alpha2 = sum(puntos[:,0]**2)\n",
    "    beta1 = sum(puntos[:,1])\n",
    "    beta2 = sum(puntos[:,1]*puntos[:,0])\n",
    "    m = len(puntos)\n",
    "    \n",
    "    ao = (alpha2*beta1 - alpha1*beta2)/(m*alpha2 - alpha1**2)\n",
    "    a1 = (m*beta2 - alpha1*beta1)/(m*alpha2 - alpha1**2)\n",
    "    \n",
    "    return ao, a1"
   ]
  },
  {
   "cell_type": "code",
   "execution_count": 16,
   "metadata": {},
   "outputs": [],
   "source": [
    "err = 0.02\n",
    "x = np.linspace(0, 1, 10)\n",
    "func = x**2\n",
    "n = np.random.normal(0, err, 10)\n",
    "med = func + n"
   ]
  },
  {
   "cell_type": "code",
   "execution_count": 17,
   "metadata": {},
   "outputs": [],
   "source": [
    "x = np.linspace(0, 1, 10)\n",
    "puntos  = np.array(list(zip(x, med)))\n",
    "ao, a1 = lin_fit(puntos)"
   ]
  },
  {
   "cell_type": "code",
   "execution_count": 18,
   "metadata": {},
   "outputs": [
    {
     "data": {
      "text/plain": [
       "<ErrorbarContainer object of 3 artists>"
      ]
     },
     "execution_count": 18,
     "metadata": {},
     "output_type": "execute_result"
    },
    {
     "data": {
      "image/png": "[encoded data removed]",
      "text/plain": [
       "<Figure size 432x288 with 1 Axes>"
      ]
     },
     "metadata": {
      "needs_background": "light"
     },
     "output_type": "display_data"
    }
   ],
   "source": [
    "x = np.linspace(0, 1, 100)\n",
    "plt.plot(x, ao + a1*x)\n",
    "plt.errorbar(puntos[:,0], puntos[:,1], yerr=err , color='black', linestyle='None')"
   ]
  },
  {
   "cell_type": "markdown",
   "metadata": {},
   "source": [
    "Análogamente si queremos ajustar una parábola\n",
    "\n",
    "$$\n",
    "\\begin{align}\n",
    "\\frac{\\partial}{\\partial a_o} E(a_o, a_1, a_2) &=  -2\\sum_i \\hat{y}_i + 2\\sum_i (a_o + a_1 x_i + a_2 x_i^2) \\\\\n",
    "\\frac{\\partial}{\\partial a_1} E(a_o, a_1, a_2) &=  -2\\sum_i \\hat{y}_i x_i + 2\\sum_i x_i (a_o + a_1 x_i + a_2 x_i^2) \\\\\n",
    "\\frac{\\partial}{\\partial a_2} E(a_o, a_1, a_2) &=  -2\\sum_i \\hat{y}_i x_i^2 + 2\\sum_i x_i^2 (a_o + a_1 x_i + a_2 x_i^2)\n",
    "\\end{align}\n",
    "$$\n",
    "\n",
    "Entonces el problema se reduce a resolver el sistema de ecuaciones\n",
    "\n",
    "$$\n",
    "\\begin{align}\n",
    "m a_o + \\alpha_1 a_1 + \\alpha_2 a_2 &= \\beta_1\\\\\n",
    "\\alpha_1 a_o + \\alpha_2 a_1 + \\alpha_3 a_2 &= \\beta_2 \\\\\n",
    "\\alpha_2 a_o + \\alpha_3 a_1 + \\alpha_4 a_2 &= \\beta_3\n",
    "\\end{align}\n",
    "$$\n",
    "\n",
    "con\n",
    "\n",
    "$$\n",
    "\\alpha_p = \\sum_i x_i^p\\,,\\quad \\beta_p = \\sum_i y_i x_i^{(p - 1)}\\,.\n",
    "$$\n",
    "\n",
    "de donde deducimos\n",
    "\n",
    "$$\n",
    "\\begin{align}\n",
    "a_o &= -\\frac{\\alpha_1 \\alpha_3 \\beta_3-\\alpha_1\\alpha_4 \\beta_2+\\alpha_2^2 (-\\beta_3)+\\alpha_2 \\alpha_3 \\beta_2+\\alpha_2\\alpha_4 \\beta_1-\\alpha_3^2 \\beta_1}{\\alpha_1^2 \\alpha_4-2 \\alpha_1 \\alpha_2 \\alpha_3+\\alpha_2^3-\\alpha_2 \\alpha_4 m+\\alpha_3^2 m} \\\\\n",
    "a_1 &= -\\frac{\\alpha_1 \\alpha_2 \\beta_3-\\alpha_1\\alpha_4 \\beta_1+\\alpha_2^2 (-\\beta_2)+\\alpha_2 \\alpha_3 \\beta_1-\\alpha_3\\beta_3 m+\\alpha_4 \\beta_2 m}{\\alpha_1^2\\alpha_4-2 \\alpha_1 \\alpha_2 \\alpha_3+\\alpha_2^3-\\alpha_2 \\alpha_4 m+\\alpha_3^2 m}\\\\\n",
    "a_2 &= -\\frac{\\alpha_1^2 (-\\beta_3)+\\alpha_1 \\alpha_2\\beta_2+\\alpha_1 \\alpha_3 \\beta_1- \\alpha_2^2 \\beta_1+\\alpha_2 \\beta_3 m-\\alpha_3\\beta_2 m}{\\alpha_1^2 \\alpha_4-2 \\alpha_1\\alpha_2 \\alpha_3+\\alpha_2^3-\\alpha_2\\alpha_4 m+\\alpha_3^2 m}\n",
    "\\end{align}\n",
    "$$"
   ]
  },
  {
   "cell_type": "code",
   "execution_count": 19,
   "metadata": {},
   "outputs": [],
   "source": [
    "def quad_fit(puntos):\n",
    "    \n",
    "    alpha1 = sum(puntos[:,0])\n",
    "    alpha2 = sum(puntos[:,0]**2)\n",
    "    alpha3 = sum(puntos[:,0]**3)\n",
    "    alpha4 = sum(puntos[:,0]**4)\n",
    "    beta1 = sum(puntos[:,1])\n",
    "    beta2 = sum(puntos[:,1]*puntos[:,0])\n",
    "    beta3= sum(puntos[:,1]*puntos[:,0]**2)\n",
    "    m = len(puntos)\n",
    "    \n",
    "    ao = -((-((alpha3)**2*beta1) + alpha2*alpha4*beta1 + alpha2*alpha3*beta2 \\\n",
    "            - alpha1*alpha4*beta2 - (alpha2)**2*beta3 + alpha1*alpha3*beta3)\\\n",
    "           /((alpha2)**3 - 2*alpha1*alpha2*alpha3 + (alpha1)**2*alpha4 \\\n",
    "             + (alpha3)**2*m - alpha2*alpha4*m))\n",
    "    a1 = -((alpha2*alpha3*beta1 - alpha1*alpha4*beta1 - (alpha2)**2*beta2 \\\n",
    "            + alpha1*alpha2*beta3 + alpha4*beta2*m - alpha3*beta3*m)\\\n",
    "           /((alpha2)**3 - 2*alpha1*alpha2*alpha3 + (alpha1)**2*alpha4 \\\n",
    "             + (alpha3)**2*m - alpha2*alpha4*m))\n",
    "    a2 = -((-((alpha2)**2*beta1) + alpha1*alpha3*beta1 + alpha1*alpha2*beta2 \\\n",
    "            - (alpha1)**2*beta3 - alpha3*beta2*m + alpha2*beta3*m)\\\n",
    "           /((alpha2)**3 - 2*alpha1*alpha2*alpha3 + (alpha1)**2*alpha4 \\\n",
    "             + (alpha3)**2*m - alpha2*alpha4*m))\n",
    "    \n",
    "    return ao, a1, a2"
   ]
  },
  {
   "cell_type": "code",
   "execution_count": 20,
   "metadata": {},
   "outputs": [],
   "source": [
    "ao, a1, a2 = quad_fit(puntos)"
   ]
  },
  {
   "cell_type": "code",
   "execution_count": 21,
   "metadata": {},
   "outputs": [
    {
     "data": {
      "text/plain": [
       "<ErrorbarContainer object of 3 artists>"
      ]
     },
     "execution_count": 21,
     "metadata": {},
     "output_type": "execute_result"
    },
    {
     "data": {
      "image/png": "[encoded data removed]",
      "text/plain": [
       "<Figure size 432x288 with 1 Axes>"
      ]
     },
     "metadata": {
      "needs_background": "light"
     },
     "output_type": "display_data"
    }
   ],
   "source": [
    "x = np.linspace(0, 1, 100)\n",
    "plt.plot(x, ao + a1*x + a2*x**2)\n",
    "plt.errorbar(puntos[:,0], puntos[:,1], yerr=err , color='black', linestyle='None')"
   ]
  },
  {
   "cell_type": "code",
   "execution_count": 22,
   "metadata": {},
   "outputs": [
    {
     "data": {
      "text/plain": [
       "-0.009473129812439562"
      ]
     },
     "execution_count": 22,
     "metadata": {},
     "output_type": "execute_result"
    }
   ],
   "source": [
    "ao"
   ]
  },
  {
   "cell_type": "code",
   "execution_count": 23,
   "metadata": {},
   "outputs": [
    {
     "data": {
      "text/plain": [
       "-0.005464687685901462"
      ]
     },
     "execution_count": 23,
     "metadata": {},
     "output_type": "execute_result"
    }
   ],
   "source": [
    "a1"
   ]
  },
  {
   "cell_type": "code",
   "execution_count": 24,
   "metadata": {},
   "outputs": [
    {
     "data": {
      "text/plain": [
       "1.0300528107709659"
      ]
     },
     "execution_count": 24,
     "metadata": {},
     "output_type": "execute_result"
    }
   ],
   "source": [
    "a2"
   ]
  },
  {
   "cell_type": "markdown",
   "metadata": {},
   "source": [
    "## Scipy"
   ]
  },
  {
   "cell_type": "markdown",
   "metadata": {},
   "source": [
    "Copiado de: https://docs.scipy.org/doc/scipy/reference/generated/scipy.optimize.curve_fit.html"
   ]
  },
  {
   "cell_type": "markdown",
   "metadata": {},
   "source": [
    "Scipy tiene una función muy útil para realizar ajustes de curvas a datos, esta nos permite ajustar una función arbitraria con parámetros libres, incluyendo el caso en el que los puntos de datos tienen errores diferentes."
   ]
  },
  {
   "cell_type": "markdown",
   "metadata": {},
   "source": [
    "    scipy.optimize.curve_fit(f, xdata, ydata, p0=None, sigma=None, absolute_sigma=False, check_finite=True, bounds=- inf, inf, method=None, jac=None, **kwargs)[source]"
   ]
  },
  {
   "cell_type": "code",
   "execution_count": 25,
   "metadata": {},
   "outputs": [],
   "source": [
    "import matplotlib.pyplot as plt\n",
    "from scipy.optimize import curve_fit\n",
    "\n",
    "def func(x, a, b, c):\n",
    "    return a * np.exp(-b * x) + c"
   ]
  },
  {
   "cell_type": "code",
   "execution_count": 26,
   "metadata": {},
   "outputs": [
    {
     "data": {
      "text/plain": [
       "[<matplotlib.lines.Line2D at 0x101c875990>]"
      ]
     },
     "execution_count": 26,
     "metadata": {},
     "output_type": "execute_result"
    },
    {
     "data": {
      "image/png": "[encoded data removed]",
      "text/plain": [
       "<Figure size 432x288 with 1 Axes>"
      ]
     },
     "metadata": {
      "needs_background": "light"
     },
     "output_type": "display_data"
    }
   ],
   "source": [
    "xdata = np.linspace(0, 4, 50)\n",
    "y = func(xdata, 2.5, 1.3, 0.5)\n",
    "np.random.seed(1729)\n",
    "y_noise = 0.2 * np.random.normal(size=xdata.size)\n",
    "ydata = y + y_noise\n",
    "plt.plot(xdata, ydata, 'b-', label='data')"
   ]
  },
  {
   "cell_type": "code",
   "execution_count": 27,
   "metadata": {},
   "outputs": [
    {
     "data": {
      "text/plain": [
       "array([2.55423706, 1.35190947, 0.47450618])"
      ]
     },
     "execution_count": 27,
     "metadata": {},
     "output_type": "execute_result"
    }
   ],
   "source": [
    "popt, pcov = curve_fit(func, xdata, ydata)\n",
    "popt"
   ]
  },
  {
   "cell_type": "code",
   "execution_count": 28,
   "metadata": {},
   "outputs": [
    {
     "data": {
      "text/plain": [
       "[<matplotlib.lines.Line2D at 0x101c900990>]"
      ]
     },
     "execution_count": 28,
     "metadata": {},
     "output_type": "execute_result"
    },
    {
     "data": {
      "image/png": "[encoded data removed]",
      "text/plain": [
       "<Figure size 432x288 with 1 Axes>"
      ]
     },
     "metadata": {
      "needs_background": "light"
     },
     "output_type": "display_data"
    }
   ],
   "source": [
    "plt.plot(xdata, func(xdata, *popt), 'r-',\n",
    "         label='fit: a=%5.3f, b=%5.3f, c=%5.3f' % tuple(popt))"
   ]
  },
  {
   "cell_type": "markdown",
   "metadata": {},
   "source": [
    "Se restringe el rango a $0 < a < 3$, $0 < b < 1$, $0 < c < 1/2$"
   ]
  },
  {
   "cell_type": "code",
   "execution_count": 29,
   "metadata": {},
   "outputs": [
    {
     "data": {
      "text/plain": [
       "array([2.43708906, 1.        , 0.35015434])"
      ]
     },
     "execution_count": 29,
     "metadata": {},
     "output_type": "execute_result"
    }
   ],
   "source": [
    "popt2, pcov2 = curve_fit(func, xdata, ydata, bounds=(0, [3., 1., 0.5]))\n",
    "popt2"
   ]
  },
  {
   "cell_type": "code",
   "execution_count": 30,
   "metadata": {},
   "outputs": [
    {
     "data": {
      "text/plain": [
       "<matplotlib.legend.Legend at 0x101c9b2390>"
      ]
     },
     "execution_count": 30,
     "metadata": {},
     "output_type": "execute_result"
    },
    {
     "data": {
      "image/png": "[encoded data removed]",
      "text/plain": [
       "<Figure size 432x288 with 1 Axes>"
      ]
     },
     "metadata": {
      "needs_background": "light"
     },
     "output_type": "display_data"
    }
   ],
   "source": [
    "plt.plot(xdata, ydata, 'b-', label='data')\n",
    "plt.plot(xdata, func(xdata, *popt), 'r-',\n",
    "         label='fit: a=%5.3f, b=%5.3f, c=%5.3f' % tuple(popt))\n",
    "plt.plot(xdata, func(xdata, *popt2), 'g--',\n",
    "         label='fit: a=%5.3f, b=%5.3f, c=%5.3f' % tuple(popt2))\n",
    "plt.legend()"
   ]
  },
  {
   "cell_type": "markdown",
   "metadata": {},
   "source": [
    "## Ajuste de funciones"
   ]
  },
  {
   "cell_type": "markdown",
   "metadata": {},
   "source": [
    "El segundo caso es continuo. Queremos encontrar un polinomio que aproxime una función lo mejor posible en todos sus puntos. Para eso podemos minimizar las distancias a la función:\n",
    "\n",
    "$$\n",
    "E = \\int dx\\,\\left[f(x) - P(x)\\right]^2\n",
    "$$\n",
    "\n",
    "Para encontrar el polinomio que minimiza $E$ es cómodo usar polinomios ortogonales $P_i$ tal que escribimos $P(x) = \\sum_{i = 1}^n a_i P_i(x)$, de donde\n",
    "\n",
    "$$\n",
    "E = \\int dx\\,\\left[f(x) - \\sum_{i=1}^n a_i P_i(x) \\right]^2\n",
    "$$\n",
    "\n",
    "y la idea es encontrar los coeficientes $a_i$ que minimizan esta integral. Tenemos\n",
    "\n",
    "$$\n",
    "\\frac{\\partial E}{\\partial a_i} = -2\\int dx\\,f(x)P_i(x) + 2\\sum_{j=1}^n a_j \\int dx\\,P_i(x) P_j(x)\n",
    "$$\n",
    "\n",
    "Para polinomios ortogonales $\\int dx\\,P_i(x) P_j(x) = \\alpha_i \\delta_{ij}$ y tenemos\n",
    "\n",
    "$$\n",
    "a_i = \\frac{1}{\\alpha_i}\\int dx\\,f(x)P_i(x)\n",
    "$$"
   ]
  },
  {
   "cell_type": "markdown",
   "metadata": {},
   "source": [
    "Por ejemplo la serie de Fourier truncada satisface lo visto arriba:\n",
    "\n",
    "$$\n",
    "S_n(x) = \\frac{a_o}{2} + a_n \\cos nx + \\sum_{k=1}^{n-1}(a_k \\cos kx + b_k \\sin kx)\n",
    "$$"
   ]
  },
  {
   "cell_type": "code",
   "execution_count": 31,
   "metadata": {},
   "outputs": [],
   "source": [
    "ao = np.pi/2\n",
    "ak = [2/(np.pi*k**2)*((-1)**k - 1) for k in range(1,10)]\n",
    "def aprox(n, x):\n",
    "    return np.full(len(x), ao) + sum(ak[k-1]*np.cos(k*x) for k in range(1,n+1))"
   ]
  },
  {
   "cell_type": "code",
   "execution_count": 32,
   "metadata": {
    "scrolled": true
   },
   "outputs": [
    {
     "data": {
      "text/plain": [
       "<matplotlib.legend.Legend at 0x101cacfad0>"
      ]
     },
     "execution_count": 32,
     "metadata": {},
     "output_type": "execute_result"
    },
    {
     "data": {
      "image/png": "[encoded data removed]",
      "text/plain": [
       "<Figure size 432x288 with 1 Axes>"
      ]
     },
     "metadata": {
      "needs_background": "light"
     },
     "output_type": "display_data"
    }
   ],
   "source": [
    "x = np.linspace(-np.pi, np.pi, 100)\n",
    "plt.plot(x, np.abs(x), label='|x|')\n",
    "for i in range(5):\n",
    "    plt.plot(x, aprox(2*i, x), label='n = %d'%(2*i))\n",
    "plt.legend()"
   ]
  },
  {
   "cell_type": "markdown",
   "metadata": {},
   "source": [
    "Otro ejemplo importante son los polinomios de Chebyshev, que cumplen\n",
    "\n",
    "$$\n",
    "\\int_{-1}^1 dx\\,\\frac{1}{\\sqrt{1 - x^2}}T_m(x) T_n(x) = \\frac{\\pi}{2}\\delta_{mn}\n",
    "$$\n",
    "\n",
    "Se pueden usar para minimizar\n",
    "\n",
    "$$\n",
    "E = \\int_{-1}^1 dx\\,\\frac{1}{\\sqrt{1-x^2}}\\left[f(x) - \\sum_{i=1}^n a_i T_i(x) \\right]^2\n",
    "$$\n",
    "\n",
    "Lo interesante es que cumplen la siguuente propiedad para todo polinomio de orden $\\leq n$\n",
    "\n",
    "$$\n",
    "\\frac{1}{2^{n-1}} = \\frac{1}{2^{n-1}}\\max_{x \\in [-1,1]} |T_n(x)| \\leq \\max_{x \\in [-1,1]} |P(x)|\n",
    "$$\n",
    "\n",
    "Esto se puede usar para demostrar:\n",
    "\n",
    "* Si $P(x)$ es el polinomio interpolante de Lagrange de orden $m$ para la función $f(x)$ evaluada en los $m$ ceros de $T_m(x)$ entonces\n",
    "\n",
    "$$\n",
    "\\max_{x\\in[-1,1]}|f(x) - P(x)| \\leq \\frac{1}{2^n(n+1)}\\max_{x\\in[-1,1]}|f^{(m+1)}(x)|\n",
    "$$\n",
    "\n",
    "* Si se quiere aproximar el polinomio $P_n(x)$ de orden $n$ con un polinomio de orden $n-1$, la elección que minimiza el error es\n",
    "\n",
    "$$\n",
    "P_{n-1}(x) = P_n(x) - \\frac{a_n}{2^{n-1}}T_n(x)\\,.\n",
    "$$\n",
    "\n",
    "y el error cometido es\n",
    "\n",
    "$$\n",
    "\\max_{x\\in[-1,1]}|P_n(x) - P_{n-1}(x)| = \\frac{|a_n|}{2^{n-1}}\n",
    "$$"
   ]
  },
  {
   "cell_type": "code",
   "execution_count": 33,
   "metadata": {},
   "outputs": [],
   "source": [
    "def f(x):\n",
    "    return 20*x*np.exp(-5*x) + np.sin(x)"
   ]
  },
  {
   "cell_type": "code",
   "execution_count": 34,
   "metadata": {},
   "outputs": [],
   "source": [
    "from scipy.special import roots_chebyt\n",
    "n = 10\n",
    "xp = (roots_chebyt(n)[0] + 1)*5/2\n",
    "xp_m = np.linspace(0,5,n)"
   ]
  },
  {
   "cell_type": "code",
   "execution_count": 35,
   "metadata": {},
   "outputs": [],
   "source": [
    "puntos  = np.array(list(zip(xp, f(xp))))\n",
    "coefs = difer(puntos)\n",
    "puntos_m = np.array(list(zip(xp_m, f(xp_m))))\n",
    "coefs_m = difer(puntos_m)"
   ]
  },
  {
   "cell_type": "code",
   "execution_count": 36,
   "metadata": {
    "scrolled": true
   },
   "outputs": [
    {
     "data": {
      "text/plain": [
       "<matplotlib.legend.Legend at 0x101caefb10>"
      ]
     },
     "execution_count": 36,
     "metadata": {},
     "output_type": "execute_result"
    },
    {
     "data": {
      "image/png": "[encoded data removed]",
      "text/plain": [
       "<Figure size 432x288 with 1 Axes>"
      ]
     },
     "metadata": {
      "needs_background": "light"
     },
     "output_type": "display_data"
    }
   ],
   "source": [
    "x = np.linspace(0, 5, 100)\n",
    "plt.plot(x, f(x), label='Exacta')\n",
    "plt.plot(x, [poly(xi, coefs, puntos) for xi in x], label='Chebyshev')\n",
    "plt.plot(x, [poly(xi, coefs_m, puntos_m) for xi in x], label='Uniforme')\n",
    "plt.scatter(puntos[:,0], puntos[:,1], color='red')\n",
    "plt.scatter(puntos_m[:,0], puntos_m[:,1], color='black')\n",
    "plt.legend()"
   ]
  },
  {
   "cell_type": "markdown",
   "metadata": {},
   "source": [
    "## Tareas"
   ]
  },
  {
   "cell_type": "markdown",
   "metadata": {},
   "source": [
    "### Tarea 12.6"
   ]
  },
  {
   "cell_type": "markdown",
   "metadata": {},
   "source": [
    "Ejercicio 8.4.7 del libro de Burden:\n",
    "\n",
    "Escriba el polinomio de Mclaurin de sexto orden para la función $xe^x$ y use los polinomios de Chebyshev para encontrar el polinomio de el orden menor posible que mantenga el error menor a $0.001$ sobre el intervalo $[-1,1]$.\n",
    "\n",
    "**Pista**: Recuerde que el valor máximo de $T_n$ sobre $[-1,1]$ es $1$. Use la función chebval de numpy.polynomial.chebyshev"
   ]
  },
  {
   "cell_type": "markdown",
   "metadata": {},
   "source": [
    "### Tarea 12.7"
   ]
  },
  {
   "cell_type": "markdown",
   "metadata": {},
   "source": [
    "Use scipy para resolver el siguiente problema:\n",
    "\n",
    "Queremos medir los parámetros $a$, $b$ y $k$ del siguiente modelo $f(x) = a e^{kx} + b$ a partir de las siguientes mediciones\n",
    "\n",
    "|$x$|$f(x)$|$\\sigma$|\n",
    "|-|-|-|\n",
    "|$1$|$6.54$|$0.1$|\n",
    "|$2$|$7.57$|$0.3$|\n",
    "|$3$|$8.83$|$0.1$|\n",
    "|$4$|$10.43$|$0.2$|\n",
    "|$5$|$12.95$|$0.05$|\n",
    "\n",
    "Encuentre los valores de los parámetros que mejor se ajustan a los datos. ¿Es un buen ajuste? (para responder estto último ver la clase 25)."
   ]
  },
  {
   "cell_type": "markdown",
   "metadata": {},
   "source": [
    "### Tarea 12.8"
   ]
  },
  {
   "cell_type": "markdown",
   "metadata": {},
   "source": [
    "En clase vimos cómo ajustar una línea recta a un conjunto de datos cuando el error de todos los datos es el mismo. Repita el ejercicio para los siguientes datos (que tienen todos un error diferente):\n",
    "\n",
    "|$x$|$f(x)$|$\\sigma$|\n",
    "|-|-|-|\n",
    "|$0.1$|$5.71$|$0.2$|\n",
    "|$0.2$|$7.21$|$0.3$|\n",
    "|$0.3$|$8.07$|$0.2$|\n",
    "|$0.4$|$9.73$|$0.4$|\n",
    "|$0.5$|$10.06$|$0.05$|\n",
    "\n",
    "¿Es un buen ajuste? (para responder esto último, ver la clase 25)"
   ]
  },
  {
   "cell_type": "markdown",
   "metadata": {},
   "source": [
    "### Tarea 12.9"
   ]
  },
  {
   "cell_type": "markdown",
   "metadata": {},
   "source": [
    "Use los polinomios de Legendre para ajustar la función $f(x) = |x|$ en el intervalo $[-1,1]$. Es decir, encuentre los coeficientes de la expansión\n",
    "\n",
    "$$\n",
    "f(x) = \\sum_{i=0}^n a_i P_i(x)\n",
    "$$\n",
    "\n",
    "Hágalo para $n$ desde $0$ hasta $6$ y grafique sus resultados."
   ]
  },
  {
   "cell_type": "markdown",
   "metadata": {},
   "source": [
    "### Tarea 12.10"
   ]
  },
  {
   "cell_type": "markdown",
   "metadata": {},
   "source": [
    "Este ejercicio necesita el material de la clase 25.\n",
    "\n",
    "Considere los siguientes datos:\n",
    "\n",
    "|$x$|$f(x)$|$\\sigma$|\n",
    "|-|-|-|\n",
    "|$0.1$| $0.280$ |$0.1$|\n",
    "|$0.2$| $0.472$ |$0.07$|\n",
    "|$0.3$| $0.686$ |$0.05$|\n",
    "|$0.4$| $0.850$ |$0.1$|\n",
    "|$0.5$| $1.263$ |$0.03$|\n",
    "|$0.6$| $1.576$ |$0.01$|\n",
    "|$0.7$| $1.894$ |$0.01$|\n",
    "\n",
    "Use scipy para ajustar los siguientes modelos:\n",
    "\n",
    "* $a_1 x$\n",
    "* $a_1 x + a_2 x^2$\n",
    "* $a_o + a_1 x + a_2 x^2$\n",
    "\n",
    "¿Cuál modelo describe mejor los datos? ¿Por qué?\n",
    "\n",
    "Ahora repita lo mismo con los siguientes datos:\n",
    "\n",
    "|$x$|$f(x)$|$\\sigma$|\n",
    "|-|-|-|\n",
    "|$0.1$| $-1.36$ |$2.0$|\n",
    "|$0.2$| $0.20$ |$1.4$|\n",
    "|$0.3$| $3.01$ |$1.0$|\n",
    "|$0.4$| $0.30$ |$2.0$|\n",
    "|$0.5$| $1.11$ |$0.6$|\n",
    "|$0.6$| $1.52$ |$0.2$|\n",
    "|$0.7$| $2.09$ |$0.2$|\n",
    "\n",
    "Ambos datos fueron generados a partir de la misma función $f$. Explique por qué cambian los resultados."
   ]
  }
 ],
 "metadata": {
  "kernelspec": {
   "display_name": "Python 3",
   "language": "python",
   "name": "python3"
  },
  "language_info": {
   "codemirror_mode": {
    "name": "ipython",
    "version": 3
   },
   "file_extension": ".py",
   "mimetype": "text/x-python",
   "name": "python",
   "nbconvert_exporter": "python",
   "pygments_lexer": "ipython3",
   "version": "3.7.7"
  }
 },
 "nbformat": 4,
 "nbformat_minor": 4
}
