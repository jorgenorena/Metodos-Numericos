{
 "cells": [
  {
   "cell_type": "markdown",
   "metadata": {},
   "source": [
    "# Clase 7: Funciones, módulos y objetos"
   ]
  },
  {
   "cell_type": "code",
   "execution_count": 1,
   "metadata": {},
   "outputs": [],
   "source": [
    "import numpy as np"
   ]
  },
  {
   "cell_type": "markdown",
   "metadata": {},
   "source": [
    "Ya hemos visto varios ejemplos de funciones como:"
   ]
  },
  {
   "cell_type": "code",
   "execution_count": 3,
   "metadata": {},
   "outputs": [
    {
     "data": {
      "text/plain": [
       "0.1411200080598672"
      ]
     },
     "execution_count": 3,
     "metadata": {},
     "output_type": "execute_result"
    }
   ],
   "source": [
    "np.sin(3)"
   ]
  },
  {
   "cell_type": "code",
   "execution_count": 4,
   "metadata": {},
   "outputs": [
    {
     "data": {
      "text/plain": [
       "array([0.35376037, 0.56582445, 0.06124196, 0.66966934, 0.7939277 ,\n",
       "       0.52945601, 0.19650891, 0.2500534 , 0.60758599, 0.99698132,\n",
       "       0.11985673, 0.46420303, 0.70674195, 0.67843778, 0.78264174,\n",
       "       0.46821447, 0.47720854, 0.24055075, 0.47035311])"
      ]
     },
     "execution_count": 4,
     "metadata": {},
     "output_type": "execute_result"
    }
   ],
   "source": [
    "np.random.rand(19)"
   ]
  },
  {
   "cell_type": "code",
   "execution_count": 6,
   "metadata": {},
   "outputs": [
    {
     "data": {
      "text/plain": [
       "float"
      ]
     },
     "execution_count": 6,
     "metadata": {},
     "output_type": "execute_result"
    }
   ],
   "source": [
    "type(17.32)"
   ]
  },
  {
   "cell_type": "code",
   "execution_count": 7,
   "metadata": {},
   "outputs": [
    {
     "data": {
      "text/plain": [
       "-1.958144629610086"
      ]
     },
     "execution_count": 7,
     "metadata": {},
     "output_type": "execute_result"
    }
   ],
   "source": [
    "np.log(np.sin(3))"
   ]
  },
  {
   "cell_type": "markdown",
   "metadata": {},
   "source": [
    "## Crear nuevas funciones"
   ]
  },
  {
   "cell_type": "code",
   "execution_count": 8,
   "metadata": {},
   "outputs": [],
   "source": [
    "def ejemplo():               # Encabezado\n",
    "    print('Mi ejemplo.')     # Cuerpo"
   ]
  },
  {
   "cell_type": "code",
   "execution_count": 9,
   "metadata": {},
   "outputs": [
    {
     "name": "stdout",
     "output_type": "stream",
     "text": [
      "Mi ejemplo.\n"
     ]
    }
   ],
   "source": [
    "ejemplo()"
   ]
  },
  {
   "cell_type": "code",
   "execution_count": 10,
   "metadata": {},
   "outputs": [],
   "source": [
    "# Ahora le pasamos un argumento a la función.\n",
    "\n",
    "def impresora(algo):\n",
    "    print(algo)\n",
    "    print(algo)"
   ]
  },
  {
   "cell_type": "code",
   "execution_count": 11,
   "metadata": {},
   "outputs": [
    {
     "name": "stdout",
     "output_type": "stream",
     "text": [
      "Me repito\n",
      "Me repito\n"
     ]
    }
   ],
   "source": [
    "impresora('Me repito')"
   ]
  },
  {
   "cell_type": "code",
   "execution_count": 12,
   "metadata": {},
   "outputs": [
    {
     "name": "stdout",
     "output_type": "stream",
     "text": [
      "[1 2 2]\n",
      "[1 2 2]\n"
     ]
    }
   ],
   "source": [
    "impresora(np.array([1,2,2]))"
   ]
  },
  {
   "cell_type": "code",
   "execution_count": 13,
   "metadata": {},
   "outputs": [
    {
     "name": "stdout",
     "output_type": "stream",
     "text": [
      "10\n",
      "10\n"
     ]
    }
   ],
   "source": [
    "x = 10\n",
    "impresora(x)"
   ]
  },
  {
   "cell_type": "code",
   "execution_count": 17,
   "metadata": {},
   "outputs": [],
   "source": [
    "# Los parámetros y las variables viven sólo dentro de la función\n",
    "\n",
    "def aumentar(x):\n",
    "    y = 1\n",
    "    x = x + y\n",
    "    print(x)"
   ]
  },
  {
   "cell_type": "code",
   "execution_count": 18,
   "metadata": {},
   "outputs": [
    {
     "name": "stdout",
     "output_type": "stream",
     "text": [
      "11\n"
     ]
    }
   ],
   "source": [
    "x = 10\n",
    "aumentar(x)"
   ]
  },
  {
   "cell_type": "code",
   "execution_count": 19,
   "metadata": {},
   "outputs": [
    {
     "data": {
      "text/plain": [
       "10"
      ]
     },
     "execution_count": 19,
     "metadata": {},
     "output_type": "execute_result"
    }
   ],
   "source": [
    "x"
   ]
  },
  {
   "cell_type": "code",
   "execution_count": 20,
   "metadata": {},
   "outputs": [
    {
     "ename": "NameError",
     "evalue": "name 'y' is not defined",
     "output_type": "error",
     "traceback": [
      "\u001b[0;31m---------------------------------------------------------------------------\u001b[0m",
      "\u001b[0;31mNameError\u001b[0m                                 Traceback (most recent call last)",
      "\u001b[0;32m<ipython-input-20-9063a9f0e032>\u001b[0m in \u001b[0;36m<module>\u001b[0;34m\u001b[0m\n\u001b[0;32m----> 1\u001b[0;31m \u001b[0my\u001b[0m\u001b[0;34m\u001b[0m\u001b[0;34m\u001b[0m\u001b[0m\n\u001b[0m",
      "\u001b[0;31mNameError\u001b[0m: name 'y' is not defined"
     ]
    }
   ],
   "source": [
    "y"
   ]
  },
  {
   "cell_type": "code",
   "execution_count": 21,
   "metadata": {},
   "outputs": [
    {
     "name": "stdout",
     "output_type": "stream",
     "text": [
      "12\n"
     ]
    }
   ],
   "source": [
    "x = 1\n",
    "aumentar(11)"
   ]
  },
  {
   "cell_type": "code",
   "execution_count": 22,
   "metadata": {},
   "outputs": [
    {
     "data": {
      "text/plain": [
       "1"
      ]
     },
     "execution_count": 22,
     "metadata": {},
     "output_type": "execute_result"
    }
   ],
   "source": [
    "x"
   ]
  },
  {
   "cell_type": "markdown",
   "metadata": {},
   "source": [
    "Las funciones sirven principalmente para lo siguiente:\n",
    "\n",
    "* Ayuda a organizar un código en partes lógicas. Uno puede diseñar el código atacando un problema a la vez.\n",
    "* Muchas veces uno tiene que escribir el mismo código muchas veces. En esos casos tiene sentido escribir una función y usarla, en vez de repetir el mismo código. Si hay un error en el código, es más fácil corregirlo una sola vez en la función.\n",
    "* Las funciones bien escritas se pueden reutilizar en varios códigos.\n",
    "* Sirven como funciones matemáticas."
   ]
  },
  {
   "cell_type": "markdown",
   "metadata": {},
   "source": [
    "## Funciones que retornan un valor"
   ]
  },
  {
   "cell_type": "code",
   "execution_count": 23,
   "metadata": {},
   "outputs": [],
   "source": [
    "def area(lado):\n",
    "    a = lado*lado\n",
    "    return a"
   ]
  },
  {
   "cell_type": "code",
   "execution_count": 24,
   "metadata": {},
   "outputs": [
    {
     "data": {
      "text/plain": [
       "4"
      ]
     },
     "execution_count": 24,
     "metadata": {},
     "output_type": "execute_result"
    }
   ],
   "source": [
    "area(2)"
   ]
  },
  {
   "cell_type": "code",
   "execution_count": 25,
   "metadata": {},
   "outputs": [],
   "source": [
    "x = area(2)"
   ]
  },
  {
   "cell_type": "code",
   "execution_count": 26,
   "metadata": {},
   "outputs": [
    {
     "data": {
      "text/plain": [
       "4"
      ]
     },
     "execution_count": 26,
     "metadata": {},
     "output_type": "execute_result"
    }
   ],
   "source": [
    "x"
   ]
  },
  {
   "cell_type": "code",
   "execution_count": 27,
   "metadata": {},
   "outputs": [
    {
     "name": "stdout",
     "output_type": "stream",
     "text": [
      "3\n"
     ]
    }
   ],
   "source": [
    "x = aumentar(2)"
   ]
  },
  {
   "cell_type": "code",
   "execution_count": 28,
   "metadata": {},
   "outputs": [],
   "source": [
    "x"
   ]
  },
  {
   "cell_type": "code",
   "execution_count": 29,
   "metadata": {},
   "outputs": [],
   "source": [
    "def valor_absoluto(x):\n",
    "    if x >= 0:\n",
    "        return x\n",
    "    elif x < 0:\n",
    "        return -x"
   ]
  },
  {
   "cell_type": "code",
   "execution_count": 30,
   "metadata": {},
   "outputs": [
    {
     "data": {
      "text/plain": [
       "1"
      ]
     },
     "execution_count": 30,
     "metadata": {},
     "output_type": "execute_result"
    }
   ],
   "source": [
    "valor_absoluto(-1)"
   ]
  },
  {
   "cell_type": "code",
   "execution_count": 31,
   "metadata": {},
   "outputs": [],
   "source": [
    "def valor_absoluto(x):\n",
    "    if x > 0:\n",
    "        return x\n",
    "    elif x < 0:\n",
    "        return -x"
   ]
  },
  {
   "cell_type": "code",
   "execution_count": 32,
   "metadata": {},
   "outputs": [],
   "source": [
    "valor_absoluto(0)"
   ]
  },
  {
   "cell_type": "code",
   "execution_count": 33,
   "metadata": {},
   "outputs": [
    {
     "name": "stdout",
     "output_type": "stream",
     "text": [
      "120 es divisible por 10\n"
     ]
    }
   ],
   "source": [
    "def divisible(x, y):\n",
    "    '''Esta función regresa True si x es divisible por y,\n",
    "    de otro modo regresa False'''\n",
    "    \n",
    "    if (x%y == 0):\n",
    "        return True\n",
    "    else:\n",
    "        return False\n",
    "    \n",
    "x = 120\n",
    "y = 10\n",
    "if divisible(x,y):\n",
    "    print(x, 'es divisible por', y)"
   ]
  },
  {
   "cell_type": "code",
   "execution_count": 34,
   "metadata": {},
   "outputs": [],
   "source": [
    "def divisible(x, y):\n",
    "    '''Esta función regresa True si x es divisible por y,\n",
    "    de otro modo regresa False'''\n",
    "    \n",
    "    return x%y == 0"
   ]
  },
  {
   "cell_type": "markdown",
   "metadata": {},
   "source": [
    "## Objetos"
   ]
  },
  {
   "cell_type": "markdown",
   "metadata": {},
   "source": [
    "Los objetos empaquetan funciones y datos. La idea es que el objeto puede tener propiedades y puede realizar acciones. Para ejecuttar una acción sobre un objeto se usa la notación punto. Ya hemos visto varios ejemplos:"
   ]
  },
  {
   "cell_type": "code",
   "execution_count": 38,
   "metadata": {},
   "outputs": [],
   "source": [
    "mi_arreglo = np.zeros((10,2))"
   ]
  },
  {
   "cell_type": "code",
   "execution_count": 40,
   "metadata": {},
   "outputs": [
    {
     "data": {
      "text/plain": [
       "array([[0., 0.],\n",
       "       [0., 0.],\n",
       "       [0., 0.],\n",
       "       [0., 0.],\n",
       "       [0., 0.],\n",
       "       [0., 0.],\n",
       "       [0., 0.],\n",
       "       [0., 0.],\n",
       "       [0., 0.],\n",
       "       [0., 0.]])"
      ]
     },
     "execution_count": 40,
     "metadata": {},
     "output_type": "execute_result"
    }
   ],
   "source": [
    "mi_arreglo"
   ]
  },
  {
   "cell_type": "code",
   "execution_count": 39,
   "metadata": {
    "scrolled": true
   },
   "outputs": [
    {
     "data": {
      "text/plain": [
       "array([[0., 0., 0., 0., 0., 0., 0., 0., 0., 0.],\n",
       "       [0., 0., 0., 0., 0., 0., 0., 0., 0., 0.]])"
      ]
     },
     "execution_count": 39,
     "metadata": {},
     "output_type": "execute_result"
    }
   ],
   "source": [
    "mi_arreglo.transpose()"
   ]
  },
  {
   "cell_type": "markdown",
   "metadata": {},
   "source": [
    "Algo que puede ser confuso es que algunas acciones modifican el objeto y otras no."
   ]
  },
  {
   "cell_type": "code",
   "execution_count": 42,
   "metadata": {},
   "outputs": [
    {
     "data": {
      "text/plain": [
       "array([[0., 0.],\n",
       "       [0., 0.],\n",
       "       [0., 0.],\n",
       "       [0., 0.],\n",
       "       [0., 0.],\n",
       "       [0., 0.],\n",
       "       [0., 0.],\n",
       "       [0., 0.],\n",
       "       [0., 0.],\n",
       "       [0., 0.]])"
      ]
     },
     "execution_count": 42,
     "metadata": {},
     "output_type": "execute_result"
    }
   ],
   "source": [
    "mi_arreglo"
   ]
  },
  {
   "cell_type": "markdown",
   "metadata": {},
   "source": [
    "No vamos a profundizar mucho en cómo crear objetos, sólo lo básico."
   ]
  },
  {
   "cell_type": "code",
   "execution_count": 48,
   "metadata": {},
   "outputs": [],
   "source": [
    "class mi_objeto():\n",
    "    \n",
    "    def __init__(self, x):\n",
    "        self.datos = x\n",
    "    \n",
    "    def cambiar_dato(self, y):\n",
    "        self.datos = y\n",
    "        \n",
    "    def imprimir_dato(self):\n",
    "        print(self.datos)"
   ]
  },
  {
   "cell_type": "code",
   "execution_count": 49,
   "metadata": {},
   "outputs": [],
   "source": [
    "obj = mi_objeto(2)"
   ]
  },
  {
   "cell_type": "code",
   "execution_count": 50,
   "metadata": {},
   "outputs": [
    {
     "name": "stdout",
     "output_type": "stream",
     "text": [
      "2\n"
     ]
    }
   ],
   "source": [
    "obj.imprimir_dato()"
   ]
  },
  {
   "cell_type": "code",
   "execution_count": 51,
   "metadata": {},
   "outputs": [],
   "source": [
    "obj.cambiar_dato(5)"
   ]
  },
  {
   "cell_type": "code",
   "execution_count": 52,
   "metadata": {},
   "outputs": [
    {
     "name": "stdout",
     "output_type": "stream",
     "text": [
      "5\n"
     ]
    }
   ],
   "source": [
    "obj.imprimir_dato()"
   ]
  },
  {
   "cell_type": "markdown",
   "metadata": {},
   "source": [
    "## Módulos"
   ]
  },
  {
   "cell_type": "markdown",
   "metadata": {},
   "source": [
    "Hemos importado ya varios módulos a lo largo del curso. Para crear un módulo propio hay que escribir un código python autocontenido en un archivo con extensión .py. Luego se puede importar si está en el mismo directorio que el código que uno quiere ejecutar."
   ]
  },
  {
   "cell_type": "code",
   "execution_count": 1,
   "metadata": {},
   "outputs": [],
   "source": [
    "import ejemplo"
   ]
  },
  {
   "cell_type": "code",
   "execution_count": 3,
   "metadata": {},
   "outputs": [
    {
     "name": "stdout",
     "output_type": "stream",
     "text": [
      "Una función\n"
     ]
    }
   ],
   "source": [
    "ejemplo.ejemplo1()"
   ]
  },
  {
   "cell_type": "code",
   "execution_count": 4,
   "metadata": {},
   "outputs": [
    {
     "name": "stdout",
     "output_type": "stream",
     "text": [
      "Otra cosa\n"
     ]
    },
    {
     "data": {
      "text/plain": [
       "1"
      ]
     },
     "execution_count": 4,
     "metadata": {},
     "output_type": "execute_result"
    }
   ],
   "source": [
    "ejemplo.ejemplo2()"
   ]
  },
  {
   "cell_type": "code",
   "execution_count": 5,
   "metadata": {},
   "outputs": [],
   "source": [
    "from ejemplo import ejemplo1"
   ]
  },
  {
   "cell_type": "code",
   "execution_count": 6,
   "metadata": {},
   "outputs": [
    {
     "name": "stdout",
     "output_type": "stream",
     "text": [
      "Una función\n"
     ]
    }
   ],
   "source": [
    "ejemplo1()"
   ]
  },
  {
   "cell_type": "code",
   "execution_count": 7,
   "metadata": {},
   "outputs": [],
   "source": [
    "from ejemplo import ejemplo2 as ej2"
   ]
  },
  {
   "cell_type": "code",
   "execution_count": 8,
   "metadata": {},
   "outputs": [
    {
     "name": "stdout",
     "output_type": "stream",
     "text": [
      "Otra cosa\n"
     ]
    },
    {
     "data": {
      "text/plain": [
       "1"
      ]
     },
     "execution_count": 8,
     "metadata": {},
     "output_type": "execute_result"
    }
   ],
   "source": [
    "ej2()"
   ]
  },
  {
   "cell_type": "code",
   "execution_count": 9,
   "metadata": {},
   "outputs": [],
   "source": [
    "import ejemplo as ej"
   ]
  },
  {
   "cell_type": "code",
   "execution_count": 11,
   "metadata": {},
   "outputs": [
    {
     "name": "stdout",
     "output_type": "stream",
     "text": [
      "Otra cosa\n"
     ]
    },
    {
     "data": {
      "text/plain": [
       "1"
      ]
     },
     "execution_count": 11,
     "metadata": {},
     "output_type": "execute_result"
    }
   ],
   "source": [
    "ej.ejemplo2()"
   ]
  },
  {
   "cell_type": "markdown",
   "metadata": {},
   "source": [
    "## Tomar el tiempo que tarda una operación"
   ]
  },
  {
   "cell_type": "markdown",
   "metadata": {},
   "source": [
    "Tomado del libro \"Introducing Python\" de Bill Lubanovic, O'Reilly, 2014"
   ]
  },
  {
   "cell_type": "markdown",
   "metadata": {},
   "source": [
    "Es útil medir el tiempo que tarda un cálculo, por ejemplo para comparar algoritmos diferentes o librerías distintas."
   ]
  },
  {
   "cell_type": "code",
   "execution_count": 1,
   "metadata": {},
   "outputs": [],
   "source": [
    "from time import time"
   ]
  },
  {
   "cell_type": "code",
   "execution_count": 2,
   "metadata": {},
   "outputs": [
    {
     "name": "stdout",
     "output_type": "stream",
     "text": [
      "0.0936729907989502\n"
     ]
    }
   ],
   "source": [
    "t1 = time()\n",
    "[[i*j for i in range(1000)] for j in range(1000)]\n",
    "print(time() - t1)"
   ]
  },
  {
   "cell_type": "code",
   "execution_count": 7,
   "metadata": {
    "scrolled": true
   },
   "outputs": [
    {
     "name": "stdout",
     "output_type": "stream",
     "text": [
      "lista1 toma 0.08212313599995014 segundos\n",
      "lista2 toma 0.033221098000012717 segundos\n"
     ]
    }
   ],
   "source": [
    "from timeit import timeit\n",
    "\n",
    "def lista1():\n",
    "    resultado = []\n",
    "    for valor in range(1000):\n",
    "        resultado.append(valor)\n",
    "    return resultado\n",
    "\n",
    "def lista2():\n",
    "    resultado = [valor for valor in range(1000)]\n",
    "    return resultado\n",
    "\n",
    "print('lista1 toma', timeit(lista1, number=1000), 'segundos')\n",
    "print('lista2 toma', timeit(lista2, number=1000), 'segundos')"
   ]
  },
  {
   "cell_type": "markdown",
   "metadata": {},
   "source": [
    "timeit no admite funciones con argumentos. Esto puede ser demasiado restrictivo en la mayoría de los casos prácticos. La manera más elegante de evadir este problema es con \"decoradores\", pero no tenemos tiempo de introducirlos. Así que resolvemos este problema \"a las malas\"."
   ]
  },
  {
   "cell_type": "code",
   "execution_count": 42,
   "metadata": {},
   "outputs": [],
   "source": [
    "from time import time_ns"
   ]
  },
  {
   "cell_type": "code",
   "execution_count": 43,
   "metadata": {},
   "outputs": [],
   "source": [
    "def medir_tiempo(func, *args):\n",
    "    t1 = time_ns()\n",
    "    func(*args)\n",
    "    tf = time_ns() - t1\n",
    "    return tf"
   ]
  },
  {
   "cell_type": "code",
   "execution_count": 46,
   "metadata": {},
   "outputs": [
    {
     "data": {
      "text/plain": [
       "2000"
      ]
     },
     "execution_count": 46,
     "metadata": {},
     "output_type": "execute_result"
    }
   ],
   "source": [
    "def mult(x, veces):\n",
    "    resultado = x\n",
    "    for i in range(veces):\n",
    "        resultado = resultado*x\n",
    "    return resultado\n",
    "\n",
    "medir_tiempo(mult, 2, 1)"
   ]
  },
  {
   "cell_type": "markdown",
   "metadata": {},
   "source": [
    "## Tareas"
   ]
  },
  {
   "cell_type": "markdown",
   "metadata": {},
   "source": [
    "### Tarea 4.1"
   ]
  },
  {
   "cell_type": "markdown",
   "metadata": {},
   "source": [
    "Escriba una función que calcule el área de un círculo. Luego calcule las áreas de 100 círculos con radios entre $1$ y $10$ y grafíque el resultado."
   ]
  },
  {
   "cell_type": "code",
   "execution_count": 8,
   "metadata": {},
   "outputs": [],
   "source": [
    "import matplotlib.pyplot as plt\n",
    "import numpy as np"
   ]
  },
  {
   "cell_type": "code",
   "execution_count": 12,
   "metadata": {},
   "outputs": [
    {
     "data": {
      "text/plain": [
       "[<matplotlib.lines.Line2D at 0x11a25b790>]"
      ]
     },
     "execution_count": 12,
     "metadata": {},
     "output_type": "execute_result"
    },
    {
     "data": {
      "image/png": "[encoded data removed]",
      "text/plain": [
       "<Figure size 432x288 with 1 Axes>"
      ]
     },
     "metadata": {
      "needs_background": "light"
     },
     "output_type": "display_data"
    }
   ],
   "source": [
    "def area(radio):\n",
    "    return np.pi*radio*radio\n",
    "\n",
    "radios = np.linspace(1,10,100)\n",
    "areas = [area(radio) for radio in radios]\n",
    "\n",
    "plt.plot(radios, areas)"
   ]
  },
  {
   "cell_type": "markdown",
   "metadata": {},
   "source": [
    "### Tarea 4.2"
   ]
  },
  {
   "cell_type": "markdown",
   "metadata": {},
   "source": [
    "En la clase pasada introdujimos dos funciones que calculan el valor aproximado de $\\pi$. \n",
    "\n",
    "* Escriba dos funciones que calculen $\\pi$ usando cada una de esas aproximaciones respectivamente. Cada función debe tomar el error relativo como input y regresar el valor aproximado de $\\pi$ como output. \n",
    "\n",
    "* Luego calcule este valor de $\\pi$ para diez errores relativos entre $0.1$ y $0.01$. Mida el tiempo que tarda cada uno para cada función y grafique el tiempo de ambas en función del error relativo."
   ]
  },
  {
   "cell_type": "code",
   "execution_count": 13,
   "metadata": {},
   "outputs": [],
   "source": [
    "def pi1(error):\n",
    "    pi = 4\n",
    "    error_paso = np.abs((pi - np.pi)/np.pi)\n",
    "    n = 1\n",
    "    while error_paso > error:\n",
    "        pi = pi + (-1)**n*4/(2*n + 1)\n",
    "        n = n + 1\n",
    "        error_paso = np.abs((pi - np.pi)/np.pi)\n",
    "    \n",
    "    return pi\n",
    "\n",
    "def pi2(error):\n",
    "    pi = 3\n",
    "    error_paso = np.abs((pi - np.pi)/np.pi)\n",
    "    n = 1\n",
    "    while error_paso > error:\n",
    "        pi = pi + (-1)**(n + 1)*4/(2*n*(2*n + 1)*2*(n+1))\n",
    "        n = n + 1\n",
    "        error_paso = np.abs((pi - np.pi)/np.pi)\n",
    "    \n",
    "    return pi"
   ]
  },
  {
   "cell_type": "code",
   "execution_count": 47,
   "metadata": {},
   "outputs": [],
   "source": [
    "errores = np.linspace(0.1, 0.01, 10)\n",
    "pi1_tiempos = [medir_tiempo(pi1, error) for error in errores]\n",
    "pi2_tiempos = [medir_tiempo(pi2, error) for error in errores]"
   ]
  },
  {
   "cell_type": "code",
   "execution_count": 50,
   "metadata": {},
   "outputs": [
    {
     "data": {
      "text/plain": [
       "<matplotlib.legend.Legend at 0x11a4aae50>"
      ]
     },
     "execution_count": 50,
     "metadata": {},
     "output_type": "execute_result"
    },
    {
     "data": {
      "image/png": "[encoded data removed]",
      "text/plain": [
       "<Figure size 432x288 with 1 Axes>"
      ]
     },
     "metadata": {
      "needs_background": "light"
     },
     "output_type": "display_data"
    }
   ],
   "source": [
    "plt.plot(errores, pi1_tiempos, label='pi1')\n",
    "plt.plot(errores, pi2_tiempos, label='pi2')\n",
    "plt.xlabel('error')\n",
    "plt.ylabel('tiempo en ns')\n",
    "plt.legend()"
   ]
  },
  {
   "cell_type": "markdown",
   "metadata": {},
   "source": [
    "### Tarea 4.3"
   ]
  },
  {
   "cell_type": "markdown",
   "metadata": {},
   "source": [
    "Defina una función que calcule la serie de Taylor del coseno hasta el $n$-ésimo término. Los inputs son $n$ y el punto $x$ donde se evalúa el coseno. Luego grafique el coseno y las aproximaciones con $n = 2$, $n =6$ en un rango de $x$ que muestre dónde vale la aproximación y dónde se rompe."
   ]
  },
  {
   "cell_type": "code",
   "execution_count": 83,
   "metadata": {},
   "outputs": [],
   "source": [
    "def taylor_cos(n, x):\n",
    "    return sum((-1)**i*x**(2*i)/np.math.factorial(2*i) for i in range(n))"
   ]
  },
  {
   "cell_type": "code",
   "execution_count": 88,
   "metadata": {},
   "outputs": [
    {
     "data": {
      "text/plain": [
       "<matplotlib.legend.Legend at 0x11aedb2d0>"
      ]
     },
     "execution_count": 88,
     "metadata": {},
     "output_type": "execute_result"
    },
    {
     "data": {
      "image/png": "[encoded data removed]",
      "text/plain": [
       "<Figure size 432x288 with 1 Axes>"
      ]
     },
     "metadata": {
      "needs_background": "light"
     },
     "output_type": "display_data"
    }
   ],
   "source": [
    "x = np.linspace(0,8,100)\n",
    "exact = np.cos(x)\n",
    "apr2 = [taylor_cos(2,a) for a in x]\n",
    "apr6 = [taylor_cos(6,a) for a in x]\n",
    "plt.plot(x, exact, label='Exacta')\n",
    "plt.plot(x, apr2, label='Taylor con 2 términos')\n",
    "plt.plot(x, apr6, label='Taylor con 6 términos')\n",
    "plt.xlabel('$x$')\n",
    "plt.ylabel('$\\cos(x)$')\n",
    "plt.legend()"
   ]
  },
  {
   "cell_type": "markdown",
   "metadata": {},
   "source": [
    "### Tarea 4.4"
   ]
  },
  {
   "cell_type": "markdown",
   "metadata": {},
   "source": [
    "Queremos calcular $x^3$. ¿Es más rápido calcular x\\*x\\*x o x\\*\\*3?\n",
    "\n",
    "El problema es que Python calcula ambas operaciones muy rápido y es imposible decidir cuál es mejor.\n",
    "\n",
    "Para hacerlo podemos realizar la operación muchas veces y ver cuánto tarda. \n",
    "\n",
    "Modifique la función medir_tiempo para que admita un argumento adicional que sea el número de veces que se evalúa la función. Úsela para medir cuál es más rápido entre x\\*x\\*x o x\\*\\*3."
   ]
  },
  {
   "cell_type": "code",
   "execution_count": 79,
   "metadata": {},
   "outputs": [],
   "source": [
    "def medir_tiempo(veces, func, *args):\n",
    "    t1 = time_ns()\n",
    "    [func(*args) for i in range(veces)]\n",
    "    tf = time_ns() - t1\n",
    "    return tf"
   ]
  },
  {
   "cell_type": "code",
   "execution_count": 80,
   "metadata": {},
   "outputs": [],
   "source": [
    "def x3_1(x):\n",
    "    return x*x*x\n",
    "\n",
    "def x3_2(x):\n",
    "    return x**3"
   ]
  },
  {
   "cell_type": "code",
   "execution_count": 81,
   "metadata": {},
   "outputs": [
    {
     "data": {
      "text/plain": [
       "143000"
      ]
     },
     "execution_count": 81,
     "metadata": {},
     "output_type": "execute_result"
    }
   ],
   "source": [
    "medir_tiempo(1000, x3_1, 3)"
   ]
  },
  {
   "cell_type": "code",
   "execution_count": 82,
   "metadata": {},
   "outputs": [
    {
     "data": {
      "text/plain": [
       "385000"
      ]
     },
     "execution_count": 82,
     "metadata": {},
     "output_type": "execute_result"
    }
   ],
   "source": [
    "medir_tiempo(1000, x3_2, 3)"
   ]
  },
  {
   "cell_type": "markdown",
   "metadata": {},
   "source": [
    "### Tarea 4.5"
   ]
  },
  {
   "cell_type": "markdown",
   "metadata": {},
   "source": [
    "Queremos aproximar $\\sin(1)$. Para hacerlo usamos la serie de Taylor hasta el $n$-ésimo término. \n",
    "\n",
    "* Defina una función para la aproximación de $\\sin(1)$ al $n$-ésimo término.\n",
    "* Escriba un código que grafique la aproximación en función de $n$. Escoja un rango que permita ver cuándo se obtiene una convergencia aceptable. Este gráfico debe tener barras de error que representen el tamaño del error cometido al hacer la aproximación."
   ]
  },
  {
   "cell_type": "code",
   "execution_count": 52,
   "metadata": {},
   "outputs": [],
   "source": [
    "def aprox(n):\n",
    "    return sum([(-1)**i/np.math.factorial(2*i+1) for i in range(n)])"
   ]
  },
  {
   "cell_type": "code",
   "execution_count": 63,
   "metadata": {},
   "outputs": [
    {
     "data": {
      "text/plain": [
       "<ErrorbarContainer object of 3 artists>"
      ]
     },
     "execution_count": 63,
     "metadata": {},
     "output_type": "execute_result"
    },
    {
     "data": {
      "image/png": "[encoded data removed]",
      "text/plain": [
       "<Figure size 432x288 with 1 Axes>"
      ]
     },
     "metadata": {
      "needs_background": "light"
     },
     "output_type": "display_data"
    }
   ],
   "source": [
    "n = np.arange(1,4)\n",
    "aproxes = [aprox(i) for i in n]\n",
    "errores = [np.abs(aprox(i) - np.sin(1)) for i in n]\n",
    "plt.errorbar(n, aproxes, errores, ecolor='black')"
   ]
  }
 ],
 "metadata": {
  "kernelspec": {
   "display_name": "Python 3",
   "language": "python",
   "name": "python3"
  },
  "language_info": {
   "codemirror_mode": {
    "name": "ipython",
    "version": 3
   },
   "file_extension": ".py",
   "mimetype": "text/x-python",
   "name": "python",
   "nbconvert_exporter": "python",
   "pygments_lexer": "ipython3",
   "version": "3.7.7"
  }
 },
 "nbformat": 4,
 "nbformat_minor": 2
}
