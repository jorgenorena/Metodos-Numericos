{
 "cells": [
  {
   "cell_type": "markdown",
   "metadata": {},
   "source": [
    "# Clase 20: Ecuaciones diferenciales, método de Taylor"
   ]
  },
  {
   "cell_type": "code",
   "execution_count": 1,
   "metadata": {},
   "outputs": [],
   "source": [
    "import numpy as np\n",
    "import matplotlib.pyplot as plt"
   ]
  },
  {
   "cell_type": "markdown",
   "metadata": {},
   "source": [
    "Una de las principales aplicaciones de los métodos numéricos a la física es la solución de ecuaciones diferenciales. Por ahora nos reduciremos al caso de ecuaciones diferenciales del primer orden. El caso de ecuaciones de orden más alto se reduce al de un sistema de ecuaciones de primer orden y lo veremos más adelante.\n",
    "\n",
    "En la práctica incluso las ecuaciones diferenciales que queremos resolver son una aproximación al problema físico que tratamos, por este motivo requerimos que pequeños cambios en la formulación de la ecuación no cambien mucho la solución, es decir:\n",
    "\n",
    "Un problema de valor inicial $y'(t) = f(t, y)$ con $a \\leq t \\leq b$ y $y(a) = y_o$ está **bien puesto** si \n",
    "\n",
    "Existe una solución única para $y(t)$.\n",
    "\n",
    "Exiten constantes $\\epsilon_o > 0$ y $k > 0$ tales que para cualquier $\\epsilon \\in (0, \\epsilon_o)$, cuando $\\delta(t)$  es continua y $|\\delta(t)| < \\epsilon$ para todo $t \\in [a,b]$, y cuando $|\\delta_o| < \\epsilon$, el problema de valor inicial\n",
    "\n",
    "$$\n",
    "z'(t) = f(t, z) + \\delta(t)\\,,\\quad a\\leq t\\leq b\\,,\\quad z(a) = y_o + \\delta_o\n",
    "$$\n",
    "\n",
    "tiene una solución única que satisface para todo $t\\in [a,b]$\n",
    "\n",
    "$$\n",
    "|z(t) - y(t)| < k\\epsilon\n",
    "$$"
   ]
  },
  {
   "cell_type": "markdown",
   "metadata": {},
   "source": [
    "Nos interesarán ecuaciones diferenciales definidas en el conjunto $a \\leq t \\leq b$ y $-\\infty < y < \\infty$. En estos casos el problema está bien puestot si $f$ es continua y en este conjunto\n",
    "\n",
    "$$\n",
    "|f(t, y_1) - f(t, y_2)| \\leq L|y_1 - y_2|\n",
    "$$\n",
    "\n",
    "para alguna constante $L$ (esta se llama condición de Lipfschitz). Se puede demosttrar que esta condición se cumple si se tiene\n",
    "\n",
    "$$\n",
    "\\left|\\frac{\\partial f}{\\partial y}(t, y)\\right| \\leq L\n",
    "$$"
   ]
  },
  {
   "cell_type": "markdown",
   "metadata": {},
   "source": [
    "## El método de Euler"
   ]
  },
  {
   "cell_type": "markdown",
   "metadata": {},
   "source": [
    "Hagamos un primer intento de resolver el problema de valor inicial que consideramos. No vamos a obtener una expresión para $y(t)$, si no que vamos a obtener expresiones aproximadas para $y(t_i)$ en algunos puntos $t_i = a + ih$ donde $i = 0, 1, 2, ... N$."
   ]
  },
  {
   "cell_type": "markdown",
   "metadata": {},
   "source": [
    "El método más sencillo para lograrlo consiste en usar la expansión de Taylor\n",
    "\n",
    "$$\n",
    "y(t_{i+1}) = y(t_i) + (t_{i+1} - t_i)y'(t_i) + \\frac{(t_{i+1} - t_i)^2}{2}y''(\\xi)\\,,\n",
    "$$\n",
    "\n",
    "que podemos reescribir\n",
    "\n",
    "$$\n",
    "y(t_{i+1}) = y(t_i) + hf(t_i, y(t_i)) + \\frac{h^2}{2}y''(\\xi)\\,,\n",
    "$$\n",
    "\n",
    "entonces aproximamos\n",
    "\n",
    "$$\n",
    "w_{i+1} = w_i + hf(t_i, w_i).\n",
    "$$\n",
    "\n",
    "Este se llama el método de Euler."
   ]
  },
  {
   "cell_type": "code",
   "execution_count": 2,
   "metadata": {},
   "outputs": [],
   "source": [
    "def euler(f, a, b, yo, N):\n",
    "    \n",
    "    h = (b-a)/N\n",
    "    t = a\n",
    "    w = yo\n",
    "    ts = np.zeros(N+1)\n",
    "    sol = np.zeros(N+1)\n",
    "    \n",
    "    for i in range(N):\n",
    "        ts[i] = t\n",
    "        sol[i] = w\n",
    "        w = w + h*f(t, w)\n",
    "        t = t + h\n",
    "        \n",
    "    ts[N] = t\n",
    "    sol[N] = w\n",
    "    \n",
    "    return ts, sol"
   ]
  },
  {
   "cell_type": "code",
   "execution_count": 3,
   "metadata": {},
   "outputs": [
    {
     "data": {
      "text/plain": [
       "(array([0. , 0.2, 0.4, 0.6, 0.8, 1. , 1.2, 1.4, 1.6, 1.8, 2. ]),\n",
       " array([0.5       , 0.8       , 1.152     , 1.5504    , 1.98848   ,\n",
       "        2.458176  , 2.9498112 , 3.45177344, 3.95012813, 4.42815375,\n",
       "        4.8657845 ]))"
      ]
     },
     "execution_count": 3,
     "metadata": {},
     "output_type": "execute_result"
    }
   ],
   "source": [
    "def f(t, y):\n",
    "    return y - t**2 + 1\n",
    "\n",
    "euler(f, 0, 2, 0.5, 10)"
   ]
  },
  {
   "cell_type": "markdown",
   "metadata": {},
   "source": [
    "La solución exacta es $y(t) = (t + 1)^2 - 0.5e^t$"
   ]
  },
  {
   "cell_type": "code",
   "execution_count": 4,
   "metadata": {},
   "outputs": [
    {
     "data": {
      "text/plain": [
       "<matplotlib.legend.Legend at 0x11b140410>"
      ]
     },
     "execution_count": 4,
     "metadata": {},
     "output_type": "execute_result"
    },
    {
     "data": {
      "image/png": "[encoded data removed]",
      "text/plain": [
       "<Figure size 432x288 with 1 Axes>"
      ]
     },
     "metadata": {
      "needs_background": "light"
     },
     "output_type": "display_data"
    }
   ],
   "source": [
    "ts = np.linspace(0, 2, 100)\n",
    "plt.plot(ts, (ts+1)**2 - 0.5*np.exp(ts), label='Exacta')\n",
    "plt.plot(*euler(f, 0, 2, 0.5, 10), label='Aproximación de Euler')\n",
    "plt.legend()"
   ]
  },
  {
   "cell_type": "markdown",
   "metadata": {},
   "source": [
    "Este método es tan sencillo que se puede derivar una cota para el error cometido al $n$-ésimo paso (la derivación se puede encontrar en el libro de Burden):\n",
    "\n",
    "$$\n",
    "|y(t_i) - w_i| \\leq \\frac{hM}{2L}(e^{L(t_i - a)} - 1)\n",
    "$$\n",
    "\n",
    "donde $w_i$ son las aproximaciones a cada paso, $L$ es la constante de Lipfschitz, y $M$ es una cota para la segunda derivada de $y$. \n",
    "\n",
    "Como esto necesita calcular la segunda derivada, no es muy usado en la práctica, pero aprendemos dos cosas:\n",
    "\n",
    "* El error es lineal en $h$\n",
    "\n",
    "* El error crece exponencialmente a medida que nos alejamos del punto inicial."
   ]
  },
  {
   "cell_type": "code",
   "execution_count": 5,
   "metadata": {},
   "outputs": [
    {
     "data": {
      "text/plain": [
       "<matplotlib.legend.Legend at 0x11b297fd0>"
      ]
     },
     "execution_count": 5,
     "metadata": {},
     "output_type": "execute_result"
    },
    {
     "data": {
      "image/png": "[encoded data removed]",
      "text/plain": [
       "<Figure size 432x288 with 1 Axes>"
      ]
     },
     "metadata": {
      "needs_background": "light"
     },
     "output_type": "display_data"
    }
   ],
   "source": [
    "N = 10\n",
    "ts, sol = euler(f, 0, 2, 0.5, N)\n",
    "exacta = (ts+1)**2 - 0.5*np.exp(ts)\n",
    "h = 2/N\n",
    "M = np.abs(2 - 0.5*np.exp(2))\n",
    "L = 1\n",
    "plt.scatter(ts, exacta - sol, label='Error real')\n",
    "plt.scatter(ts, h*M/(2*L)*(np.exp(L*ts) - 1), label='Cota del error')\n",
    "plt.legend()"
   ]
  },
  {
   "cell_type": "markdown",
   "metadata": {},
   "source": [
    "Como vemos, esa fórmula es sólo una cota para el error, que muchas veces puede ser una sobre-estimación."
   ]
  },
  {
   "cell_type": "markdown",
   "metadata": {},
   "source": [
    "Además debemos considerar el hecho que puede haber errores de redondeo (u otro tipo de errores intrínsecos) tal que en realidad estamos usando las siguientes aproximaciones:\n",
    "\n",
    "$$\n",
    "u(t_o) = y_o + \\delta_o\n",
    "$$\n",
    "\n",
    "$$\n",
    "u_{i+1} = u_i + hf(t_i, u_i) + \\delta_i\n",
    "$$\n",
    "\n",
    "tal que el error en realidad es (derivación en el libro de Burden)\n",
    "\n",
    "$$\n",
    "|y(t_i) - u_i| \\leq \\frac{1}{L}\\left(\\frac{hM}{2} + \\frac{\\delta}{h}\\right)(e^{L(t_i - a)} - 1) + |\\delta_o| e^{L(t_i - a)}\n",
    "$$\n",
    "\n",
    "con $|\\delta_i| < \\delta$."
   ]
  },
  {
   "cell_type": "markdown",
   "metadata": {},
   "source": [
    "Como vemos, el método es inestable y de hecho crece a medida que $h$ se hace más pequeño. \n",
    "\n",
    "Pero hay una importante diferencia con el caso de las derivadas: En ese caso el error podía ser debido a un error de simulación o de medición que puede ser bastante grande. En este caso el error $\\delta_i$ es usualmente un error de redondeo que suele ser demasiado pequeño para ser importante en la práctica. El único error que podría estar sujeto a un error de medición (o simulación) es $\\delta_o$ pero su contribución no cambia con $h$."
   ]
  },
  {
   "cell_type": "markdown",
   "metadata": {},
   "source": [
    "## Métodos de Taylor de orden más alto"
   ]
  },
  {
   "cell_type": "markdown",
   "metadata": {},
   "source": [
    "Una manera más práctica de definir el error es usar el **error de truncación local** dado por\n",
    "\n",
    "$$\n",
    "\\tau_{i+1}(h) = \\frac{y_{i+1} - (y_{i} + h\\phi(t_i, y_i))}{h}\n",
    "$$\n",
    "\n",
    "donde\n",
    "\n",
    "$$\n",
    "w_{i+1} =  w_i + h\\phi(t_i, w_i)\n",
    "$$"
   ]
  },
  {
   "cell_type": "markdown",
   "metadata": {},
   "source": [
    "Para el método de Euler esto es\n",
    "\n",
    "$$\n",
    "\\tau_{i+1}(h) = \\frac{1}{h}(y_{i+1} - y_i) - f(t_i, y_i) = \\frac{h}{2}y''(\\xi)\n",
    "$$"
   ]
  },
  {
   "cell_type": "markdown",
   "metadata": {},
   "source": [
    "Podemos mejorar este error usando expansiones de Taylor de orden más alto\n",
    "\n",
    "$$\n",
    "y(t_{i+1}) = y(t_i) + hy'(t_i) + \\frac{h^2}{2}y''(t_i) + \\dots +\\frac{h^n}{n!}y^{(n)}(t_i) + \\frac{h^{n+1}}{(n+1)!}y^{(n+1)}(\\xi)\n",
    "$$\n",
    "\n",
    "es decir\n",
    "\n",
    "$$\n",
    "y(t_{i+1}) = y(t_i) + hf(t_i, y(t_i)) + \\frac{h^2}{2}\\frac{\\partial^2 f}{\\partial t^2}(t_i, y(t_i)) + \\dots +\\frac{h^n}{n!}\\frac{\\partial^n f}{\\partial t^n}(t_i, y(t_i)) + \\frac{h^{n+1}}{(n+1)!}\\frac{\\partial^{(n+1)} f}{\\partial t^{(n+1)}}(\\xi, y(\\xi))\n",
    "$$\n",
    "\n",
    "entonces hacemos\n",
    "\n",
    "$$\n",
    "w_{i+1} = w_i + hf(t_i, w_i) + \\frac{h^2}{2}\\frac{\\partial^2 f}{\\partial t^2}(t_i, w_i) + \\dots +\\frac{h^n}{n!}\\frac{\\partial^n f}{\\partial t^n}(t_i, w_i)\n",
    "$$"
   ]
  },
  {
   "cell_type": "code",
   "execution_count": 6,
   "metadata": {},
   "outputs": [],
   "source": [
    "def taylor2(f, df, a, b, yo, N):\n",
    "    \n",
    "    h = (b-a)/N\n",
    "    t = a\n",
    "    w = yo\n",
    "    ts = np.zeros(N+1)\n",
    "    sol = np.zeros(N+1)\n",
    "    \n",
    "    for i in range(N):\n",
    "        ts[i] = t\n",
    "        sol[i] = w\n",
    "        w = w + h*f(t, w) + h*h*df(t, w)/2\n",
    "        t = t + h\n",
    "        \n",
    "    ts[N] = t\n",
    "    sol[N] = w\n",
    "    \n",
    "    return ts, sol"
   ]
  },
  {
   "cell_type": "code",
   "execution_count": 7,
   "metadata": {},
   "outputs": [
    {
     "data": {
      "text/plain": [
       "(array([0. , 0.2, 0.4, 0.6, 0.8, 1. , 1.2, 1.4, 1.6, 1.8, 2. ]),\n",
       " array([0.5       , 0.83      , 1.2158    , 1.652076  , 2.13233272,\n",
       "        2.64864592, 3.19134802, 3.74864458, 4.30614639, 4.8462986 ,\n",
       "        5.34768429]))"
      ]
     },
     "execution_count": 7,
     "metadata": {},
     "output_type": "execute_result"
    }
   ],
   "source": [
    "def f(t, y):\n",
    "    return y - t**2 + 1\n",
    "\n",
    "def df(t, y):\n",
    "    return f(t,y) - 2*t\n",
    "\n",
    "taylor2(f, df, 0, 2, 0.5, 10)"
   ]
  },
  {
   "cell_type": "code",
   "execution_count": 8,
   "metadata": {},
   "outputs": [
    {
     "data": {
      "text/plain": [
       "<matplotlib.legend.Legend at 0x11b305050>"
      ]
     },
     "execution_count": 8,
     "metadata": {},
     "output_type": "execute_result"
    },
    {
     "data": {
      "image/png": "[encoded data removed]",
      "text/plain": [
       "<Figure size 432x288 with 1 Axes>"
      ]
     },
     "metadata": {
      "needs_background": "light"
     },
     "output_type": "display_data"
    }
   ],
   "source": [
    "ts = np.linspace(0, 2, 100)\n",
    "plt.plot(ts, (ts+1)**2 - 0.5*np.exp(ts), label='Exacta')\n",
    "plt.plot(*euler(f, 0, 2, 0.5, 10), label='Aproximación de Euler')\n",
    "plt.plot(*taylor2(f, df, 0, 2, 0.5, 10), label='Aproximación de Taylor orden 2')\n",
    "plt.legend()"
   ]
  },
  {
   "cell_type": "code",
   "execution_count": 9,
   "metadata": {},
   "outputs": [
    {
     "data": {
      "text/plain": [
       "<matplotlib.legend.Legend at 0x11b473990>"
      ]
     },
     "execution_count": 9,
     "metadata": {},
     "output_type": "execute_result"
    },
    {
     "data": {
      "image/png": "[encoded data removed]",
      "text/plain": [
       "<Figure size 432x288 with 1 Axes>"
      ]
     },
     "metadata": {
      "needs_background": "light"
     },
     "output_type": "display_data"
    }
   ],
   "source": [
    "N = 10\n",
    "ts, sol_e = euler(f, 0, 2, 0.5, N)\n",
    "ts, sol_t2 = taylor2(f, df, 0, 2, 0.5, N)\n",
    "exacta = (ts+1)**2 - 0.5*np.exp(ts)\n",
    "plt.scatter(ts, exacta - sol_e, label='Euler')\n",
    "plt.scatter(ts, exacta - sol_t2, label='Taylor 2')\n",
    "plt.legend()"
   ]
  },
  {
   "cell_type": "code",
   "execution_count": 10,
   "metadata": {},
   "outputs": [],
   "source": [
    "def taylor4(f, df, d2f, d3f, a, b, yo, N):\n",
    "    \n",
    "    h = (b-a)/N\n",
    "    t = a\n",
    "    w = yo\n",
    "    ts = np.zeros(N+1)\n",
    "    sol = np.zeros(N+1)\n",
    "    \n",
    "    for i in range(N):\n",
    "        ts[i] = t\n",
    "        sol[i] = w\n",
    "        w = w + h*(f(t, w) + h*(df(t, w)/2 + h*(d2f(t, w)/6 + h*d3f(t, w)/24)))\n",
    "        t = t + h\n",
    "        \n",
    "    ts[N] = t\n",
    "    sol[N] = w\n",
    "    \n",
    "    return ts, sol"
   ]
  },
  {
   "cell_type": "code",
   "execution_count": 11,
   "metadata": {},
   "outputs": [
    {
     "data": {
      "text/plain": [
       "(array([0. , 0.2, 0.4, 0.6, 0.8, 1. , 1.2, 1.4, 1.6, 1.8, 2. ]),\n",
       " array([0.5       , 0.8293    , 1.21409102, 1.64894677, 2.12723959,\n",
       "        2.64087443, 3.17996403, 3.73243207, 4.28352853, 4.81523774,\n",
       "        5.30555538]))"
      ]
     },
     "execution_count": 11,
     "metadata": {},
     "output_type": "execute_result"
    }
   ],
   "source": [
    "def f(t, y):\n",
    "    return y - t**2 + 1\n",
    "\n",
    "def df(t, y):\n",
    "    return f(t,y) - 2*t\n",
    "\n",
    "def d2f(t, y):\n",
    "    return df(t, y) - 2\n",
    "\n",
    "def d3f(t, y):\n",
    "    return d2f(t, y)\n",
    "\n",
    "taylor4(f, df, d2f, d3f, 0, 2, 0.5, 10)"
   ]
  },
  {
   "cell_type": "code",
   "execution_count": 12,
   "metadata": {},
   "outputs": [
    {
     "data": {
      "text/plain": [
       "<matplotlib.legend.Legend at 0x11b50af90>"
      ]
     },
     "execution_count": 12,
     "metadata": {},
     "output_type": "execute_result"
    },
    {
     "data": {
      "image/png": "[encoded data removed]",
      "text/plain": [
       "<Figure size 432x288 with 1 Axes>"
      ]
     },
     "metadata": {
      "needs_background": "light"
     },
     "output_type": "display_data"
    }
   ],
   "source": [
    "ts = np.linspace(0, 2, 100)\n",
    "plt.plot(ts, (ts+1)**2 - 0.5*np.exp(ts), label='Exacta')\n",
    "plt.plot(*euler(f, 0, 2, 0.5, 10), label='Aproximación de Euler')\n",
    "plt.plot(*taylor2(f, df, 0, 2, 0.5, 10), label='Aproximación de Taylor orden 2')\n",
    "plt.plot(*taylor4(f, df, d2f, d3f, 0, 2, 0.5, 10), label='Aproximación de Taylor orden 4')\n",
    "plt.legend()"
   ]
  },
  {
   "cell_type": "code",
   "execution_count": 13,
   "metadata": {
    "scrolled": true
   },
   "outputs": [
    {
     "data": {
      "text/plain": [
       "<matplotlib.legend.Legend at 0x11b5b7410>"
      ]
     },
     "execution_count": 13,
     "metadata": {},
     "output_type": "execute_result"
    },
    {
     "data": {
      "image/png": "[encoded data removed]",
      "text/plain": [
       "<Figure size 432x288 with 1 Axes>"
      ]
     },
     "metadata": {
      "needs_background": "light"
     },
     "output_type": "display_data"
    }
   ],
   "source": [
    "N = 10\n",
    "ts, sol_e = euler(f, 0, 2, 0.5, N)\n",
    "ts, sol_t2 = taylor2(f, df, 0, 2, 0.5, N)\n",
    "ts, sol_t4 = taylor4(f, df, d2f, d3f, 0, 2, 0.5, N)\n",
    "exacta = (ts+1)**2 - 0.5*np.exp(ts)\n",
    "plt.scatter(ts, exacta - sol_e, label='Euler')\n",
    "plt.scatter(ts, exacta - sol_t2, label='Taylor 2')\n",
    "plt.scatter(ts, exacta - sol_t4, label='Taylor 4')\n",
    "plt.legend()"
   ]
  },
  {
   "cell_type": "markdown",
   "metadata": {},
   "source": [
    "El error de truncación local del método de Taylor de orden $n$ es\n",
    "\n",
    "$$\n",
    "\\tau_{i+1}(h) = \\frac{y(t_{i+1}) - y(t_i)}{h} - \\left[f(t_i, y(t_i)) + \\frac{h}{2}\\frac{\\partial^2 f}{\\partial t^2}(t_i, y(t_i)) + \\dots +\\frac{h^{n-1}}{n!}\\frac{\\partial^n f}{\\partial t^n}(t_i, y(t_i))\\right]\n",
    "$$\n",
    "\n",
    "que simplifcando\n",
    "\n",
    "$$\n",
    "\\tau_{i+1}(h) = \\frac{h^n}{(n+1)!}\\frac{\\partial^{(n+1)} f}{\\partial t^{(n+1)}}(\\xi, y(\\xi))\n",
    "$$\n",
    "\n",
    "tal que es de orden $h^n$."
   ]
  },
  {
   "cell_type": "markdown",
   "metadata": {},
   "source": [
    "Ahora bien, como tenemos la función en un conjunto de puntos $t_i$, si queremos la función en un punto arbitrario, tenemos que interpolar."
   ]
  },
  {
   "cell_type": "code",
   "execution_count": 14,
   "metadata": {},
   "outputs": [],
   "source": [
    "def interp_lin(x, puntosx, puntosy):\n",
    "    h = puntosx[1] - puntosx[0]\n",
    "    i = int((x - puntosx[0])/h)\n",
    "    Lo = puntosy[i]*(x - puntosx[i+1])/(puntosx[i] - puntosx[i+1])\n",
    "    L1 = puntosy[i+1]*(x - puntosx[i])/(puntosx[i+1] - puntosx[i])\n",
    "    return Lo + L1"
   ]
  },
  {
   "cell_type": "code",
   "execution_count": 15,
   "metadata": {},
   "outputs": [
    {
     "data": {
      "text/plain": [
       "<matplotlib.collections.PathCollection at 0x11b6b2dd0>"
      ]
     },
     "execution_count": 15,
     "metadata": {},
     "output_type": "execute_result"
    },
    {
     "data": {
      "image/png": "[encoded data removed]",
      "text/plain": [
       "<Figure size 432x288 with 1 Axes>"
      ]
     },
     "metadata": {
      "needs_background": "light"
     },
     "output_type": "display_data"
    }
   ],
   "source": [
    "xs = np.linspace(0, 1.999, 100)\n",
    "ts, aprox = taylor4(f, df, d2f, d3f, 0, 2, 0.5, 10)\n",
    "interp = [interp_lin(xi, ts, aprox) for xi in xs]\n",
    "exacta = (xs+1)**2 - 0.5*np.exp(xs)\n",
    "exactat = (ts+1)**2 - 0.5*np.exp(ts)\n",
    "plt.plot(xs, (interp - exacta)/exacta)\n",
    "plt.scatter(ts, (aprox - exactat)/exactat, color='red')"
   ]
  },
  {
   "cell_type": "markdown",
   "metadata": {},
   "source": [
    "Vemos que la mayor parte del error está siendo inducido por la interpolación. Necesitamos mejorarla."
   ]
  },
  {
   "cell_type": "code",
   "execution_count": 16,
   "metadata": {},
   "outputs": [],
   "source": [
    "def interp_hermite(x, puntosx, puntosy, puntosd):\n",
    "    \n",
    "    h = puntosx[1] - puntosx[0]\n",
    "    i = int((x - puntosx[0])/h)\n",
    "    f1 = (puntosy[i+1] - puntosy[i])/h\n",
    "    f21 = (f1 - puntosd[i])/h\n",
    "    f22 = (puntosd[i+1] - f1)/h\n",
    "    f3 = (f22 - f21)/h\n",
    "    dx = (x - puntosx[i])\n",
    "    dx1 = (x - puntosx[i+1])\n",
    "    \n",
    "    return puntosy[i] + puntosd[i]*dx + f21*dx*dx + f3*dx*dx*dx1"
   ]
  },
  {
   "cell_type": "code",
   "execution_count": 17,
   "metadata": {},
   "outputs": [
    {
     "data": {
      "text/plain": [
       "<matplotlib.collections.PathCollection at 0x11b792a90>"
      ]
     },
     "execution_count": 17,
     "metadata": {},
     "output_type": "execute_result"
    },
    {
     "data": {
      "image/png": "[encoded data removed]",
      "text/plain": [
       "<Figure size 432x288 with 1 Axes>"
      ]
     },
     "metadata": {
      "needs_background": "light"
     },
     "output_type": "display_data"
    }
   ],
   "source": [
    "xs = np.linspace(0, 1.999, 100)\n",
    "ts, aprox = taylor4(f, df, d2f, d3f, 0, 2, 0.5, 10)\n",
    "daprox = [f(ts[i], aprox[i]) for i in range(len(ts))]\n",
    "interp = [interp_hermite(xi, ts, aprox, daprox) for xi in xs]\n",
    "exacta = (xs+1)**2 - 0.5*np.exp(xs)\n",
    "exactat = (ts+1)**2 - 0.5*np.exp(ts)\n",
    "plt.plot(xs, (interp - exacta)/exacta)\n",
    "plt.scatter(ts, (aprox - exactat)/exactat, color='red')"
   ]
  },
  {
   "cell_type": "markdown",
   "metadata": {},
   "source": [
    "Requiere más operaciones, pero la ganancia en error vale la pena.\n",
    "\n",
    "Los paquetes modernos dan como output una función interpolante."
   ]
  },
  {
   "cell_type": "markdown",
   "metadata": {},
   "source": [
    " ## Tareas"
   ]
  },
  {
   "cell_type": "markdown",
   "metadata": {},
   "source": [
    "### Tarea 10.6"
   ]
  },
  {
   "cell_type": "markdown",
   "metadata": {},
   "source": [
    "Modifique el código de interpolación de Taylor de segundo orden para que regrese una función interpolante de Hermite. Pruebe su código con algún ejemplo."
   ]
  },
  {
   "cell_type": "markdown",
   "metadata": {},
   "source": [
    "### Tarea 10.7"
   ]
  },
  {
   "cell_type": "markdown",
   "metadata": {},
   "source": [
    "Considere la ecuación diferencial que se ha resuelto en los ejemplos de clase:\n",
    "\n",
    "$$\n",
    "y'(t) = y(t) - t^2 + 1\\,,\\quad 0 \\leq t \\leq 2\\,,\n",
    "$$\n",
    "\n",
    "pero ahora con una condición inicial\n",
    "\n",
    "$$\n",
    "y(0) = 0.5 + \\delta_o\n",
    "$$\n",
    "\n",
    "donde $\\delta_o$ es un error cometido al fijar la condición.\n",
    "\n",
    "* Resuelva esta ecuación usando el método de Euler con una precisión de $10^{-4}$. Considere varios valores de $\\delta_o$ entre $-0.1$ y $0.1$ y grafique $y(2)$ en función de $\\delta_o$. \n",
    "\n",
    "* Compare su resultado con el valor de $y(2)$ obtenido de la solución analítica $y(t) = (t + 1)^2 - 0.5e^t$. Comente."
   ]
  },
  {
   "cell_type": "markdown",
   "metadata": {},
   "source": [
    "### Tarea 10.8"
   ]
  },
  {
   "cell_type": "markdown",
   "metadata": {},
   "source": [
    "Resuelva el siguiente problema de valor inicial usando el método de Euler y los métodos de Taylor de orden 2 y 3\n",
    "\n",
    "$$\n",
    "y'(t) = \\frac{\\cos(t)}{\\sin(y(t))}\\,,\\quad y(0) = 1\\,,\\quad 0 \\leq t \\leq 1\n",
    "$$\n",
    "\n",
    "Resuelva la ecuación analíticamente y grafique en función de $h$ el error cometido con los tres métodos para $t = 1$. ¿Es compatible con lo esperado? ¿Por qué?"
   ]
  },
  {
   "cell_type": "markdown",
   "metadata": {},
   "source": [
    "### Tarea 10.9"
   ]
  },
  {
   "cell_type": "markdown",
   "metadata": {},
   "source": [
    "Ejercicio 5.3.12 libro de Burden\n",
    "\n",
    "Un proyectil con masa $m = 0.11$ kg se dispara verticalmente hacia arriba con una velocidad inicial $v(0) = 8$ m/s y sufre una desaceleración debida a la fuerza de la gravedad $F = -mg$ y a la resistencia del aire $F = -kv|v|$, donde $g = 9.8$ m/s^2 y $k = 0.002$ kg/m.\n",
    "\n",
    "* Encuentre la velocidad a $t = 0.1, 0.2, ..., 1.0$ segundos.\n",
    "* Encuentre a la primera cifra decimal  el tiempo al cual el proyectil alcanza su máxima altura y vuelve a empezar a caer."
   ]
  },
  {
   "cell_type": "markdown",
   "metadata": {},
   "source": [
    "### Tarea 10.10"
   ]
  },
  {
   "cell_type": "markdown",
   "metadata": {},
   "source": [
    "Ejercicio 5.2.12 libro de Burden\n",
    "\n",
    "Considere el problema de valor inicial\n",
    "\n",
    "$$\n",
    "y'(t) = -10y\\,,\\quad 0\\leq t\\leq 2\\,,\\quad y(0) = 1\n",
    "$$\n",
    "\n",
    "que tiene solución $y(t) = e^{-10t}$.¿Qué ocurre cuando el método de Euler se aplica a este problema con $h = 0.1$? ¿Viola la fórmula del error del método?"
   ]
  }
 ],
 "metadata": {
  "kernelspec": {
   "display_name": "Python 3",
   "language": "python",
   "name": "python3"
  },
  "language_info": {
   "codemirror_mode": {
    "name": "ipython",
    "version": 3
   },
   "file_extension": ".py",
   "mimetype": "text/x-python",
   "name": "python",
   "nbconvert_exporter": "python",
   "pygments_lexer": "ipython3",
   "version": "3.7.7"
  }
 },
 "nbformat": 4,
 "nbformat_minor": 4
}
