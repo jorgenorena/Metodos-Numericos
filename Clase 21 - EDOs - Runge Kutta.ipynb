{
 "cells": [
  {
   "cell_type": "markdown",
   "metadata": {},
   "source": [
    "# Clase 21: EDOs - Runge Kutta"
   ]
  },
  {
   "cell_type": "code",
   "execution_count": 64,
   "metadata": {},
   "outputs": [],
   "source": [
    "import numpy as np\n",
    "import matplotlib.pyplot as plt"
   ]
  },
  {
   "cell_type": "markdown",
   "metadata": {},
   "source": [
    "Los métodos de Taylor de alto orden son muy precisos pero requieren conocer las derivadas de alto orden de la función $f$. Como esto puede ser inconveniente, no se usan mucho en la práctica."
   ]
  },
  {
   "cell_type": "markdown",
   "metadata": {},
   "source": [
    "Los métodos de Runge-Kutta logran el error de truncación local de alto orden sin necesitar esas derivadas."
   ]
  },
  {
   "cell_type": "markdown",
   "metadata": {},
   "source": [
    "## Runge Kutta"
   ]
  },
  {
   "cell_type": "markdown",
   "metadata": {},
   "source": [
    "Supongamos que queremos utilizar una aproximación de Taylor de segundo orden\n",
    "\n",
    "$$\n",
    "T^{(2)} = f(t, y) + \\frac{h}{2}f'(t, y)\\,.\n",
    "$$\n",
    "\n",
    "Para no calcular la derivada, sabemos que la misma información está contenida en la función $f$, así que escribimos $a_1 f(t + \\alpha_1, y + \\beta_1)$ y buscamos coeficientes tales que esta expresión sea aproximadamente igual a $T^{(2)}$ con un error de orden $h^2$ (que de todas formas tenemos al usar $T^{(2)}$ para resolver la ecuación diferencial).\n",
    "\n",
    "Primero escribimos\n",
    "\n",
    "$$\n",
    "\\frac{df}{dt}(t, y) = \\frac{\\partial f}{\\partial t}(t, y) + \\frac{\\partial f}{\\partial y}(t, y) y'(t)\n",
    "$$\n",
    "\n",
    "tal que \n",
    "\n",
    "$$\n",
    "T^{(2)} = f(t, y) + \\frac{h}{2}\\frac{\\partial f}{\\partial t}(t, y) + \\frac{h}{2}f(t, y)\\frac{\\partial f}{\\partial y}(t, y)\\,.\n",
    "$$\n",
    "\n",
    "Ahorar comparamos con\n",
    "\n",
    "$$\n",
    "a_1 f(t + \\alpha_1, y + \\beta_1) \\approx a_1 f(t, y) + a_1 \\alpha_1 \\frac{\\partial f}{\\partial t}(t, y) + a_1 \\beta_1\\frac{\\partial f}{\\partial y}(t, y) \n",
    "$$\n",
    "\n",
    "El error de esta aproximación está dado por el teorema de Taylor\n",
    "\n",
    "$$\n",
    "R = \\frac{\\alpha_1^2}{2}\\frac{\\partial^2 f}{\\partial t^2}(\\xi, \\mu) + \\alpha_1 \\beta_1\\frac{\\partial^2 f}{\\partial t \\partial y}(\\xi, \\mu) + \\frac{\\beta_1^2}{2}\\frac{\\partial^2 f}{\\partial y^2}(\\xi, \\mu)\n",
    "$$\n",
    "\n",
    "Ahora hacemos $a_1 f(t + \\alpha_1, y + \\beta_1) = T^{(2)}$ y resolvemos para obtener\n",
    "\n",
    "$$\n",
    "a_1 = 1\\,,\\quad \\alpha_1 = \\frac{h}{2}\\,,\\quad \\beta_1 = \\frac{h}{2} f(t, y)\\,,\n",
    "$$\n",
    "\n",
    "y entonces el error de Taylor es de orden $h^2$ que es lo que queríamos. Mientras las derivadas parciales estén acottadas tenemos entonces un método con error de orden $h^2$ sin calcular derivadas. Lo podemos llamar Runge-Kutta de orden 2 o método del punto medio."
   ]
  },
  {
   "cell_type": "code",
   "execution_count": 65,
   "metadata": {},
   "outputs": [],
   "source": [
    "def midpoint(f, a, b, yo, N):\n",
    "    \n",
    "    h = (b-a)/N\n",
    "    t = a\n",
    "    w = yo\n",
    "    ts = np.zeros(N+1)\n",
    "    sol = np.zeros(N+1)\n",
    "    \n",
    "    for i in range(N):\n",
    "        ts[i] = t\n",
    "        sol[i] = w\n",
    "        w = w + h*f(t + h/2, w + h/2*f(t, w))\n",
    "        t = t + h\n",
    "        \n",
    "    ts[N] = t\n",
    "    sol[N] = w\n",
    "    \n",
    "    return ts, sol"
   ]
  },
  {
   "cell_type": "markdown",
   "metadata": {},
   "source": [
    "Este método lo podemos llamar Runge-Kutta de orden 2. Podemos continuar y buscar alguna aproximación para el polinomio de Taylor de orden 3, por lo que se escribe por ejemplo\n",
    "\n",
    "$$\n",
    "T^{(3)} = a_1 f(t + \\alpha_1, y + \\delta_1 f(t + \\alpha_2, y + \\delta_2 f(t,y))).\n",
    "$$\n",
    "\n",
    "Lo importante es tener suficientes coeficientes libres para acercarse al polinomio. Despejar los coeficientes es engorroso, pero existen métodos de este orden."
   ]
  },
  {
   "cell_type": "markdown",
   "metadata": {},
   "source": [
    "Por motivos que discutiremos más abajo, en la práctica se usa el método de Runge-Kutta de orden 4, que se puede obtener de manera análoga"
   ]
  },
  {
   "cell_type": "code",
   "execution_count": 66,
   "metadata": {},
   "outputs": [],
   "source": [
    "def rk4(f, a, b, yo, N):\n",
    "    \n",
    "    h = (b-a)/N\n",
    "    t = a\n",
    "    w = yo\n",
    "    ts = np.zeros(N+1)\n",
    "    sol = np.zeros(N+1)\n",
    "    \n",
    "    for i in range(N):\n",
    "        ts[i] = t\n",
    "        sol[i] = w\n",
    "        k1 = h*f(t, w)\n",
    "        k2 = h*f(t+h/2, w+k1/2)\n",
    "        k3 = h*f(t+h/2, w+k2/2)\n",
    "        k4 = h*f(t + h, w + k3)\n",
    "        w = w + (k1 + 2*k2 + 2*k3 + k4)/6\n",
    "        t = t + h\n",
    "        \n",
    "    ts[N] = t\n",
    "    sol[N] = w\n",
    "    \n",
    "    return ts, sol"
   ]
  },
  {
   "cell_type": "markdown",
   "metadata": {},
   "source": [
    "El método de Runge-Kutta orden 4 requiere $4$ evaluaciones de la función, lo que lo hace el doble de lento que el método de orden 2 para un mismo $N$. A su vez, el método de orden 2 requiere el doble de evaluaciones que el método de Euler. \n",
    "\n",
    "En general, al subir el orden se reduce el error pero aumenta el número de evaluaciones. Lo ideal es encontrar el método que produzca el menor error para un mismo número de evaluaciones. Estos suelen ser los métodos de orden $4$, aunque los métodos de orden $5$ a $7$ también son usados como veremos más abajo."
   ]
  },
  {
   "cell_type": "markdown",
   "metadata": {},
   "source": [
    "Como ejemplo consideremos el problema de la clase pasada\n",
    "\n",
    "$$\n",
    "y'(t) = y - t^2 + 1\\,,\\quad 0\\leq t\\leq 2\\,,\\quad y(0) = 0.5.\n",
    "$$"
   ]
  },
  {
   "cell_type": "code",
   "execution_count": 67,
   "metadata": {},
   "outputs": [],
   "source": [
    "def euler(f, a, b, yo, N):\n",
    "    \n",
    "    h = (b-a)/N\n",
    "    t = a\n",
    "    w = yo\n",
    "    ts = np.zeros(N+1)\n",
    "    sol = np.zeros(N+1)\n",
    "    \n",
    "    for i in range(N):\n",
    "        ts[i] = t\n",
    "        sol[i] = w\n",
    "        w = w + h*f(t, w)\n",
    "        t = t + h\n",
    "        \n",
    "    ts[N] = t\n",
    "    sol[N] = w\n",
    "    \n",
    "    return ts, sol"
   ]
  },
  {
   "cell_type": "code",
   "execution_count": 68,
   "metadata": {},
   "outputs": [],
   "source": [
    "def f(t, y):\n",
    "    return y - t**2 + 1"
   ]
  },
  {
   "cell_type": "code",
   "execution_count": 69,
   "metadata": {},
   "outputs": [],
   "source": [
    "ts_eul, sol_eul = euler(f, 0, 2, 0.5, 80)\n",
    "ts_mid, sol_mid = midpoint(f, 0, 2, 0.5, 40)\n",
    "ts_rk4, sol_rk4 = rk4(f, 0, 2, 0.5, 20)\n",
    "exacta_eul = (ts_eul + 1)**2 - 0.5*np.exp(ts_eul)\n",
    "exacta_mid = (ts_mid + 1)**2 - 0.5*np.exp(ts_mid)\n",
    "exacta_rk4 = (ts_rk4 + 1)**2 - 0.5*np.exp(ts_rk4)"
   ]
  },
  {
   "cell_type": "code",
   "execution_count": 70,
   "metadata": {},
   "outputs": [
    {
     "data": {
      "text/plain": [
       "<matplotlib.legend.Legend at 0x118311890>"
      ]
     },
     "execution_count": 70,
     "metadata": {},
     "output_type": "execute_result"
    },
    {
     "data": {
      "image/png": "[encoded data removed]",
      "text/plain": [
       "<Figure size 432x288 with 1 Axes>"
      ]
     },
     "metadata": {
      "needs_background": "light"
     },
     "output_type": "display_data"
    }
   ],
   "source": [
    "plt.loglog(ts_eul, abs(sol_eul - exacta_eul), label='Euler')\n",
    "plt.loglog(ts_mid, abs(sol_mid - exacta_mid), label='Orden 2')\n",
    "plt.loglog(ts_rk4, abs(sol_rk4 - exacta_rk4), label='Orden 4')\n",
    "plt.legend()"
   ]
  },
  {
   "cell_type": "markdown",
   "metadata": {},
   "source": [
    "## Control de errores y pasos adaptativos"
   ]
  },
  {
   "cell_type": "markdown",
   "metadata": {},
   "source": [
    "Así como ocurre en las integrales, para las ecuaciones diferenciales lo ideal sería ir adaptando el tamaño de cada paso a la solución. De esta forma el programa gastará más tiempo cerca de los puntos donde la variación es más rápida. Si tenemos una estima del error, podemos requerir que el paso sea tal que el error esté por debajo de una cierta tolerancia."
   ]
  },
  {
   "cell_type": "markdown",
   "metadata": {},
   "source": [
    "Para ver cómo hacerlo, consideremos dos métodos que aproximan la solución, uno de orden $n$\n",
    "\n",
    "$$\n",
    "y(t_{i+1}) = y(t_i) + h\\phi(t_i, y(t_i), h) + \\mathcal{O}(h^{n+1})\n",
    "$$\n",
    "\n",
    "tal que\n",
    "\n",
    "$$\n",
    "w_{i+1} = w_i + h\\phi(t_i, w_i, h)\\,,\n",
    "$$\n",
    "\n",
    "y otro de orden $n + 1$\n",
    "\n",
    "$$\n",
    "y(t_{i+1}) = y(t_i) + h\\tilde{\\phi}(t_i, y(t_i), h) + \\mathcal{O}(h^{n+2})\n",
    "$$\n",
    "\n",
    "tal que \n",
    "\n",
    "$$\n",
    "\\tilde{w}_{i+1} = \\tilde{w}_i + h\\tilde{\\phi}(t_i, \\tilde{w}_i, h)\\,,\n",
    "$$"
   ]
  },
  {
   "cell_type": "markdown",
   "metadata": {},
   "source": [
    "Ahora bien\n",
    "\n",
    "$$\n",
    "\\tau_{i+1}(h) = \\frac{y(t_{i+1}) - y(t_i) - h\\phi(t_i, y(t_i), h)}{h} \\approx \\frac{y(t_{i+1}) - w_i - h\\phi(t_i, w_i, h)}{h} = \\frac{1}{h}(y(t_{i+1}) - w_{i+1})\n",
    "$$\n",
    "\n",
    "y análogamente\n",
    "\n",
    "$$\n",
    "\\tilde{\\tau}_{i+1}(h) \\approx \\frac{1}{h}(y(t_{i+1}) - \\tilde{w}_{i+1})\\,.\n",
    "$$\n",
    "\n",
    "Entonces restando\n",
    "\n",
    "$$\n",
    "\\tau_{i+1}(h) \\approx \\tilde{\\tau}_{i+1}(h) + \\frac{1}{h}(\\tilde{w}_{i+1} - w_{i+1})\n",
    "$$\n",
    "\n",
    "y como $\\tau$ es de orden $h^n$ mientras que $\\tilde{\\tau}$ es de orden $h^{n + 1}$, para $h \\ll 1$ la mayor parte de $\\tau$ debe venir del segundo término, y podemos escribir\n",
    "\n",
    "$$\n",
    "\\tau_{i+1}(h) \\approx \\frac{1}{h}(\\tilde{w}_{i+1} - w_{i+1})\n",
    "$$\n"
   ]
  },
  {
   "cell_type": "markdown",
   "metadata": {},
   "source": [
    "Podemos usar esa expresión para adaptar el paso. Si escribimos $\\tau_{i+1}(h) \\approx Kh^n$, entonces $\\tau_{i+1}(qh) = q^n \\tau_{i+1}(h)$. Esto nos dice de qué tamaño necesitamos hacer $q$ para obtener un error de una cierta tolerancia\n",
    "\n",
    "$$\n",
    "\\frac{q^n}{h}|\\tilde{w}_{i+1} - w_{i+1}| \\approx |\\tau_{i+1}(qh)| \\leq \\epsilon\n",
    "$$\n",
    "\n",
    "lo que implica\n",
    "\n",
    "$$\n",
    "q \\leq \\left(\\frac{\\epsilon h}{|\\tilde{w}_{i+1} - w_{i+1}|}\\right)^{1/n}\n",
    "$$"
   ]
  },
  {
   "cell_type": "markdown",
   "metadata": {},
   "source": [
    "Se usan entonces dos Runge Kutta de orden distinto para estimar el error en un paso dado, de esta manera se calcula $q$ y se re-calcula el paso si el error es demasiado grande. "
   ]
  },
  {
   "cell_type": "markdown",
   "metadata": {},
   "source": [
    "Un algoritmo que usa dos Runge-Kutta de orden 4 y 5, tales que las evaluaciones de la función usadas en el Runge-Kutta de orden 4 se pueden reutilizar en el orden 5, es el llamado Runge-Kutta-Fehlberg."
   ]
  },
  {
   "cell_type": "code",
   "execution_count": 71,
   "metadata": {},
   "outputs": [],
   "source": [
    "class MinStep(Exception):\n",
    "    pass\n",
    "\n",
    "def rkf(f, a, b, yo, tol, hmin, hmax):\n",
    "    \n",
    "    t = a\n",
    "    w = yo\n",
    "    h = hmax\n",
    "    flag = 1\n",
    "    \n",
    "    ts = [t]\n",
    "    sol = [w]\n",
    "    hs = []\n",
    "    rs = []\n",
    "    \n",
    "    while flag:\n",
    "        \n",
    "        # Evaluaciones de la función \n",
    "        k1 = h*f(t, w)\n",
    "        k2 = h*f(t + h/4, w + k1/4)\n",
    "        k3 = h*f(t + 3*h/8, w + 3*k1/32 + 9*k2/32)\n",
    "        k4 = h*f(t + 12*h/13, w + 1932*k1/2197 - 7200*k2/2197 + 7296*k3/2197)\n",
    "        k5 = h*f(t + h, w + 439*k1/216 - 8*k2 + 3680*k3/513 - 845*k4/4104)\n",
    "        k6 = h*f(t + h/2, w - 8*k1/27 + 2*k2 - 3544*k3/2565 + 1859*k4/4104 - 11*k5/40)\n",
    "        \n",
    "        # Estima del error dada por la diferencia entre dos RKs\n",
    "        R = abs(k1/360 - 128*k3/4275 - 2197*k4/75240 + k5/50 + 2*k6/55)\n",
    "        \n",
    "        # Si el error es menor que la tolerancia, se acepta el paso\n",
    "        if R <= tol:\n",
    "            t += h\n",
    "            w = w + 25*k1/216 + 1408*k3/2565 + 2197*k4/4104 - k5/5\n",
    "            ts.append(t)\n",
    "            sol.append(w)\n",
    "            hs.append(h)\n",
    "            rs.append(R)\n",
    "            \n",
    "        # el 0.84 es un factor para hacer la estima más conservadora \n",
    "        # corresponde a 1/2**(1/4)\n",
    "        q = 0.84*(tol/R)**(1/4)\n",
    "        \n",
    "        # ACTUALIZACIÓN DE h\n",
    "        # Se establece un q mínimo para no quedarse atrapado en alguna región.\n",
    "        # Esto se puede cambiar.\n",
    "        if q <= 0.1:\n",
    "            h = 0.1*h\n",
    "        # Se establece también un q máximo para no peder detalles de la función\n",
    "        elif q >= 4:\n",
    "            h = 4*h\n",
    "        else:\n",
    "            h = q*h\n",
    "        if h > hmax:\n",
    "            h = hmax\n",
    "        \n",
    "        # Si nos pasamos de b, terminamos\n",
    "        if t >= b:\n",
    "            flag = 0\n",
    "        # El último paso debe llegar a b\n",
    "        elif t + h > b:\n",
    "            h = b - t\n",
    "        elif h < hmin:\n",
    "            raise MinStep('Se excedió el paso mínimo.')\n",
    "            \n",
    "    return np.array(ts), np.array(sol), np.array(hs), np.array(rs)"
   ]
  },
  {
   "cell_type": "code",
   "execution_count": 72,
   "metadata": {},
   "outputs": [
    {
     "data": {
      "text/plain": [
       "(array([0.        , 0.18812304, 0.38881414, 0.59046834, 0.79762343,\n",
       "        1.01177324, 1.23756326, 1.48597794, 1.73597794, 1.94107482,\n",
       "        2.        ]),\n",
       " array([0.5       , 0.8081457 , 1.19119039, 1.62717421, 2.12132311,\n",
       "        2.67199762, 3.28309181, 3.97044924, 4.64834489, 5.16681193,\n",
       "        5.30548045]),\n",
       " array([0.18812304, 0.2006911 , 0.2016542 , 0.20715509, 0.21414981,\n",
       "        0.22579002, 0.24841468, 0.25      , 0.20509688, 0.05892518]),\n",
       " array([3.84390537e-07, 4.88427971e-07, 4.47057873e-07, 4.35942067e-07,\n",
       "        4.02873762e-07, 3.39802909e-07, 1.59410559e-07, 3.87024526e-07,\n",
       "        4.15898055e-07, 1.43447683e-09]))"
      ]
     },
     "execution_count": 72,
     "metadata": {},
     "output_type": "execute_result"
    }
   ],
   "source": [
    "rkf(f, 0, 2, 0.5, 1e-6, 0.01, 0.25)"
   ]
  },
  {
   "cell_type": "code",
   "execution_count": 73,
   "metadata": {},
   "outputs": [
    {
     "data": {
      "text/plain": [
       "[<matplotlib.lines.Line2D at 0x1186ce350>]"
      ]
     },
     "execution_count": 73,
     "metadata": {},
     "output_type": "execute_result"
    },
    {
     "data": {
      "image/png": "[encoded data removed]",
      "text/plain": [
       "<Figure size 432x288 with 1 Axes>"
      ]
     },
     "metadata": {
      "needs_background": "light"
     },
     "output_type": "display_data"
    }
   ],
   "source": [
    "ts_rkf, sol_rkf, hs_rkf, rs_rkf = rkf(f, 0, 2, 0.5, 1e-6, 0.01, 0.25)\n",
    "exacta_rkf = (ts_rkf + 1)**2 - 0.5*np.exp(ts_rkf)\n",
    "plt.plot(ts_rkf, sol_rkf - exacta_rkf)"
   ]
  },
  {
   "cell_type": "markdown",
   "metadata": {},
   "source": [
    "## Tareas"
   ]
  },
  {
   "cell_type": "markdown",
   "metadata": {},
   "source": [
    "### Tarea 11.1"
   ]
  },
  {
   "cell_type": "markdown",
   "metadata": {},
   "source": [
    "Modifique los métodos rkf y rk4 introducidos para imprimir el número de evaluaciones. Resuelva el problema de valor inicial\n",
    "\n",
    "$$\n",
    "y'(t) = te^{3t} - 2y\\,,\\quad 0\\leq t \\leq 1\\,,\\quad y(0) = 0\\,,\n",
    "$$\n",
    "\n",
    "cuya solución exacta es $y(t) = \\frac{1}{5}te^{3t} - \\frac{1}{25}e^{3t} + \\frac{1}{25}e^{-2t}$. Obtenga un error similar (y menor a $10^{-4}$) con ambos métodos y compare el número de evaluaciones. Discuta cuál es preferible y por qué."
   ]
  },
  {
   "cell_type": "code",
   "execution_count": 224,
   "metadata": {},
   "outputs": [],
   "source": [
    "def rk4_m(f, a, b, yo, N):\n",
    "    \n",
    "    h = (b-a)/N\n",
    "    t = a\n",
    "    w = yo\n",
    "    ts = np.zeros(N+1)\n",
    "    sol = np.zeros(N+1)\n",
    "    evals = 0\n",
    "    \n",
    "    for i in range(N):\n",
    "        ts[i] = t\n",
    "        sol[i] = w\n",
    "        k1 = h*f(t, w)\n",
    "        k2 = h*f(t+h/2, w+k1/2)\n",
    "        k3 = h*f(t+h/2, w+k2/2)\n",
    "        k4 = h*f(t + h, w + k3)\n",
    "        w = w + (k1 + 2*k2 + 2*k3 + k4)/6\n",
    "        t = t + h\n",
    "        evals += 4\n",
    "        \n",
    "    ts[N] = t\n",
    "    sol[N] = w\n",
    "    \n",
    "    print('Nro. de evaluaciones rk4:', evals)\n",
    "    return ts, sol"
   ]
  },
  {
   "cell_type": "code",
   "execution_count": 225,
   "metadata": {},
   "outputs": [],
   "source": [
    "class MinStep(Exception):\n",
    "    pass\n",
    "\n",
    "def rkf_m(f, a, b, yo, tol, hmin, hmax):\n",
    "    \n",
    "    t = a\n",
    "    w = yo\n",
    "    h = hmax\n",
    "    flag = 1\n",
    "    \n",
    "    ts = [t]\n",
    "    sol = [w]\n",
    "    hs = []\n",
    "    rs = []\n",
    "    evals = 0\n",
    "    \n",
    "    while flag:\n",
    "        \n",
    "        # Evaluaciones de la función \n",
    "        k1 = h*f(t, w)\n",
    "        k2 = h*f(t + h/4, w + k1/4)\n",
    "        k3 = h*f(t + 3*h/8, w + 3*k1/32 + 9*k2/32)\n",
    "        k4 = h*f(t + 12*h/13, w + 1932*k1/2197 - 7200*k2/2197 + 7296*k3/2197)\n",
    "        k5 = h*f(t + h, w + 439*k1/216 - 8*k2 + 3680*k3/513 - 845*k4/4104)\n",
    "        k6 = h*f(t + h/2, w - 8*k1/27 + 2*k2 - 3544*k3/2565 + 1859*k4/4104 - 11*k5/40)\n",
    "        evals += 6\n",
    "        \n",
    "        # Estima del error dada por la diferencia entre dos RKs\n",
    "        R = abs(k1/360 - 128*k3/4275 - 2197*k4/75240 + k5/50 + 2*k6/55)\n",
    "        \n",
    "        # Si el error es menor que la tolerancia, se acepta el paso\n",
    "        if R <= tol:\n",
    "            t += h\n",
    "            w = w + 25*k1/216 + 1408*k3/2565 + 2197*k4/4104 - k5/5\n",
    "            ts.append(t)\n",
    "            sol.append(w)\n",
    "            hs.append(h)\n",
    "            rs.append(R)\n",
    "            \n",
    "        # el 0.84 es un factor para hacer la estima más conservadora \n",
    "        # corresponde a 1/2**(1/4)\n",
    "        q = 0.84*(tol/R)**(1/4)\n",
    "        \n",
    "        # ACTUALIZACIÓN DE h\n",
    "        # Se establece un q mínimo para no quedarse atrapado en alguna región.\n",
    "        # Esto se puede cambiar.\n",
    "        if q <= 0.1:\n",
    "            h = 0.1*h\n",
    "        # Se establece también un q máximo para no peder detalles de la función\n",
    "        elif q >= 4:\n",
    "            h = 4*h\n",
    "        else:\n",
    "            h = q*h\n",
    "        if h > hmax:\n",
    "            h = hmax\n",
    "        \n",
    "        # Si nos pasamos de b, terminamos\n",
    "        if t >= b:\n",
    "            flag = 0\n",
    "        # El último paso debe llegar a b\n",
    "        elif t + h > b:\n",
    "            h = b - t\n",
    "        elif h < hmin:\n",
    "            raise MinStep('Se excedió el paso mínimo.')\n",
    "            \n",
    "    print('Nro. de evaluaciones rkf:', evals)\n",
    "    return np.array(ts), np.array(sol), np.array(hs), np.array(rs)"
   ]
  },
  {
   "cell_type": "code",
   "execution_count": 244,
   "metadata": {},
   "outputs": [],
   "source": [
    "def f(t, y):\n",
    "    return t*np.exp(3*t) - 2*y\n",
    "\n",
    "a = 0\n",
    "b = 1\n",
    "yo = 0\n",
    "tol = 1e-7\n",
    "\n",
    "def exacta(t):\n",
    "    return (1/5)*t*np.exp(3*t) - (1/25)*np.exp(3*t) + (1/25)*np.exp(-2*t)"
   ]
  },
  {
   "cell_type": "code",
   "execution_count": 251,
   "metadata": {},
   "outputs": [
    {
     "name": "stdout",
     "output_type": "stream",
     "text": [
      "Nro. de evaluaciones rkf: 120\n",
      "Nro. de evaluaciones rk4: 160\n"
     ]
    }
   ],
   "source": [
    "sol_rkf = rkf_m(f, a, b, yo, tol, 0.0001, 0.2)\n",
    "sol_rk4 = rk4_m(f, a, b, yo, 40)"
   ]
  },
  {
   "cell_type": "code",
   "execution_count": 252,
   "metadata": {},
   "outputs": [
    {
     "data": {
      "text/plain": [
       "[<matplotlib.lines.Line2D at 0x11c0c9b10>]"
      ]
     },
     "execution_count": 252,
     "metadata": {},
     "output_type": "execute_result"
    },
    {
     "data": {
      "image/png": "[encoded data removed]",
      "text/plain": [
       "<Figure size 432x288 with 1 Axes>"
      ]
     },
     "metadata": {
      "needs_background": "light"
     },
     "output_type": "display_data"
    }
   ],
   "source": [
    "plt.plot(sol_rkf[0], sol_rkf[1] - exacta(sol_rkf[0]))\n",
    "plt.plot(sol_rk4[0], sol_rk4[1] - exacta(sol_rk4[0]))"
   ]
  },
  {
   "cell_type": "markdown",
   "metadata": {},
   "source": [
    "Alcanzamos un error similar para un número algo menor de evaluaciones para el RKF. El método de RKF es preferible ya que provee una estima del error cometido y al adaptar su paso requiere menos evaluaciones. Sin embargo, al arrojar la solución en un número menor de puntos, hay que poner cuidado con la interpolación."
   ]
  },
  {
   "cell_type": "markdown",
   "metadata": {},
   "source": [
    "### Tarea 11.2"
   ]
  },
  {
   "cell_type": "markdown",
   "metadata": {},
   "source": [
    "Resuelva el siguiente problema de valor inicial usando el método de Runge-Kutta de orden 4 y el método de Taylor de orden 4.\n",
    "\n",
    "$$\n",
    "y'(t) = 1 + (t - y)^2\\,,\\quad 2 \\leq t \\leq 3\\,,\\quad y(2) = 1\\,,\n",
    "$$\n",
    "\n",
    "que tiene solución exacta $y(t) = t + 1/(1-t)$. Compare los errores y el número de evaluaciones necesarias. ¿Cuál es preferible y por qué?"
   ]
  },
  {
   "cell_type": "code",
   "execution_count": 207,
   "metadata": {},
   "outputs": [],
   "source": [
    "def f(t, y):\n",
    "    return 1 + (t - y)**2\n",
    "\n",
    "def df(t, y):\n",
    "    return 2*(t - y)*(1 - f(t, y))\n",
    "\n",
    "def d2f(t, y):\n",
    "    return 2*(1 - f(t, y))**2 - 2*(t - y)*df(t, y)\n",
    "\n",
    "def d3f(t, y):\n",
    "    return -6*(1 - f(t, y))*df(t, y) - 2*(t - y)*d2f(t, y)"
   ]
  },
  {
   "cell_type": "code",
   "execution_count": 208,
   "metadata": {},
   "outputs": [],
   "source": [
    "def taylor4(f, df, d2f, d3f, a, b, yo, N):\n",
    "    \n",
    "    h = (b-a)/N\n",
    "    t = a\n",
    "    w = yo\n",
    "    ts = np.zeros(N+1)\n",
    "    sol = np.zeros(N+1)\n",
    "    \n",
    "    for i in range(N):\n",
    "        ts[i] = t\n",
    "        sol[i] = w\n",
    "        w = w + h*(f(t, w) + h*(df(t, w)/2 + h*(d2f(t, w)/6 + h*d3f(t, w)/24)))\n",
    "        t = t + h\n",
    "        \n",
    "    ts[N] = t\n",
    "    sol[N] = w\n",
    "    \n",
    "    return ts, sol"
   ]
  },
  {
   "cell_type": "code",
   "execution_count": 211,
   "metadata": {},
   "outputs": [],
   "source": [
    "sol_rk4 = rk4(f, 2, 3, 1, 10)\n",
    "sol_t4 = taylor4(f, df, d2f, d3f, 2, 3, 1, 10)"
   ]
  },
  {
   "cell_type": "code",
   "execution_count": 212,
   "metadata": {},
   "outputs": [
    {
     "data": {
      "text/plain": [
       "Text(0, 0.5, 'Error absoluto')"
      ]
     },
     "execution_count": 212,
     "metadata": {},
     "output_type": "execute_result"
    },
    {
     "data": {
      "image/png": "[encoded data removed]",
      "text/plain": [
       "<Figure size 432x288 with 1 Axes>"
      ]
     },
     "metadata": {
      "needs_background": "light"
     },
     "output_type": "display_data"
    }
   ],
   "source": [
    "def exacta(t):\n",
    "    return t + 1/(1 - t)\n",
    "\n",
    "plt.plot(sol_rk4[0], sol_rk4[1] - exacta(sol_rk4[0]), label = 'Runge Kutta 4')\n",
    "plt.plot(sol_t4[0], sol_t4[1] - exacta(sol_t4[0]), label = 'Taylor 4')\n",
    "plt.legend()\n",
    "plt.xlabel('$t$')\n",
    "plt.ylabel('Error absoluto')"
   ]
  },
  {
   "cell_type": "markdown",
   "metadata": {},
   "source": [
    "El método de Runge Kutta tiene un error menor en este caso. Además, el método de Taylor requiere la evaluación de las derivadas de la función, lo que puede ser complicado en algunos casos."
   ]
  },
  {
   "cell_type": "markdown",
   "metadata": {},
   "source": [
    "### Tarea 11.3"
   ]
  },
  {
   "cell_type": "markdown",
   "metadata": {},
   "source": [
    "Modifique el método de Runge-Kutta-Fehlberg para quedarse con la solución de orden 5 en vez de la solución de orden 4. La solución de orden 5 está dada por\n",
    "\n",
    "$$\n",
    "w_{i+1} = w_i + \\frac{16}{135}k_1 + \\frac{6656}{12825}k_3 + \\frac{28561}{56430}k_4 - \\frac{9}{50}k_5 + \\frac{2}{55}k_6\n",
    "$$\n",
    "\n",
    "Úselo para resolver el siguiente problema de valor inicial con una tolerancia de $10^{-6}$\n",
    "\n",
    "$$\n",
    "y'(t) = \\frac{2 - 2ty}{t^2 + 1}\\,,\\quad 0\\leq t\\leq 3\\,,\\quad y(0) = 1\\,,\n",
    "$$\n",
    "\n",
    "que tiene una solución exacta $y(t) = (2t + 1)/(t^2 + 1)$. Compare con el método usual y discuta por qué se usa la solución de orden 4."
   ]
  },
  {
   "cell_type": "code",
   "execution_count": 193,
   "metadata": {},
   "outputs": [],
   "source": [
    "def exacta(t):\n",
    "    return (2*t + 1)/(t**2 + 1)"
   ]
  },
  {
   "cell_type": "code",
   "execution_count": 194,
   "metadata": {},
   "outputs": [],
   "source": [
    "class MinStep(Exception):\n",
    "    pass\n",
    "\n",
    "def rkf_m(f, a, b, yo, tol, hmin, hmax):\n",
    "    \n",
    "    t = a\n",
    "    w = yo\n",
    "    h = hmax\n",
    "    flag = 1\n",
    "    \n",
    "    ts = [t]\n",
    "    sol = [w]\n",
    "    hs = []\n",
    "    rs = []\n",
    "    \n",
    "    while flag:\n",
    "        \n",
    "        # Evaluaciones de la función \n",
    "        k1 = h*f(t, w)\n",
    "        k2 = h*f(t + h/4, w + k1/4)\n",
    "        k3 = h*f(t + 3*h/8, w + 3*k1/32 + 9*k2/32)\n",
    "        k4 = h*f(t + 12*h/13, w + 1932*k1/2197 - 7200*k2/2197 + 7296*k3/2197)\n",
    "        k5 = h*f(t + h, w + 439*k1/216 - 8*k2 + 3680*k3/513 - 845*k4/4104)\n",
    "        k6 = h*f(t + h/2, w - 8*k1/27 + 2*k2 - 3544*k3/2565 + 1859*k4/4104 - 11*k5/40)\n",
    "        \n",
    "        # Estima del error dada por la diferencia entre dos RKs\n",
    "        R = abs(k1/360 - 128*k3/4275 - 2197*k4/75240 + k5/50 + 2*k6/55)\n",
    "        \n",
    "        # Si el error es menor que la tolerancia, se acepta el paso\n",
    "        if R <= tol:\n",
    "            t += h\n",
    "            w = w + 16*k1/135 + 6656*k3/12825 + 28561*k4/56430 - 9*k5/50 + 2*k6/55\n",
    "            ts.append(t)\n",
    "            sol.append(w)\n",
    "            hs.append(h)\n",
    "            rs.append(R)\n",
    "            \n",
    "        # el 0.84 es un factor para hacer la estima más conservadora \n",
    "        # corresponde a 1/2**(1/4)\n",
    "        q = 0.84*(tol/R)**(1/4)\n",
    "        \n",
    "        # ACTUALIZACIÓN DE h\n",
    "        # Se establece un q mínimo para no quedarse atrapado en alguna región.\n",
    "        # Esto se puede cambiar.\n",
    "        if q <= 0.1:\n",
    "            h = 0.1*h\n",
    "        # Se establece también un q máximo para no peder detalles de la función\n",
    "        elif q >= 4:\n",
    "            h = 4*h\n",
    "        else:\n",
    "            h = q*h\n",
    "        if h > hmax:\n",
    "            h = hmax\n",
    "        \n",
    "        # Si nos pasamos de b, terminamos\n",
    "        if t >= b:\n",
    "            flag = 0\n",
    "        # El último paso debe llegar a b\n",
    "        elif t + h > b:\n",
    "            h = b - t\n",
    "        elif h < hmin:\n",
    "            raise MinStep('Se excedió el paso mínimo.')\n",
    "            \n",
    "    return np.array(ts), np.array(sol), np.array(hs), np.array(rs)"
   ]
  },
  {
   "cell_type": "code",
   "execution_count": 195,
   "metadata": {},
   "outputs": [],
   "source": [
    "def f(t, y):\n",
    "    return (2 - 2*t*y)/(t**2 + 1)\n",
    "\n",
    "a = 0\n",
    "b = 3\n",
    "yo = 1\n",
    "hmin = 0.00001\n",
    "hmax = 0.1\n",
    "tol = 1e-6"
   ]
  },
  {
   "cell_type": "code",
   "execution_count": 196,
   "metadata": {},
   "outputs": [],
   "source": [
    "sol = rkf(f, a, b, yo, tol, hmin, hmax)"
   ]
  },
  {
   "cell_type": "code",
   "execution_count": 197,
   "metadata": {},
   "outputs": [],
   "source": [
    "sol_m = rkf_m(f, a, b, yo, tol, hmin, hmax)"
   ]
  },
  {
   "cell_type": "code",
   "execution_count": 199,
   "metadata": {},
   "outputs": [
    {
     "data": {
      "text/plain": [
       "[<matplotlib.lines.Line2D at 0x11b128b90>]"
      ]
     },
     "execution_count": 199,
     "metadata": {},
     "output_type": "execute_result"
    },
    {
     "data": {
      "image/png": "[encoded data removed]",
      "text/plain": [
       "<Figure size 432x288 with 1 Axes>"
      ]
     },
     "metadata": {
      "needs_background": "light"
     },
     "output_type": "display_data"
    }
   ],
   "source": [
    "plt.plot(sol[0], sol[1] - exacta(sol[0]))\n",
    "plt.plot(sol_m[0], sol_m[1] - exacta(sol_m[0]))"
   ]
  },
  {
   "cell_type": "markdown",
   "metadata": {},
   "source": [
    "El método de quinto orden arroja un error menor. Sin embargo no tenemos control sobre ese error ya que necesitaríamos un método de sexto orden para estimarlo."
   ]
  },
  {
   "cell_type": "markdown",
   "metadata": {},
   "source": [
    "### Tarea 11.4"
   ]
  },
  {
   "cell_type": "markdown",
   "metadata": {},
   "source": [
    "Ejercicio 5.4.28, libro de Burden\n",
    "\n",
    "El agua fluye desde un tanque cónico invertido con un orificio circular en su punta a la razón\n",
    "\n",
    "$$\n",
    "\\frac{dx}{dt} = -0.6\\pi r^2 \\sqrt{2g}\\frac{\\sqrt{x}}{A(x)}\n",
    "$$\n",
    "\n",
    "donde $r$ es el radio del orificio, $x$ es la altura del líquido desde el vértice del cono y $A(x)$ es el área de la sección transversal del cono a $x$ unidades sobre el orificio (el área de la superficie del agua). Supponga que $r = 0.03$ m, $g = 9.81\\,\\text{m}/\\text{s}^2$, y el tanque tiene un nivel de agua inicial de $2.7$ m y un volumen inicial de $170(\\pi/3)\\,\\text{m}^3$. Use el método de Runge-Kutta de orden 4 para encontrar lo siguiente\n",
    "\n",
    "* El agua luego de 10 minutos con h=20 s.\n",
    "\n",
    "* Cuándo estará vacío el tanque, a una precisión de 1 minuto.\n",
    "\n",
    "(**Pista**: Yo resolví el segundo numeral modificando el código del Runge Kutta tal que termina cuando encuentra un valor no válido de $w$, ya que eso indica niveles de agua negativos y arroja un NaN cuando se toman raíces.)"
   ]
  },
  {
   "cell_type": "markdown",
   "metadata": {},
   "source": [
    "Podemos saber el ángulo que hacen las paredes del cono con su eje gracias a que sabemos el nivel del agua y el volumen iniciales. El volumen del cono está dado por $V = \\pi b^2 x/3$ donde $b$ es el radio de la superficie del agua. Podemos entonces deducir que\n",
    "\n",
    "$$\n",
    "b_o = \\sqrt{\\frac{3V_o}{\\pi x_o}} = \\sqrt{\\frac{170}{2.7}}\\,\\text{m}\n",
    "$$\n",
    "\n",
    "tal que el ángulo es \n",
    "\n",
    "$$\n",
    "\\tan\\theta = \\frac{b_o}{x_o}\n",
    "$$\n",
    "\n",
    "El área $A(x)$ está dada por\n",
    "\n",
    "$$\n",
    "A(x) = \\pi b^2(x) = \\pi x^2 \\tan^2\\theta = \\pi x^2 \\frac{b_o^2}{x_o^2} = \\frac{170\\pi}{(2.7)^3}x^2\n",
    "$$\n",
    "\n",
    "entonces la ecuación diferencial a resolver es\n",
    "\n",
    "$$\n",
    "\\frac{dx}{dt} = -\\frac{0.6\\times(2.7)^3}{170}\\sqrt{2g}r^2\\frac{1}{x^{3/2}} \\equiv -\\alpha\\frac{1}{x^{3/2}}\n",
    "$$"
   ]
  },
  {
   "cell_type": "markdown",
   "metadata": {},
   "source": [
    "Esta ecuación tiene una solución analítica\n",
    "\n",
    "$$\n",
    "x = \\left(x_o^{5/2}-\\frac{5}{2}\\alpha t\\right)^{2/5}\n",
    "$$\n",
    "\n",
    "y el tanque estará vacío en\n",
    "\n",
    "$$\n",
    "t = \\frac{2}{5\\alpha}x_o^{5/2}\n",
    "$$"
   ]
  },
  {
   "cell_type": "markdown",
   "metadata": {},
   "source": [
    "El tiempo que tarda en vaciarse es"
   ]
  },
  {
   "cell_type": "code",
   "execution_count": 178,
   "metadata": {},
   "outputs": [
    {
     "data": {
      "text/plain": [
       "288.3583414300914"
      ]
     },
     "execution_count": 178,
     "metadata": {},
     "output_type": "execute_result"
    }
   ],
   "source": [
    "alpha = (0.6*2.7**3/170)*np.sqrt(2*9.81)*0.03**2\n",
    "xo = 2.7\n",
    "\n",
    "(2/(5*alpha))*xo**(5/2)/60"
   ]
  },
  {
   "cell_type": "markdown",
   "metadata": {},
   "source": [
    "El volumen luego de diez minutos lo graficamos"
   ]
  },
  {
   "cell_type": "code",
   "execution_count": 179,
   "metadata": {},
   "outputs": [
    {
     "data": {
      "text/plain": [
       "[<matplotlib.lines.Line2D at 0x11adf5950>]"
      ]
     },
     "execution_count": 179,
     "metadata": {},
     "output_type": "execute_result"
    },
    {
     "data": {
      "image/png": "[encoded data removed]",
      "text/plain": [
       "<Figure size 432x288 with 1 Axes>"
      ]
     },
     "metadata": {
      "needs_background": "light"
     },
     "output_type": "display_data"
    }
   ],
   "source": [
    "ts = np.linspace(0, 10*60, 100)\n",
    "def x_e(t):\n",
    "    return (xo**(5/2) - (5/2)*alpha*t)**(2/5)\n",
    "plt.plot(ts, x_e(ts))"
   ]
  },
  {
   "cell_type": "markdown",
   "metadata": {},
   "source": [
    "Ahora hagámoslo con el Runge Kutta"
   ]
  },
  {
   "cell_type": "code",
   "execution_count": 180,
   "metadata": {},
   "outputs": [],
   "source": [
    "def f(t, x):\n",
    "    return -alpha/x**(3/2)\n",
    "\n",
    "sol = rk4(f, 0, 10*60, xo, 10*3)"
   ]
  },
  {
   "cell_type": "code",
   "execution_count": 181,
   "metadata": {},
   "outputs": [
    {
     "data": {
      "text/plain": [
       "[<matplotlib.lines.Line2D at 0x11af0f810>]"
      ]
     },
     "execution_count": 181,
     "metadata": {},
     "output_type": "execute_result"
    },
    {
     "data": {
      "image/png": "[encoded data removed]",
      "text/plain": [
       "<Figure size 432x288 with 1 Axes>"
      ]
     },
     "metadata": {
      "needs_background": "light"
     },
     "output_type": "display_data"
    }
   ],
   "source": [
    "ts = np.linspace(0, 10*60, 100)\n",
    "plt.plot(*sol)"
   ]
  },
  {
   "cell_type": "markdown",
   "metadata": {},
   "source": [
    "Para encontrar el punto donde el tanque está vacío usamos un Runge Kutta modificado"
   ]
  },
  {
   "cell_type": "code",
   "execution_count": 182,
   "metadata": {},
   "outputs": [],
   "source": [
    "def rk4_m(f, a, h, yo):\n",
    "    \n",
    "    t = a\n",
    "    w = yo\n",
    "    \n",
    "    while not np.isnan(w):\n",
    "        k1 = h*f(t, w)\n",
    "        k2 = h*f(t+h/2, w+k1/2)\n",
    "        k3 = h*f(t+h/2, w+k2/2)\n",
    "        k4 = h*f(t + h, w + k3)\n",
    "        w = w + (k1 + 2*k2 + 2*k3 + k4)/6\n",
    "        t = t + h\n",
    "\n",
    "    return t/60"
   ]
  },
  {
   "cell_type": "code",
   "execution_count": 183,
   "metadata": {},
   "outputs": [
    {
     "name": "stderr",
     "output_type": "stream",
     "text": [
      "/Users/jorgenorena/anaconda3/lib/python3.7/site-packages/ipykernel_launcher.py:2: RuntimeWarning: invalid value encountered in double_scalars\n",
      "  \n"
     ]
    },
    {
     "data": {
      "text/plain": [
       "289.0"
      ]
     },
     "execution_count": 183,
     "metadata": {},
     "output_type": "execute_result"
    }
   ],
   "source": [
    "rk4_m(f, 0, 60, xo)"
   ]
  },
  {
   "cell_type": "markdown",
   "metadata": {},
   "source": [
    "### Tarea 11.5"
   ]
  },
  {
   "cell_type": "markdown",
   "metadata": {},
   "source": [
    "Considere el problema de valor inicial\n",
    "\n",
    "$$\n",
    "y'(t) = 10y(t)- 10t^{-2} - 2t^{-3}\\,,\\quad 1 \\leq t \\leq 2\n",
    "$$\n",
    "\n",
    "Resuleva este problema para las siguientes condiciones iniciales usando el método de Runge-Kutta-Fehlberg para las tolerancias $0.01, 0.001, 0.0001, 10^{-5}$.\n",
    "\n",
    "* $y(1) = 2$\n",
    "* $y(1) = 1$\n",
    "* $y(1) = 0.1$\n",
    "\n",
    "¿Son consistentes las soluciones? Explique lo que ocurre."
   ]
  },
  {
   "cell_type": "code",
   "execution_count": 145,
   "metadata": {},
   "outputs": [],
   "source": [
    "def f(t, y):\n",
    "    return 10*y - 10/t**2 -2/t**3"
   ]
  },
  {
   "cell_type": "code",
   "execution_count": 146,
   "metadata": {},
   "outputs": [],
   "source": [
    "tols = [0.01, 0.001, 0.0001, 0.00001]"
   ]
  },
  {
   "cell_type": "code",
   "execution_count": 147,
   "metadata": {},
   "outputs": [
    {
     "data": {
      "text/plain": [
       "<matplotlib.legend.Legend at 0x1199aff90>"
      ]
     },
     "execution_count": 147,
     "metadata": {},
     "output_type": "execute_result"
    },
    {
     "data": {
      "image/png": "[encoded data removed]",
      "text/plain": [
       "<Figure size 432x288 with 1 Axes>"
      ]
     },
     "metadata": {
      "needs_background": "light"
     },
     "output_type": "display_data"
    }
   ],
   "source": [
    "yo = 2\n",
    "results = [rkf(f, 1, 2, yo, t, 1e-6, 0.2)[:2] for t in tols]\n",
    "for i in range(len(tols)):\n",
    "    plt.plot(*results[i], label=tols[i])\n",
    "plt.legend()"
   ]
  },
  {
   "cell_type": "code",
   "execution_count": 148,
   "metadata": {},
   "outputs": [
    {
     "data": {
      "text/plain": [
       "<matplotlib.legend.Legend at 0x1197ed990>"
      ]
     },
     "execution_count": 148,
     "metadata": {},
     "output_type": "execute_result"
    },
    {
     "data": {
      "image/png": "[encoded data removed]",
      "text/plain": [
       "<Figure size 432x288 with 1 Axes>"
      ]
     },
     "metadata": {
      "needs_background": "light"
     },
     "output_type": "display_data"
    }
   ],
   "source": [
    "yo = 1\n",
    "results = [rkf(f, 1, 2, yo, t, 1e-6, 0.2)[:2] for t in tols]\n",
    "for i in range(len(tols)):\n",
    "    plt.plot(*results[i], label=tols[i])\n",
    "plt.legend()"
   ]
  },
  {
   "cell_type": "code",
   "execution_count": 149,
   "metadata": {},
   "outputs": [
    {
     "data": {
      "text/plain": [
       "<matplotlib.legend.Legend at 0x11a4b5450>"
      ]
     },
     "execution_count": 149,
     "metadata": {},
     "output_type": "execute_result"
    },
    {
     "data": {
      "image/png": "[encoded data removed]",
      "text/plain": [
       "<Figure size 432x288 with 1 Axes>"
      ]
     },
     "metadata": {
      "needs_background": "light"
     },
     "output_type": "display_data"
    }
   ],
   "source": [
    "yo = 0.1\n",
    "results = [rkf(f, 1, 2, yo, t, 1e-6, 0.2)[:2] for t in tols]\n",
    "for i in range(len(tols)):\n",
    "    plt.plot(*results[i], label=tols[i])\n",
    "plt.legend()"
   ]
  },
  {
   "cell_type": "markdown",
   "metadata": {},
   "source": [
    "El caso con $y(1) = 1$ da una solución inestable, tal que una pequeña desviación nos aleja de la solución correcta."
   ]
  }
 ],
 "metadata": {
  "kernelspec": {
   "display_name": "Python 3",
   "language": "python",
   "name": "python3"
  },
  "language_info": {
   "codemirror_mode": {
    "name": "ipython",
    "version": 3
   },
   "file_extension": ".py",
   "mimetype": "text/x-python",
   "name": "python",
   "nbconvert_exporter": "python",
   "pygments_lexer": "ipython3",
   "version": "3.7.7"
  }
 },
 "nbformat": 4,
 "nbformat_minor": 4
}
