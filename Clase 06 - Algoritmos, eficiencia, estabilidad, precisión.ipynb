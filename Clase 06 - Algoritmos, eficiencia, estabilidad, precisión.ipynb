{
 "cells": [
  {
   "cell_type": "markdown",
   "metadata": {},
   "source": [
    "# Clase 6 - Algoritmos, eficienica, estabilidad, precisión"
   ]
  },
  {
   "cell_type": "markdown",
   "metadata": {},
   "source": [
    "## Eficiciencia de los algoritmos"
   ]
  },
  {
   "cell_type": "markdown",
   "metadata": {},
   "source": [
    "Para cálculos pesados, es necesario estimar la eficiencia del algoritmo. A veces cálculos que parecen inocentes se hacen demasiado pesadoos incluso para un computador."
   ]
  },
  {
   "cell_type": "markdown",
   "metadata": {},
   "source": [
    "Para analizar la eficiencia de un algoritmo se estima el número de pasos involucrados. Por ejemplo:"
   ]
  },
  {
   "cell_type": "code",
   "execution_count": 1,
   "metadata": {},
   "outputs": [],
   "source": [
    "suma = 0\n",
    "n = 100\n",
    "for i in range(n):\n",
    "    suma += i"
   ]
  },
  {
   "cell_type": "code",
   "execution_count": null,
   "metadata": {},
   "outputs": [],
   "source": [
    "suma = sum(range(n))"
   ]
  },
  {
   "cell_type": "markdown",
   "metadata": {},
   "source": [
    "Este algoritmo toma $n$ pasos, ya que debe realizar $n$ operaciones. Decimos que su eficiencia es de orden $\\mathcal{O}(n)$."
   ]
  },
  {
   "cell_type": "markdown",
   "metadata": {},
   "source": [
    "A veces es necesario anidar ciclos, esto empieza a aumentar el número de pasos"
   ]
  },
  {
   "cell_type": "code",
   "execution_count": 3,
   "metadata": {},
   "outputs": [],
   "source": [
    "suma = 0\n",
    "n = 100\n",
    "for i in range(n):\n",
    "    for j in range(i):\n",
    "        suma += j"
   ]
  },
  {
   "cell_type": "markdown",
   "metadata": {},
   "source": [
    "Este algoritmo toma mucho más tiempo porque el primer ciclo toma $n$ pasos y el siguiente toma $i$ pasos, Como $i$ puede llegar hasta $n(n-1)/2$ pasos. Cuando $n$ es un número muy grande esto es aproximadamente igual a $n^2/2$. En este caso decimos que la eficiencia del algoritmo es del orden $\\mathcal{O}(n^2)$."
   ]
  },
  {
   "cell_type": "markdown",
   "metadata": {},
   "source": [
    "A los algoritmos con una eficiencia de orden $\\mathcal{O}(n^c)$, donde $c$ es una constante numérica, se los llama algoritmos de eficiencia polinomial."
   ]
  },
  {
   "cell_type": "markdown",
   "metadata": {},
   "source": [
    "Los algoritmos más eficientes posibles son los que tienen una eficiencia logarítmica $\\mathcal{O}(\\log n)$ (y en informática normalmente se usa el logaritmo base $2$ en este contexto. Veremos un ejemplo de uno de estos algoritmos próximamente."
   ]
  },
  {
   "cell_type": "markdown",
   "metadata": {},
   "source": [
    "Los peores algoritmos son los que tienen un crecimiento exponencial, por ejemplo $\\mathcal{O}(2^n)$, Estos se hacen extremadamente difíciles de ejecutar para un computado incluso para valores modestos de $n$."
   ]
  },
  {
   "cell_type": "code",
   "execution_count": 149,
   "metadata": {
    "scrolled": true
   },
   "outputs": [
    {
     "data": {
      "text/plain": [
       "<matplotlib.legend.Legend at 0x11b810860>"
      ]
     },
     "execution_count": 149,
     "metadata": {},
     "output_type": "execute_result"
    },
    {
     "data": {
      "image/png": "[encoded data removed]",
      "text/plain": [
       "<Figure size 432x288 with 1 Axes>"
      ]
     },
     "metadata": {
      "needs_background": "light"
     },
     "output_type": "display_data"
    }
   ],
   "source": [
    "import matplotlib.pyplot as plt\n",
    "import numpy as np\n",
    "\n",
    "n = np.arange(1,50)\n",
    "log = np.log(n)/np.log(2)\n",
    "pol2 = n**2\n",
    "pol4 = n**4\n",
    "exp = 2**n\n",
    "\n",
    "plt.scatter(n, log, label = '$\\log_2$')\n",
    "plt.scatter(n, pol2, label = '$n^2$')\n",
    "plt.scatter(n, pol4, label = '$n^4$')\n",
    "plt.scatter(n, exp, label = 'exp')\n",
    "plt.legend()"
   ]
  },
  {
   "cell_type": "markdown",
   "metadata": {},
   "source": [
    "## Precisión y convergencia de los algoritmos"
   ]
  },
  {
   "cell_type": "markdown",
   "metadata": {},
   "source": [
    "Además de la eficiencia de un algoritmo, también es importante su precisión. Los métodos numéricos consisten en encontrar soluciones aproximadas a los problemas y será importante tener una estimacióon del error cometido. El error cometido en un algoritmo numérico nos da una idea de su precisión. Si el error disminuye a medida que se ejecuta un algoritmo de más pasos, decimos que converge."
   ]
  },
  {
   "cell_type": "markdown",
   "metadata": {},
   "source": [
    "El método numérico normalmente consiste en encontrar una sucesión de números que convergen al resultado requerido. Supongamos que tenemos una cierta sucesión $\\{\\alpha_n\\}$ que converge al resultado $\\alpha$. Por otra parte supongamos que tenemos otra sucesión $\\{\\beta_n\\}$ que converge a cero. Decimos que el algoritmo converge a $\\alpha$ a una razón $\\mathcal{O}(\\beta_n)$ si se cumple que\n",
    "\n",
    "$$\n",
    "|\\alpha_n - \\alpha| < K|\\beta_n|\\,,\n",
    "$$\n",
    "\n",
    "para alguna constante $K$."
   ]
  },
  {
   "cell_type": "markdown",
   "metadata": {},
   "source": [
    "Normalmente se toma $\\beta_n = 1/n^c$ para alguna potencia $c$. Los algoritmos que convergen más rápido tienen $c$ alto."
   ]
  },
  {
   "cell_type": "markdown",
   "metadata": {},
   "source": [
    "Por ejemplo, consideremos la sucesión $\\{n \\sin(1/n)\\}$, esta converge a $1$ a medida que $n$ crece. Otra sucesión que converge a $1$ es $\\{1 - 1/n\\}$."
   ]
  },
  {
   "cell_type": "code",
   "execution_count": 14,
   "metadata": {},
   "outputs": [],
   "source": [
    "suc1 = []\n",
    "suc2 = []\n",
    "for n in range(1,101):\n",
    "    suc1.append(1 - n*np.sin(1/n))\n",
    "    suc2.append(1/n)"
   ]
  },
  {
   "cell_type": "code",
   "execution_count": 16,
   "metadata": {
    "scrolled": true
   },
   "outputs": [
    {
     "data": {
      "text/plain": [
       "<matplotlib.collections.PathCollection at 0x118292208>"
      ]
     },
     "execution_count": 16,
     "metadata": {},
     "output_type": "execute_result"
    },
    {
     "data": {
      "image/png": "[encoded data removed]",
      "text/plain": [
       "<Figure size 432x288 with 1 Axes>"
      ]
     },
     "metadata": {
      "needs_background": "light"
     },
     "output_type": "display_data"
    }
   ],
   "source": [
    "plt.scatter(np.arange(1,101), suc1)\n",
    "plt.scatter(np.arange(1,101), suc2)"
   ]
  },
  {
   "cell_type": "code",
   "execution_count": 17,
   "metadata": {},
   "outputs": [
    {
     "data": {
      "text/plain": [
       "[<matplotlib.lines.Line2D at 0x11818f198>]"
      ]
     },
     "execution_count": 17,
     "metadata": {},
     "output_type": "execute_result"
    },
    {
     "data": {
      "image/png": "[encoded data removed]",
      "text/plain": [
       "<Figure size 432x288 with 1 Axes>"
      ]
     },
     "metadata": {
      "needs_background": "light"
     },
     "output_type": "display_data"
    }
   ],
   "source": [
    "plt.loglog(np.arange(1,101), suc1)\n",
    "plt.loglog(np.arange(1,101), suc2)"
   ]
  },
  {
   "cell_type": "markdown",
   "metadata": {},
   "source": [
    "Otro ejemplo es un algoritmo para calcular $\\pi$, llamada fórmula de Leibniz\n",
    "\n",
    "$$\n",
    "\\pi = 4 - \\frac{4}{3} + \\frac{4}{5} - \\frac{4}{7} + \\frac{4}{9} - \\dots\n",
    "$$\n",
    "\n",
    "(Esto viene del hecho que $\\pi/4 = \\tan^{-1}(1)$ al hacer la expanción de Taylor de la tangente inversa).\n",
    "\n",
    "Comparada con otra fórmula que converge más rápidamente\n",
    "\n",
    "$$\n",
    "\\pi = 3 + \\frac{4}{2\\times 3\\times 4} - \\frac{4}{4\\times 5 \\times 6} + \\frac{4}{6\\times 7\\times 8} - \\dots\n",
    "$$"
   ]
  },
  {
   "cell_type": "code",
   "execution_count": 34,
   "metadata": {},
   "outputs": [
    {
     "data": {
      "text/plain": [
       "(3.1384510609362035, 3.1447342462433827)"
      ]
     },
     "execution_count": 34,
     "metadata": {},
     "output_type": "execute_result"
    },
    {
     "data": {
      "image/png": "[encoded data removed]",
      "text/plain": [
       "<Figure size 432x288 with 1 Axes>"
      ]
     },
     "metadata": {
      "needs_background": "light"
     },
     "output_type": "display_data"
    }
   ],
   "source": [
    "pi1 = [4]\n",
    "pi2 = [3]\n",
    "\n",
    "for n in range(1, 100):\n",
    "    pi1.append(pi1[n-1] + (-1)**n*4/(2*n + 1))\n",
    "    pi2.append(pi2[n-1] + (-1)**(n + 1)*4/(2*n*(2*n + 1)*2*(n+1)))\n",
    "    \n",
    "plt.loglog(np.arange(100), pi1, label='pi1')\n",
    "plt.loglog(np.arange(100), pi2, label = 'pi2')\n",
    "plt.loglog(np.arange(100), np.full(100, np.pi), label = 'pi verdadero')\n",
    "plt.legend()\n",
    "plt.xlim(10**1, 10**2)\n",
    "plt.ylim(np.pi - 0.001*np.pi, np.pi + 0.001*np.pi)"
   ]
  },
  {
   "cell_type": "markdown",
   "metadata": {},
   "source": [
    "## Estabilidad de un algoritmo"
   ]
  },
  {
   "cell_type": "markdown",
   "metadata": {},
   "source": [
    "Cuando estudiamos los errores de redondeo vimos que cada cálculo introduce un pequeño error. Para hacer cálculos muy precisos necesitamos muchos pasos y el error introducido en cada paso se va acumulando."
   ]
  },
  {
   "cell_type": "markdown",
   "metadata": {},
   "source": [
    "Además muchas veces las condiciones y constantes usadas para definir un problema las conocemos con un pequeño error. Por ejemplo el error al medir la posición inicial de una partícula o el error al medir una constante fundamental."
   ]
  },
  {
   "cell_type": "markdown",
   "metadata": {},
   "source": [
    "Cuando un algoritmo produce resultados muy diferentes para condiciones muy cercanas, decimos que es **inestable**. En ese caso no poodemos confiar en el algoritmo. Si en cambio produce resultados similares para condiciones similares, decimos que es estable **estable**."
   ]
  },
  {
   "cell_type": "markdown",
   "metadata": {},
   "source": [
    "Supongamos que a cada paso introducimos un pequeño error $E_o$ (por ejemplo de redondeo), entonces\n",
    "\n",
    "* Si al n-ésimo paso tenemos un error $E_n \\approx C n E_o$ para alguna constante $C$. Decimos que el error crece de forma lineal (y el algoritmo parece ser estable).\n",
    "\n",
    "* Si en cambio al n-ésimo paso tenemos un error $E_n \\approx C^n E_o$ para alguna constante $C$, decimos que el error crece de forma exponencial (y el algoritmo es inestable)."
   ]
  },
  {
   "cell_type": "markdown",
   "metadata": {},
   "source": [
    "Para ver un ejemplo, resolvamos la siguiente ecuación diferencial\n",
    "\n",
    "$$\n",
    "\\frac{d^2}{dx^2}f(x) - m^2 f(x) = 0\\,,\n",
    "$$\n",
    "\n",
    "La solución general es\n",
    "\n",
    "$$\n",
    "f(x) = k_1 e^{mx} + k_2 e^{-mx}\\,,\n",
    "$$\n",
    "\n",
    "Tomemos $m = 1/3$ y las condiciones de borde $f(0) = 1$ y $f'(0) = -\\frac{1}{3}$. Claramente la solución será \n",
    "\n",
    "$$\n",
    "f(x) = e^{-x/3}\n",
    "$$\n"
   ]
  },
  {
   "cell_type": "markdown",
   "metadata": {},
   "source": [
    "Sin embargo si redondeamos las condiciones iniciales a tres cifras decimales, escribiríamos $f(0) = 1$ y $f'(0) = -0.333$. Al hacerlo necesitamos\n",
    "\n",
    "$$\n",
    "k_1 + k_2 = 1\\,,\\quad k_1 - k_2 = 0.999\\,,\n",
    "$$\n",
    "\n",
    "cuya solución es\n",
    "\n",
    "$$\n",
    "k_1 = 1.999/2\\,,\\quad k_2 = 0.5\\times 10^{-3}\\,.\n",
    "$$"
   ]
  },
  {
   "cell_type": "code",
   "execution_count": 70,
   "metadata": {
    "scrolled": true
   },
   "outputs": [
    {
     "data": {
      "text/plain": [
       "[<matplotlib.lines.Line2D at 0x119a6ef98>]"
      ]
     },
     "execution_count": 70,
     "metadata": {},
     "output_type": "execute_result"
    },
    {
     "data": {
      "image/png": "[encoded data removed]",
      "text/plain": [
       "<Figure size 432x288 with 1 Axes>"
      ]
     },
     "metadata": {
      "needs_background": "light"
     },
     "output_type": "display_data"
    }
   ],
   "source": [
    "k1_aprox = 1.999/2\n",
    "k2_aprox = 0.5*10**(-3)\n",
    "x = np.arange(0,20,0.1)\n",
    "\n",
    "plt.plot(x, k1_aprox*np.exp(-x/3) + k2_aprox*np.exp(x/3))\n",
    "plt.plot(x, np.exp(-x/3))"
   ]
  },
  {
   "cell_type": "markdown",
   "metadata": {},
   "source": [
    "## Tareas"
   ]
  },
  {
   "cell_type": "markdown",
   "metadata": {},
   "source": [
    "### Tarea 3.6"
   ]
  },
  {
   "cell_type": "markdown",
   "metadata": {},
   "source": [
    "Ejercicio 1.3.15 del libro de Burden: \n",
    "\n",
    "* ¿Cuántas multiplicaciones y sumas es necesario realizar para calcular lo siguiente?\n",
    "\n",
    "$$\n",
    "\\sum_{i=1}^n \\sum_{j = 1}^i a_i b_j\n",
    "$$\n",
    "\n",
    "* Reescriba la suma de manera que sea necesario realizar menos operaciones.\n",
    "\n",
    "* Escriba un código que realice la suma de ambas maneras para $n = 10000$ a partir de arreglos $a_i$ y $b_j$ obtenidos de forma aleatoria usando np.random.rand(10000)."
   ]
  },
  {
   "cell_type": "markdown",
   "metadata": {},
   "source": [
    "**Solución**: Tenemos $n(n-1)/2$ términos en la suma tal que son $n(n-1)$ operaciones (una suma y una multiplicación por cada término)."
   ]
  },
  {
   "cell_type": "markdown",
   "metadata": {},
   "source": [
    "Para realizar menos operaciones podemos hacer \n",
    "\n",
    "$$\n",
    "\\sum_{i = 1}^n a_i\\left(\\sum_{j = 1}^i b_j\\right)\n",
    "$$\n",
    "\n",
    "que reduce el número de operaciones a $n(n-1)/2$ sumas y $n$ multiplicaciones lo que da $n(n+1)/2$."
   ]
  },
  {
   "cell_type": "code",
   "execution_count": 76,
   "metadata": {},
   "outputs": [],
   "source": [
    "a = np.random.rand(10000)\n",
    "b = np.random.rand(10000)"
   ]
  },
  {
   "cell_type": "code",
   "execution_count": 78,
   "metadata": {},
   "outputs": [
    {
     "data": {
      "text/plain": [
       "12637994.730606267"
      ]
     },
     "execution_count": 78,
     "metadata": {},
     "output_type": "execute_result"
    }
   ],
   "source": [
    "sum(sum(a[i]*b[j] for j in range(i)) for i in range(10000))"
   ]
  },
  {
   "cell_type": "code",
   "execution_count": 79,
   "metadata": {},
   "outputs": [
    {
     "data": {
      "text/plain": [
       "12637994.730606318"
      ]
     },
     "execution_count": 79,
     "metadata": {},
     "output_type": "execute_result"
    }
   ],
   "source": [
    "sum(a[i]*sum(b[j] for j in range(i)) for i in range(10000))"
   ]
  },
  {
   "cell_type": "markdown",
   "metadata": {},
   "source": [
    "### Tarea 3.7"
   ]
  },
  {
   "cell_type": "markdown",
   "metadata": {},
   "source": [
    "Ejercicio 1.3.1 del libro de Burden: Use números de punto flotante de 16 bits para calcular las siguientes sumas. Explique por qué ambos métodos en cada caso dan resultados diferentes y cuál es la más correcta.\n",
    "\n",
    "* $\\sum_{n = 1}^{100}\\frac{1}{n^2}$ primero de la forma $1 + \\frac{1}{4} + \\frac{1}{9} + \\dots + \\frac{1}{10^4}$ y luego en la forma $\\frac{1}{10^4} + \\dots + \\frac{1}{9} + \\frac{1}{4} + 1$.\n",
    "\n",
    "* $\\sum_{n = 1}^{100}\\frac{1}{n^3}$ primero de la forma $1 + \\frac{1}{8} + \\frac{1}{27} + \\dots + \\frac{1}{10^6}$ y luego en la forma $\\frac{1}{10^6} + \\dots + \\frac{1}{27} + \\frac{1}{8} + 1$."
   ]
  },
  {
   "cell_type": "code",
   "execution_count": 91,
   "metadata": {},
   "outputs": [
    {
     "name": "stdout",
     "output_type": "stream",
     "text": [
      "1.627 1.635\n"
     ]
    }
   ],
   "source": [
    "sum1 = 0\n",
    "sum2 = 0\n",
    "\n",
    "for n in range(1, 101):\n",
    "    sum1 = np.float16(sum1 + np.float16(1/n**2))\n",
    "\n",
    "for n in range(100, 0, -1):\n",
    "    sum2 = np.float16(sum2 + np.float16(1/n**2))\n",
    "    \n",
    "print(sum1, sum2)"
   ]
  },
  {
   "cell_type": "code",
   "execution_count": 93,
   "metadata": {},
   "outputs": [
    {
     "name": "stdout",
     "output_type": "stream",
     "text": [
      "-0.00491183747068341 -0.00013350295673711192\n"
     ]
    }
   ],
   "source": [
    "exacta = sum(1/n**2 for n in range(1,101))\n",
    "err1 = (sum1 - exacta)/exacta\n",
    "err2 = (sum2 - exacta)/exacta\n",
    "\n",
    "print(err1, err2)"
   ]
  },
  {
   "cell_type": "code",
   "execution_count": 94,
   "metadata": {},
   "outputs": [
    {
     "name": "stdout",
     "output_type": "stream",
     "text": [
      "1.199 1.202\n"
     ]
    }
   ],
   "source": [
    "sum1 = 0\n",
    "sum2 = 0\n",
    "\n",
    "for n in range(1, 101):\n",
    "    sum1 = np.float16(sum1 + np.float16(1/n**3))\n",
    "\n",
    "for n in range(100, 0, -1):\n",
    "    sum2 = np.float16(sum2 + np.float16(1/n**3))\n",
    "    \n",
    "print(sum1, sum2)"
   ]
  },
  {
   "cell_type": "code",
   "execution_count": 95,
   "metadata": {},
   "outputs": [
    {
     "name": "stdout",
     "output_type": "stream",
     "text": [
      "-0.0023199945841828424 0.00011733441927599446\n"
     ]
    }
   ],
   "source": [
    "exacta = sum(1/n**3 for n in range(1,101))\n",
    "err1 = (sum1 - exacta)/exacta\n",
    "err2 = (sum2 - exacta)/exacta\n",
    "\n",
    "print(err1, err2)"
   ]
  },
  {
   "cell_type": "markdown",
   "metadata": {},
   "source": [
    "Como vemos, el segundo método produce un error más pequeño. Esto es porque al llegar a términos con $n$ grande estaremos sumando términos cada vez más pequeños a una cantidad relativamente grande. Esto hace que se pierda precisión."
   ]
  },
  {
   "cell_type": "markdown",
   "metadata": {},
   "source": [
    "### Tarea 3.8"
   ]
  },
  {
   "cell_type": "markdown",
   "metadata": {},
   "source": [
    "Usando lo que sabe de trigonometría y series de Taylor, escriba otra manera de calcular el número $\\pi$. Compare la precisión y convergencia de su expresión con las expresiones dadas en la clase. Ilustre sus conclusiones con gráficos. (Pista: ¿Cuánto es el coseno inverso de 1/2? ¿Cuál es su expansión de Taylor?)"
   ]
  },
  {
   "cell_type": "markdown",
   "metadata": {},
   "source": [
    "**Solución**: $\\cos^{-1}(1/2) =  \\pi/3$ además la expansión de Taylor del coseno es\n",
    "\n",
    "$$\n",
    "\\cos^{-1}(x) = \\frac{\\pi}{2} - \\left(x + \\frac{1}{2}\\frac{x^3}{3} + \\frac{1}{2}\\frac{3}{4}\\frac{x^5}{5} + \\dots\\right)\n",
    "$$\n",
    "\n",
    "y entonces\n",
    "\n",
    "$$\n",
    "\\pi \\approx 6\\left(x + \\frac{1}{2}\\frac{1/2^3}{3} + \\frac{1}{2}\\frac{3}{4}\\frac{1/2^5}{5} + \\frac{1}{2}\\frac{3}{4}\\frac{5}{6}\\frac{1/2^7}{7} + \\dots\\right)\n",
    "$$"
   ]
  },
  {
   "cell_type": "code",
   "execution_count": 113,
   "metadata": {
    "scrolled": false
   },
   "outputs": [
    {
     "data": {
      "text/plain": [
       "(3.1101767270538954, 3.173008580125691)"
      ]
     },
     "execution_count": 113,
     "metadata": {},
     "output_type": "execute_result"
    },
    {
     "data": {
      "image/png": "[encoded data removed]",
      "text/plain": [
       "<Figure size 432x288 with 1 Axes>"
      ]
     },
     "metadata": {
      "needs_background": "light"
     },
     "output_type": "display_data"
    }
   ],
   "source": [
    "pi1 = [4]\n",
    "pi2 = [3]\n",
    "pi3 = [6/2]\n",
    "prod_denom = 1\n",
    "prod_numer = 1\n",
    "\n",
    "for n in range(1, 100):\n",
    "    pi1.append(pi1[n-1] + (-1)**n*4/(2*n + 1))\n",
    "    pi2.append(pi2[n-1] + (-1)**(n + 1)*4/(2*n*(2*n + 1)*2*(n+1)))\n",
    "    prod_numer *= 2*n - 1\n",
    "    prod_denom *= 2*n\n",
    "    pi3.append(pi3[n - 1] +  6*prod_numer*(1/2)**(2*n + 1)/(prod_denom*(2*n + 1)))\n",
    "    \n",
    "plt.loglog(np.arange(100), pi1, label='pi1')\n",
    "plt.loglog(np.arange(100), pi2, label = 'pi2')\n",
    "plt.loglog(np.arange(100), pi3, label = 'pi3')\n",
    "plt.loglog(np.arange(100), np.full(100, np.pi), label = 'pi verdadero')\n",
    "plt.legend()\n",
    "plt.xlim(1, 10**1)\n",
    "plt.ylim(np.pi - 0.01*np.pi, np.pi + 0.01*np.pi)"
   ]
  },
  {
   "cell_type": "markdown",
   "metadata": {},
   "source": [
    "Nuestra nueva aproximación converge más rápidamente al valor de $\\pi$. Veamos cuál es el error relativo luego de cien pasos."
   ]
  },
  {
   "cell_type": "code",
   "execution_count": 109,
   "metadata": {
    "scrolled": true
   },
   "outputs": [
    {
     "data": {
      "text/plain": [
       "-0.00318301929431018"
      ]
     },
     "execution_count": 109,
     "metadata": {},
     "output_type": "execute_result"
    }
   ],
   "source": [
    "(pi1[-1] - np.pi)/np.pi"
   ]
  },
  {
   "cell_type": "code",
   "execution_count": 110,
   "metadata": {},
   "outputs": [
    {
     "data": {
      "text/plain": [
       "7.956752794159371e-08"
      ]
     },
     "execution_count": 110,
     "metadata": {},
     "output_type": "execute_result"
    }
   ],
   "source": [
    "(pi2[-1] - np.pi)/np.pi"
   ]
  },
  {
   "cell_type": "code",
   "execution_count": 111,
   "metadata": {},
   "outputs": [
    {
     "data": {
      "text/plain": [
       "-1.4135798584282297e-16"
      ]
     },
     "execution_count": 111,
     "metadata": {},
     "output_type": "execute_result"
    }
   ],
   "source": [
    "(pi3[-1] - np.pi)/np.pi"
   ]
  },
  {
   "cell_type": "markdown",
   "metadata": {},
   "source": [
    "### Tarea 3.9"
   ]
  },
  {
   "cell_type": "markdown",
   "metadata": {},
   "source": [
    "A partir de los siguientes códigos, explique si el número de pasos es $\\mathcal{O}(n^c)$  (y cuánto vale $c$), $\\mathcal{O}(\\log_2 n)$ o $\\mathcal{O}(2^n)$ y por qué. Pista: Para el último código aumente n y vea cómo cambia el número de pasos s. Grafique n contra s e intente deducir a qué corresponde."
   ]
  },
  {
   "cell_type": "code",
   "execution_count": null,
   "metadata": {},
   "outputs": [],
   "source": [
    "n = 1000\n",
    "s = 0 \n",
    "for i in range(n):\n",
    "    for j in range(n):\n",
    "        if i < j:\n",
    "            s = s + i + j"
   ]
  },
  {
   "cell_type": "markdown",
   "metadata": {},
   "source": [
    "**Solución**: $n^2$ ya que contiene 2 loops"
   ]
  },
  {
   "cell_type": "code",
   "execution_count": null,
   "metadata": {},
   "outputs": [],
   "source": [
    "n = 1000\n",
    "s = 0\n",
    "for i in range(n):\n",
    "    for j in range(i):\n",
    "        s = s + i + j"
   ]
  },
  {
   "cell_type": "markdown",
   "metadata": {},
   "source": [
    "**Solución**: $n^2$ ya que contiene 2 loops"
   ]
  },
  {
   "cell_type": "markdown",
   "metadata": {},
   "source": [
    "Cuidado, consulte en internet lo que hace el enunciado sum() antes de responder"
   ]
  },
  {
   "cell_type": "code",
   "execution_count": null,
   "metadata": {},
   "outputs": [],
   "source": [
    "n = 1000\n",
    "s = 0\n",
    "for i in range(n):\n",
    "    s = s + i + sum(range(n))"
   ]
  },
  {
   "cell_type": "markdown",
   "metadata": {},
   "source": [
    "**Solución**: $n^2$ ya que contiene dos loops. El enunciado sum también es un loop que suma todos los elementos."
   ]
  },
  {
   "cell_type": "code",
   "execution_count": 119,
   "metadata": {
    "scrolled": true
   },
   "outputs": [
    {
     "name": "stdout",
     "output_type": "stream",
     "text": [
      "Encontré 146 luego de 11 pasos\n"
     ]
    }
   ],
   "source": [
    "n = 100000\n",
    "small = 0\n",
    "p = 146\n",
    "attempt = n//2\n",
    "not_found = True\n",
    "s = 0\n",
    "while not_found:\n",
    "    s = s + 1\n",
    "    if attempt > p:\n",
    "        n = attempt\n",
    "    elif attempt < p:\n",
    "        small = attempt\n",
    "    else:\n",
    "        print('Encontré', attempt, 'luego de', s, 'pasos')\n",
    "        break\n",
    "    attempt = (n + small)//2"
   ]
  },
  {
   "cell_type": "markdown",
   "metadata": {},
   "source": [
    "**Solución**: $\\log_2(n)$, para verlo podemos cambiar n, y graficar s en función de n"
   ]
  },
  {
   "cell_type": "code",
   "execution_count": 122,
   "metadata": {},
   "outputs": [
    {
     "name": "stdout",
     "output_type": "stream",
     "text": [
      "Encontré 46 luego de 5 pasos\n",
      "Encontré 46 luego de 6 pasos\n",
      "Encontré 46 luego de 13 pasos\n",
      "Encontré 46 luego de 16 pasos\n"
     ]
    }
   ],
   "source": [
    "s_array = []\n",
    "n_array = []\n",
    "\n",
    "n = 100\n",
    "n_array.append(n)\n",
    "small = 0\n",
    "p = 46\n",
    "attempt = n//2\n",
    "not_found = True\n",
    "s = 0\n",
    "while not_found:\n",
    "    s = s + 1\n",
    "    if attempt > p:\n",
    "        n = attempt\n",
    "    elif attempt < p:\n",
    "        small = attempt\n",
    "    else:\n",
    "        print('Encontré', attempt, 'luego de', s, 'pasos')\n",
    "        break\n",
    "    attempt = (n + small)//2\n",
    "\n",
    "s_array.append(s)\n",
    "\n",
    "n = 1000\n",
    "n_array.append(n)\n",
    "small = 0\n",
    "p = 46\n",
    "attempt = n//2\n",
    "not_found = True\n",
    "s = 0\n",
    "while not_found:\n",
    "    s = s + 1\n",
    "    if attempt > p:\n",
    "        n = attempt\n",
    "    elif attempt < p:\n",
    "        small = attempt\n",
    "    else:\n",
    "        print('Encontré', attempt, 'luego de', s, 'pasos')\n",
    "        break\n",
    "    attempt = (n + small)//2\n",
    "    \n",
    "s_array.append(s)\n",
    "\n",
    "n = 10000\n",
    "n_array.append(n)\n",
    "small = 0\n",
    "p = 46\n",
    "attempt = n//2\n",
    "not_found = True\n",
    "s = 0\n",
    "while not_found:\n",
    "    s = s + 1\n",
    "    if attempt > p:\n",
    "        n = attempt\n",
    "    elif attempt < p:\n",
    "        small = attempt\n",
    "    else:\n",
    "        print('Encontré', attempt, 'luego de', s, 'pasos')\n",
    "        break\n",
    "    attempt = (n + small)//2\n",
    "    \n",
    "s_array.append(s)\n",
    "\n",
    "n = 100000\n",
    "n_array.append(n)\n",
    "small = 0\n",
    "p = 46\n",
    "attempt = n//2\n",
    "not_found = True\n",
    "s = 0\n",
    "while not_found:\n",
    "    s = s + 1\n",
    "    if attempt > p:\n",
    "        n = attempt\n",
    "    elif attempt < p:\n",
    "        small = attempt\n",
    "    else:\n",
    "        print('Encontré', attempt, 'luego de', s, 'pasos')\n",
    "        break\n",
    "    attempt = (n + small)//2\n",
    "    \n",
    "s_array.append(s)"
   ]
  },
  {
   "cell_type": "code",
   "execution_count": 127,
   "metadata": {},
   "outputs": [
    {
     "data": {
      "text/plain": [
       "[<matplotlib.lines.Line2D at 0x11a4adc50>]"
      ]
     },
     "execution_count": 127,
     "metadata": {},
     "output_type": "execute_result"
    },
    {
     "data": {
      "image/png": "[encoded data removed]",
      "text/plain": [
       "<Figure size 432x288 with 1 Axes>"
      ]
     },
     "metadata": {
      "needs_background": "light"
     },
     "output_type": "display_data"
    }
   ],
   "source": [
    "# Gráfico de pasos contra n\n",
    "plt.plot(n_array, s_array)\n",
    "\n",
    "# Gráfico de log_2 n contra n\n",
    "plt.plot(n_array, np.log(n_array)/np.log(2))"
   ]
  },
  {
   "cell_type": "markdown",
   "metadata": {},
   "source": [
    "### Tarea 3.10"
   ]
  },
  {
   "cell_type": "markdown",
   "metadata": {},
   "source": [
    "Tenemos la siguiente ecuación diferencial\n",
    "\n",
    "$$\n",
    "\\frac{d}{dx} f(x) = 20 f(x)\n",
    "$$\n",
    "\n",
    "y queremos encontrar una $f(x)$ que la cumple y satisface $f(0) = 1$. La respuesta que se obtiene integrando $f(x) = e^{20 x}$ pero imaginemos que no lo sabemos. Una manera aproximada de encontrar $f(1)$ es empezar en $f(0)$ y luego dar un pequeño paso para encontrar $f(\\delta x)$ usando\n",
    "\n",
    "$$\n",
    "f(\\delta x) \\approx f(0) + \\delta x \\frac{d}{dx}f(0) = f(0) + 20\\,\\delta x f(0)\\,.\n",
    "$$\n",
    "\n",
    "Luego podemos encontrar $f(2\\delta x)$ de manera análoga\n",
    "\n",
    "$$\n",
    "f(2\\delta x) \\approx f(\\delta x) + 20\\,\\delta x f(\\delta x)\n",
    "$$\n",
    "\n",
    "Si repetimos el proceso $n$ veces tal que $n\\,\\delta x = 1$, podemos encontrar una solución aproximada para $f(1)$.\n",
    "\n",
    "Escriba un código que haga lo que acabamos de describir en $n$ pasos. Luego grafique el error relativo de la aproximación en función de $n$ y estime la convergencia de este método. \n",
    "\n",
    "Para lograrlo, grafique varias potencias de $n$ en un gráficoo log-log y encuentre cuál tiene una pendiente similar a lo que usted oobtuvo."
   ]
  },
  {
   "cell_type": "code",
   "execution_count": 135,
   "metadata": {},
   "outputs": [
    {
     "name": "stdout",
     "output_type": "stream",
     "text": [
      "485155492.494993\n"
     ]
    }
   ],
   "source": [
    "n = 10000000\n",
    "f = 1\n",
    "deltax = 1/n\n",
    "for i in range(n):\n",
    "    f = f*(1 + 20*deltax)\n",
    "\n",
    "print(f)"
   ]
  },
  {
   "cell_type": "code",
   "execution_count": 129,
   "metadata": {},
   "outputs": [
    {
     "data": {
      "text/plain": [
       "485165195.4097903"
      ]
     },
     "execution_count": 129,
     "metadata": {},
     "output_type": "execute_result"
    }
   ],
   "source": [
    "np.exp(20)"
   ]
  },
  {
   "cell_type": "code",
   "execution_count": 141,
   "metadata": {},
   "outputs": [],
   "source": [
    "n_array = []\n",
    "err_array = []\n",
    "ex = np.exp(20)\n",
    "\n",
    "n = 10\n",
    "f = 1\n",
    "deltax = 1/n\n",
    "for i in range(n):\n",
    "    f = f*(1 + 20*deltax)\n",
    "err = np.abs((f - ex)/ex)\n",
    "n_array.append(n)\n",
    "err_array.append(err)\n",
    "\n",
    "n = 100\n",
    "f = 1\n",
    "deltax = 1/n\n",
    "for i in range(n):\n",
    "    f = f*(1 + 20*deltax)\n",
    "err = np.abs((f - ex)/ex)\n",
    "n_array.append(n)\n",
    "err_array.append(err)\n",
    "\n",
    "n = 1000\n",
    "f = 1\n",
    "deltax = 1/n\n",
    "for i in range(n):\n",
    "    f = f*(1 + 20*deltax)\n",
    "err = np.abs((f - ex)/ex)\n",
    "n_array.append(n)\n",
    "err_array.append(err)\n",
    "\n",
    "n = 10000\n",
    "f = 1\n",
    "deltax = 1/n\n",
    "for i in range(n):\n",
    "    f = f*(1 + 20*deltax)\n",
    "err = np.abs((f - ex)/ex)\n",
    "n_array.append(n)\n",
    "err_array.append(err)\n",
    "\n",
    "n = 100000\n",
    "f = 1\n",
    "deltax = 1/n\n",
    "for i in range(n):\n",
    "    f = f*(1 + 20*deltax)\n",
    "err = np.abs((f - ex)/ex)\n",
    "n_array.append(n)\n",
    "err_array.append(err)\n",
    "\n",
    "n = 1000000\n",
    "f = 1\n",
    "deltax = 1/n\n",
    "for i in range(n):\n",
    "    f = f*(1 + 20*deltax)\n",
    "err = np.abs((f - ex)/ex)\n",
    "n_array.append(n)\n",
    "err_array.append(err)"
   ]
  },
  {
   "cell_type": "code",
   "execution_count": 148,
   "metadata": {},
   "outputs": [
    {
     "data": {
      "text/plain": [
       "[<matplotlib.lines.Line2D at 0x11b15f7f0>]"
      ]
     },
     "execution_count": 148,
     "metadata": {},
     "output_type": "execute_result"
    },
    {
     "data": {
      "image/png": "[encoded data removed]",
      "text/plain": [
       "<Figure size 432x288 with 1 Axes>"
      ]
     },
     "metadata": {
      "needs_background": "light"
     },
     "output_type": "display_data"
    }
   ],
   "source": [
    "plt.loglog(n_array, err_array)\n",
    "plt.loglog(n_array, [n**(-0.9) for n in n_array])"
   ]
  }
 ],
 "metadata": {
  "kernelspec": {
   "display_name": "Python 3",
   "language": "python",
   "name": "python3"
  },
  "language_info": {
   "codemirror_mode": {
    "name": "ipython",
    "version": 3
   },
   "file_extension": ".py",
   "mimetype": "text/x-python",
   "name": "python",
   "nbconvert_exporter": "python",
   "pygments_lexer": "ipython3",
   "version": "3.7.7"
  }
 },
 "nbformat": 4,
 "nbformat_minor": 2
}
