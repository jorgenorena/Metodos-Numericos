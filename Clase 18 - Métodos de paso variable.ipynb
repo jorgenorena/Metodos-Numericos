{
 "cells": [
  {
   "cell_type": "markdown",
   "metadata": {},
   "source": [
    "# Clase 18: Métodos de paso variable"
   ]
  },
  {
   "cell_type": "code",
   "execution_count": 3,
   "metadata": {},
   "outputs": [],
   "source": [
    "import numpy as np\n",
    "import matplotlib.pyplot as plt"
   ]
  },
  {
   "cell_type": "markdown",
   "metadata": {},
   "source": [
    "Los métodos vistos anteriormente funcionan bastante bien en muchos casos. Sin embargo esos métodos no son óptimos cuando una función varía mucho. Por ejemplo:"
   ]
  },
  {
   "cell_type": "code",
   "execution_count": 4,
   "metadata": {},
   "outputs": [
    {
     "data": {
      "text/plain": [
       "[<matplotlib.lines.Line2D at 0x11fccf750>]"
      ]
     },
     "execution_count": 4,
     "metadata": {},
     "output_type": "execute_result"
    },
    {
     "data": {
      "image/png": "[encoded data removed]",
      "text/plain": [
       "<Figure size 432x288 with 1 Axes>"
      ]
     },
     "metadata": {
      "needs_background": "light"
     },
     "output_type": "display_data"
    }
   ],
   "source": [
    "x = np.linspace(0,7,100)\n",
    "plt.plot(x, np.exp(-x)*np.sin(x))\n",
    "plt.plot(x, np.zeros(100), color = 'black')"
   ]
  },
  {
   "cell_type": "markdown",
   "metadata": {},
   "source": [
    "Vemos que el intervalo entre $x = 6$ y $x = 7$ contribuye poco a la integral y además una aproximación burda puede ser buena allí. Se necesitan pocos puntos para lograr una buena aproxmación, que será cercana a cero. Sin embargo el intervalo entre $x = 0$ y $x = 3$ contribuye mucho a la integral de esta función y además la función varía rápidamente allí. Por lo tanto necesitaremos más puntos. "
   ]
  },
  {
   "cell_type": "markdown",
   "metadata": {},
   "source": [
    "## Método de cuadratura adaptativa"
   ]
  },
  {
   "cell_type": "markdown",
   "metadata": {},
   "source": [
    "El método de paso adaptativo consiste en aproximar la integral como un polinomio interpolante en varios intervalos. El tamaño de cada intervalo es tal que el error cometido allí sea menor que una tolerancia $\\epsilon/f$, donde $f$ es la fracción del rango de integración ocupada por el intervalo $f = (b-a)/h$. De esta forma, la suma de la aproximación en todos los subintervalos tiene un error menor que $\\epsilon$.\n",
    "\n",
    "Tenemos entonces dos tareas:\n",
    "\n",
    "* Estimar el error cometido en una aproximación dada.\n",
    "* Dividir el rango de integración para lograr el error requerido."
   ]
  },
  {
   "cell_type": "markdown",
   "metadata": {},
   "source": [
    "Para estimar el error habría que usar la fórmula de error de las aproximaciones de la clase pasada. El problema es que éstas involucran derivadas de alto orden. Recordemos la regla de simpson\n",
    "\n",
    "$$\n",
    "\\int_{a}^{b} dx\\,f(x) = \\frac{h}{3}(f(a) + 4f(a + h) + f(b)) - \\frac{h^5}{90}f^{(4)}(\\xi) \\equiv S_o  - \\frac{h^5}{90}f^{(4)}(\\xi)\n",
    "$$\n",
    "\n",
    "En general es difícil calcular la cuarta derivada, y estimarla numéricamente puede costar muchas evaluaciones de la función (además de ser inestable). Lo que podemos hacer es dividir el rango de integración a la mitad, y luego usar la regla de Simpson en cada mitad para obtener:\n",
    "\n",
    "$$\n",
    "\\int_a^b dx\\,f(x) = \\frac{h}{6}(f(a) + 4f(a + h/2) + 2f(a + h) + 4f(a + 3h/2) + f(b)) - \\frac{1}{16}\\frac{h^5}{90}f^{(4)}(\\bar{\\xi}) \\equiv S_1  - \\frac{1}{16}\\frac{h^5}{90}f^{(4)}(\\xi)\n",
    "$$\n",
    "\n",
    "Si asumimos que $f^{(4)}(\\bar{\\xi}) \\approx f^{(4)}(\\xi)$, tenemos\n",
    "\n",
    "$$\n",
    "\\frac{15}{16}\\frac{h^5}{90}f^{(4)}(\\xi) = S_o - S_1\n",
    "$$\n",
    "\n",
    "y entonces el error cometido al usar la aproximación S_1 es\n",
    "\n",
    "$$\n",
    "S_1 - \\int_a^b dx\\,f(x) = \\frac{1}{15}(S_o - S_1)\n",
    "$$"
   ]
  },
  {
   "cell_type": "markdown",
   "metadata": {},
   "source": [
    "Para determinar los intervalos de integración la estrategia es:\n",
    "\n",
    "1. Calcular la integral y el error en un intervalo.\n",
    "2. Si el error es mayor que la tolerancia, dividir el intervalo a la mitad.\n",
    "3. Repetir los pasos 1 y 2 para cada subintervalo."
   ]
  },
  {
   "cell_type": "code",
   "execution_count": 5,
   "metadata": {},
   "outputs": [],
   "source": [
    "class MaxIterations(Exception):\n",
    "    pass\n",
    "\n",
    "def adaptive(f, a, b, tol, N=100000):\n",
    "    \n",
    "    # Variables iniciales\n",
    "    approx = 0\n",
    "    i = 0\n",
    "    toli = [10*tol]\n",
    "    ai = [a]\n",
    "    hi = [(b - a)/2]\n",
    "    fai = [f(a)]\n",
    "    fbi = [f(b)]\n",
    "    fci = [f(a + hi[i])]\n",
    "    S0i = [hi[i]*(fai[i] + 4*fci[i] + fbi[i])/3]\n",
    "    Li = [1]\n",
    "    \n",
    "        \n",
    "    \n",
    "    while i >= 0:\n",
    "        \n",
    "        fd = f(ai[i] + hi[i]/2)\n",
    "        fe = f(ai[i] + 3*hi[i]/2)\n",
    "        S1 = hi[i]*(fai[i] + 4*fd + fci[i])/6\n",
    "        S2 = hi[i]*(fci[i] + 4*fe + fbi[i])/6\n",
    "        ai_prec = ai[i]\n",
    "        hi_prec = hi[i]\n",
    "        fai_prec = fai[i]\n",
    "        fbi_prec = fbi[i]\n",
    "        fci_prec = fci[i]\n",
    "        toli_prec = toli[i]\n",
    "        S0i_prec = S0i[i]\n",
    "        Li_prec = Li[i]\n",
    "        \n",
    "        i -= 1\n",
    "        if abs(S1 + S2 - S0i_prec) < toli_prec:\n",
    "            approx += S1 + S2\n",
    "        else:\n",
    "            if Li_prec >= N:\n",
    "                raise MaxIterations(\"Alcanzado máximo número de iteraciones.\")\n",
    "            \n",
    "            # Intervalo derecho\n",
    "            i += 1\n",
    "            if i >= len(ai): # A veces hay que ampliar la lista\n",
    "                ai.append(ai_prec + hi_prec)\n",
    "                fai.append(fci_prec)\n",
    "                fci.append(fe)\n",
    "                fbi.append(fbi_prec)\n",
    "                hi.append(hi_prec/2)\n",
    "                toli.append(toli_prec/2)\n",
    "                S0i.append(S2)\n",
    "                Li.append(Li_prec + 1)\n",
    "            else:\n",
    "                ai[i] = ai_prec + hi_prec\n",
    "                fai[i] = fci_prec\n",
    "                fci[i] = fe\n",
    "                fbi[i] = fbi_prec\n",
    "                hi[i] = hi_prec/2\n",
    "                toli[i] = toli_prec/2\n",
    "                S0i[i] = S2\n",
    "                Li[i] = Li_prec + 1\n",
    "                \n",
    "            # Intervalo izquierdo\n",
    "            i += 1\n",
    "            if i >= len(ai):\n",
    "                ai.append(ai_prec)\n",
    "                fai.append(fai_prec)\n",
    "                fci.append(fd)\n",
    "                fbi.append(fci_prec)\n",
    "                hi.append(hi[i-1])\n",
    "                toli.append(toli[i-1])\n",
    "                S0i.append(S1)\n",
    "                Li.append(Li[i-1])\n",
    "            else:\n",
    "                ai[i] = ai_prec\n",
    "                fai[i] = fai_prec\n",
    "                fci[i] = fd\n",
    "                fbi[i] = fci_prec\n",
    "                hi[i] = hi[i-1]\n",
    "                toli[i] = toli[i-1]\n",
    "                S0i[i] = S1\n",
    "                Li[i] = Li[i-1]\n",
    "                \n",
    "    return approx"
   ]
  },
  {
   "cell_type": "code",
   "execution_count": 6,
   "metadata": {},
   "outputs": [
    {
     "data": {
      "text/plain": [
       "0.8414709892666887"
      ]
     },
     "execution_count": 6,
     "metadata": {},
     "output_type": "execute_result"
    }
   ],
   "source": [
    "adaptive(np.cos, 0, 1, 0.00000001)"
   ]
  },
  {
   "cell_type": "markdown",
   "metadata": {},
   "source": [
    "## Cuadratura gaussiana"
   ]
  },
  {
   "cell_type": "markdown",
   "metadata": {},
   "source": [
    "Este método consiste en hacer la misma integral usando polinomios, pero ahora escogemos las evaluaciones tratando de minimizar el error. Para hacerlo escribimos\n",
    "\n",
    "$$\n",
    "\\int_{-1}^1 dx\\,f(x) \\approx \\sum_{i=1}^n c_i f(x_i)\n",
    "$$\n",
    "\n",
    "Se escogen los puntos $x_i$ y los coeficientes $c_i$ tal que esta fórmula sea exacta cuando $f$ es un polinomio de grado $2n - 1$. "
   ]
  },
  {
   "cell_type": "markdown",
   "metadata": {},
   "source": [
    "**Ejemplo:** Cuando $n = 2$ podemos hacer que la integral sea exacta para todos los polinomios de orden $3$, es decir\n",
    "\n",
    "$$\n",
    "\\int_{-1}^{1} dx\\, f(x) = c_1 f(x_1) + c_2 f(x_2).\n",
    "$$\n",
    "\n",
    "Necesitamos escoger los números $x_1, x_2$ y $c_1, c_2$ tal que esto se cumpla. Pero podemos enfocarnos en que sea verdad para polinomios del tipo $x^n$ ya que\n",
    "\n",
    "$$\n",
    "\\int_{-1}^1 dx\\, f(x) = a_3 \\int_{-1}^1 dx\\,x^3 + a_2 \\int_{-1}^1 dx\\,x^2 + a_1 \\int_{-1}^1 dx\\,x + a_o \\int_{-1}^1 dx \n",
    "$$\n",
    "\n",
    "Empezamos por $f(x) = 1$:\n",
    "\n",
    "$$\n",
    "c_1 + c_2 = \\int_{-1}^1 dx\\,1 = 2\n",
    "$$\n",
    "\n",
    "Ahora con $f(x) = x$:\n",
    "\n",
    "$$\n",
    "c_1x_1 + c_2 x_2 = \\int_{-1}^1 dx\\,x = 0\n",
    "$$\n",
    "\n",
    "Ahora con $f(x) = x^2$:\n",
    "\n",
    "$$\n",
    "c_1 x_1^2 + c_2 x_2^2 = \\int_{-1}^1 dx\\,x^2 = \\frac{2}{3}\n",
    "$$\n",
    "\n",
    "Finalmente con $f(x) = x^3$:\n",
    "\n",
    "$$\n",
    "c_1 x_1^3 + c_2 x_2^3 = \\int_{-1}^1 dx\\,x^3 = 0\n",
    "$$\n",
    "\n",
    "Son cuatro ecuaciones para cuatro números cuya solución es\n",
    "\n",
    "$$\n",
    "c_1 = 1\\,,\\,\\,c_2 = 1\\,,\\,\\,x_1 = -\\frac{\\sqrt{3}}{3}\\,,\\,\\,x_2 = \\frac{\\sqrt{3}}{3}\n",
    "$$"
   ]
  },
  {
   "cell_type": "markdown",
   "metadata": {},
   "source": [
    "Hay un método más sistemático que involucra polinomios ortogonales. Recordemos que los polinomios de Legendre satisfacen:\n",
    "\n",
    "$$\n",
    "\\int_{-1}^1 dx\\,P_n(x) P_m(x) \\propto \\delta_{nm}\n",
    "$$\n",
    "\n",
    "Además toda función en el intervalo $(-1, 1)$ se puede escribir como combinación lineal de polinomios de Legendre\n",
    "\n",
    "$$\n",
    "f(x) = \\sum_{n = 0}^\\infty c_n P_n(x)\n",
    "$$\n",
    "\n",
    "En particular, un polinomio de orden $m$ se puede escribir como\n",
    "\n",
    "$$\n",
    "P(x) = \\sum_{n=0}^m c_n P_n(x)\n",
    "$$\n",
    "\n",
    "tal que, si $m < n$, tenemos\n",
    "\n",
    "$$\n",
    "\\int_{-1}^1 dx\\,P_n(x) P(x) = 0 \n",
    "$$"
   ]
  },
  {
   "cell_type": "markdown",
   "metadata": {},
   "source": [
    "Resulta que los ceros del polinomio de Legendre de orden $n$ (o en general polinomios ortogonales) nos dan los coeficientes para la cuadratura de Gauss de orden $n$.\n",
    "\n",
    "Para verlo, supongamos que integramos un polinomio de orden $<n$, entonces podemos descomponerlo en polinomios de Lagrange alrededor de los ceros del polinomio de Legendre $x_i$\n",
    "\n",
    "$$\n",
    "P(x) = \\sum_{i=1}^n P(x_i) L_i(x) = \\sum_{i=1}^n \\prod_{j = 1,j\\neq i}^n \\frac{x - x_j}{x_i-x_j} P(x_i)\n",
    "$$\n",
    "\n",
    "La igualdad es exacta para polinomios de grado $<n$ (el término de error es proporcional a $f^{(n)}$ que es cero para estos polinominos) y cualquier conjunto de puntos $x_i$. Al integrar obtenemos\n",
    "\n",
    "$$\n",
    "\\int_{-1}^1 dx\\,P(x) = \\sum_{i=1}^n P(x_i) \\int_{-1}^1dx\\,\\prod_{j = 1,j\\neq i}^n \\frac{x - x_j}{x_i-x_j}\n",
    "$$\n",
    "\n",
    "Entonces se cumple la igualdad con \n",
    "\n",
    "$$\n",
    "c_i = \\int_{-1}^1dx\\,\\prod_{j = 1,j\\neq i}^n \\frac{x - x_j}{x_i-x_j}\n",
    "$$\n",
    "\n",
    "Ahora para polinomios de grado $\\geq n$ pero $< 2n$ tenemos que podemos siempre escribirlos de la forma\n",
    "\n",
    "$$\n",
    "P(x) = Q(x) P_n(x) + R(x)\n",
    "$$\n",
    "\n",
    "donde $Q(x)$ es el polinomio cociente, de orden $<n$, y $R(x)$ es el polinomio residuo de orden $<n$. Por la propiedad de los polinomios de Legendre\n",
    "\n",
    "$$\n",
    "\\int_{-1}^1dx\\,P(x) = \\int_{-1}^1dx\\,Q(x) P_n(x) + \\int_{-1}^1dx\\,R(x) = \\int_{-1}^1dx\\,R(x)\n",
    "$$\n",
    "\n",
    "Como el orden de $R$ es menor que $n$, se cumple el argumento de antes y tenemos\n",
    "\n",
    "$$\n",
    "\\int_{-1}^1dx\\,P(x) = \\sum_{i=1}^n R(x_i) \\int_{-1}^1dx\\,\\prod_{j = 1,j\\neq i}^n \\frac{x - x_j}{x_i-x_j}\n",
    "$$\n",
    "\n",
    "Además, si tomamos que los $x_i$ sean los ceros del polinomio de Legendre\n",
    "\n",
    "$$\n",
    "P(x_i) = R(x_i)\n",
    "$$\n",
    "\n",
    "y entonces \n",
    "\n",
    "$$\n",
    "\\int_{-1}^1dx\\,P(x) = \\sum_{i=1}^n P(x_i) \\int_{-1}^1dx\\,\\prod_{j = 1,j\\neq i}^n \\frac{x - x_j}{x_i-x_j}\n",
    "$$"
   ]
  },
  {
   "cell_type": "code",
   "execution_count": 7,
   "metadata": {},
   "outputs": [],
   "source": [
    "def gauss_quad_5(f, a, b):\n",
    "    \n",
    "    def x(t):\n",
    "        return ((b - a)*t + a + b)/2\n",
    "    \n",
    "    c = [0.2369268850, 0.4786286705, 0.5688888889, 0.4786286705, 0.2369268850]\n",
    "    r = [0.9061798459, 0.5384693101, 0.0000000000, -0.5384693101, -0.9061798459]\n",
    "    \n",
    "    return ((b-a)/2)*sum(c[i]*f(x(r[i])) for i in range(5))"
   ]
  },
  {
   "cell_type": "code",
   "execution_count": 8,
   "metadata": {},
   "outputs": [
    {
     "data": {
      "text/plain": [
       "0.9092974272317184"
      ]
     },
     "execution_count": 8,
     "metadata": {},
     "output_type": "execute_result"
    }
   ],
   "source": [
    "gauss_quad_5(np.cos, 0, 2)"
   ]
  },
  {
   "cell_type": "markdown",
   "metadata": {},
   "source": [
    "## Scipy"
   ]
  },
  {
   "cell_type": "code",
   "execution_count": 9,
   "metadata": {},
   "outputs": [
    {
     "data": {
      "text/plain": [
       "(21.333333333333336, 2.368475785867001e-13)"
      ]
     },
     "execution_count": 9,
     "metadata": {},
     "output_type": "execute_result"
    }
   ],
   "source": [
    "from scipy import integrate\n",
    "x2 = lambda x: x**2\n",
    "integrate.quad(x2, 0, 4)"
   ]
  },
  {
   "cell_type": "code",
   "execution_count": 10,
   "metadata": {},
   "outputs": [
    {
     "name": "stdout",
     "output_type": "stream",
     "text": [
      "21.333333333333332\n"
     ]
    }
   ],
   "source": [
    "print(4**3 / 3.)"
   ]
  },
  {
   "cell_type": "markdown",
   "metadata": {},
   "source": [
    "También tiene argumentos epsrel y epsabs que determinan el error relativo y absoluto requerido. Si se quiere que únicamente alcance el error relativo sin dar importancia al error absoluto, es necesario poner epsabs=0."
   ]
  },
  {
   "cell_type": "code",
   "execution_count": 11,
   "metadata": {},
   "outputs": [
    {
     "data": {
      "text/plain": [
       "(0.0203266092465018, 3.448616029633677e-15)"
      ]
     },
     "execution_count": 11,
     "metadata": {},
     "output_type": "execute_result"
    }
   ],
   "source": [
    "from scipy import integrate\n",
    "f = lambda x: np.cos(10*x)/np.sqrt(x**2 + 16)\n",
    "integrate.quad(f, 0, 2, epsrel=1e-12, epsabs=0)"
   ]
  },
  {
   "cell_type": "markdown",
   "metadata": {},
   "source": [
    "El algoritmo que usa por defecto es una especie de cuadratura adaptativa, donde en cada intervalo aplica una método similar a la cuadratura gaussiana de orden 21."
   ]
  },
  {
   "cell_type": "markdown",
   "metadata": {},
   "source": [
    "## Tareas"
   ]
  },
  {
   "cell_type": "markdown",
   "metadata": {},
   "source": [
    "### Tarea 9.6"
   ]
  },
  {
   "cell_type": "markdown",
   "metadata": {},
   "source": [
    "Escriba un código que implemente una cuadratura gaussiana compuesta. Es decir, divide el rango de integración en $n$ subintervalos y aplica una cuadratura gaussiana en cada uno."
   ]
  },
  {
   "cell_type": "code",
   "execution_count": 12,
   "metadata": {},
   "outputs": [],
   "source": [
    "def gauss(f, a, b, n):\n",
    "    \n",
    "    h = (b - a)/n\n",
    "\n",
    "    c = np.array([0.2369268850, 0.4786286705, 0.5688888889, 0.4786286705, 0.2369268850])\n",
    "    r = np.array([0.9061798459, 0.5384693101, 0.0000000000, -0.5384693101, -0.9061798459])\n",
    "    \n",
    "    resultado = 0\n",
    "    for i in range(n):\n",
    "        ai = a + i*h\n",
    "        bi = ai + h\n",
    "        hm = (bi - ai)/2\n",
    "        hp = (bi + ai)/2\n",
    "        xi = hm*r + hp\n",
    "        resultado += hm*sum(c[i]*f(xi[i]) for i in range(5))\n",
    "        \n",
    "    return resultado"
   ]
  },
  {
   "cell_type": "code",
   "execution_count": 13,
   "metadata": {},
   "outputs": [
    {
     "data": {
      "text/plain": [
       "0.8414709847660286"
      ]
     },
     "execution_count": 13,
     "metadata": {},
     "output_type": "execute_result"
    }
   ],
   "source": [
    "gauss(np.cos, 0, 1, 5)"
   ]
  },
  {
   "cell_type": "code",
   "execution_count": 14,
   "metadata": {},
   "outputs": [
    {
     "data": {
      "text/plain": [
       "0.8414709848078965"
      ]
     },
     "execution_count": 14,
     "metadata": {},
     "output_type": "execute_result"
    }
   ],
   "source": [
    "np.sin(1)"
   ]
  },
  {
   "cell_type": "markdown",
   "metadata": {},
   "source": [
    "### Tarea 9.7"
   ]
  },
  {
   "cell_type": "markdown",
   "metadata": {},
   "source": [
    "Suponga que la medición de un cierto proceso físico da como resultado la siguiente expresión\n",
    "\n",
    "$$\n",
    "p(x) = \\sin x + n(x)\n",
    "$$\n",
    "\n",
    "donde $n$ es el error experimental que podemos describir como un número aleatorio, para cada valor de $x$, tomado de una distribución gaussiana con media $0$ y desviación estándar $10^{-5}$. Queremos calcular la integral\n",
    "\n",
    "$$\n",
    "\\int_0^1 dx\\,p(x)\\,.\n",
    "$$\n",
    "\n",
    "Use la cuadratura adaptativa para calcular esta integral. El verdadero valor de esta integral es $1-\\cos(1)$. Grafique el error cometido en función de la tolerancia. ¿Se puede lograr una precisión de $10^{-7}$? ¿Qué podemos decir sobre la estabilidad de la cuadratura adaptativa?"
   ]
  },
  {
   "cell_type": "code",
   "execution_count": 15,
   "metadata": {},
   "outputs": [
    {
     "data": {
      "text/plain": [
       "-3.045897311387386e-05"
      ]
     },
     "execution_count": 15,
     "metadata": {},
     "output_type": "execute_result"
    }
   ],
   "source": [
    "np.random.normal(0, 10**(-5), 1)[0]"
   ]
  },
  {
   "cell_type": "code",
   "execution_count": 16,
   "metadata": {},
   "outputs": [],
   "source": [
    "def p(x):\n",
    "    return np.sin(x) + np.random.normal(0, 10**(-5), 1)[0]"
   ]
  },
  {
   "cell_type": "code",
   "execution_count": 17,
   "metadata": {},
   "outputs": [
    {
     "data": {
      "text/plain": [
       "0.45969769413186023"
      ]
     },
     "execution_count": 17,
     "metadata": {},
     "output_type": "execute_result"
    }
   ],
   "source": [
    "1 - np.cos(1)"
   ]
  },
  {
   "cell_type": "code",
   "execution_count": 20,
   "metadata": {
    "scrolled": true
   },
   "outputs": [
    {
     "data": {
      "text/plain": [
       "Text(0, 0.5, 'Error')"
      ]
     },
     "execution_count": 20,
     "metadata": {},
     "output_type": "execute_result"
    },
    {
     "data": {
      "image/png": "[encoded data removed]",
      "text/plain": [
       "<Figure size 432x288 with 1 Axes>"
      ]
     },
     "metadata": {
      "needs_background": "light"
     },
     "output_type": "display_data"
    }
   ],
   "source": [
    "tols = [10**(-i) for i in range(1, 7)]\n",
    "res = [adaptive(p, 0, 1, t) for t in tols]\n",
    "exacta = 1 - np.cos(1)\n",
    "plt.loglog(tols, np.abs(res - exacta))\n",
    "plt.xlabel('Tolerancias')\n",
    "plt.ylabel('Error')"
   ]
  },
  {
   "cell_type": "markdown",
   "metadata": {},
   "source": [
    "No podemos lograr una mejor precisión debido a que el error intrínseco es de orden $10^{-5}$ y vemos que obtenemos siempre un error de ese orden de magnitud constante e independiente de la tolerancia pedida. De hecho si inttentamos pedir una tolerancia de $10^{-7}$ obtenemos un error:"
   ]
  },
  {
   "cell_type": "code",
   "execution_count": 21,
   "metadata": {},
   "outputs": [
    {
     "ename": "MaxIterations",
     "evalue": "Alcanzado máximo número de iteraciones.",
     "output_type": "error",
     "traceback": [
      "\u001b[0;31m---------------------------------------------------------------------------\u001b[0m",
      "\u001b[0;31mMaxIterations\u001b[0m                             Traceback (most recent call last)",
      "\u001b[0;32m<ipython-input-21-2efb80e48571>\u001b[0m in \u001b[0;36m<module>\u001b[0;34m\u001b[0m\n\u001b[0;32m----> 1\u001b[0;31m \u001b[0madaptive\u001b[0m\u001b[0;34m(\u001b[0m\u001b[0mp\u001b[0m\u001b[0;34m,\u001b[0m \u001b[0;36m0\u001b[0m\u001b[0;34m,\u001b[0m \u001b[0;36m1\u001b[0m\u001b[0;34m,\u001b[0m \u001b[0;36m10\u001b[0m\u001b[0;34m**\u001b[0m\u001b[0;34m(\u001b[0m\u001b[0;34m-\u001b[0m\u001b[0;36m7\u001b[0m\u001b[0;34m)\u001b[0m\u001b[0;34m)\u001b[0m\u001b[0;34m\u001b[0m\u001b[0;34m\u001b[0m\u001b[0m\n\u001b[0m",
      "\u001b[0;32m<ipython-input-5-9eda4b4aebe1>\u001b[0m in \u001b[0;36madaptive\u001b[0;34m(f, a, b, tol, N)\u001b[0m\n\u001b[1;32m     38\u001b[0m         \u001b[0;32melse\u001b[0m\u001b[0;34m:\u001b[0m\u001b[0;34m\u001b[0m\u001b[0;34m\u001b[0m\u001b[0m\n\u001b[1;32m     39\u001b[0m             \u001b[0;32mif\u001b[0m \u001b[0mLi_prec\u001b[0m \u001b[0;34m>=\u001b[0m \u001b[0mN\u001b[0m\u001b[0;34m:\u001b[0m\u001b[0;34m\u001b[0m\u001b[0;34m\u001b[0m\u001b[0m\n\u001b[0;32m---> 40\u001b[0;31m                 \u001b[0;32mraise\u001b[0m \u001b[0mMaxIterations\u001b[0m\u001b[0;34m(\u001b[0m\u001b[0;34m\"Alcanzado máximo número de iteraciones.\"\u001b[0m\u001b[0;34m)\u001b[0m\u001b[0;34m\u001b[0m\u001b[0;34m\u001b[0m\u001b[0m\n\u001b[0m\u001b[1;32m     41\u001b[0m \u001b[0;34m\u001b[0m\u001b[0m\n\u001b[1;32m     42\u001b[0m             \u001b[0;31m# Intervalo derecho\u001b[0m\u001b[0;34m\u001b[0m\u001b[0;34m\u001b[0m\u001b[0;34m\u001b[0m\u001b[0m\n",
      "\u001b[0;31mMaxIterations\u001b[0m: Alcanzado máximo número de iteraciones."
     ]
    }
   ],
   "source": [
    "adaptive(p, 0, 1, 10**(-7))"
   ]
  },
  {
   "cell_type": "markdown",
   "metadata": {},
   "source": [
    "### Tarea 9.8"
   ]
  },
  {
   "cell_type": "markdown",
   "metadata": {},
   "source": [
    "Calcule la integral del seno entre $0$ y $1$. Para ello use el método compuesto de Simpson y la cuadratura adaptativa implementada en clase. Hágalo para varias precisiones y grafique el tiempo que tardan ambos métodos en función de la precisión. (Para la precisión del método de Simpson es necesario usar la fórmula de error para calcular el número $n$ de intervalos)."
   ]
  },
  {
   "cell_type": "markdown",
   "metadata": {},
   "source": [
    "El error del método de Simpson es\n",
    "\n",
    "$$\n",
    "\\leq \\frac{h^4 (b-a)}{180}|f''(\\mu)|\n",
    "$$\n",
    "\n",
    "En nuestro caso esto es\n",
    "\n",
    "$$\n",
    "\\leq \\frac{h^4}{180}\n",
    "$$\n",
    "\n",
    "Para obtener un error $e$ necesitamos\n",
    "\n",
    "$$\n",
    "h \\leq (180 e)^{1/4}\n",
    "$$\n",
    "\n",
    "y usando $h = (b-a)/n$\n",
    "\n",
    "$$\n",
    "n \\geq (180 e)^{-1/4}\n",
    "$$"
   ]
  },
  {
   "cell_type": "code",
   "execution_count": 52,
   "metadata": {},
   "outputs": [],
   "source": [
    "from time import time_ns\n",
    "\n",
    "def medir_tiempo(func, *args):\n",
    "    t1 = time_ns()\n",
    "    func(*args)\n",
    "    tf = time_ns() - t1\n",
    "    return tf"
   ]
  },
  {
   "cell_type": "code",
   "execution_count": 53,
   "metadata": {},
   "outputs": [],
   "source": [
    "def simpson(f, a, b, n):\n",
    "    h = (b - a)/n\n",
    "    x = np.arange(a, b, h)\n",
    "    fx1 = sum(f(x[i]) for i in range(2, n, 2))\n",
    "    fx2 = sum(f(x[i]) for i in range(1, n, 2))\n",
    "    return h*(f(a) + 2*fx1 + 4*fx2 + f(b))/3"
   ]
  },
  {
   "cell_type": "code",
   "execution_count": 59,
   "metadata": {},
   "outputs": [],
   "source": [
    "tols = [10**(-i) for i in range(3, 10)]\n",
    "ns = [int((180*toli)**(-1/4)) + 1 for toli in tols]\n",
    "tiempos_simpson = [medir_tiempo(simpson, np.sin, 0, 1, ni) for ni in ns]\n",
    "tiempos_adaptive = [medir_tiempo(adaptive, np.sin, 0, 1, toli) for toli in tols]"
   ]
  },
  {
   "cell_type": "code",
   "execution_count": 65,
   "metadata": {},
   "outputs": [
    {
     "data": {
      "text/plain": [
       "<matplotlib.legend.Legend at 0x151bc64110>"
      ]
     },
     "execution_count": 65,
     "metadata": {},
     "output_type": "execute_result"
    },
    {
     "data": {
      "image/png": "[encoded data removed]",
      "text/plain": [
       "<Figure size 432x288 with 1 Axes>"
      ]
     },
     "metadata": {
      "needs_background": "light"
     },
     "output_type": "display_data"
    }
   ],
   "source": [
    "plt.loglog(tols, tiempos_simpson, label = 'Simpson')\n",
    "plt.loglog(tols, tiempos_adaptive, label = 'Adaptativa')\n",
    "plt.legend()"
   ]
  },
  {
   "cell_type": "markdown",
   "metadata": {},
   "source": [
    "En este caso el método de Simpson es más rápido. Esto es porque la función que se integra es muy sencilla y no se gana mucho con usar un método adaptativo."
   ]
  },
  {
   "cell_type": "markdown",
   "metadata": {},
   "source": [
    "### Tarea 9.9"
   ]
  },
  {
   "cell_type": "markdown",
   "metadata": {},
   "source": [
    "Calcule la siguiente integral\n",
    "\n",
    "$$\n",
    "\\int_{0.1}^1 dx\\,\\frac{\\ln(x)}{\\sqrt{\\cos^2(x) + \\tanh(x)}}\n",
    "$$\n",
    "\n",
    "Hágalo usando la cuadratura adaptativa y el integrador de scipy. Grafique los tiempos que tardan ambos en función de la precisión pedida."
   ]
  },
  {
   "cell_type": "code",
   "execution_count": 66,
   "metadata": {},
   "outputs": [],
   "source": [
    "def f(x):\n",
    "    return np.log(x)/np.sqrt(np.cos(x)**2 + np.tanh(x))"
   ]
  },
  {
   "cell_type": "code",
   "execution_count": 67,
   "metadata": {},
   "outputs": [
    {
     "data": {
      "text/plain": [
       "(-0.6169301768805371, 6.8493008730977354e-15)"
      ]
     },
     "execution_count": 67,
     "metadata": {},
     "output_type": "execute_result"
    }
   ],
   "source": [
    "from scipy import integrate\n",
    "integrate.quad(f, 0.1, 1, epsrel=1e-12, epsabs=0)"
   ]
  },
  {
   "cell_type": "code",
   "execution_count": 69,
   "metadata": {},
   "outputs": [],
   "source": [
    "from time import time_ns\n",
    "\n",
    "def medir_tiempo(func, *args, **kwargs):\n",
    "    t1 = time_ns()\n",
    "    func(*args, **kwargs)\n",
    "    tf = time_ns() - t1\n",
    "    return tf"
   ]
  },
  {
   "cell_type": "code",
   "execution_count": 71,
   "metadata": {},
   "outputs": [],
   "source": [
    "tols = [10**(-i) for i in range(3, 10)]\n",
    "ns = [int((180*toli)**(-1/4)) + 1 for toli in tols]\n",
    "tiempos_adaptive = [medir_tiempo(adaptive, f, 0.1, 1, toli) for toli in tols]\n",
    "tiempos_scipy = [medir_tiempo(integrate.quad, f, 0.1, 1, epsabs=toli, epsrel=0) for toli in tols]"
   ]
  },
  {
   "cell_type": "code",
   "execution_count": 72,
   "metadata": {},
   "outputs": [
    {
     "data": {
      "text/plain": [
       "<matplotlib.legend.Legend at 0x151c0dc890>"
      ]
     },
     "execution_count": 72,
     "metadata": {},
     "output_type": "execute_result"
    },
    {
     "data": {
      "image/png": "[encoded data removed]",
      "text/plain": [
       "<Figure size 432x288 with 1 Axes>"
      ]
     },
     "metadata": {
      "needs_background": "light"
     },
     "output_type": "display_data"
    }
   ],
   "source": [
    "plt.loglog(tols, tiempos_adaptive, label = 'Adaptativa')\n",
    "plt.loglog(tols, tiempos_scipy, label = 'Scipy')\n",
    "plt.legend()"
   ]
  },
  {
   "cell_type": "markdown",
   "metadata": {},
   "source": [
    "El método implementado en Scipy es más sofisticado (es adaptativo pero usando Gauss en vez de Simpson) y en general tarda menor tiempo para mayor precisión."
   ]
  },
  {
   "cell_type": "markdown",
   "metadata": {},
   "source": [
    "### Tarea 9.10"
   ]
  },
  {
   "cell_type": "markdown",
   "metadata": {},
   "source": [
    "Ejercicio 4.6.10 del libro de análisis numérico de Burden.\n",
    "\n",
    "El estudio de la difracción de la luz en una apertura rectangular involucra las integrales de Fresnel\n",
    "\n",
    "$$\n",
    "c(t) = \\int_0^t dw\\,\\cos\\frac{\\pi}{2}w^2\\,,\\quad s(t) = \\int_0^t dw\\,\\sin\\frac{\\pi}{2}w^2\\,.\n",
    "$$\n",
    "\n",
    "Construya una tabla de integrales de Fresnel con una precisión de $10^{-4}$ para los valores $t = 0.1, 0.2, ..., 0.9, 1.0$."
   ]
  },
  {
   "cell_type": "code",
   "execution_count": 96,
   "metadata": {},
   "outputs": [],
   "source": [
    "def cint(w):\n",
    "    return np.cos(np.pi*w**2/2)\n",
    "\n",
    "def sint(w):\n",
    "    return np.sin(np.pi*w**2/2)\n",
    "\n",
    "ts = np.arange(0.1, 1.1, 0.1)\n",
    "cs = []\n",
    "ss = []\n",
    "for t in ts:\n",
    "    cs.append(adaptive(cint, 0, t, 0.0001))\n",
    "    ss.append(adaptive(sint, 0, t, 0.0001))"
   ]
  },
  {
   "cell_type": "code",
   "execution_count": 97,
   "metadata": {},
   "outputs": [
    {
     "data": {
      "text/plain": [
       "[0.09999752620314659,\n",
       " 0.1999208527890584,\n",
       " 0.29939944579596145,\n",
       " 0.39747459262593493,\n",
       " 0.4923271991997755,\n",
       " 0.5810609987242414,\n",
       " 0.6596497861282296,\n",
       " 0.7228442302329203,\n",
       " 0.7649717274067798,\n",
       " 0.7798800368707628]"
      ]
     },
     "execution_count": 97,
     "metadata": {},
     "output_type": "execute_result"
    }
   ],
   "source": [
    "cs"
   ]
  },
  {
   "cell_type": "code",
   "execution_count": 98,
   "metadata": {},
   "outputs": [
    {
     "data": {
      "text/plain": [
       "[0.0005235893869112587,\n",
       " 0.004187588609311059,\n",
       " 0.014116648135793117,\n",
       " 0.03335683744070317,\n",
       " 0.06472031615597247,\n",
       " 0.11049845337213748,\n",
       " 0.17212926549632784,\n",
       " 0.24932538138918584,\n",
       " 0.3397469569216192,\n",
       " 0.4382452595963803]"
      ]
     },
     "execution_count": 98,
     "metadata": {},
     "output_type": "execute_result"
    }
   ],
   "source": [
    "ss"
   ]
  }
 ],
 "metadata": {
  "kernelspec": {
   "display_name": "Python 3",
   "language": "python",
   "name": "python3"
  },
  "language_info": {
   "codemirror_mode": {
    "name": "ipython",
    "version": 3
   },
   "file_extension": ".py",
   "mimetype": "text/x-python",
   "name": "python",
   "nbconvert_exporter": "python",
   "pygments_lexer": "ipython3",
   "version": "3.7.7"
  }
 },
 "nbformat": 4,
 "nbformat_minor": 4
}
