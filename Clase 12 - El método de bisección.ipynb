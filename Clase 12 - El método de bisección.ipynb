{
 "cells": [
  {
   "cell_type": "markdown",
   "metadata": {},
   "source": [
    "# Clase 12: El método de bisección."
   ]
  },
  {
   "cell_type": "markdown",
   "metadata": {},
   "source": [
    "Empezaremos ahora en forma con los métodos numéricos. Nuestra primera discusión será sobre la solución de ecuaciones de una variable."
   ]
  },
  {
   "cell_type": "markdown",
   "metadata": {},
   "source": [
    "En muchos casos de interés queremos resolver una ecuación de una variable y la solución no se puede obtener de forma analítica. Por ejemplo al calcular las bandas de energía en un sólido de una dimensión se resuelve la siguiente ecuación\n",
    "\n",
    "$$\n",
    "f(z) = \\cos(z) - \\frac{\\sin(z)}{z}\n",
    "$$\n",
    "\n",
    "La energía permitida satisface $-1 \\leq f(z) \\leq 1$. Entonces para encontrar las bandas de energía basta encontrar los lugares que satisfacen $f(z) = \\pm 1$. Pero no es posible hacerlo de forma analítica."
   ]
  },
  {
   "cell_type": "markdown",
   "metadata": {},
   "source": [
    "Este tipo de problemas se pueden reducir a encontrar dónde una función es cero. Veremos algunas técnicas para lograrlo."
   ]
  },
  {
   "cell_type": "markdown",
   "metadata": {},
   "source": [
    "## Método de bisección"
   ]
  },
  {
   "cell_type": "markdown",
   "metadata": {},
   "source": [
    "Consiste en partir un intervalo en dos y determinar en cual de los subintervalos se encuentra el cero que buscamos. Esto se hace repetidamente. Se puede aplicar a problemas más allá de los numéricos, para realizar búsquedas en listas ordenadas. El algoritmo (como todos los de esta clase) es de orden $\\mathcal{O}(\\log)$."
   ]
  },
  {
   "cell_type": "markdown",
   "metadata": {},
   "source": [
    "0. Escogemos $a$ < $b$ tal que $f(a)f(b) < 0$ y calculamos $p_1 = a + \\frac{a + b}{2}$\n",
    "\n",
    "1. Si $f(p_1) = 0$ terminamos.\n",
    "\n",
    "2. Si $f(p_1)f(a) > 0$ entonces escogemos un nuevo $a = p_1$. Si $f(p_1)f(a) < 0$ entonces escogemos un nuevo $b = p_1$. Repetimos desde el paso 0."
   ]
  },
  {
   "cell_type": "code",
   "execution_count": 125,
   "metadata": {},
   "outputs": [],
   "source": [
    "def biseccion(f, a, b, epsilon, N=1000000):\n",
    "    \n",
    "    for i in range(N):\n",
    "        p = a + (b - a)/2\n",
    "        print(p)\n",
    "        if abs(f(p)) < epsilon:\n",
    "            print(\"Cero en\", p, \"encontrado después de\", i, \"iteraciones.\")\n",
    "            return p\n",
    "        elif f(p)*f(a) > 0:\n",
    "            a = p\n",
    "        else:\n",
    "            b = p\n",
    "    print(\"No se encontró el cero después de\", N, \"iteraciones.\")"
   ]
  },
  {
   "cell_type": "code",
   "execution_count": 41,
   "metadata": {},
   "outputs": [],
   "source": [
    "import numpy as np"
   ]
  },
  {
   "cell_type": "code",
   "execution_count": 42,
   "metadata": {},
   "outputs": [],
   "source": [
    "def func(x):\n",
    "    return np.cos(x) - np.sin(x)/x - 1"
   ]
  },
  {
   "cell_type": "code",
   "execution_count": 43,
   "metadata": {
    "scrolled": true
   },
   "outputs": [],
   "source": [
    "import matplotlib.pyplot as plt"
   ]
  },
  {
   "cell_type": "code",
   "execution_count": 44,
   "metadata": {},
   "outputs": [
    {
     "data": {
      "text/plain": [
       "[<matplotlib.lines.Line2D at 0x1219a7d90>]"
      ]
     },
     "execution_count": 44,
     "metadata": {},
     "output_type": "execute_result"
    },
    {
     "data": {
      "image/png": "[encoded data removed]",
      "text/plain": [
       "<Figure size 432x288 with 1 Axes>"
      ]
     },
     "metadata": {
      "needs_background": "light"
     },
     "output_type": "display_data"
    }
   ],
   "source": [
    "x = np.linspace(-6.5, -6, 100)\n",
    "plt.plot(x, func(x))"
   ]
  },
  {
   "cell_type": "code",
   "execution_count": 45,
   "metadata": {},
   "outputs": [
    {
     "data": {
      "text/plain": [
       "-0.056507757054717334"
      ]
     },
     "execution_count": 45,
     "metadata": {},
     "output_type": "execute_result"
    }
   ],
   "source": [
    "func(-6.5)"
   ]
  },
  {
   "cell_type": "code",
   "execution_count": 46,
   "metadata": {},
   "outputs": [
    {
     "data": {
      "text/plain": [
       "0.013131144060960942"
      ]
     },
     "execution_count": 46,
     "metadata": {},
     "output_type": "execute_result"
    }
   ],
   "source": [
    "func(-6.1)"
   ]
  },
  {
   "cell_type": "code",
   "execution_count": 47,
   "metadata": {},
   "outputs": [
    {
     "name": "stdout",
     "output_type": "stream",
     "text": [
      "-6.3\n",
      "-6.199999999999999\n",
      "-6.25\n",
      "-6.275\n",
      "-6.2875\n",
      "-6.28125\n",
      "-6.284375\n",
      "-6.2828125\n",
      "Cero en -6.2828125 encontrado después de 7 iteraciones.\n"
     ]
    },
    {
     "data": {
      "text/plain": [
       "-6.2828125"
      ]
     },
     "execution_count": 47,
     "metadata": {},
     "output_type": "execute_result"
    }
   ],
   "source": [
    "biseccion(func, -6.5, -6.1, 0.0001)"
   ]
  },
  {
   "cell_type": "markdown",
   "metadata": {},
   "source": [
    "Como condición para declarar el éxito hemos escogido que la función sea cercana a cero. Esto no necesariamente quiere decir que $p$ sea cercano a la verdadera raíz necesariamente. Por eso uno podría requerir\n",
    "\n",
    "$$\n",
    "|p_n - p_{n-1}| < \\epsilon\n",
    "$$\n",
    "\n",
    "o mejor aún\n",
    "\n",
    "$$\n",
    "\\frac{|p_n - p_{n-1}|}{|p_n|} < \\epsilon\n",
    "$$"
   ]
  },
  {
   "cell_type": "code",
   "execution_count": 127,
   "metadata": {},
   "outputs": [],
   "source": [
    "def biseccion(f, a, b, epsilon, N=1000000):\n",
    "\n",
    "    pp = a\n",
    "    for i in range(N):\n",
    "        p = a + (b - a)/2\n",
    "        if abs(p - pp)/abs(p) < epsilon:\n",
    "            return p\n",
    "        elif f(p)*f(a) > 0:\n",
    "            a = p\n",
    "        else:\n",
    "            b = p\n",
    "        pp = p\n",
    "    print(\"No se encontró el cero después de\", N, \"iteraciones.\")"
   ]
  },
  {
   "cell_type": "code",
   "execution_count": 62,
   "metadata": {},
   "outputs": [
    {
     "data": {
      "text/plain": [
       "-6.283203125"
      ]
     },
     "execution_count": 62,
     "metadata": {},
     "output_type": "execute_result"
    }
   ],
   "source": [
    "biseccion(func, -6.5, -6.1, 0.0001)"
   ]
  },
  {
   "cell_type": "markdown",
   "metadata": {},
   "source": [
    "Nota: En vez de $a + (b - a)/2$ uno podría escribir $(a + b)/2$ que tiene menos operaciones. Sin embargo esta segunda opción es más suceptible a errores de redondeo ya que la primera va modificando cada vez menos un resultado que va siendo cada vez una mejor aproximación."
   ]
  },
  {
   "cell_type": "markdown",
   "metadata": {},
   "source": [
    "**Teorema**: El método de bisección genera una sucesión $\\{p_n\\}$ convergente a $p$ con\n",
    "\n",
    "$$\n",
    "|p_n - p| \\leq \\frac{b - a}{2^n}\n",
    "$$"
   ]
  },
  {
   "cell_type": "markdown",
   "metadata": {},
   "source": [
    "Para demostrarlo note que al $n$-ésimo paso\n",
    "\n",
    "$$\n",
    "(b_n - a_n) = \\frac{1}{2^n}(b - a)\n",
    "$$\n",
    "\n",
    "Pero además\n",
    "\n",
    "$$\n",
    "|p_n - p| \\leq (b_n - a_n)\n",
    "$$\n",
    "\n",
    "ya que tanto $p_n$ como $p$ están contenidos en el intervalo $[a_n, b_n]$. "
   ]
  },
  {
   "cell_type": "markdown",
   "metadata": {},
   "source": [
    "En el problema que resolvimos arriba, supongamos que queremos encontrar el cero con una precisión mejor que el $0.01\\%$. Entonces despejamos \n",
    "\n",
    "$$\n",
    "0.0001\\times 6 = \\frac{1}{2^n}(-6.1 + 6.5)\n",
    "$$"
   ]
  },
  {
   "cell_type": "code",
   "execution_count": 54,
   "metadata": {},
   "outputs": [
    {
     "data": {
      "text/plain": [
       "9.380821783940931"
      ]
     },
     "execution_count": 54,
     "metadata": {},
     "output_type": "execute_result"
    }
   ],
   "source": [
    "np.log((-6.1+6.5)/(6*0.0001))/np.log(2)"
   ]
  },
  {
   "cell_type": "markdown",
   "metadata": {},
   "source": [
    "## Iteración de punto fijo"
   ]
  },
  {
   "cell_type": "markdown",
   "metadata": {},
   "source": [
    "el método de bisección garantiza que llega al cero de la función pero hay métodos más rápidos. Estos se basan en la solución de un problema relacionado, el de buscar un punto $p$ para una función $g(x)$ tal que $g(p) = p$ (llamado punto fijo de la función)."
   ]
  },
  {
   "cell_type": "markdown",
   "metadata": {},
   "source": [
    "Claramente estos problemas son lo mismo que buscar $f(x) = 0$ con $f(x) = x - g(x)$ o incluso $f(x) = x - 3g(x)$ o infinitas otras opciones."
   ]
  },
  {
   "cell_type": "markdown",
   "metadata": {},
   "source": [
    "**Teorema**: \n",
    "\n",
    "* Si $g \\in C[a,b]$ tal que $g(x) \\in [a,b]$ para todo $x \\in [a,b]$, entonces $g$ tiene al menos un punto fijo en $[a,b]$.\n",
    "\n",
    "* Si $|g'(x)| \\leq k$ con $0<k < 1$ para todo $x \\in [a,b]$ entonces ese punto fijo es único."
   ]
  },
  {
   "cell_type": "markdown",
   "metadata": {},
   "source": [
    "Si $g(a) = a$ o $g(b) = b$ terminamos, de otra manera $g(a) > a$ y $g(b) < b$ y entonces se reduce a demostrar que $h(x) = x - g(x)$ tiene un cero en $[a,b]$, lo que es garantizado por el teorema del valor intermedio."
   ]
  },
  {
   "cell_type": "markdown",
   "metadata": {},
   "source": [
    "Supongamos que hay dos punttos fijos $p$ y $q$ diferentes. Por el teorema del valor medio\n",
    "\n",
    "$$\n",
    "\\frac{g(p) - g(q)}{p - q} = g'(\\xi)\n",
    "$$\n",
    "\n",
    "para algún $\\xi \\in [a, b]$, y entonces\n",
    "\n",
    "$$\n",
    "|p - q| = |g(p) - g(q)|  = |g'(\\xi)||p - q| \\leq k|p - q| < |p - q|\n",
    "$$\n",
    "\n",
    "lo que es una contradicción."
   ]
  },
  {
   "cell_type": "code",
   "execution_count": 64,
   "metadata": {},
   "outputs": [],
   "source": [
    "class MaxIterations(Exception):\n",
    "    pass"
   ]
  },
  {
   "cell_type": "code",
   "execution_count": 75,
   "metadata": {},
   "outputs": [],
   "source": [
    "def iter_func(g, po, epsilon, N=1000000):\n",
    "    \n",
    "    for i in range(N):\n",
    "        p = g(po)\n",
    "        if abs(p - po)/abs(po) < epsilon:\n",
    "            return p, i\n",
    "        else:\n",
    "            po = p\n",
    "    \n",
    "    raise MaxIterations(\"No se encontró el punto fijo luego de\", N, \"iteraciones.\")"
   ]
  },
  {
   "cell_type": "markdown",
   "metadata": {},
   "source": [
    "Ejemplo: Encontremos el cero de la función $f(x) = x^3 + 4x^2 - 10$."
   ]
  },
  {
   "cell_type": "code",
   "execution_count": 88,
   "metadata": {},
   "outputs": [],
   "source": [
    "def g(x):\n",
    "    return x - x**3 - 4*x**2 + 10"
   ]
  },
  {
   "cell_type": "code",
   "execution_count": 89,
   "metadata": {},
   "outputs": [
    {
     "ename": "OverflowError",
     "evalue": "(34, 'Result too large')",
     "output_type": "error",
     "traceback": [
      "\u001b[0;31m---------------------------------------------------------------------------\u001b[0m",
      "\u001b[0;31mOverflowError\u001b[0m                             Traceback (most recent call last)",
      "\u001b[0;32m<ipython-input-89-626eae51acb2>\u001b[0m in \u001b[0;36m<module>\u001b[0;34m\u001b[0m\n\u001b[0;32m----> 1\u001b[0;31m \u001b[0miter_func\u001b[0m\u001b[0;34m(\u001b[0m\u001b[0mg\u001b[0m\u001b[0;34m,\u001b[0m \u001b[0;36m1.5\u001b[0m\u001b[0;34m,\u001b[0m \u001b[0;36m0.0001\u001b[0m\u001b[0;34m)\u001b[0m\u001b[0;34m\u001b[0m\u001b[0;34m\u001b[0m\u001b[0m\n\u001b[0m",
      "\u001b[0;32m<ipython-input-75-7a1407b6aaaf>\u001b[0m in \u001b[0;36miter_func\u001b[0;34m(g, po, epsilon, N)\u001b[0m\n\u001b[1;32m      2\u001b[0m \u001b[0;34m\u001b[0m\u001b[0m\n\u001b[1;32m      3\u001b[0m     \u001b[0;32mfor\u001b[0m \u001b[0mi\u001b[0m \u001b[0;32min\u001b[0m \u001b[0mrange\u001b[0m\u001b[0;34m(\u001b[0m\u001b[0mN\u001b[0m\u001b[0;34m)\u001b[0m\u001b[0;34m:\u001b[0m\u001b[0;34m\u001b[0m\u001b[0;34m\u001b[0m\u001b[0m\n\u001b[0;32m----> 4\u001b[0;31m         \u001b[0mp\u001b[0m \u001b[0;34m=\u001b[0m \u001b[0mg\u001b[0m\u001b[0;34m(\u001b[0m\u001b[0mpo\u001b[0m\u001b[0;34m)\u001b[0m\u001b[0;34m\u001b[0m\u001b[0;34m\u001b[0m\u001b[0m\n\u001b[0m\u001b[1;32m      5\u001b[0m         \u001b[0;32mif\u001b[0m \u001b[0mabs\u001b[0m\u001b[0;34m(\u001b[0m\u001b[0mp\u001b[0m \u001b[0;34m-\u001b[0m \u001b[0mpo\u001b[0m\u001b[0;34m)\u001b[0m\u001b[0;34m/\u001b[0m\u001b[0mabs\u001b[0m\u001b[0;34m(\u001b[0m\u001b[0mpo\u001b[0m\u001b[0;34m)\u001b[0m \u001b[0;34m<\u001b[0m \u001b[0mepsilon\u001b[0m\u001b[0;34m:\u001b[0m\u001b[0;34m\u001b[0m\u001b[0;34m\u001b[0m\u001b[0m\n\u001b[1;32m      6\u001b[0m             \u001b[0;32mreturn\u001b[0m \u001b[0mp\u001b[0m\u001b[0;34m,\u001b[0m \u001b[0mi\u001b[0m\u001b[0;34m\u001b[0m\u001b[0;34m\u001b[0m\u001b[0m\n",
      "\u001b[0;32m<ipython-input-88-58d68f2eb0cf>\u001b[0m in \u001b[0;36mg\u001b[0;34m(x)\u001b[0m\n\u001b[1;32m      1\u001b[0m \u001b[0;32mdef\u001b[0m \u001b[0mg\u001b[0m\u001b[0;34m(\u001b[0m\u001b[0mx\u001b[0m\u001b[0;34m)\u001b[0m\u001b[0;34m:\u001b[0m\u001b[0;34m\u001b[0m\u001b[0;34m\u001b[0m\u001b[0m\n\u001b[0;32m----> 2\u001b[0;31m     \u001b[0;32mreturn\u001b[0m \u001b[0mx\u001b[0m \u001b[0;34m-\u001b[0m \u001b[0mx\u001b[0m\u001b[0;34m**\u001b[0m\u001b[0;36m3\u001b[0m \u001b[0;34m-\u001b[0m \u001b[0;36m4\u001b[0m\u001b[0;34m*\u001b[0m\u001b[0mx\u001b[0m\u001b[0;34m**\u001b[0m\u001b[0;36m2\u001b[0m \u001b[0;34m+\u001b[0m \u001b[0;36m10\u001b[0m\u001b[0;34m\u001b[0m\u001b[0;34m\u001b[0m\u001b[0m\n\u001b[0m",
      "\u001b[0;31mOverflowError\u001b[0m: (34, 'Result too large')"
     ]
    }
   ],
   "source": [
    "iter_func(g, 1.5, 0.0001)"
   ]
  },
  {
   "cell_type": "code",
   "execution_count": 90,
   "metadata": {},
   "outputs": [],
   "source": [
    "def g(x):\n",
    "    return np.sqrt(10/x - 4*x)"
   ]
  },
  {
   "cell_type": "code",
   "execution_count": 91,
   "metadata": {},
   "outputs": [
    {
     "name": "stderr",
     "output_type": "stream",
     "text": [
      "/Users/jorgenorena/anaconda3/lib/python3.7/site-packages/ipykernel_launcher.py:2: RuntimeWarning: invalid value encountered in sqrt\n",
      "  \n"
     ]
    },
    {
     "ename": "MaxIterations",
     "evalue": "('No se encontró el punto fijo luego de', 1000000, 'iteraciones.')",
     "output_type": "error",
     "traceback": [
      "\u001b[0;31m---------------------------------------------------------------------------\u001b[0m",
      "\u001b[0;31mMaxIterations\u001b[0m                             Traceback (most recent call last)",
      "\u001b[0;32m<ipython-input-91-626eae51acb2>\u001b[0m in \u001b[0;36m<module>\u001b[0;34m\u001b[0m\n\u001b[0;32m----> 1\u001b[0;31m \u001b[0miter_func\u001b[0m\u001b[0;34m(\u001b[0m\u001b[0mg\u001b[0m\u001b[0;34m,\u001b[0m \u001b[0;36m1.5\u001b[0m\u001b[0;34m,\u001b[0m \u001b[0;36m0.0001\u001b[0m\u001b[0;34m)\u001b[0m\u001b[0;34m\u001b[0m\u001b[0;34m\u001b[0m\u001b[0m\n\u001b[0m",
      "\u001b[0;32m<ipython-input-75-7a1407b6aaaf>\u001b[0m in \u001b[0;36miter_func\u001b[0;34m(g, po, epsilon, N)\u001b[0m\n\u001b[1;32m      8\u001b[0m             \u001b[0mpo\u001b[0m \u001b[0;34m=\u001b[0m \u001b[0mp\u001b[0m\u001b[0;34m\u001b[0m\u001b[0;34m\u001b[0m\u001b[0m\n\u001b[1;32m      9\u001b[0m \u001b[0;34m\u001b[0m\u001b[0m\n\u001b[0;32m---> 10\u001b[0;31m     \u001b[0;32mraise\u001b[0m \u001b[0mMaxIterations\u001b[0m\u001b[0;34m(\u001b[0m\u001b[0;34m\"No se encontró el punto fijo luego de\"\u001b[0m\u001b[0;34m,\u001b[0m \u001b[0mN\u001b[0m\u001b[0;34m,\u001b[0m \u001b[0;34m\"iteraciones.\"\u001b[0m\u001b[0;34m)\u001b[0m\u001b[0;34m\u001b[0m\u001b[0;34m\u001b[0m\u001b[0m\n\u001b[0m",
      "\u001b[0;31mMaxIterations\u001b[0m: ('No se encontró el punto fijo luego de', 1000000, 'iteraciones.')"
     ]
    }
   ],
   "source": [
    "iter_func(g, 1.5, 0.0001)"
   ]
  },
  {
   "cell_type": "code",
   "execution_count": 93,
   "metadata": {},
   "outputs": [],
   "source": [
    "def g(x):\n",
    "    return (1/2)*np.sqrt(10 - x**3)"
   ]
  },
  {
   "cell_type": "code",
   "execution_count": 94,
   "metadata": {},
   "outputs": [
    {
     "data": {
      "text/plain": [
       "(1.3652058502970472, 12)"
      ]
     },
     "execution_count": 94,
     "metadata": {},
     "output_type": "execute_result"
    }
   ],
   "source": [
    "iter_func(g, 1.5, 0.0001)"
   ]
  },
  {
   "cell_type": "code",
   "execution_count": 95,
   "metadata": {},
   "outputs": [],
   "source": [
    "def g(x):\n",
    "    return np.sqrt(10/(4 + x))"
   ]
  },
  {
   "cell_type": "code",
   "execution_count": 96,
   "metadata": {},
   "outputs": [
    {
     "data": {
      "text/plain": [
       "(1.365225594160525, 4)"
      ]
     },
     "execution_count": 96,
     "metadata": {},
     "output_type": "execute_result"
    }
   ],
   "source": [
    "iter_func(g, 1.5, 0.0001)"
   ]
  },
  {
   "cell_type": "code",
   "execution_count": 97,
   "metadata": {},
   "outputs": [],
   "source": [
    "def g(x):\n",
    "    return x - (x**3 + 4*x**2 - 10)/(3*x**2 + 8*x)"
   ]
  },
  {
   "cell_type": "code",
   "execution_count": 98,
   "metadata": {},
   "outputs": [
    {
     "data": {
      "text/plain": [
       "(1.3652300139161466, 2)"
      ]
     },
     "execution_count": 98,
     "metadata": {},
     "output_type": "execute_result"
    }
   ],
   "source": [
    "iter_func(g, 1.5, 0.0001)"
   ]
  },
  {
   "cell_type": "markdown",
   "metadata": {},
   "source": [
    "**Teorema**: Sea $g$ tal que satisface todas las condiciones del teorema anterior. Entonces para cualquier número $p_o \\in [a, b]$, la secuencia definida por\n",
    "\n",
    "$$\n",
    "p_n = g(p_{n-1})\n",
    "$$\n",
    "\n",
    "converge al punto fijo."
   ]
  },
  {
   "cell_type": "markdown",
   "metadata": {},
   "source": [
    "Como $g(x) \\in [a,b]$, la secuencia está toda contenida en $[a, b]$. Para cada $n$ tenemos\n",
    "\n",
    "$$\n",
    "|p_n - p| = |g(p_{n-1}) - g(p)| = |g'(\\xi)||p_{n-1} - p| \\leq k |p_{n-1} - p|\\,,\n",
    "$$\n",
    "\n",
    "entonces por inducción se puede demostrar que\n",
    "\n",
    "$$\n",
    "|p_n - p| \\leq k^n |p_o - p|\\,,\n",
    "$$\n",
    "\n",
    "a medida que $n \\rightarrow \\infty$ esta cantidad tiende a cero."
   ]
  },
  {
   "cell_type": "markdown",
   "metadata": {},
   "source": [
    "En los ejemplos de arriba, no todas las funciones cumplen las condiciones de este teorema."
   ]
  },
  {
   "cell_type": "markdown",
   "metadata": {},
   "source": [
    "Para usar este método con el propósito de encontrar una raíz, es necesario convertir el problema de la raíz a una función $g$ que satisfaga estas condiciones."
   ]
  },
  {
   "cell_type": "markdown",
   "metadata": {},
   "source": [
    "## Tareas"
   ]
  },
  {
   "cell_type": "markdown",
   "metadata": {},
   "source": [
    "### Tarea 6.6"
   ]
  },
  {
   "cell_type": "markdown",
   "metadata": {},
   "source": [
    "Use el método de bisección para encontrar un cero de la función \n",
    "\n",
    "$$\n",
    "f(x) = 1 - \\cos(x) -\\frac{\\sin(x)}{x}\n",
    "$$\n",
    "\n",
    "entre $-6.5$ y $-6.0$. Grafique el error relativo requerido al calcular el cero en función del número de iteraciones que necesita el método para converger. Compare con la cota teórica."
   ]
  },
  {
   "cell_type": "markdown",
   "metadata": {},
   "source": [
    "### Tarea 6.7"
   ]
  },
  {
   "cell_type": "markdown",
   "metadata": {},
   "source": [
    "Encuentre un cero de la función\n",
    "\n",
    "$$\n",
    "f(x) = 1 - \\cos(x) -\\frac{\\sin(x)}{x}\n",
    "$$\n",
    "\n",
    "entre $-6.4$ y $-6.0$ usando el método de iteración de punto fijo con un error relativo de $0.001$. Verifique que su función $g$ satisface las condiciones necesarias para la convergencia del método."
   ]
  },
  {
   "cell_type": "markdown",
   "metadata": {},
   "source": [
    "### Tarea 6.8"
   ]
  },
  {
   "cell_type": "markdown",
   "metadata": {},
   "source": [
    "Busque un ejemplo de una función tal que el método de bisección con la condición $|p_n - p_{n-1}|/|p_n| < \\epsilon$ converge siempre a un valor que no es un cero de la función."
   ]
  },
  {
   "cell_type": "markdown",
   "metadata": {},
   "source": [
    "### Tarea 6.9"
   ]
  },
  {
   "cell_type": "markdown",
   "metadata": {},
   "source": [
    "Encuentre una aproximación numérica para $(31)^{1/3}$ con un error relativo menor que $10^{-8}$ usando el método de bisección y el método de iteración de punto fijo. Compare el tiempo que tarda cada método."
   ]
  },
  {
   "cell_type": "markdown",
   "metadata": {},
   "source": [
    "### Tarea 6.10"
   ]
  },
  {
   "cell_type": "markdown",
   "metadata": {},
   "source": [
    "Encuentre una aproximación numérica para $(31)^{1/3}$ usando el método de bisección. Grafique el tiempo requerido para ese cálculo en función del error relativo. Escoja errores relativos muy pequeños para que el computador tarde un tiempo moderado en el cálculo."
   ]
  }
 ],
 "metadata": {
  "kernelspec": {
   "display_name": "Python 3",
   "language": "python",
   "name": "python3"
  },
  "language_info": {
   "codemirror_mode": {
    "name": "ipython",
    "version": 3
   },
   "file_extension": ".py",
   "mimetype": "text/x-python",
   "name": "python",
   "nbconvert_exporter": "python",
   "pygments_lexer": "ipython3",
   "version": "3.7.7"
  }
 },
 "nbformat": 4,
 "nbformat_minor": 4
}
