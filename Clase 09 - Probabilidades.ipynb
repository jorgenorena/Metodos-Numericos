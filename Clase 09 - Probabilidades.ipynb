{
 "cells": [
  {
   "cell_type": "markdown",
   "metadata": {},
   "source": [
    "# Clase 9: Probabilidades"
   ]
  },
  {
   "cell_type": "markdown",
   "metadata": {},
   "source": [
    "## Definición intuitiva"
   ]
  },
  {
   "cell_type": "markdown",
   "metadata": {},
   "source": [
    "Describamos la probabilidad con un ejemplo:\n",
    "\n",
    "Supongamos que lanzamoos un dado y nos preguntamos cuál es la probabilidad de que caiga un número par."
   ]
  },
  {
   "cell_type": "code",
   "execution_count": 1,
   "metadata": {},
   "outputs": [],
   "source": [
    "dado = {1, 2, 3, 4, 5, 6}\n",
    "par = {2, 4, 6}"
   ]
  },
  {
   "cell_type": "code",
   "execution_count": 2,
   "metadata": {},
   "outputs": [],
   "source": [
    "def prob(evento, espacio):\n",
    "    ''' \n",
    "    Regresa la probabilidad de que ocurra 'evento'.\n",
    "    Los argumentos deben ser conjuntos.    \n",
    "    '''\n",
    "    return (len(evento & espacio)/len(espacio))"
   ]
  },
  {
   "cell_type": "code",
   "execution_count": 3,
   "metadata": {},
   "outputs": [
    {
     "data": {
      "text/plain": [
       "0.5"
      ]
     },
     "execution_count": 3,
     "metadata": {},
     "output_type": "execute_result"
    }
   ],
   "source": [
    "prob(par, dado)"
   ]
  },
  {
   "cell_type": "markdown",
   "metadata": {},
   "source": [
    "Para un ejemplo menos trivial, consideremos una urna con 23 bolas: 8 blancas, 6 azules, 9 rojas."
   ]
  },
  {
   "cell_type": "code",
   "execution_count": 4,
   "metadata": {},
   "outputs": [],
   "source": [
    "def unir(color, numeros):\n",
    "    return {color + numero for numero in numeros}\n",
    "\n",
    "urna = unir('B', '12345678') | unir('A', '123456') | unir('R', '123456789')"
   ]
  },
  {
   "cell_type": "markdown",
   "metadata": {},
   "source": [
    "Se extraen 6 bolas de la urna sin reemplazo."
   ]
  },
  {
   "cell_type": "code",
   "execution_count": 5,
   "metadata": {},
   "outputs": [],
   "source": [
    "import itertools\n",
    "\n",
    "espacio = set(itertools.combinations(urna, 6))"
   ]
  },
  {
   "cell_type": "markdown",
   "metadata": {},
   "source": [
    "Nos preguntamos cuál es la probabilidad de obtener 6 bolas rojas"
   ]
  },
  {
   "cell_type": "code",
   "execution_count": 7,
   "metadata": {},
   "outputs": [],
   "source": [
    "def todos_rojos(evento):\n",
    "    s = [i[0] for i in evento]\n",
    "    return s.count('R') == 6\n",
    "\n",
    "rojos = {e for e in espacio if todos_rojos(e)}"
   ]
  },
  {
   "cell_type": "code",
   "execution_count": 8,
   "metadata": {},
   "outputs": [
    {
     "data": {
      "text/plain": [
       "0.0008321198252548367"
      ]
     },
     "execution_count": 8,
     "metadata": {},
     "output_type": "execute_result"
    }
   ],
   "source": [
    "prob(rojos, espacio)"
   ]
  },
  {
   "cell_type": "markdown",
   "metadata": {},
   "source": [
    "## Simulaciones estilo Monte Carlo de probabilidades"
   ]
  },
  {
   "cell_type": "markdown",
   "metadata": {},
   "source": [
    "Esto fue un cálculo a fuerza bruta. El problema es que si la urna tiene muchas bolas, el computador no va a ser capaz de calcular todos los elementos del espacio, se hace todo muy lento."
   ]
  },
  {
   "cell_type": "markdown",
   "metadata": {},
   "source": [
    "Consideremos una urna con 2300 bolas: 800 blancas, 600 azules y 900 rojas."
   ]
  },
  {
   "cell_type": "code",
   "execution_count": 9,
   "metadata": {},
   "outputs": [],
   "source": [
    "def unir(color, numero):\n",
    "    return {color + str(n + 1) for n in range(numero)}\n",
    "\n",
    "urna = list(unir('B', 800) | unir('A', 600) | unir('R', 900))"
   ]
  },
  {
   "cell_type": "markdown",
   "metadata": {},
   "source": [
    "Extraemos 6 bolas"
   ]
  },
  {
   "cell_type": "code",
   "execution_count": null,
   "metadata": {},
   "outputs": [],
   "source": [
    "# Cuidado, correr esto colapsa el computador\n",
    "\n",
    "espacio = set(itertools.combinations(urna,6))"
   ]
  },
  {
   "cell_type": "markdown",
   "metadata": {},
   "source": [
    "El problema es que hay demasiadas combinaciones posibles. En estos casos lo que se hace es tomar un número de muestras al azar."
   ]
  },
  {
   "cell_type": "code",
   "execution_count": 10,
   "metadata": {},
   "outputs": [],
   "source": [
    "import random"
   ]
  },
  {
   "cell_type": "code",
   "execution_count": 104,
   "metadata": {},
   "outputs": [],
   "source": [
    "muestra = {tuple(random.choices(urna, k = 6)) for i in range(100000)}"
   ]
  },
  {
   "cell_type": "code",
   "execution_count": 105,
   "metadata": {},
   "outputs": [],
   "source": [
    "rojos = {e for e in muestra if todos_rojos(e)}"
   ]
  },
  {
   "cell_type": "code",
   "execution_count": 106,
   "metadata": {},
   "outputs": [
    {
     "data": {
      "text/plain": [
       "0.00386"
      ]
     },
     "execution_count": 106,
     "metadata": {},
     "output_type": "execute_result"
    }
   ],
   "source": [
    "prob(rojos, muestra)"
   ]
  },
  {
   "cell_type": "code",
   "execution_count": 113,
   "metadata": {},
   "outputs": [],
   "source": [
    "import matplotlib.pyplot as plt\n",
    "import numpy as np"
   ]
  },
  {
   "cell_type": "code",
   "execution_count": 143,
   "metadata": {},
   "outputs": [
    {
     "data": {
      "text/plain": [
       "[<matplotlib.lines.Line2D at 0x10ba01e10>]"
      ]
     },
     "execution_count": 143,
     "metadata": {},
     "output_type": "execute_result"
    },
    {
     "data": {
      "image/png": "[encoded data removed]",
      "text/plain": [
       "<Figure size 432x288 with 1 Axes>"
      ]
     },
     "metadata": {
      "needs_background": "light"
     },
     "output_type": "display_data"
    }
   ],
   "source": [
    "sims = 10\n",
    "puntos = 200000\n",
    "probs = np.zeros(sims)\n",
    "\n",
    "for i in range(sims):\n",
    "    muestra = {tuple(random.choices(urna, k = 6)) for i in range(puntos)}\n",
    "    rojos = {e for e in muestra if todos_rojos(e)}\n",
    "    probs[i] = prob(rojos, muestra)\n",
    "\n",
    "plt.plot(np.arange(sims), probs)"
   ]
  },
  {
   "cell_type": "code",
   "execution_count": 144,
   "metadata": {},
   "outputs": [
    {
     "data": {
      "text/plain": [
       "0.0035564999999999998"
      ]
     },
     "execution_count": 144,
     "metadata": {},
     "output_type": "execute_result"
    }
   ],
   "source": [
    "probs.mean()"
   ]
  },
  {
   "cell_type": "code",
   "execution_count": 145,
   "metadata": {},
   "outputs": [
    {
     "data": {
      "text/plain": [
       "0.027585648379431504"
      ]
     },
     "execution_count": 145,
     "metadata": {},
     "output_type": "execute_result"
    }
   ],
   "source": [
    "probs.std()/probs.mean()"
   ]
  },
  {
   "cell_type": "markdown",
   "metadata": {},
   "source": [
    "## Propiedades de la probabilidad"
   ]
  },
  {
   "cell_type": "markdown",
   "metadata": {},
   "source": [
    "Definimos primero la probabilidad condicional de que ocurra $A$ dado que ocurre $B$: $P(A|B)$"
   ]
  },
  {
   "cell_type": "code",
   "execution_count": 146,
   "metadata": {},
   "outputs": [],
   "source": [
    "def prob_cond(A, B, espacio):\n",
    "    ocurreB = espacio & B\n",
    "    return len(A & ocurreB)/len(ocurreB)"
   ]
  },
  {
   "cell_type": "markdown",
   "metadata": {},
   "source": [
    "Por ejemplo, la probabilidad de que al lanzar un dado dos veces el segundo resultado sea par dado que la suma de ambos es 6."
   ]
  },
  {
   "cell_type": "code",
   "execution_count": 157,
   "metadata": {},
   "outputs": [],
   "source": [
    "dado = {'1','2','3','4','5','6'}\n",
    "espacio = {i + j for i in dado for j in dado}"
   ]
  },
  {
   "cell_type": "code",
   "execution_count": 158,
   "metadata": {},
   "outputs": [],
   "source": [
    "suma6 = {e for e in espacio if int(e[0]) + int(e[1]) == 6}\n",
    "segundoPar = {e for e in espacio if int(e[1])%2 == 0}"
   ]
  },
  {
   "cell_type": "code",
   "execution_count": 161,
   "metadata": {
    "scrolled": true
   },
   "outputs": [
    {
     "data": {
      "text/plain": [
       "0.4"
      ]
     },
     "execution_count": 161,
     "metadata": {},
     "output_type": "execute_result"
    }
   ],
   "source": [
    "prob_cond(segundoPar, suma6, espacio)"
   ]
  },
  {
   "cell_type": "markdown",
   "metadata": {},
   "source": [
    "Ahora otro problema, ¿cuál es la probabilidad de que la suma sea 6 y el segundo resultado sea par?"
   ]
  },
  {
   "cell_type": "code",
   "execution_count": 168,
   "metadata": {},
   "outputs": [],
   "source": [
    "def prob_sim(A, B, espacio):\n",
    "    ocurrenAyB = A & B\n",
    "    return prob(ocurrenAyB, espacio)"
   ]
  },
  {
   "cell_type": "code",
   "execution_count": 169,
   "metadata": {},
   "outputs": [
    {
     "data": {
      "text/plain": [
       "0.05555555555555555"
      ]
     },
     "execution_count": 169,
     "metadata": {},
     "output_type": "execute_result"
    }
   ],
   "source": [
    "prob_sim(suma6, segundoPar, espacio)"
   ]
  },
  {
   "cell_type": "code",
   "execution_count": 170,
   "metadata": {},
   "outputs": [
    {
     "data": {
      "text/plain": [
       "0.05555555555555556"
      ]
     },
     "execution_count": 170,
     "metadata": {},
     "output_type": "execute_result"
    }
   ],
   "source": [
    "prob_cond(segundoPar, suma6, espacio)*prob(suma6, espacio)"
   ]
  },
  {
   "cell_type": "markdown",
   "metadata": {},
   "source": [
    "Esto tiene mucho sentido intuitivo y es una propiedad general: \n",
    "\n",
    "$$\n",
    "P(AB) = P(A|B)P(B)\n",
    "$$"
   ]
  },
  {
   "cell_type": "markdown",
   "metadata": {},
   "source": [
    "Otro problema, ¿cuál es la probabilidad de que la suma sea 6 o que el segundo resultado sea par?"
   ]
  },
  {
   "cell_type": "code",
   "execution_count": 171,
   "metadata": {},
   "outputs": [],
   "source": [
    "def prob_o(A, B, espacio):\n",
    "    ocurrenAoB = A | B\n",
    "    return prob(ocurrenAoB, espacio)"
   ]
  },
  {
   "cell_type": "code",
   "execution_count": 172,
   "metadata": {},
   "outputs": [
    {
     "data": {
      "text/plain": [
       "0.5833333333333334"
      ]
     },
     "execution_count": 172,
     "metadata": {},
     "output_type": "execute_result"
    }
   ],
   "source": [
    "prob_o(suma6, segundoPar, espacio)"
   ]
  },
  {
   "cell_type": "code",
   "execution_count": 177,
   "metadata": {},
   "outputs": [
    {
     "data": {
      "text/plain": [
       "0.5833333333333333"
      ]
     },
     "execution_count": 177,
     "metadata": {},
     "output_type": "execute_result"
    }
   ],
   "source": [
    "prob(suma6, espacio) + prob(segundoPar, espacio) - prob_sim(suma6, segundoPar, espacio)"
   ]
  },
  {
   "cell_type": "markdown",
   "metadata": {},
   "source": [
    "De nuevo tiene sentido intuitivo y escribimos\n",
    "\n",
    "$$\n",
    "P(A\\cup B) = P(A) + P(B) - P(AB)\n",
    "$$"
   ]
  },
  {
   "cell_type": "markdown",
   "metadata": {},
   "source": [
    "Decimos que dos eventos son independientes cuando $P(A|B) = P(A)$. En ese caso $P(AB) = P(A)P(B)$.\n",
    "\n",
    "Decimos que dos eventos son mutuamente excluyentes cuando $P(AB) = 0$. En ese caso $P(A\\cup B) = P(A) + P(B)$."
   ]
  },
  {
   "cell_type": "markdown",
   "metadata": {},
   "source": [
    "## Teorema de Bayes"
   ]
  },
  {
   "cell_type": "markdown",
   "metadata": {},
   "source": [
    "Este teorema es tal vez el teorema famoso más sencillo de demostrar:\n",
    "\n",
    "$$\n",
    "P(A|B) = \\frac{P(B|A) P(A)}{P(B)}\n",
    "$$"
   ]
  },
  {
   "cell_type": "markdown",
   "metadata": {},
   "source": [
    "**Demostración:**\n",
    "\n",
    "$$\n",
    "P(AB) = P(BA)\n",
    "$$\n",
    "\n",
    "entonces\n",
    "\n",
    "$$\n",
    "P(A|B)P(B) = P(B|A)P(A)\n",
    "$$"
   ]
  },
  {
   "cell_type": "markdown",
   "metadata": {},
   "source": [
    "Para ver un ejemplo de su poder, supongamos que sabemos que los estudiantes de física son $70$ hombres y $30$ mujeres mientras que los estudiantes de química son $141$ hombres y $153$ mujeres. En el pasillo conocemos a un estudiante que está hablando de átomos (tal que es de física o química). Si este estudiante es mujer, ¿cuál es la probabilidad de que sea de física?"
   ]
  },
  {
   "cell_type": "markdown",
   "metadata": {},
   "source": [
    "Queremos calcular $P(física|mujer)$, pero conocemos el objeto al revés $P(mujer|física)$. ¿Cómo lo hacemos?"
   ]
  },
  {
   "cell_type": "code",
   "execution_count": 179,
   "metadata": {},
   "outputs": [
    {
     "data": {
      "text/plain": [
       "0.16393442622950818"
      ]
     },
     "execution_count": 179,
     "metadata": {},
     "output_type": "execute_result"
    }
   ],
   "source": [
    "numero_estudiantes = 141 + 153 + 70 + 30\n",
    "prob_mujer = (153 + 30)/numero_estudiantes\n",
    "prob_fisica = 100/numero_estudiantes\n",
    "prob_mujer_dado_fisica = 30/100\n",
    "\n",
    "prob_mujer_dado_fisica*prob_fisica/prob_mujer"
   ]
  },
  {
   "cell_type": "markdown",
   "metadata": {},
   "source": [
    "Hagamos una simulación para confirmarlo"
   ]
  },
  {
   "cell_type": "code",
   "execution_count": 11,
   "metadata": {},
   "outputs": [],
   "source": [
    "def prob(evento, dist):\n",
    "    '''\n",
    "    Calcula la probabilidad de un evento a partir de una distribución. El evento debe ser una función que\n",
    "    regresa verdadero o falso y la distribución debe ser un diccionario (evento: frecuencia)\n",
    "    '''\n",
    "    \n",
    "    conjunto = {e for e in dist.keys() if evento(e)}\n",
    "    total = sum(d for d in dist.values())\n",
    "    frec = sum(dist[e] for e in conjunto)\n",
    "    return frec/total"
   ]
  },
  {
   "cell_type": "code",
   "execution_count": 12,
   "metadata": {},
   "outputs": [
    {
     "data": {
      "text/plain": [
       "0.46446700507614214"
      ]
     },
     "execution_count": 12,
     "metadata": {},
     "output_type": "execute_result"
    }
   ],
   "source": [
    "dist = {'HF': 70, 'MF': 30, 'HQ': 141, 'MQ': 153}\n",
    "\n",
    "def mujer(e):\n",
    "    return e[0] == 'M'\n",
    "\n",
    "prob(mujer, dist)"
   ]
  },
  {
   "cell_type": "code",
   "execution_count": 13,
   "metadata": {},
   "outputs": [],
   "source": [
    "def prob_cond(A, B, dist):\n",
    "    \n",
    "    conjuntoB = {e for e in dist.keys() if B(e)}\n",
    "    conjuntoA = {e for e in conjuntoB if A(e)}\n",
    "    frec_B = sum(dist[e] for e in conjuntoB)\n",
    "    frec = sum(dist[e] for e in conjuntoA)\n",
    "    return frec/frec_B"
   ]
  },
  {
   "cell_type": "code",
   "execution_count": 14,
   "metadata": {},
   "outputs": [
    {
     "data": {
      "text/plain": [
       "0.16393442622950818"
      ]
     },
     "execution_count": 14,
     "metadata": {},
     "output_type": "execute_result"
    }
   ],
   "source": [
    "def fisica(e):\n",
    "    return e[1] == 'F'\n",
    "\n",
    "prob_cond(fisica, mujer, dist)"
   ]
  },
  {
   "cell_type": "code",
   "execution_count": 15,
   "metadata": {},
   "outputs": [
    {
     "data": {
      "text/plain": [
       "0.16393442622950818"
      ]
     },
     "execution_count": 15,
     "metadata": {},
     "output_type": "execute_result"
    }
   ],
   "source": [
    "prob_cond(mujer, fisica, dist)*prob(fisica, dist)/prob(mujer, dist)"
   ]
  },
  {
   "cell_type": "markdown",
   "metadata": {},
   "source": [
    "## Tareas"
   ]
  },
  {
   "cell_type": "markdown",
   "metadata": {},
   "source": [
    "### Tarea 5.1"
   ]
  },
  {
   "cell_type": "markdown",
   "metadata": {},
   "source": [
    "En el problema de la urna al extraer seis bolas. \n",
    "\n",
    "* ¿Cuál es la probabilidad de que las primeras tres bolas no sean rojas?\n",
    "* ¿Cuál es la probabilidad de sacar dos bolas de cada color?"
   ]
  },
  {
   "cell_type": "code",
   "execution_count": 71,
   "metadata": {},
   "outputs": [],
   "source": [
    "import itertools\n",
    "\n",
    "def prob(evento, espacio):\n",
    "    ''' \n",
    "    Regresa la probabilidad de que ocurra 'evento'.\n",
    "    Los argumentos deben ser conjuntos.    \n",
    "    '''\n",
    "    return (len(evento & espacio)/len(espacio))\n",
    "\n",
    "def unir(color, numeros):\n",
    "    return {color + numero for numero in numeros}\n",
    "\n",
    "urna = unir('B', '12345678') | unir('A', '123456') | unir('R', '123456789')\n",
    "\n",
    "espacio = set(itertools.combinations(urna, 6))"
   ]
  },
  {
   "cell_type": "code",
   "execution_count": 72,
   "metadata": {},
   "outputs": [
    {
     "data": {
      "text/plain": [
       "0.14197549208990856"
      ]
     },
     "execution_count": 72,
     "metadata": {},
     "output_type": "execute_result"
    }
   ],
   "source": [
    "def tres_rojos(evento):\n",
    "    s = [i[0] for i in evento[:3]]\n",
    "    return s.count('R') == 3\n",
    "\n",
    "rojos = {e for e in espacio if tres_rojos(e)}\n",
    "\n",
    "prob(rojos, espacio)"
   ]
  },
  {
   "cell_type": "code",
   "execution_count": 73,
   "metadata": {},
   "outputs": [
    {
     "data": {
      "text/plain": [
       "0.1497815685458706"
      ]
     },
     "execution_count": 73,
     "metadata": {},
     "output_type": "execute_result"
    }
   ],
   "source": [
    "def dos_de_cada(evento):\n",
    "    s = [i[0] for i in evento]\n",
    "    Rs = s.count('R')\n",
    "    As = s.count('A')\n",
    "    Bs = s.count('B')\n",
    "    return Rs == As == Bs\n",
    "\n",
    "evento = {e for e in espacio if dos_de_cada(e)}\n",
    "prob(evento, espacio)"
   ]
  },
  {
   "cell_type": "markdown",
   "metadata": {},
   "source": [
    "### Tarea 5.2"
   ]
  },
  {
   "cell_type": "markdown",
   "metadata": {},
   "source": [
    "Repita el problema de la urna pero con reemplazo. Es decir, luego de sacar cada bola esta se vuelve a poner en la urna. Si se extraen cuatro bolas de la urna, ¿cuál es la probabilidad de que todas sean rojas? Responda este problema escribiendo un código, modificando las funciones escritas en la clase para tomar en cuenta el reemplazo."
   ]
  },
  {
   "cell_type": "code",
   "execution_count": 33,
   "metadata": {},
   "outputs": [
    {
     "data": {
      "text/plain": [
       "0.023445456527099316"
      ]
     },
     "execution_count": 33,
     "metadata": {},
     "output_type": "execute_result"
    }
   ],
   "source": [
    "def prob(evento, espacio):\n",
    "    ''' \n",
    "    Regresa la probabilidad de que ocurra 'evento'.\n",
    "    Los argumentos deben ser conjuntos.    \n",
    "    '''\n",
    "    return (len(evento & espacio)/len(espacio))\n",
    "\n",
    "def unir(color, numeros):\n",
    "    return {color + numero for numero in numeros}\n",
    "\n",
    "urna = unir('B', '12345678') | unir('A', '123456') | unir('R', '123456789')\n",
    "\n",
    "# Definimos una función que simula sacar una bola\n",
    "# toma una muestra que es una lista con todos los posibles resultados de sacar n-1 bolas\n",
    "# y regresa una lista con todos los posibles resultados de sacar n bolas con reemplazo\n",
    "def sacar_bola(muestra, urna):\n",
    "    nueva = []\n",
    "    if len(muestra) == 0:\n",
    "        return [(e,) for e in urna]\n",
    "    for e in muestra:\n",
    "        for bola in urna:\n",
    "            nueva.append(tuple(list(e) + [bola]))\n",
    "    return nueva\n",
    "\n",
    "# Usamos la función para sacar cuatro bolas\n",
    "espacio = []\n",
    "for i in range(4):\n",
    "   espacio = sacar_bola(espacio, urna)\n",
    "\n",
    "# Tenemos que convertir la lista a un conjunto para usarla en la función de probabilidad.\n",
    "espacio = set(espacio)\n",
    "\n",
    "\n",
    "# El resto es análogo a lo hecho en clase\n",
    "def rojos(evento):\n",
    "    s = [i[0] for i in evento]\n",
    "    return s.count('R') == 4\n",
    "\n",
    "tres_rojos = {e for e in espacio if rojos(e)}\n",
    "\n",
    "prob(tres_rojos, espacio)"
   ]
  },
  {
   "cell_type": "markdown",
   "metadata": {},
   "source": [
    "### Tarea 5.3"
   ]
  },
  {
   "cell_type": "markdown",
   "metadata": {},
   "source": [
    "Ejercicio sacado de \"Basic Probability Theory\", R. B. Ash, Dover, 1970."
   ]
  },
  {
   "cell_type": "markdown",
   "metadata": {},
   "source": [
    "Se lanza un dado cargado, con probabilidades de $\\{0.1, 0.2, 0.2, 0.3, 0.1, 0.1\\}$ de obtener $\\{1, 2, 3, 4, 5, 6\\}$ respectivamente. Sea $N$ el resultado obtenido al lanzar el dado, luego de lo cual se lanza una moneda $N$ veces. Encuentre la probabilidad condicional de que $N$ sea impar dado que se obtuvo al menos una cara."
   ]
  },
  {
   "cell_type": "markdown",
   "metadata": {},
   "source": [
    "**Pista**: Construya primero la distribución de probabilidad con todos los resultados posibles junto con sus probabilidades, y luego use las siguientes funciones que definimos en clase."
   ]
  },
  {
   "cell_type": "code",
   "execution_count": 34,
   "metadata": {},
   "outputs": [],
   "source": [
    "def prob(evento, dist):\n",
    "    '''\n",
    "    Calcula la probabilidad de un evento a partir de una distribución. El evento debe ser una función que\n",
    "    regresa verdadero o falso y la distribución debe ser un diccionario (evento: frecuencia)\n",
    "    '''\n",
    "    \n",
    "    conjunto = {e for e in dist.keys() if evento(e)}\n",
    "    total = sum(d for d in dist.values())\n",
    "    frec = sum(dist[e] for e in conjunto)\n",
    "    return frec/total\n",
    "\n",
    "\n",
    "def prob_cond(A, B, dist):\n",
    "    \n",
    "    conjuntoB = {e for e in dist.keys() if B(e)}\n",
    "    conjuntoA = {e for e in conjuntoB if A(e)}\n",
    "    frec_B = sum(dist[e] for e in conjuntoB)\n",
    "    frec = sum(dist[e] for e in conjuntoA)\n",
    "    return frec/frec_B"
   ]
  },
  {
   "cell_type": "code",
   "execution_count": 48,
   "metadata": {},
   "outputs": [
    {
     "data": {
      "text/plain": [
       "0.3779816513761458"
      ]
     },
     "execution_count": 48,
     "metadata": {},
     "output_type": "execute_result"
    }
   ],
   "source": [
    "dist_dado = {'1':0.1, '2':0.2, '3':0.2, '4':0.3, '5':0.1, '6':0.1}\n",
    "\n",
    "# Simula tirar la moneda por n-ésima vez. \n",
    "# Toma una lista con todos los resultados de tirar la moneda n-1 veces.\n",
    "# Regresa una lista con todos los resultados de tirar la moneda n veces.\n",
    "def tirar_moneda(muestra):\n",
    "    nueva = []\n",
    "    if len(muestra) == 0:\n",
    "        return ['c', 's']\n",
    "    for e in muestra:\n",
    "        for r in 'cs':\n",
    "            nueva.append(e + r)\n",
    "    return nueva\n",
    "\n",
    "# Para cada resultado del dado tiramos la moneda n veces.\n",
    "# Nos da una lista de todos los posibles resultados del experimento.\n",
    "resultados = []\n",
    "for i in range(1,7):\n",
    "    r = []\n",
    "    for j in range(i):\n",
    "        r = tirar_moneda(r)\n",
    "    resultados = resultados + r\n",
    "    \n",
    "# Le asignamos una probabilidad a cada resultado y lo guardamos en un\n",
    "# diccionario.\n",
    "dist = {}\n",
    "for r in resultados:\n",
    "    n = len(r)\n",
    "    prob = dist_dado[str(n)]/2**n\n",
    "    dist[r] = prob\n",
    "\n",
    "# Evento de haber sacado un número impar en el dado.\n",
    "def impar(e):\n",
    "    return len(e)%2 == 1\n",
    "\n",
    "# Evento de haber sacado al menos una cara\n",
    "def una_cara(e):\n",
    "    return e.count('c') >= 1\n",
    "\n",
    "prob_cond(impar, una_cara, dist)"
   ]
  },
  {
   "cell_type": "markdown",
   "metadata": {},
   "source": [
    "### Tarea 5.4"
   ]
  },
  {
   "cell_type": "markdown",
   "metadata": {},
   "source": [
    "Ejercicio sacado de \"Basic Probability Theory\", R. B. Ash, Dover, 1970."
   ]
  },
  {
   "cell_type": "markdown",
   "metadata": {},
   "source": [
    "En una cierta población, el $20\\%$ de las personas tiene una enfermedad. Se hace un examen a los miembros de la población que tiene la característica de dar positivo el $90\\%$ de las veces si la persona tiene la enfermedad y el $30\\%$ de las veces si la persona no tiene la enfermedad (falso positivo). A los que dan positivo se les suministra una droga que puede causar manchas rojas en la piel en un $20\\%$ de los pacientes. \n",
    "\n",
    "Si una persona tiene esas manchas rojas. ¿Cuál es la probabilidad de que haya tenido la enfermedad?"
   ]
  },
  {
   "cell_type": "code",
   "execution_count": 54,
   "metadata": {},
   "outputs": [],
   "source": [
    "def prob(evento, dist):\n",
    "    '''\n",
    "    Calcula la probabilidad de un evento a partir de una distribución. El evento debe ser una función que\n",
    "    regresa verdadero o falso y la distribución debe ser un diccionario (evento: frecuencia)\n",
    "    '''\n",
    "    \n",
    "    conjunto = {e for e in dist.keys() if evento(e)}\n",
    "    total = sum(d for d in dist.values())\n",
    "    frec = sum(dist[e] for e in conjunto)\n",
    "    return frec/total\n",
    "\n",
    "\n",
    "def prob_cond(A, B, dist):\n",
    "    \n",
    "    conjuntoB = {e for e in dist.keys() if B(e)}\n",
    "    conjuntoA = {e for e in conjuntoB if A(e)}\n",
    "    frec_B = sum(dist[e] for e in conjuntoB)\n",
    "    frec = sum(dist[e] for e in conjuntoA)\n",
    "    return frec/frec_B"
   ]
  },
  {
   "cell_type": "code",
   "execution_count": 55,
   "metadata": {},
   "outputs": [
    {
     "data": {
      "text/plain": [
       "0.4285714285714286"
      ]
     },
     "execution_count": 55,
     "metadata": {},
     "output_type": "execute_result"
    }
   ],
   "source": [
    "# e = enfermo\n",
    "# s = sano\n",
    "# p = positivo\n",
    "# n = negativo\n",
    "# m = manchas\n",
    "# x = sin manchas\n",
    "dist_enf = {'epm':0.2*0.9*0.2, \n",
    "            'epx': 0.2*0.9*0.8, \n",
    "            'en':0.2*0.1, \n",
    "            'spm':0.8*0.3*0.2,\n",
    "            'spx':0.8*0.3*0.8,\n",
    "            'sn':0.8*0.7}\n",
    "\n",
    "def enfermo(e):\n",
    "    return e[0] == 'e'\n",
    "\n",
    "def manchas(e):\n",
    "    return 'm' in e\n",
    "\n",
    "prob_cond(enfermo, manchas, dist_enf)"
   ]
  },
  {
   "cell_type": "markdown",
   "metadata": {},
   "source": [
    "### Tarea 5.5"
   ]
  },
  {
   "cell_type": "markdown",
   "metadata": {},
   "source": [
    "Ejercicio sacado de \"Basic Probability Theory\", R. B. Ash, Dover, 1970."
   ]
  },
  {
   "cell_type": "markdown",
   "metadata": {},
   "source": [
    "De las $100$ personas de una aldea, $50$ siempre dicen la verdad, $30$ siempre mienten y $20$ siempre se niegan a responder. Se toma una muestra de $30$ personas sin reemplazo. Encuentre la probabilidad de que esta muestra contenga $10$ personas de cada categoría."
   ]
  },
  {
   "cell_type": "markdown",
   "metadata": {},
   "source": [
    "Para resolver este ejercicio es necesario hacer una simulación estilo Monte Carlo ya que el número de elementos en el espacio de resultados es demasiadoo grande. Estime el error cometido al hacer el cálculo de esta manera y obtenga un error razonable."
   ]
  },
  {
   "cell_type": "code",
   "execution_count": 57,
   "metadata": {},
   "outputs": [],
   "source": [
    "def prob(evento, espacio):\n",
    "    ''' \n",
    "    Regresa la probabilidad de que ocurra 'evento'.\n",
    "    Los argumentos deben ser conjuntos.    \n",
    "    '''\n",
    "    return (len(evento & espacio)/len(espacio))"
   ]
  },
  {
   "cell_type": "code",
   "execution_count": 62,
   "metadata": {},
   "outputs": [
    {
     "data": {
      "text/plain": [
       "0.00327"
      ]
     },
     "execution_count": 62,
     "metadata": {},
     "output_type": "execute_result"
    }
   ],
   "source": [
    "import random\n",
    "\n",
    "def unir(categoria, numero):\n",
    "    return {categoria + str(n + 1) for n in range(numero)}\n",
    "\n",
    "aldea = list(unir('V', 50) | unir('M', 30) | unir('N', 20))\n",
    "\n",
    "muestra = {tuple(random.choices(aldea, k = 30)) for i in range(100000)}\n",
    "\n",
    "def diez_de_cada(e):\n",
    "    s = [i[0] for i in e]\n",
    "    vs = s.count('V')\n",
    "    ms = s.count('M')\n",
    "    ns = s.count('N')\n",
    "    return vs == ms == ns\n",
    "\n",
    "evento = {e for e in muestra if diez_de_cada(e)}\n",
    "prob(evento, muestra)"
   ]
  },
  {
   "cell_type": "code",
   "execution_count": 67,
   "metadata": {},
   "outputs": [
    {
     "data": {
      "text/plain": [
       "Text(0, 0.5, 'Realización')"
      ]
     },
     "execution_count": 67,
     "metadata": {},
     "output_type": "execute_result"
    },
    {
     "data": {
      "image/png": "[encoded data removed]",
      "text/plain": [
       "<Figure size 432x288 with 1 Axes>"
      ]
     },
     "metadata": {
      "needs_background": "light"
     },
     "output_type": "display_data"
    }
   ],
   "source": [
    "import matplotlib.pyplot as plt\n",
    "import numpy as np\n",
    "\n",
    "sims = 10\n",
    "puntos = 100000\n",
    "probs = np.zeros(sims)\n",
    "\n",
    "for i in range(sims):\n",
    "    muestra = {tuple(random.choices(aldea, k = 30)) for i in range(100000)}\n",
    "    evento = {e for e in muestra if diez_de_cada(e)}\n",
    "    probs[i] = prob(evento, muestra)\n",
    "\n",
    "plt.plot(np.arange(sims), probs)\n",
    "plt.xlabel('Probabilidad')\n",
    "plt.ylabel('Realización')"
   ]
  },
  {
   "cell_type": "code",
   "execution_count": 68,
   "metadata": {},
   "outputs": [
    {
     "data": {
      "text/plain": [
       "0.040958443855311076"
      ]
     },
     "execution_count": 68,
     "metadata": {},
     "output_type": "execute_result"
    }
   ],
   "source": [
    "probs.std()/probs[0]"
   ]
  }
 ],
 "metadata": {
  "kernelspec": {
   "display_name": "Python 3",
   "language": "python",
   "name": "python3"
  },
  "language_info": {
   "codemirror_mode": {
    "name": "ipython",
    "version": 3
   },
   "file_extension": ".py",
   "mimetype": "text/x-python",
   "name": "python",
   "nbconvert_exporter": "python",
   "pygments_lexer": "ipython3",
   "version": "3.7.6"
  }
 },
 "nbformat": 4,
 "nbformat_minor": 4
}
