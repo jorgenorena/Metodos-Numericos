{
 "cells": [
  {
   "cell_type": "markdown",
   "metadata": {},
   "source": [
    "# Clase 2 - Repaso de elementos básicos de programación"
   ]
  },
  {
   "cell_type": "markdown",
   "metadata": {},
   "source": [
    "Basado en los capítulos 4, 5 y 7 de Think Python"
   ]
  },
  {
   "cell_type": "markdown",
   "metadata": {},
   "source": [
    "## Expresiones booleanas"
   ]
  },
  {
   "cell_type": "markdown",
   "metadata": {},
   "source": [
    "Son expresiones que dan como resultado verdad (True) o falso (False). Los podemos usar para comparar 2 expresiones"
   ]
  },
  {
   "cell_type": "code",
   "execution_count": 1,
   "metadata": {},
   "outputs": [
    {
     "data": {
      "text/plain": [
       "True"
      ]
     },
     "execution_count": 1,
     "metadata": {},
     "output_type": "execute_result"
    }
   ],
   "source": [
    "2 == 2"
   ]
  },
  {
   "cell_type": "code",
   "execution_count": 2,
   "metadata": {},
   "outputs": [
    {
     "data": {
      "text/plain": [
       "False"
      ]
     },
     "execution_count": 2,
     "metadata": {},
     "output_type": "execute_result"
    }
   ],
   "source": [
    "2 == 3"
   ]
  },
  {
   "cell_type": "code",
   "execution_count": 3,
   "metadata": {},
   "outputs": [
    {
     "data": {
      "text/plain": [
       "True"
      ]
     },
     "execution_count": 3,
     "metadata": {},
     "output_type": "execute_result"
    }
   ],
   "source": [
    "2 != 3"
   ]
  },
  {
   "cell_type": "code",
   "execution_count": 4,
   "metadata": {},
   "outputs": [
    {
     "data": {
      "text/plain": [
       "True"
      ]
     },
     "execution_count": 4,
     "metadata": {},
     "output_type": "execute_result"
    }
   ],
   "source": [
    "2 < 3"
   ]
  },
  {
   "cell_type": "code",
   "execution_count": 5,
   "metadata": {},
   "outputs": [
    {
     "data": {
      "text/plain": [
       "False"
      ]
     },
     "execution_count": 5,
     "metadata": {},
     "output_type": "execute_result"
    }
   ],
   "source": [
    "2 > 3"
   ]
  },
  {
   "cell_type": "code",
   "execution_count": 6,
   "metadata": {},
   "outputs": [
    {
     "data": {
      "text/plain": [
       "True"
      ]
     },
     "execution_count": 6,
     "metadata": {},
     "output_type": "execute_result"
    }
   ],
   "source": [
    "2 <= 3"
   ]
  },
  {
   "cell_type": "code",
   "execution_count": 11,
   "metadata": {},
   "outputs": [],
   "source": [
    "x = 3\n",
    "y = 3"
   ]
  },
  {
   "cell_type": "code",
   "execution_count": 12,
   "metadata": {},
   "outputs": [
    {
     "data": {
      "text/plain": [
       "True"
      ]
     },
     "execution_count": 12,
     "metadata": {},
     "output_type": "execute_result"
    }
   ],
   "source": [
    "x <= y"
   ]
  },
  {
   "cell_type": "code",
   "execution_count": 14,
   "metadata": {},
   "outputs": [
    {
     "data": {
      "text/plain": [
       "False"
      ]
     },
     "execution_count": 14,
     "metadata": {},
     "output_type": "execute_result"
    }
   ],
   "source": [
    "x < y"
   ]
  },
  {
   "cell_type": "code",
   "execution_count": 15,
   "metadata": {},
   "outputs": [
    {
     "data": {
      "text/plain": [
       "True"
      ]
     },
     "execution_count": 15,
     "metadata": {},
     "output_type": "execute_result"
    }
   ],
   "source": [
    "x >= y"
   ]
  },
  {
   "cell_type": "markdown",
   "metadata": {},
   "source": [
    "## Operadores lógicos"
   ]
  },
  {
   "cell_type": "markdown",
   "metadata": {},
   "source": [
    "Tenemos 3 operadores lógicos: No (not), Y (and), O (or). Veamos cómo funcionan"
   ]
  },
  {
   "cell_type": "code",
   "execution_count": 16,
   "metadata": {},
   "outputs": [],
   "source": [
    "x = True\n",
    "y = False"
   ]
  },
  {
   "cell_type": "code",
   "execution_count": 17,
   "metadata": {},
   "outputs": [
    {
     "data": {
      "text/plain": [
       "False"
      ]
     },
     "execution_count": 17,
     "metadata": {},
     "output_type": "execute_result"
    }
   ],
   "source": [
    "not x"
   ]
  },
  {
   "cell_type": "code",
   "execution_count": 18,
   "metadata": {},
   "outputs": [
    {
     "data": {
      "text/plain": [
       "True"
      ]
     },
     "execution_count": 18,
     "metadata": {},
     "output_type": "execute_result"
    }
   ],
   "source": [
    "not y"
   ]
  },
  {
   "cell_type": "code",
   "execution_count": 19,
   "metadata": {},
   "outputs": [
    {
     "data": {
      "text/plain": [
       "True"
      ]
     },
     "execution_count": 19,
     "metadata": {},
     "output_type": "execute_result"
    }
   ],
   "source": [
    "x and x"
   ]
  },
  {
   "cell_type": "code",
   "execution_count": 20,
   "metadata": {},
   "outputs": [
    {
     "data": {
      "text/plain": [
       "False"
      ]
     },
     "execution_count": 20,
     "metadata": {},
     "output_type": "execute_result"
    }
   ],
   "source": [
    "x and y"
   ]
  },
  {
   "cell_type": "code",
   "execution_count": 21,
   "metadata": {},
   "outputs": [
    {
     "data": {
      "text/plain": [
       "False"
      ]
     },
     "execution_count": 21,
     "metadata": {},
     "output_type": "execute_result"
    }
   ],
   "source": [
    "y and y"
   ]
  },
  {
   "cell_type": "markdown",
   "metadata": {},
   "source": [
    "Cuidado, el \"o\" lógico es distinto del \"o\" usado en el lenguaje corriente. Cuando decimos que algo es blanco o negro queremos decir que no puede ser ambos a la vez, pero True or True da como resultado True. (El \"o\" del lenguaje corriente es más similar al operador \"xor\" lógico)."
   ]
  },
  {
   "cell_type": "code",
   "execution_count": 22,
   "metadata": {},
   "outputs": [
    {
     "data": {
      "text/plain": [
       "True"
      ]
     },
     "execution_count": 22,
     "metadata": {},
     "output_type": "execute_result"
    }
   ],
   "source": [
    "x or x"
   ]
  },
  {
   "cell_type": "code",
   "execution_count": 23,
   "metadata": {},
   "outputs": [
    {
     "data": {
      "text/plain": [
       "True"
      ]
     },
     "execution_count": 23,
     "metadata": {},
     "output_type": "execute_result"
    }
   ],
   "source": [
    "x or y"
   ]
  },
  {
   "cell_type": "code",
   "execution_count": 24,
   "metadata": {},
   "outputs": [
    {
     "data": {
      "text/plain": [
       "False"
      ]
     },
     "execution_count": 24,
     "metadata": {},
     "output_type": "execute_result"
    }
   ],
   "source": [
    "y or y"
   ]
  },
  {
   "cell_type": "markdown",
   "metadata": {},
   "source": [
    "## Evaluación condicional"
   ]
  },
  {
   "cell_type": "markdown",
   "metadata": {},
   "source": [
    "Ahora empezamos a programar. Vamos a necesitar que nuestro código tome deciciones. Si se cumple alguna condición el código puede hacer algo."
   ]
  },
  {
   "cell_type": "code",
   "execution_count": 26,
   "metadata": {},
   "outputs": [
    {
     "name": "stdout",
     "output_type": "stream",
     "text": [
      "Error: La velocidad no puede ser mayor que la de la luz.\n"
     ]
    }
   ],
   "source": [
    "#Velocidad en metros/segundo\n",
    "vel = 310000\n",
    "#Revisamos que la velocidad no sea demasiado grande\n",
    "if vel > 300000:\n",
    "    print(\"Error: La velocidad no puede ser mayor que la de la luz.\")"
   ]
  },
  {
   "cell_type": "code",
   "execution_count": 33,
   "metadata": {},
   "outputs": [
    {
     "name": "stdout",
     "output_type": "stream",
     "text": [
      "dist =  100000 m\n"
     ]
    }
   ],
   "source": [
    "#Velocidad en metros/segundo\n",
    "vel = 10000\n",
    "#Tiempo en segundos\n",
    "t = 10\n",
    "#Revisamos que la velocidad no sea demasiado grande\n",
    "if vel > 300000:\n",
    "    print(\"Error: La velocidad no puede ser mayor que la de la luz.\")\n",
    "else:\n",
    "    #Calcula la distancia\n",
    "    dist = vel*t\n",
    "    print(\"dist =\", dist, \"m\")"
   ]
  },
  {
   "cell_type": "code",
   "execution_count": 5,
   "metadata": {},
   "outputs": [
    {
     "name": "stdout",
     "output_type": "stream",
     "text": [
      "Velocidad > 100000\n",
      "Cuidado: La velocidad es grande y no se pueden ignorar los efectos relativistas.\n",
      "dist = 1000000.0 m\n"
     ]
    }
   ],
   "source": [
    "#Velocidad en metros/segundo\n",
    "vel = float(input(\"Velocidad > \"))\n",
    "#Tiempo en segundos\n",
    "t = 10\n",
    "#Revisamos que la velocidad no sea demasiado grande\n",
    "if vel > 300000:\n",
    "    print(\"Error: La velocidad no puede ser mayor que la de la luz.\")\n",
    "    dist = 0\n",
    "elif vel > 30000:\n",
    "    print(\"Cuidado: La velocidad es grande y no se pueden ignorar los efectos relativistas.\")\n",
    "    dist = vel*t\n",
    "else:\n",
    "    #Calcula la distancia\n",
    "    dist = vel*t\n",
    "    \n",
    "print(\"dist =\", dist, \"m\")"
   ]
  },
  {
   "cell_type": "code",
   "execution_count": 6,
   "metadata": {},
   "outputs": [
    {
     "name": "stdout",
     "output_type": "stream",
     "text": [
      "Velocidad > 10\n",
      "dist = 100.0 m\n"
     ]
    }
   ],
   "source": [
    "#Velocidad en metros/segundo\n",
    "vel = float(input(\"Velocidad > \"))\n",
    "#Tiempo en segundos\n",
    "t = 10\n",
    "#Revisamos que la velocidad no sea demasiado grande\n",
    "if vel > 300000:\n",
    "    print(\"Error: La velocidad no puede ser mayor que la de la luz.\")\n",
    "    dist = 0\n",
    "else:\n",
    "    if vel > 30000:\n",
    "        print(\"Cuidado: La velocidad es grande y no se pueden ignorar los efectos relativistas.\")\n",
    "    #Calcula la distancia\n",
    "    dist = vel*t\n",
    "    \n",
    "print(\"dist =\", dist, \"m\")"
   ]
  },
  {
   "cell_type": "markdown",
   "metadata": {},
   "source": [
    "## Ciclos for"
   ]
  },
  {
   "cell_type": "markdown",
   "metadata": {},
   "source": [
    "El ciclo for sirve para hacer la misma tarea muchas veces."
   ]
  },
  {
   "cell_type": "code",
   "execution_count": 6,
   "metadata": {},
   "outputs": [
    {
     "name": "stdout",
     "output_type": "stream",
     "text": [
      "0\n",
      "1\n",
      "2\n",
      "3\n",
      "4\n",
      "5\n",
      "6\n",
      "7\n",
      "8\n",
      "9\n"
     ]
    }
   ],
   "source": [
    "for i in range(10):\n",
    "    print(i)"
   ]
  },
  {
   "cell_type": "markdown",
   "metadata": {},
   "source": [
    "La función range(n) cuenta desde 0 hasta n-1. Hace que el ciclo tome n pasos."
   ]
  },
  {
   "cell_type": "markdown",
   "metadata": {},
   "source": [
    "Por ejemplo, supongamos que queremos verificar si la paradoja de Zenón es correcta, sumamos\n",
    "\n",
    "$$\n",
    "\\sum_{n = 1}^{m} \\frac{1}{2^n}\n",
    "$$\n",
    "\n",
    "Queremos ver cuánto da para $m$ muy grande."
   ]
  },
  {
   "cell_type": "code",
   "execution_count": 7,
   "metadata": {},
   "outputs": [
    {
     "name": "stdout",
     "output_type": "stream",
     "text": [
      "m = 20\n",
      "Resultado final: 0.9999990463256836\n"
     ]
    }
   ],
   "source": [
    "# Nro de términos  a sumar\n",
    "m = int(input(\"m = \")) + 1\n",
    "\n",
    "# Acumulador, va teniendo cuenta de la suma\n",
    "s = 0   # Esto se llama inicializar, si lo ignoramos obtengo un error\n",
    "\n",
    "# Hacemos la suma\n",
    "for i in range(1,m):\n",
    "    s = s + 1/(2**i)  # Actualizamos el valor de s\n",
    "    #print(i, s)\n",
    "\n",
    "# Imprimimos el resultado\n",
    "print(\"Resultado final:\", s)"
   ]
  },
  {
   "cell_type": "markdown",
   "metadata": {},
   "source": [
    "## Ciclo while"
   ]
  },
  {
   "cell_type": "markdown",
   "metadata": {},
   "source": [
    "\"While\" quiere decir \"mientras\". Es decir, mientras se cumple la condición, haga algo. Es útil cuando se quiere repetir una operación muchas veces, hasta cumplir una cierta condición."
   ]
  },
  {
   "cell_type": "code",
   "execution_count": 17,
   "metadata": {},
   "outputs": [
    {
     "name": "stdout",
     "output_type": "stream",
     "text": [
      "1\n",
      "2\n",
      "3\n",
      "4\n",
      "5\n",
      "6\n",
      "7\n",
      "8\n",
      "9\n",
      "10\n"
     ]
    }
   ],
   "source": [
    "x = 1\n",
    "while x <= 10:\n",
    "    print(x)\n",
    "    x = x + 1"
   ]
  },
  {
   "cell_type": "markdown",
   "metadata": {},
   "source": [
    "Por ejemplo, cuantos términos necesitamos en la sumatoria de la sección anterior para tener un error menor al 1%."
   ]
  },
  {
   "cell_type": "code",
   "execution_count": 15,
   "metadata": {},
   "outputs": [
    {
     "name": "stdout",
     "output_type": "stream",
     "text": [
      "Obtuvimos 0.9921875 luego de sumar 7 términos.\n"
     ]
    }
   ],
   "source": [
    "s = 0 # Acumulador\n",
    "i = 0 # Contador\n",
    "error = 1 # Error\n",
    "while error > 0.01:\n",
    "    i = i + 1\n",
    "    s = s + 1/(2**i)\n",
    "    error = 1 - s\n",
    "    \n",
    "print(\"Obtuvimos\", s, \"luego de sumar\", i, \"términos.\")"
   ]
  },
  {
   "cell_type": "markdown",
   "metadata": {},
   "source": [
    "Esto se puede lograr usando el enunciado \"break\" que quiere decir \"romper\" el ciclo."
   ]
  },
  {
   "cell_type": "code",
   "execution_count": 18,
   "metadata": {},
   "outputs": [
    {
     "name": "stdout",
     "output_type": "stream",
     "text": [
      "Obtuvimos 0.9921875 luego de sumar 7 términos.\n"
     ]
    }
   ],
   "source": [
    "s = 0 # Acumulador\n",
    "i = 0 # Contador\n",
    "error = 1 # Error\n",
    "while True:\n",
    "    if error < 0.01:\n",
    "        break\n",
    "    i = i + 1\n",
    "    s = s + 1/(2**i)\n",
    "    error = 1 - s\n",
    "    \n",
    "print(\"Obtuvimos\", s, \"luego de sumar\", i, \"términos.\")"
   ]
  },
  {
   "cell_type": "markdown",
   "metadata": {},
   "source": [
    "## Tareas"
   ]
  },
  {
   "cell_type": "markdown",
   "metadata": {},
   "source": [
    "### Tarea 1.6"
   ]
  },
  {
   "cell_type": "markdown",
   "metadata": {},
   "source": [
    "Escriba un código que sume todos los números desde cero hasta 100."
   ]
  },
  {
   "cell_type": "code",
   "execution_count": 15,
   "metadata": {},
   "outputs": [
    {
     "name": "stdout",
     "output_type": "stream",
     "text": [
      "5050\n"
     ]
    }
   ],
   "source": [
    "s = 0\n",
    "for i in range(101):\n",
    "    s = s + i\n",
    "print(s)"
   ]
  },
  {
   "cell_type": "markdown",
   "metadata": {},
   "source": [
    "### Tarea 1.7"
   ]
  },
  {
   "cell_type": "markdown",
   "metadata": {},
   "source": [
    "Escriba un código que produzca el siguiente texto:"
   ]
  },
  {
   "cell_type": "raw",
   "metadata": {},
   "source": [
    "1\n",
    "11  \n",
    "111  \n",
    "1111  \n",
    "11111  \n",
    "111111  \n",
    "1111111  \n",
    "11111111  \n",
    "111111111  \n",
    "1111111111  "
   ]
  },
  {
   "cell_type": "markdown",
   "metadata": {},
   "source": [
    "(El código no puede tener más de 4 líneas y un enunciado \"print\"). Puede usar el siguiente truco:"
   ]
  },
  {
   "cell_type": "code",
   "execution_count": 1,
   "metadata": {},
   "outputs": [
    {
     "name": "stdout",
     "output_type": "stream",
     "text": [
      "1111\n"
     ]
    }
   ],
   "source": [
    "print(4*\"1\")"
   ]
  },
  {
   "cell_type": "code",
   "execution_count": 16,
   "metadata": {},
   "outputs": [
    {
     "name": "stdout",
     "output_type": "stream",
     "text": [
      "1\n",
      "11\n",
      "111\n",
      "1111\n",
      "11111\n",
      "111111\n",
      "1111111\n",
      "11111111\n",
      "111111111\n",
      "1111111111\n"
     ]
    }
   ],
   "source": [
    "for i in range(10):\n",
    "    print((i+1)*\"1\")"
   ]
  },
  {
   "cell_type": "markdown",
   "metadata": {},
   "source": [
    "### Tarea 1.8"
   ]
  },
  {
   "cell_type": "markdown",
   "metadata": {},
   "source": [
    "Escriba un código que sea un loop infinito. En cada paso el código le pide al usuario que escriba algo y cuando el usuario escribe \"salir\" el código termina. Si el usuario escribe otra cosa el código no hace nada y sencillamente vuelve a pedirde al usuario que escriba algo."
   ]
  },
  {
   "cell_type": "code",
   "execution_count": 18,
   "metadata": {},
   "outputs": [
    {
     "name": "stdout",
     "output_type": "stream",
     "text": [
      "> entrar\n",
      "> salir\n"
     ]
    }
   ],
   "source": [
    "while True:\n",
    "    i = input(\"> \")\n",
    "    if i == \"salir\":\n",
    "        break"
   ]
  },
  {
   "cell_type": "markdown",
   "metadata": {},
   "source": [
    "### Tarea 1.9"
   ]
  },
  {
   "cell_type": "markdown",
   "metadata": {},
   "source": [
    "Escriba un código que haga la siguiente sumatoria:\n",
    "\n",
    "$$\n",
    "\\sum_{n=0}^{100} \\sum_{m=0}^{n} \\left(0.3^n\\right)^m\n",
    "$$"
   ]
  },
  {
   "cell_type": "code",
   "execution_count": 2,
   "metadata": {},
   "outputs": [
    {
     "name": "stdout",
     "output_type": "stream",
     "text": [
      "0.4709576138147553\n"
     ]
    }
   ],
   "source": [
    "s = 0\n",
    "for n in range(101):\n",
    "    for m in range(n):\n",
    "        s = s + 0.3**(n+m)\n",
    "        \n",
    "print(s)"
   ]
  },
  {
   "cell_type": "markdown",
   "metadata": {},
   "source": [
    "### Tarea 1.10"
   ]
  },
  {
   "cell_type": "markdown",
   "metadata": {},
   "source": [
    "Escriba un código que calcule el número de Euler con un error menor que 0.01 usando la expresión\n",
    "\n",
    "$$\n",
    "e = \\sum_{n = 0}^\\infty \\frac{1}{n!}\\,.\n",
    "$$\n",
    "\n",
    "Para calcular el error, puede comparar con la función math.exp(1). Para calcular el factorial de n, puede usar la función math.factorial(n). Para calcular el valor absoluto (puede ser necesario al calcular el error) use abs(x). Estas funciones estarán disponibles luego de ejecutar la siguiente línea."
   ]
  },
  {
   "cell_type": "code",
   "execution_count": 40,
   "metadata": {},
   "outputs": [],
   "source": [
    "from numpy import math"
   ]
  },
  {
   "cell_type": "code",
   "execution_count": 41,
   "metadata": {},
   "outputs": [
    {
     "data": {
      "text/plain": [
       "3628800"
      ]
     },
     "execution_count": 41,
     "metadata": {},
     "output_type": "execute_result"
    }
   ],
   "source": [
    "math.factorial(10)"
   ]
  },
  {
   "cell_type": "code",
   "execution_count": 42,
   "metadata": {},
   "outputs": [
    {
     "data": {
      "text/plain": [
       "2.718281828459045"
      ]
     },
     "execution_count": 42,
     "metadata": {},
     "output_type": "execute_result"
    }
   ],
   "source": [
    "math.exp(1)"
   ]
  },
  {
   "cell_type": "code",
   "execution_count": 43,
   "metadata": {},
   "outputs": [
    {
     "data": {
      "text/plain": [
       "1"
      ]
     },
     "execution_count": 43,
     "metadata": {},
     "output_type": "execute_result"
    }
   ],
   "source": [
    "abs(-1)"
   ]
  },
  {
   "cell_type": "code",
   "execution_count": 44,
   "metadata": {},
   "outputs": [
    {
     "name": "stdout",
     "output_type": "stream",
     "text": [
      "2.708333333333333\n"
     ]
    }
   ],
   "source": [
    "error = 1\n",
    "e = 0\n",
    "n = 0\n",
    "while error > 0.01:\n",
    "    e = e + 1/math.factorial(n)\n",
    "    n = n + 1\n",
    "    error = abs(e - math.exp(1))\n",
    "    \n",
    "print(e)"
   ]
  }
 ],
 "metadata": {
  "kernelspec": {
   "display_name": "Python 3",
   "language": "python",
   "name": "python3"
  },
  "language_info": {
   "codemirror_mode": {
    "name": "ipython",
    "version": 3
   },
   "file_extension": ".py",
   "mimetype": "text/x-python",
   "name": "python",
   "nbconvert_exporter": "python",
   "pygments_lexer": "ipython3",
   "version": "3.7.4"
  }
 },
 "nbformat": 4,
 "nbformat_minor": 2
}
