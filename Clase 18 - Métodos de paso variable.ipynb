{
 "cells": [
  {
   "cell_type": "markdown",
   "metadata": {},
   "source": [
    "# Clase 18: Métodos de paso variable"
   ]
  },
  {
   "cell_type": "code",
   "execution_count": 3,
   "metadata": {},
   "outputs": [],
   "source": [
    "import numpy as np\n",
    "import matplotlib.pyplot as plt"
   ]
  },
  {
   "cell_type": "markdown",
   "metadata": {},
   "source": [
    "Los métodos vistos anteriormente funcionan bastante bien en muchos casos. Sin embargo esos métodos no son óptimos cuando una función varía mucho. Por ejemplo:"
   ]
  },
  {
   "cell_type": "code",
   "execution_count": 4,
   "metadata": {},
   "outputs": [
    {
     "data": {
      "text/plain": [
       "[<matplotlib.lines.Line2D at 0x11fccf750>]"
      ]
     },
     "execution_count": 4,
     "metadata": {},
     "output_type": "execute_result"
    },
    {
     "data": {
      "image/png": "[encoded data removed]",
      "text/plain": [
       "<Figure size 432x288 with 1 Axes>"
      ]
     },
     "metadata": {
      "needs_background": "light"
     },
     "output_type": "display_data"
    }
   ],
   "source": [
    "x = np.linspace(0,7,100)\n",
    "plt.plot(x, np.exp(-x)*np.sin(x))\n",
    "plt.plot(x, np.zeros(100), color = 'black')"
   ]
  },
  {
   "cell_type": "markdown",
   "metadata": {},
   "source": [
    "Vemos que el intervalo entre $x = 6$ y $x = 7$ contribuye poco a la integral y además una aproximación burda puede ser buena allí. Se necesitan pocos puntos para lograr una buena aproxmación, que será cercana a cero. Sin embargo el intervalo entre $x = 0$ y $x = 3$ contribuye mucho a la integral de esta función y además la función varía rápidamente allí. Por lo tanto necesitaremos más puntos. "
   ]
  },
  {
   "cell_type": "markdown",
   "metadata": {},
   "source": [
    "## Método de cuadratura adaptativa"
   ]
  },
  {
   "cell_type": "markdown",
   "metadata": {},
   "source": [
    "El método de paso adaptativo consiste en aproximar la integral como un polinomio interpolante en varios intervalos. El tamaño de cada intervalo es tal que el error cometido allí sea menor que una tolerancia $\\epsilon/f$, donde $f$ es la fracción del rango de integración ocupada por el intervalo $f = (b-a)/h$. De esta forma, la suma de la aproximación en todos los subintervalos tiene un error menor que $\\epsilon$.\n",
    "\n",
    "Tenemos entonces dos tareas:\n",
    "\n",
    "* Estimar el error cometido en una aproximación dada.\n",
    "* Dividir el rango de integración para lograr el error requerido."
   ]
  },
  {
   "cell_type": "markdown",
   "metadata": {},
   "source": [
    "Para estimar el error habría que usar la fórmula de error de las aproximaciones de la clase pasada. El problema es que éstas involucran derivadas de alto orden. Recordemos la regla de simpson\n",
    "\n",
    "$$\n",
    "\\int_{a}^{b} dx\\,f(x) = \\frac{h}{3}(f(a) + 4f(a + h) + f(b)) - \\frac{h^5}{90}f^{(4)}(\\xi) \\equiv S_o  - \\frac{h^5}{90}f^{(4)}(\\xi)\n",
    "$$\n",
    "\n",
    "En general es difícil calcular la cuarta derivada, y estimarla numéricamente puede costar muchas evaluaciones de la función (además de ser inestable). Lo que podemos hacer es dividir el rango de integración a la mitad, y luego usar la regla de Simpson en cada mitad para obtener:\n",
    "\n",
    "$$\n",
    "\\int_a^b dx\\,f(x) = \\frac{h}{6}(f(a) + 4f(a + h/2) + 2f(a + h) + 4f(a + 3h/2) + f(b)) - \\frac{1}{16}\\frac{h^5}{90}f^{(4)}(\\bar{\\xi}) \\equiv S_1  - \\frac{1}{16}\\frac{h^5}{90}f^{(4)}(\\xi)\n",
    "$$\n",
    "\n",
    "Si asumimos que $f^{(4)}(\\bar{\\xi}) \\approx f^{(4)}(\\xi)$, tenemos\n",
    "\n",
    "$$\n",
    "\\frac{15}{16}\\frac{h^5}{90}f^{(4)}(\\xi) = S_o - S_1\n",
    "$$\n",
    "\n",
    "y entonces el error cometido al usar la aproximación S_1 es\n",
    "\n",
    "$$\n",
    "S_1 - \\int_a^b dx\\,f(x) = \\frac{1}{15}(S_o - S_1)\n",
    "$$"
   ]
  },
  {
   "cell_type": "markdown",
   "metadata": {},
   "source": [
    "Para determinar los intervalos de integración la estrategia es:\n",
    "\n",
    "1. Calcular la integral y el error en un intervalo.\n",
    "2. Si el error es mayor que la tolerancia, dividir el intervalo a la mitad.\n",
    "3. Repetir los pasos 1 y 2 para cada subintervalo."
   ]
  },
  {
   "cell_type": "code",
   "execution_count": 5,
   "metadata": {},
   "outputs": [],
   "source": [
    "class MaxIterations(Exception):\n",
    "    pass\n",
    "\n",
    "def adaptive(f, a, b, tol, N=100000):\n",
    "    \n",
    "    # Variables iniciales\n",
    "    approx = 0\n",
    "    i = 0\n",
    "    toli = [10*tol]\n",
    "    ai = [a]\n",
    "    hi = [(b - a)/2]\n",
    "    fai = [f(a)]\n",
    "    fbi = [f(b)]\n",
    "    fci = [f(a + hi[i])]\n",
    "    S0i = [hi[i]*(fai[i] + 4*fci[i] + fbi[i])/3]\n",
    "    Li = [1]\n",
    "    \n",
    "        \n",
    "    \n",
    "    while i >= 0:\n",
    "        \n",
    "        fd = f(ai[i] + hi[i]/2)\n",
    "        fe = f(ai[i] + 3*hi[i]/2)\n",
    "        S1 = hi[i]*(fai[i] + 4*fd + fci[i])/6\n",
    "        S2 = hi[i]*(fci[i] + 4*fe + fbi[i])/6\n",
    "        ai_prec = ai[i]\n",
    "        hi_prec = hi[i]\n",
    "        fai_prec = fai[i]\n",
    "        fbi_prec = fbi[i]\n",
    "        fci_prec = fci[i]\n",
    "        toli_prec = toli[i]\n",
    "        S0i_prec = S0i[i]\n",
    "        Li_prec = Li[i]\n",
    "        \n",
    "        i -= 1\n",
    "        if abs(S1 + S2 - S0i_prec) < toli_prec:\n",
    "            approx += S1 + S2\n",
    "        else:\n",
    "            if Li_prec >= N:\n",
    "                raise MaxIterations(\"Alcanzado máximo número de iteraciones.\")\n",
    "            \n",
    "            # Intervalo derecho\n",
    "            i += 1\n",
    "            if i >= len(ai): # A veces hay que ampliar la lista\n",
    "                ai.append(ai_prec + hi_prec)\n",
    "                fai.append(fci_prec)\n",
    "                fci.append(fe)\n",
    "                fbi.append(fbi_prec)\n",
    "                hi.append(hi_prec/2)\n",
    "                toli.append(toli_prec/2)\n",
    "                S0i.append(S2)\n",
    "                Li.append(Li_prec + 1)\n",
    "            else:\n",
    "                ai[i] = ai_prec + hi_prec\n",
    "                fai[i] = fci_prec\n",
    "                fci[i] = fe\n",
    "                fbi[i] = fbi_prec\n",
    "                hi[i] = hi_prec/2\n",
    "                toli[i] = toli_prec/2\n",
    "                S0i[i] = S2\n",
    "                Li[i] = Li_prec + 1\n",
    "                \n",
    "            # Intervalo izquierdo\n",
    "            i += 1\n",
    "            if i >= len(ai):\n",
    "                ai.append(ai_prec)\n",
    "                fai.append(fai_prec)\n",
    "                fci.append(fd)\n",
    "                fbi.append(fci_prec)\n",
    "                hi.append(hi[i-1])\n",
    "                toli.append(toli[i-1])\n",
    "                S0i.append(S1)\n",
    "                Li.append(Li[i-1])\n",
    "            else:\n",
    "                ai[i] = ai_prec\n",
    "                fai[i] = fai_prec\n",
    "                fci[i] = fd\n",
    "                fbi[i] = fci_prec\n",
    "                hi[i] = hi[i-1]\n",
    "                toli[i] = toli[i-1]\n",
    "                S0i[i] = S1\n",
    "                Li[i] = Li[i-1]\n",
    "                \n",
    "    return approx"
   ]
  },
  {
   "cell_type": "code",
   "execution_count": 6,
   "metadata": {},
   "outputs": [
    {
     "data": {
      "text/plain": [
       "0.8414709892666887"
      ]
     },
     "execution_count": 6,
     "metadata": {},
     "output_type": "execute_result"
    }
   ],
   "source": [
    "adaptive(np.cos, 0, 1, 0.00000001)"
   ]
  },
  {
   "cell_type": "markdown",
   "metadata": {},
   "source": [
    "## Cuadratura gaussiana"
   ]
  },
  {
   "cell_type": "markdown",
   "metadata": {},
   "source": [
    "Este método consiste en hacer la misma integral usando polinomios, pero ahora escogemos las evaluaciones tratando de minimizar el error. Para hacerlo escribimos\n",
    "\n",
    "$$\n",
    "\\int_{-1}^1 dx\\,f(x) \\approx \\sum_{i=1}^n c_i f(x_i)\n",
    "$$\n",
    "\n",
    "Se escogen los puntos $x_i$ y los coeficientes $c_i$ tal que esta fórmula sea exacta cuando $f$ es un polinomio de grado $2n - 1$. "
   ]
  },
  {
   "cell_type": "markdown",
   "metadata": {},
   "source": [
    "**Ejemplo:** Cuando $n = 2$ podemos hacer que la integral sea exacta para todos los polinomios de orden $3$, es decir\n",
    "\n",
    "$$\n",
    "\\int_{-1}^{1} dx\\, f(x) = c_1 f(x_1) + c_2 f(x_2).\n",
    "$$\n",
    "\n",
    "Necesitamos escoger los números $x_1, x_2$ y $c_1, c_2$ tal que esto se cumpla. Pero podemos enfocarnos en que sea verdad para polinomios del tipo $x^n$ ya que\n",
    "\n",
    "$$\n",
    "\\int_{-1}^1 dx\\, f(x) = a_3 \\int_{-1}^1 dx\\,x^3 + a_2 \\int_{-1}^1 dx\\,x^2 + a_1 \\int_{-1}^1 dx\\,x + a_o \\int_{-1}^1 dx \n",
    "$$\n",
    "\n",
    "Empezamos por $f(x) = 1$:\n",
    "\n",
    "$$\n",
    "c_1 + c_2 = \\int_{-1}^1 dx\\,1 = 2\n",
    "$$\n",
    "\n",
    "Ahora con $f(x) = x$:\n",
    "\n",
    "$$\n",
    "c_1x_1 + c_2 x_2 = \\int_{-1}^1 dx\\,x = 0\n",
    "$$\n",
    "\n",
    "Ahora con $f(x) = x^2$:\n",
    "\n",
    "$$\n",
    "c_1 x_1^2 + c_2 x_2^2 = \\int_{-1}^1 dx\\,x^2 = \\frac{2}{3}\n",
    "$$\n",
    "\n",
    "Finalmente con $f(x) = x^3$:\n",
    "\n",
    "$$\n",
    "c_1 x_1^3 + c_2 x_2^3 = \\int_{-1}^1 dx\\,x^3 = 0\n",
    "$$\n",
    "\n",
    "Son cuatro ecuaciones para cuatro números cuya solución es\n",
    "\n",
    "$$\n",
    "c_1 = 1\\,,\\,\\,c_2 = 1\\,,\\,\\,x_1 = -\\frac{\\sqrt{3}}{3}\\,,\\,\\,x_2 = \\frac{\\sqrt{3}}{3}\n",
    "$$"
   ]
  },
  {
   "cell_type": "markdown",
   "metadata": {},
   "source": [
    "Hay un método más sistemático que involucra polinomios ortogonales. Recordemos que los polinomios de Legendre satisfacen:\n",
    "\n",
    "$$\n",
    "\\int_{-1}^1 dx\\,P_n(x) P_m(x) \\propto \\delta_{nm}\n",
    "$$\n",
    "\n",
    "Además toda función en el intervalo $(-1, 1)$ se puede escribir como combinación lineal de polinomios de Legendre\n",
    "\n",
    "$$\n",
    "f(x) = \\sum_{n = 0}^\\infty c_n P_n(x)\n",
    "$$\n",
    "\n",
    "En particular, un polinomio de orden $m$ se puede escribir como\n",
    "\n",
    "$$\n",
    "P(x) = \\sum_{n=0}^m c_n P_n(x)\n",
    "$$\n",
    "\n",
    "tal que, si $m < n$, tenemos\n",
    "\n",
    "$$\n",
    "\\int_{-1}^1 dx\\,P_n(x) P(x) = 0 \n",
    "$$"
   ]
  },
  {
   "cell_type": "markdown",
   "metadata": {},
   "source": [
    "Resulta que los ceros del polinomio de Legendre de orden $n$ (o en general polinomios ortogonales) nos dan los coeficientes para la cuadratura de Gauss de orden $n$.\n",
    "\n",
    "Para verlo, supongamos que integramos un polinomio de orden $<n$, entonces podemos descomponerlo en polinomios de Lagrange alrededor de los ceros del polinomio de Legendre $x_i$\n",
    "\n",
    "$$\n",
    "P(x) = \\sum_{i=1}^n P(x_i) L_i(x) = \\sum_{i=1}^n \\prod_{j = 1,j\\neq i}^n \\frac{x - x_j}{x_i-x_j} P(x_i)\n",
    "$$\n",
    "\n",
    "La igualdad es exacta para polinomios de grado $<n$ (el término de error es proporcional a $f^{(n)}$ que es cero para estos polinominos) y cualquier conjunto de puntos $x_i$. Al integrar obtenemos\n",
    "\n",
    "$$\n",
    "\\int_{-1}^1 dx\\,P(x) = \\sum_{i=1}^n P(x_i) \\int_{-1}^1dx\\,\\prod_{j = 1,j\\neq i}^n \\frac{x - x_j}{x_i-x_j}\n",
    "$$\n",
    "\n",
    "Entonces se cumple la igualdad con \n",
    "\n",
    "$$\n",
    "c_i = \\int_{-1}^1dx\\,\\prod_{j = 1,j\\neq i}^n \\frac{x - x_j}{x_i-x_j}\n",
    "$$\n",
    "\n",
    "Ahora para polinomios de grado $\\geq n$ pero $< 2n$ tenemos que podemos siempre escribirlos de la forma\n",
    "\n",
    "$$\n",
    "P(x) = Q(x) P_n(x) + R(x)\n",
    "$$\n",
    "\n",
    "donde $Q(x)$ es el polinomio cociente, de orden $<n$, y $R(x)$ es el polinomio residuo de orden $<n$. Por la propiedad de los polinomios de Legendre\n",
    "\n",
    "$$\n",
    "\\int_{-1}^1dx\\,P(x) = \\int_{-1}^1dx\\,Q(x) P_n(x) + \\int_{-1}^1dx\\,R(x) = \\int_{-1}^1dx\\,R(x)\n",
    "$$\n",
    "\n",
    "Como el orden de $R$ es menor que $n$, se cumple el argumento de antes y tenemos\n",
    "\n",
    "$$\n",
    "\\int_{-1}^1dx\\,P(x) = \\sum_{i=1}^n R(x_i) \\int_{-1}^1dx\\,\\prod_{j = 1,j\\neq i}^n \\frac{x - x_j}{x_i-x_j}\n",
    "$$\n",
    "\n",
    "Además, si tomamos que los $x_i$ sean los ceros del polinomio de Legendre\n",
    "\n",
    "$$\n",
    "P(x_i) = R(x_i)\n",
    "$$\n",
    "\n",
    "y entonces \n",
    "\n",
    "$$\n",
    "\\int_{-1}^1dx\\,P(x) = \\sum_{i=1}^n P(x_i) \\int_{-1}^1dx\\,\\prod_{j = 1,j\\neq i}^n \\frac{x - x_j}{x_i-x_j}\n",
    "$$"
   ]
  },
  {
   "cell_type": "code",
   "execution_count": 7,
   "metadata": {},
   "outputs": [],
   "source": [
    "def gauss_quad_5(f, a, b):\n",
    "    \n",
    "    def x(t):\n",
    "        return ((b - a)*t + a + b)/2\n",
    "    \n",
    "    c = [0.2369268850, 0.4786286705, 0.5688888889, 0.4786286705, 0.2369268850]\n",
    "    r = [0.9061798459, 0.5384693101, 0.0000000000, -0.5384693101, -0.9061798459]\n",
    "    \n",
    "    return ((b-a)/2)*sum(c[i]*f(x(r[i])) for i in range(5))"
   ]
  },
  {
   "cell_type": "code",
   "execution_count": 8,
   "metadata": {},
   "outputs": [
    {
     "data": {
      "text/plain": [
       "0.9092974272317184"
      ]
     },
     "execution_count": 8,
     "metadata": {},
     "output_type": "execute_result"
    }
   ],
   "source": [
    "gauss_quad_5(np.cos, 0, 2)"
   ]
  },
  {
   "cell_type": "markdown",
   "metadata": {},
   "source": [
    "## Scipy"
   ]
  },
  {
   "cell_type": "code",
   "execution_count": 9,
   "metadata": {},
   "outputs": [
    {
     "data": {
      "text/plain": [
       "(21.333333333333336, 2.368475785867001e-13)"
      ]
     },
     "execution_count": 9,
     "metadata": {},
     "output_type": "execute_result"
    }
   ],
   "source": [
    "from scipy import integrate\n",
    "x2 = lambda x: x**2\n",
    "integrate.quad(x2, 0, 4)"
   ]
  },
  {
   "cell_type": "code",
   "execution_count": 10,
   "metadata": {},
   "outputs": [
    {
     "name": "stdout",
     "output_type": "stream",
     "text": [
      "21.333333333333332\n"
     ]
    }
   ],
   "source": [
    "print(4**3 / 3.)"
   ]
  },
  {
   "cell_type": "markdown",
   "metadata": {},
   "source": [
    "También tiene argumentos epsrel y epsabs que determinan el error relativo y absoluto requerido. Si se quiere que únicamente alcance el error relativo sin dar importancia al error absoluto, es necesario poner epsabs=0."
   ]
  },
  {
   "cell_type": "code",
   "execution_count": 11,
   "metadata": {},
   "outputs": [
    {
     "data": {
      "text/plain": [
       "(0.0203266092465018, 3.448616029633677e-15)"
      ]
     },
     "execution_count": 11,
     "metadata": {},
     "output_type": "execute_result"
    }
   ],
   "source": [
    "from scipy import integrate\n",
    "f = lambda x: np.cos(10*x)/np.sqrt(x**2 + 16)\n",
    "integrate.quad(f, 0, 2, epsrel=1e-12, epsabs=0)"
   ]
  },
  {
   "cell_type": "markdown",
   "metadata": {},
   "source": [
    "El algoritmo que usa por defecto es una especie de cuadratura adaptativa, donde en cada intervalo aplica una método similar a la cuadratura gaussiana de orden 21."
   ]
  },
  {
   "cell_type": "markdown",
   "metadata": {},
   "source": [
    "## Tareas"
   ]
  },
  {
   "cell_type": "markdown",
   "metadata": {},
   "source": [
    "### Tarea 9.6"
   ]
  },
  {
   "cell_type": "markdown",
   "metadata": {},
   "source": [
    "Escriba un código que implemente una cuadratura gaussiana compuesta. Es decir, divide el rango de integración en $n$ subintervalos y aplica una cuadratura gaussiana en cada uno."
   ]
  },
  {
   "cell_type": "markdown",
   "metadata": {},
   "source": [
    "### Tarea 9.7"
   ]
  },
  {
   "cell_type": "markdown",
   "metadata": {},
   "source": [
    "Suponga que la medición de un cierto proceso físico da como resultado la siguiente expresión\n",
    "\n",
    "$$\n",
    "p(x) = \\sin x + n(x)\n",
    "$$\n",
    "\n",
    "donde $n$ es el error experimental que podemos describir como un número aleatorio, para cada valor de $x$, tomado de una distribución gaussiana con media $0$ y desviación estándar $10^{-5}$. Queremos calcular la integral\n",
    "\n",
    "$$\n",
    "\\int_0^1 dx\\,p(x)\\,.\n",
    "$$\n",
    "\n",
    "Use la cuadratura adaptativa para calcular esta integral. El verdadero valor de esta integral es $1-\\cos(1)$. Grafique el error cometido en función de la tolerancia. ¿Se puede lograr una precisión de $10^{-7}$? ¿Qué podemos decir sobre la estabilidad de la cuadratura adaptativa?"
   ]
  },
  {
   "cell_type": "markdown",
   "metadata": {},
   "source": [
    "### Tarea 9.8"
   ]
  },
  {
   "cell_type": "markdown",
   "metadata": {},
   "source": [
    "Calcule la integral del seno entre $0$ y $1$. Para ello use el método compuesto de Simpson y la cuadratura adaptativa implementada en clase. Hágalo para varias precisiones y grafique el tiempo que tardan ambos métodos en función de la precisión. (Para la precisión del método de Simpson es necesario usar la fórmula de error para calcular el número $n$ de intervalos)."
   ]
  },
  {
   "cell_type": "markdown",
   "metadata": {},
   "source": [
    "### Tarea 9.9"
   ]
  },
  {
   "cell_type": "markdown",
   "metadata": {},
   "source": [
    "Calcule la siguiente integral\n",
    "\n",
    "$$\n",
    "\\int_{0.1}^1 dx\\,\\frac{\\ln(x)}{\\sqrt{\\cos^2(x) + \\tanh(x)}}\n",
    "$$\n",
    "\n",
    "Hágalo usando la cuadratura adaptativa y el integrador de scipy. Grafique los tiempos que tardan ambos en función de la precisión pedida."
   ]
  },
  {
   "cell_type": "markdown",
   "metadata": {},
   "source": [
    "### Tarea 9.10"
   ]
  },
  {
   "cell_type": "markdown",
   "metadata": {},
   "source": [
    "Ejercicio 4.6.10 del libro de análisis numérico de Burden.\n",
    "\n",
    "El estudio de la difracción de la luz en una apertura rectangular involucra las integrales de Fresnel\n",
    "\n",
    "$$\n",
    "c(t) = \\int_0^t dw\\,\\cos\\frac{\\pi}{2}w^2\\,,\\quad s(t) = \\int_0^t dw\\,\\sin\\frac{\\pi}{2}w^2\\,.\n",
    "$$\n",
    "\n",
    "Construya una tabla de integrales de Fresnel con una precisión de $10^{-4}$ para los valores $t = 0.1, 0.2, ..., 0.9, 1.0$."
   ]
  }
 ],
 "metadata": {
  "kernelspec": {
   "display_name": "Python 3",
   "language": "python",
   "name": "python3"
  },
  "language_info": {
   "codemirror_mode": {
    "name": "ipython",
    "version": 3
   },
   "file_extension": ".py",
   "mimetype": "text/x-python",
   "name": "python",
   "nbconvert_exporter": "python",
   "pygments_lexer": "ipython3",
   "version": "3.7.7"
  }
 },
 "nbformat": 4,
 "nbformat_minor": 4
}
