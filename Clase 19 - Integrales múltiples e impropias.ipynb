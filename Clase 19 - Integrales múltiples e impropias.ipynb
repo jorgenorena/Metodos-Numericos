{
 "cells": [
  {
   "cell_type": "markdown",
   "metadata": {},
   "source": [
    "# Clase 19: Integrales múltiples e impropias"
   ]
  },
  {
   "cell_type": "code",
   "execution_count": 4,
   "metadata": {},
   "outputs": [],
   "source": [
    "import numpy as np\n",
    "import matplotlib.pyplot as plt"
   ]
  },
  {
   "cell_type": "markdown",
   "metadata": {},
   "source": [
    "## Integrales múltiples"
   ]
  },
  {
   "cell_type": "markdown",
   "metadata": {},
   "source": [
    "Podemos aplicar las técnicas que hemos visto a la solución de integrales múltiples. Para lograrlo, primero consideremos regiones de integración rectangulares:\n",
    "\n",
    "$$\n",
    "\\int_a^b dx\\,\\int_c^d dy\\, f(x,y) = \\int_a^b dx\\,\\left(\\int_c^d dy\\,f(x,y)\\right)\n",
    "$$\n",
    "\n",
    "Podemos aplicar una de las aproximaciones que hemos visto primero al paréntesis. Vamos a usar el método de Simpson y de cuadratura gaussiana. Para el método de Simpson escribimos\n",
    "\n",
    "$$\n",
    "\\int_a^b dx\\,\\int_c^d dy\\, f(x,y) \\approx \\int_a^b \\frac{k}{3}\\left[f(x,y_o) + 2\\sum_{j = 1}^{(m/2)-1}f(x, y_{2j}) + 4\\sum_{j = 1}^{m/2}f(x, y_{2j-1}) + f(x, y_m)\\right]\n",
    "$$\n",
    "\n",
    "donde $y_j = c + jk$ y $k = (c - d)/m$, donde $m$ es el número de subintervalos en esta dimensión. Ahora consideramos cada uno de estos términos como una integral en $x$ y aplicarle la regla de Simpson nuevamente, obteniendo una expresión algo complicada\n",
    "\n",
    "$$\n",
    "\\begin{aligned}\n",
    "\\int_a^b dx\\,\\int_c^d dy\\, f(x,y) &\\approx \\frac{hk}{9}\\Bigg\\{\\left[f(x_o,y_o) + 2\\sum_{j = 1}^{(m/2)-1}f(x_o, y_{2j}) + 4\\sum_{j = 1}^{m/2}f(x_o, y_{2j-1}) + f(x_o, y_m)\\right] \\\\\n",
    "&\\phantom{\\approx}+ 2\\sum_{i=1}^{(m/2)-1}\\left[f(x_{2i},y_o) + 2\\sum_{j = 1}^{(m/2)-1}f(x_{2i}, y_{2j}) + 4\\sum_{j = 1}^{m/2}f(x_{2i}, y_{2j-1}) + f(x_{2i}, y_m)\\right] \\\\\n",
    "&\\phantom{\\approx}+ 4\\sum_{i=1}^{(m/2)}\\left[f(x_{2i-1},y_o) + 2\\sum_{j = 1}^{(m/2)-1}f(x_{2i-1}, y_{2j}) + 4\\sum_{j = 1}^{m/2}f(x_{2i-1}, y_{2j-1}) + f(x_{2i-1}, y_m)\\right] \\\\\n",
    "&\\phantom{\\approx}+ \\left[f(x_n,y_o) + 2\\sum_{j = 1}^{(m/2)-1}f(x_n, y_{2j}) + 4\\sum_{j = 1}^{m/2}f(x_n, y_{2j-1}) + f(x_n, y_m)\\right]\n",
    "\\Bigg\\}\n",
    "\\end{aligned}\n",
    "$$"
   ]
  },
  {
   "cell_type": "code",
   "execution_count": 5,
   "metadata": {},
   "outputs": [],
   "source": [
    "def simpson2(f, a, b, c, d, n, m):\n",
    "    \n",
    "    h = (b-a)/n\n",
    "    k = (d-c)/m\n",
    "    \n",
    "    borde_x = 0\n",
    "    suma_x_par = 0\n",
    "    suma_x_impar = 0\n",
    "    for i in range(n+1):\n",
    "        x = a + i*h\n",
    "        borde_y = f(x, c) + f(x, d)\n",
    "        suma_y_par = sum(f(x, c + j*k) for j in range(2, m, 2))\n",
    "        suma_y_impar = sum(f(x, c + j*k) for j in range(1, m, 2))\n",
    "        simpson_y = borde_y + 2*suma_y_par + 4*suma_y_impar\n",
    "        if i == 0 or i == n:\n",
    "            borde_x += simpson_y\n",
    "        elif i%2 == 0:\n",
    "            suma_x_par += simpson_y\n",
    "        else:\n",
    "            suma_x_impar += simpson_y\n",
    "    \n",
    "    resultado = borde_x + 2*suma_x_par + 4*suma_x_impar\n",
    "    \n",
    "    return h*k*resultado/9"
   ]
  },
  {
   "cell_type": "code",
   "execution_count": 6,
   "metadata": {},
   "outputs": [],
   "source": [
    "def f(x, y):\n",
    "    return np.cos(x)*np.cos(y)"
   ]
  },
  {
   "cell_type": "code",
   "execution_count": 7,
   "metadata": {},
   "outputs": [
    {
     "data": {
      "text/plain": [
       "0.7080742059596224"
      ]
     },
     "execution_count": 7,
     "metadata": {},
     "output_type": "execute_result"
    }
   ],
   "source": [
    "simpson2(f, 0, 1, 0, 1, 10, 10)"
   ]
  },
  {
   "cell_type": "code",
   "execution_count": 8,
   "metadata": {},
   "outputs": [
    {
     "data": {
      "text/plain": [
       "0.7080734182735712"
      ]
     },
     "execution_count": 8,
     "metadata": {},
     "output_type": "execute_result"
    }
   ],
   "source": [
    "np.sin(1)**2"
   ]
  },
  {
   "cell_type": "markdown",
   "metadata": {},
   "source": [
    "La fórmula de error es algo compleja de estimar, pero si la función tiene cuartas derivadas continuas el resultado es\n",
    "\n",
    "$$\n",
    "-\\frac{(d-c)(b-a)}{180}\\left[h^4 \\frac{\\partial^4 f}{\\partial x^4}(\\eta, \\mu) + k^4\\frac{\\partial^4 f}{\\partial y^4}(\\eta, \\mu)\\right]\n",
    "$$\n",
    "\n",
    "donde $(\\eta, \\mu)$ es algún punto en la región de integración."
   ]
  },
  {
   "cell_type": "markdown",
   "metadata": {},
   "source": [
    "Pero en general la región de integración no es rectangular. En estos casos escribimos\n",
    "\n",
    "$$\n",
    "\\int_a^b dx\\,\\int_{c(x)}^{d(x)}dy\\,f(x,y)\n",
    "$$\n",
    "\n",
    "De esta forma, basta evaluar la función $f$ en estas funciones de los bordes $c(x)$ y $d(x)$. Mejoremos entonces el código anterior."
   ]
  },
  {
   "cell_type": "code",
   "execution_count": 9,
   "metadata": {},
   "outputs": [],
   "source": [
    "def simpson2(f, a, b, c, d, n, m):\n",
    "    \n",
    "    h = (b-a)/n\n",
    "    \n",
    "    borde_x = 0\n",
    "    suma_x_par = 0\n",
    "    suma_x_impar = 0\n",
    "    for i in range(n+1):\n",
    "        x = a + i*h\n",
    "        c1 = c(x)\n",
    "        d1 = d(x)\n",
    "        k = (d1 - c1)/m\n",
    "        borde_y = (f(x, c1) + f(x, d1))\n",
    "        suma_y_par = sum(f(x, c1 + j*k) for j in range(2, m, 2))\n",
    "        suma_y_impar = sum(f(x, c1 + j*k) for j in range(1, m, 2))\n",
    "        simpson_y = k*(borde_y + 2*suma_y_par + 4*suma_y_impar)\n",
    "        if i == 0 or i == n:\n",
    "            borde_x += simpson_y\n",
    "        elif i%2 == 0:\n",
    "            suma_x_par += simpson_y\n",
    "        else:\n",
    "            suma_x_impar += simpson_y\n",
    "    \n",
    "    resultado = borde_x + 2*suma_x_par + 4*suma_x_impar\n",
    "    \n",
    "    return h*resultado/9"
   ]
  },
  {
   "cell_type": "markdown",
   "metadata": {},
   "source": [
    "Se puede hacer lo mismo con la cuadratura gaussiana (esta versión además tiene menos operaciones que la cuadratura gaussiana hecha como lo habíamos programado la clase pasada):"
   ]
  },
  {
   "cell_type": "code",
   "execution_count": 10,
   "metadata": {},
   "outputs": [],
   "source": [
    "def gauss_quad_5_2d(f, a, b, c, d):\n",
    "    \n",
    "    cg = [0.2369268850, 0.4786286705, 0.5688888889, 0.4786286705, 0.2369268850]\n",
    "    rg = [0.9061798459, 0.5384693101, 0.0000000000, -0.5384693101, -0.9061798459]\n",
    "    \n",
    "    h1 = (b - a)/2\n",
    "    h2 = (a + b)/2\n",
    "    result = 0\n",
    "\n",
    "    for i in range(5):\n",
    "        \n",
    "        x = h1*rg[i] + h2\n",
    "        c1 = c(x)\n",
    "        d1 = d(x)\n",
    "        k1 = (d1 - c1)/2\n",
    "        k2 = (d1 + c1)/2\n",
    "        result += cg[i]*k1*sum(cg[j]*f(x, k1*rg[j] + k2) for j in range(5))\n",
    "    \n",
    "    return h1*result"
   ]
  },
  {
   "cell_type": "code",
   "execution_count": 11,
   "metadata": {},
   "outputs": [],
   "source": [
    "def f(x, y):\n",
    "    return np.exp(y/x)"
   ]
  },
  {
   "cell_type": "code",
   "execution_count": 12,
   "metadata": {},
   "outputs": [
    {
     "data": {
      "text/plain": [
       "0.033305461281902184"
      ]
     },
     "execution_count": 12,
     "metadata": {},
     "output_type": "execute_result"
    }
   ],
   "source": [
    "simpson2(f, 0.1, 0.5, lambda x: x**3, lambda x: x**2, 10, 10)"
   ]
  },
  {
   "cell_type": "code",
   "execution_count": 13,
   "metadata": {},
   "outputs": [
    {
     "data": {
      "text/plain": [
       "0.033305566114962486"
      ]
     },
     "execution_count": 13,
     "metadata": {},
     "output_type": "execute_result"
    }
   ],
   "source": [
    "gauss_quad_5_2d(f, 0.1, 0.5, lambda x: x**3, lambda x: x**2)"
   ]
  },
  {
   "cell_type": "markdown",
   "metadata": {},
   "source": [
    "La integral analítica es:\n",
    "\n",
    "$$\n",
    "\\int dx\\,\\int_{x^3}^{x^2}dy\\,e^{y/x} = -\\frac{1}{2}e^{x^2} + e^x(-1+x)\n",
    "$$"
   ]
  },
  {
   "cell_type": "code",
   "execution_count": 14,
   "metadata": {},
   "outputs": [
    {
     "data": {
      "text/plain": [
       "0.033305566116232255"
      ]
     },
     "execution_count": 14,
     "metadata": {},
     "output_type": "execute_result"
    }
   ],
   "source": [
    "def exacta(x):\n",
    "    return -(1/2)*np.exp(x**2) + np.exp(x)*(-1+x)\n",
    "\n",
    "exacta(0.5) - exacta(0.1)"
   ]
  },
  {
   "cell_type": "markdown",
   "metadata": {},
   "source": [
    "Con menos evaluaciones, la cuadratura gaussiana resulta ser más precisa. También se puede hacer algo análogo en más dimensiones, donde el número reducido de evaluaciones de la cuadratura gaussiana es una ventaja todavía mayor ya que el número de evaluaciones crece como $\\mathcal{O}(n^d)$ donde $d$ es la dimensión de la integral."
   ]
  },
  {
   "cell_type": "markdown",
   "metadata": {},
   "source": [
    "## Integrales impropias"
   ]
  },
  {
   "cell_type": "markdown",
   "metadata": {},
   "source": [
    "Ahora discutiremos cómo tratar integrales indefinidas. Es decir, trataremos integrales cuyo integrando tiene una divergencia en uno de los dos extremos de integración o tal que uno de los límites de integración está en el infinito."
   ]
  },
  {
   "cell_type": "markdown",
   "metadata": {},
   "source": [
    "Para empezar, consideremos una integral de la forma\n",
    "\n",
    "$$\n",
    "\\int_a^b dx\\,\\frac{g(x)}{(x - a)^p}\n",
    "$$\n",
    "\n",
    "Este tipo de integrales converge si $p < 1$. Pero cuando $1 < p < 0$ tendremos una división por cero cuando queremos evaluar la integral en el extremo $x = a$ lo que dará un error."
   ]
  },
  {
   "cell_type": "markdown",
   "metadata": {},
   "source": [
    "Por ejemplo intentemos encontrar la siguiente integral\n",
    "\n",
    "$$\n",
    "\\int_0^1 dx\\,\\frac{x - 1}{\\sqrt{x}} = -\\frac{4}{3}\n",
    "$$"
   ]
  },
  {
   "cell_type": "code",
   "execution_count": 15,
   "metadata": {},
   "outputs": [
    {
     "data": {
      "text/plain": [
       "-1.3333333333333333"
      ]
     },
     "execution_count": 15,
     "metadata": {},
     "output_type": "execute_result"
    }
   ],
   "source": [
    "-4/3"
   ]
  },
  {
   "cell_type": "code",
   "execution_count": 16,
   "metadata": {},
   "outputs": [],
   "source": [
    "def trapecio(f, a, b, n):\n",
    "    h = (b - a)/n\n",
    "    fx = f(np.linspace(a+h, b-h, n-1, endpoint=True))\n",
    "    return (h/2)*(f(a) + 2*sum(fx) + f(b))"
   ]
  },
  {
   "cell_type": "code",
   "execution_count": 17,
   "metadata": {},
   "outputs": [
    {
     "name": "stderr",
     "output_type": "stream",
     "text": [
      "/Users/jorgenorena/anaconda3/lib/python3.7/site-packages/ipykernel_launcher.py:2: RuntimeWarning: divide by zero encountered in double_scalars\n",
      "  \n"
     ]
    },
    {
     "data": {
      "text/plain": [
       "-inf"
      ]
     },
     "execution_count": 17,
     "metadata": {},
     "output_type": "execute_result"
    }
   ],
   "source": [
    "def f(x):\n",
    "    return (x-1)/np.sqrt(x)\n",
    "\n",
    "trapecio(f, 0, 1, 10)"
   ]
  },
  {
   "cell_type": "markdown",
   "metadata": {},
   "source": [
    "O da resultados con un error grande"
   ]
  },
  {
   "cell_type": "code",
   "execution_count": 18,
   "metadata": {},
   "outputs": [],
   "source": [
    "def gauss_quad_5(f, a, b):\n",
    "    \n",
    "    def x(t):\n",
    "        return ((b - a)*t + a + b)/2\n",
    "    \n",
    "    c = [0.2369268850, 0.4786286705, 0.5688888889, 0.4786286705, 0.2369268850]\n",
    "    r = [0.9061798459, 0.5384693101, 0.0000000000, -0.5384693101, -0.9061798459]\n",
    "    \n",
    "    return ((b-a)/2)*sum(c[i]*f(x(r[i])) for i in range(5))"
   ]
  },
  {
   "cell_type": "code",
   "execution_count": 19,
   "metadata": {},
   "outputs": [
    {
     "data": {
      "text/plain": [
       "-1.1743030904176726"
      ]
     },
     "execution_count": 19,
     "metadata": {},
     "output_type": "execute_result"
    }
   ],
   "source": [
    "gauss_quad_5(f, 0, 1)"
   ]
  },
  {
   "cell_type": "markdown",
   "metadata": {},
   "source": [
    "Para mejorar esto, podemos aislar la divergencia aproximando la función cerca de la divergencia con un polinomio de Taylor cerca de la divergencia:\n",
    "\n",
    "$$\n",
    "g(x) \\approx P_m(x) = \\sum_{n=0}^m \\frac{1}{n!}(x - a)^n \\frac{d^ng}{dx^n}(a)\n",
    "$$\n",
    "\n",
    "El polinomio de Taylor se puede integrar directamente\n",
    "\n",
    "$$\n",
    "\\int_a^b dx\\,\\frac{P_m(x)}{(x -a)^p} = \\sum_{n=0}^m \\frac{1}{(n - p + 1)n!}(b - a)^{(n - p + 1)} \\frac{d^ng}{dx^n}(a)\n",
    "$$\n",
    "\n",
    "y para la integral completa escribimos\n",
    "\n",
    "$$\n",
    "\\int_a^b dx\\,\\frac{g(x)}{(x -a)^p} = \\int_a^b dx\\,\\frac{g(x) - P_m(x)}{(x-a)^p} +  \\sum_{n=0}^4 \\frac{1}{(n - p + 1)n!}(b - a)^{(n - p + 1)} \\frac{d^ng}{dx^n}(a)\n",
    "$$\n",
    "\n",
    "Además podemos definir que el integrando de la primera integral sea $0$ cuando $x = a$. Esto nos dará una función continua ya que $\\lim_{x\\rightarrow a} \\frac{g(x) - P_m(x)}{(x-a)^p} = 0$ para $m > 0$."
   ]
  },
  {
   "cell_type": "markdown",
   "metadata": {},
   "source": [
    "Para nuestro ejemplo el polinomio de Taylor es la función misma, así que la integral nos da directamente el resultado analítico. Integramos en cambio la siguiente función\n",
    "\n",
    "$$\n",
    "\\int_0^1 dx\\,\\frac{e^x}{\\sqrt{x}}\n",
    "$$\n",
    "\n",
    "La $n$-ésima derivada es fácil de calcular\n",
    "\n",
    "$$\n",
    "\\frac{d^n e^x}{dx^n} = e^x\n",
    "$$"
   ]
  },
  {
   "cell_type": "code",
   "execution_count": 20,
   "metadata": {},
   "outputs": [
    {
     "data": {
      "text/plain": [
       "2.9253034921633922"
      ]
     },
     "execution_count": 20,
     "metadata": {},
     "output_type": "execute_result"
    }
   ],
   "source": [
    "poly = sum(1/((n + 0.5)*np.math.factorial(n)) for n in range(5))\n",
    "\n",
    "def fp(x):\n",
    "    if x == 0:\n",
    "        return 0\n",
    "    pol = sum(1/(np.math.factorial(n))*x**n for n in range(5))\n",
    "    return (np.exp(x) - pol)/np.sqrt(x)\n",
    "\n",
    "gauss_quad_5(fp, 0, 1) + poly"
   ]
  },
  {
   "cell_type": "code",
   "execution_count": 21,
   "metadata": {},
   "outputs": [
    {
     "data": {
      "text/plain": [
       "2.7675249220255154"
      ]
     },
     "execution_count": 21,
     "metadata": {},
     "output_type": "execute_result"
    }
   ],
   "source": [
    "def f(x):\n",
    "    return np.exp(x)/np.sqrt(x)\n",
    "    \n",
    "gauss_quad_5(f, 0, 1)"
   ]
  },
  {
   "cell_type": "markdown",
   "metadata": {},
   "source": [
    "A veces no es práctico calcular los polinomios de Taylor, en estos casos debemos recurrir a las derivadas numéricas, que sin embargo son inestables. Una alternativa es introducir un corte a la integral pero se pierde control sobre la precisión"
   ]
  },
  {
   "cell_type": "code",
   "execution_count": 110,
   "metadata": {},
   "outputs": [],
   "source": [
    "def punto_medio(f, a, b, n):\n",
    "    h = (b-a)/n\n",
    "    fx = f(np.linspace(a + h/2, b - h/2, n, endpoint=True))\n",
    "    return h*sum(fx)"
   ]
  },
  {
   "cell_type": "code",
   "execution_count": 121,
   "metadata": {},
   "outputs": [
    {
     "data": {
      "text/plain": [
       "Text(0, 0.5, 'Resultado')"
      ]
     },
     "execution_count": 121,
     "metadata": {},
     "output_type": "execute_result"
    },
    {
     "data": {
      "image/png": "[encoded data removed]",
      "text/plain": [
       "<Figure size 432x288 with 1 Axes>"
      ]
     },
     "metadata": {
      "needs_background": "light"
     },
     "output_type": "display_data"
    }
   ],
   "source": [
    "def f(x):\n",
    "    return np.exp(x)/np.sqrt(x)\n",
    "\n",
    "cut = [10**(-n) for n in range(1,6)]\n",
    "results_gauss = [gauss_quad_5(f, c, 1) for c in cut]\n",
    "results_trap = [trapecio(f, c, 1, 100) for c in cut]\n",
    "results_mid = [punto_medio(f, c, 1, 1000) for c in cut] # vary number of evals\n",
    "plt.loglog(cut, np.abs(results_gauss), label='Gauss')\n",
    "plt.loglog(cut, np.abs(results_trap), label='Trapecio')\n",
    "plt.loglog(cut, np.abs(results_mid), label='Punto medio')\n",
    "plt.loglog(cut, np.full(len(cut), gauss_quad_5(fp, 0, 1) + poly), color='black', linestyle=':', label='Exacta')\n",
    "plt.legend()\n",
    "plt.xlabel('Corte')\n",
    "plt.ylabel('Resultado')"
   ]
  },
  {
   "cell_type": "code",
   "execution_count": 123,
   "metadata": {},
   "outputs": [
    {
     "data": {
      "text/plain": [
       "Text(0, 0.5, 'Resultado')"
      ]
     },
     "execution_count": 123,
     "metadata": {},
     "output_type": "execute_result"
    },
    {
     "data": {
      "image/png": "[encoded data removed]",
      "text/plain": [
       "<Figure size 432x288 with 1 Axes>"
      ]
     },
     "metadata": {
      "needs_background": "light"
     },
     "output_type": "display_data"
    }
   ],
   "source": [
    "def f(x):\n",
    "    return np.exp(x)/np.sqrt(x)\n",
    "\n",
    "num = [2**(n) for n in np.arange(1,15)]\n",
    "results_trap = [trapecio(f, 1e-6, 1, c) for c in num]\n",
    "results_mid = [punto_medio(f, 1e-6, 1, c) for c in num]\n",
    "plt.loglog(num, np.abs(results_trap), label = 'Trapecio')\n",
    "plt.loglog(num, np.abs(results_mid), label = 'Punto medio')\n",
    "plt.loglog(num, np.full(len(num), gauss_quad_5(fp, 0, 1) + poly), color='black', linestyle=':', label='Exacta')\n",
    "plt.legend()\n",
    "plt.xlabel('Número de intervalos')\n",
    "plt.ylabel('Resultado')"
   ]
  },
  {
   "cell_type": "markdown",
   "metadata": {},
   "source": [
    "En la práctica se usan algoritmos adaptativos que por su propia naturaleza incrementarán el número de evaluaciones cerca de la divergencia. Como se necesitarían demasiadas evaluaciones, se usan algoritmos de \"aceleración\" cerca de los puntos deivergentes."
   ]
  },
  {
   "cell_type": "markdown",
   "metadata": {},
   "source": [
    "Para integrales con la divergencia en el otro extremo de integración se trata el problema de forma completamente análoga. \n",
    "\n",
    "Para integrales indefinidas podemos hacer un cambio de variable\n",
    "\n",
    "$$\n",
    "\\int_a^{\\infty}dx\\,f(x) = \\int_{0}^{1/a}dy\\,\\frac{f(1/y)}{y^2}\n",
    "$$\n",
    "\n",
    "Esta integral converge si $f(1/y) \\approx y^p$ cuando $y$ se acerca a $0$, para $p > 1$."
   ]
  },
  {
   "cell_type": "markdown",
   "metadata": {},
   "source": [
    "## Tareas"
   ]
  },
  {
   "cell_type": "markdown",
   "metadata": {},
   "source": [
    "### Tarea 10.1"
   ]
  },
  {
   "cell_type": "markdown",
   "metadata": {},
   "source": [
    "Calcule las siguientes integrales\n",
    "\n",
    "$$\n",
    "\\int_1^\\infty dx\\,\\frac{\\log(x)x^{1/2}}{(x^2 + 3)}\n",
    "$$\n",
    "\n",
    "$$\n",
    "\\int_1^\\infty dx\\,\\ln(x)\\ \\sin(x)\n",
    "$$\n",
    "\n",
    "**Pista:** Al aislar la divergencia, escriba $\\log(x)f(x)/x^p$, luego expanda en Taylor $f(x)$ y las integrales resultantes con integrandos del tipo $x^n \\log(x)$ tienen solución analítica."
   ]
  },
  {
   "cell_type": "markdown",
   "metadata": {},
   "source": [
    "### Tarea 10.2"
   ]
  },
  {
   "cell_type": "markdown",
   "metadata": {},
   "source": [
    "Escriba un código que calcule integrales triples usando una cuadratura gaussiana, y úselo para calcular en coordenadas cartesianas la carga total al interior de una esfara con densidad $\\rho = r$ con $r \\leq 1$. Compare su resultado con el valor exacto."
   ]
  },
  {
   "cell_type": "markdown",
   "metadata": {},
   "source": [
    "### Tarea 10.3"
   ]
  },
  {
   "cell_type": "markdown",
   "metadata": {},
   "source": [
    "Use un método numérico para calcular la siguiente integral\n",
    "\n",
    "$$\n",
    "\\int_0^\\infty dx\\,\\frac{\\log(x)}{\\sqrt{x + 5x^3}}\n",
    "$$\n",
    "\n",
    "**Pista:** Al aislar la divergencia, escriba $\\log(x)f(x)/x^p$, luego expanda en Taylor $f(x)$ y las integrales resultantes con integrandos del tipo $x^n \\log(x)$ tienen solución analítica."
   ]
  },
  {
   "cell_type": "markdown",
   "metadata": {},
   "source": [
    "### Tarea 10.4"
   ]
  },
  {
   "cell_type": "markdown",
   "metadata": {},
   "source": [
    "Calcule la siguiente integral\n",
    "\n",
    "$$\n",
    "\\int_1^\\infty dx\\,\\int_1^\\infty dy\\, \\frac{\\tan^{-1}(xy)}{y^2 (x^{3/2}+1)}\n",
    "$$\n",
    "\n",
    "**Pista:** La $\\tan^{-1}(x)$ tiende a una constante cuando $x \\rightarrow \\infty$ tal que al aislar la divergencia, se puede reemplazar por la constante."
   ]
  },
  {
   "cell_type": "markdown",
   "metadata": {},
   "source": [
    "### Tarea 10.5"
   ]
  },
  {
   "cell_type": "markdown",
   "metadata": {},
   "source": [
    "Use una cuadratura gaussiana para calcular el volumen entre el plano $z = 0$ y la superficie dada por el hiperboloide $x^2 + y^2 - z^2 = -9$ para la región dada por $x^2 + 3y^2 \\leq 1$."
   ]
  }
 ],
 "metadata": {
  "kernelspec": {
   "display_name": "Python 3",
   "language": "python",
   "name": "python3"
  },
  "language_info": {
   "codemirror_mode": {
    "name": "ipython",
    "version": 3
   },
   "file_extension": ".py",
   "mimetype": "text/x-python",
   "name": "python",
   "nbconvert_exporter": "python",
   "pygments_lexer": "ipython3",
   "version": "3.7.7"
  }
 },
 "nbformat": 4,
 "nbformat_minor": 4
}
