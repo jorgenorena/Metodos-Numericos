{
 "cells": [
  {
   "cell_type": "markdown",
   "metadata": {},
   "source": [
    "# Clase 4: Errores de redondeo"
   ]
  },
  {
   "cell_type": "markdown",
   "metadata": {},
   "source": [
    "Basado en la sección 1.2 del libro de Burden."
   ]
  },
  {
   "cell_type": "markdown",
   "metadata": {},
   "source": [
    "El computador representa los números usando un sistema **binario**. Es decir, una lista de 1s y 0s. Las CPUs modernas usan 64 bits, cada uno de los cuales puede ser 0 o 1. Como esto es un número finito de información, la precisión del computador para guardar un número no es infinita y esto puede inducir errores."
   ]
  },
  {
   "cell_type": "markdown",
   "metadata": {},
   "source": [
    "Para entender el problema, hagamos un ejemplo con 16 bits."
   ]
  },
  {
   "cell_type": "code",
   "execution_count": 3,
   "metadata": {},
   "outputs": [],
   "source": [
    "import numpy as np"
   ]
  },
  {
   "cell_type": "code",
   "execution_count": 18,
   "metadata": {},
   "outputs": [
    {
     "data": {
      "text/plain": [
       "-0.1935"
      ]
     },
     "execution_count": 18,
     "metadata": {},
     "output_type": "execute_result"
    }
   ],
   "source": [
    "pi = np.float16(np.pi)\n",
    "dos = np.float16(2)\n",
    "cien = np.float16(100)\n",
    "cien*np.sin(dos*pi)"
   ]
  },
  {
   "cell_type": "markdown",
   "metadata": {},
   "source": [
    "## Representación de los números en un sistema binario"
   ]
  },
  {
   "cell_type": "markdown",
   "metadata": {},
   "source": [
    "El computador usa 64 bits para representar un número decimal. Por ejemplo\n",
    "\n",
    "1 11011011111 01100000001010100000000000000000000000000000000000000\n",
    "\n",
    "El primer bit se llama $s$, los siguientes 10 bits se llaman $c$. Los siguientes 52 bits forman una fracción que consiste en la siguiente suma\n",
    "\n",
    "$$\n",
    "f = \\sum_{i = 1}^{52}\\left(\\frac{b_i}{2}\\right)^i\\,,\n",
    "$$\n",
    "\n",
    "donde $b_i$ es el $i$ bit de esos 52. El número total está dado por\n",
    "\n",
    "$$\n",
    "(-1)^s 2^{c - 1023} (1 + f)\\,.\n",
    "$$\n",
    "\n",
    "La fracción de nuestro ejemplo es\n",
    "\n",
    "$$\n",
    "f = \\left(\\frac{1}{2}\\right)^2 + \\left(\\frac{1}{2}\\right)^3 + \\left(\\frac{1}{2}\\right)^{11} +  \\left(\\frac{1}{2}\\right)^{13} + \\left(\\frac{1}{2}\\right)^{15} = 0.375640869140625\n",
    "$$\n",
    "\n",
    "El número $c$ está escrito en binario, lo que quiere decir\n",
    "\n",
    "$$\n",
    "c = \\sum_{i = 0}^{10} b_i 2^{10 - i}\n",
    "$$\n",
    "\n",
    "En nuestro ejemplo esto es\n",
    "\n",
    "$$\n",
    "c = 2^{10} + 2^9 + 2^7 + 2^6 + 2^4 + 2^3 + 2^2 + 2^1 + 2^0 = 1759\n",
    "$$\n",
    "\n",
    "Entonces el número escrito arriba corresponde a\n",
    "\n",
    "$$\n",
    "(-1)\\times 2^{1759 - 1023} 1.375640869140625 \\approx -4.97258\\times 10^{221}\n",
    "$$"
   ]
  },
  {
   "cell_type": "markdown",
   "metadata": {},
   "source": [
    "Hay dos valores de $c$ con significado especial: Todos 0 representa que en la mantisa se toma $2^{-1022}f$ en vez de $2^{-1023}(1 + f)$. Todos $1$ representa $\\infty$."
   ]
  },
  {
   "cell_type": "markdown",
   "metadata": {},
   "source": [
    "* Número más grande de 64 bits (todos 1 excepto $s$ y el último dígito de $c$)\n",
    "\n",
    "0 11111111110 1111111111111111111111111111111111111111111111111111"
   ]
  },
  {
   "cell_type": "code",
   "execution_count": 239,
   "metadata": {},
   "outputs": [
    {
     "data": {
      "text/plain": [
       "0.9999999999999998"
      ]
     },
     "execution_count": 239,
     "metadata": {},
     "output_type": "execute_result"
    }
   ],
   "source": [
    "f = sum((1/2.)**(np.arange(1,53)))\n",
    "f"
   ]
  },
  {
   "cell_type": "code",
   "execution_count": 274,
   "metadata": {},
   "outputs": [
    {
     "data": {
      "text/plain": [
       "1023"
      ]
     },
     "execution_count": 274,
     "metadata": {},
     "output_type": "execute_result"
    }
   ],
   "source": [
    "c = sum(2**(np.arange(1,11)))\n",
    "c - 1023"
   ]
  },
  {
   "cell_type": "code",
   "execution_count": 277,
   "metadata": {},
   "outputs": [
    {
     "data": {
      "text/plain": [
       "1.796815355011309e+308"
      ]
     },
     "execution_count": 277,
     "metadata": {},
     "output_type": "execute_result"
    }
   ],
   "source": [
    "2**1023*(1+f)"
   ]
  },
  {
   "cell_type": "markdown",
   "metadata": {},
   "source": [
    "* Número más pequeño de 64 bits (todos 1 excepto el último dígito de c)\n",
    "\n",
    "1 11111111110 1111111111111111111111111111111111111111111111111111"
   ]
  },
  {
   "cell_type": "code",
   "execution_count": 279,
   "metadata": {},
   "outputs": [
    {
     "data": {
      "text/plain": [
       "-1.796815355011309e+308"
      ]
     },
     "execution_count": 279,
     "metadata": {},
     "output_type": "execute_result"
    }
   ],
   "source": [
    "-2**1023*(1+f)"
   ]
  },
  {
   "cell_type": "markdown",
   "metadata": {},
   "source": [
    "* Número de 64 bits más cercano a cero (todos cero excepto el último dígito de $c$)\n",
    "\n",
    "0 00000000001 0000000000000000000000000000000000000000000000000000"
   ]
  },
  {
   "cell_type": "code",
   "execution_count": 280,
   "metadata": {},
   "outputs": [
    {
     "data": {
      "text/plain": [
       "-1022"
      ]
     },
     "execution_count": 280,
     "metadata": {},
     "output_type": "execute_result"
    }
   ],
   "source": [
    "c  =  1\n",
    "c - 1023"
   ]
  },
  {
   "cell_type": "code",
   "execution_count": 281,
   "metadata": {},
   "outputs": [
    {
     "data": {
      "text/plain": [
       "2.2250738585072014e-308"
      ]
     },
     "execution_count": 281,
     "metadata": {},
     "output_type": "execute_result"
    }
   ],
   "source": [
    "2**(-1022)"
   ]
  },
  {
   "cell_type": "markdown",
   "metadata": {},
   "source": [
    "* Cifras decimales de precisión de 64 bits (todos cero excepto el último dígito de $f$)\n",
    "\n",
    "0 00000000000 0000000000000000000000000000000000000000000000000001"
   ]
  },
  {
   "cell_type": "code",
   "execution_count": 282,
   "metadata": {},
   "outputs": [
    {
     "data": {
      "text/plain": [
       "2.220446049250313e-16"
      ]
     },
     "execution_count": 282,
     "metadata": {},
     "output_type": "execute_result"
    }
   ],
   "source": [
    "(1/2)**(52)"
   ]
  },
  {
   "cell_type": "markdown",
   "metadata": {},
   "source": [
    "### Números de 16 bits"
   ]
  },
  {
   "cell_type": "markdown",
   "metadata": {},
   "source": [
    "Para ilustrar el tipo de dificultades que esto introduce es engorroso trabajar con números tan grandes. Por eso trabajamos con números de 16 bits (como si estuviéramos en los años 90). Un número de este estilo es\n",
    "\n",
    "1 11010 1111000100\n",
    "\n",
    "El primer dígito es $s$, los siguientes cinco forman $c$ y los siguientes diez forman $f$ de manera análoga a la de antes. En nuestro ejemplo tenemos\n",
    "\n",
    "$$\n",
    "f = \\left(\\frac{1}{2}\\right)^1 + \\left(\\frac{1}{2}\\right)^2 + \\left(\\frac{1}{2}\\right)^3 + \\left(\\frac{1}{2}\\right)^4 + \\left(\\frac{1}{2}\\right)^8 = 0.94140625\n",
    "$$\n",
    "\n",
    "$$\n",
    "c = 2^4 + 2^3 + 2^1 = 26\n",
    "$$\n",
    "\n",
    "El número total está dado por $$(-1)^s 2^{c - 15} (1 + f)$$\n",
    "\n",
    "El número de nuestro ejemplo es\n",
    "\n",
    "$$\n",
    "(-1)\\times 2^{26 - 15} 1.94140625 = -3976\n",
    "$$"
   ]
  },
  {
   "cell_type": "markdown",
   "metadata": {},
   "source": [
    "* Número más grande de 16 bits\n",
    "\n",
    "0 11110 1111111111"
   ]
  },
  {
   "cell_type": "code",
   "execution_count": 243,
   "metadata": {},
   "outputs": [
    {
     "data": {
      "text/plain": [
       "0.9990234375"
      ]
     },
     "execution_count": 243,
     "metadata": {},
     "output_type": "execute_result"
    }
   ],
   "source": [
    "f = sum((1/2.)**(np.arange(1,11)))\n",
    "f"
   ]
  },
  {
   "cell_type": "code",
   "execution_count": 286,
   "metadata": {},
   "outputs": [
    {
     "data": {
      "text/plain": [
       "30"
      ]
     },
     "execution_count": 286,
     "metadata": {},
     "output_type": "execute_result"
    }
   ],
   "source": [
    "c = sum(2**(np.arange(1,5)))\n",
    "c"
   ]
  },
  {
   "cell_type": "code",
   "execution_count": 287,
   "metadata": {},
   "outputs": [
    {
     "data": {
      "text/plain": [
       "65504.0"
      ]
     },
     "execution_count": 287,
     "metadata": {},
     "output_type": "execute_result"
    }
   ],
   "source": [
    "2**(c - 15)*(1 + f)"
   ]
  },
  {
   "cell_type": "markdown",
   "metadata": {},
   "source": [
    "* Número más pequeño de 16 bits\n",
    "\n",
    "1 11110 1111111111"
   ]
  },
  {
   "cell_type": "code",
   "execution_count": 294,
   "metadata": {},
   "outputs": [
    {
     "data": {
      "text/plain": [
       "-65504.0"
      ]
     },
     "execution_count": 294,
     "metadata": {},
     "output_type": "execute_result"
    }
   ],
   "source": [
    "-2**(c-15)*(1 + f)"
   ]
  },
  {
   "cell_type": "markdown",
   "metadata": {},
   "source": [
    "* Número más cercano a cero de 16 bits\n",
    "\n",
    "0 00000 0000000001"
   ]
  },
  {
   "cell_type": "code",
   "execution_count": 296,
   "metadata": {},
   "outputs": [
    {
     "data": {
      "text/plain": [
       "5.960464477539063e-08"
      ]
     },
     "execution_count": 296,
     "metadata": {},
     "output_type": "execute_result"
    }
   ],
   "source": [
    "2**(1-15)*((1/2)**10)"
   ]
  },
  {
   "cell_type": "markdown",
   "metadata": {},
   "source": [
    "* Cifras decimales de precisión de 16 bits\n",
    "\n",
    "0 00000 0000000001"
   ]
  },
  {
   "cell_type": "code",
   "execution_count": 291,
   "metadata": {},
   "outputs": [
    {
     "data": {
      "text/plain": [
       "0.0009765625"
      ]
     },
     "execution_count": 291,
     "metadata": {},
     "output_type": "execute_result"
    }
   ],
   "source": [
    "(1/2)**(10)"
   ]
  },
  {
   "cell_type": "markdown",
   "metadata": {},
   "source": [
    "## Redondeo, truncación, error absoluto y relativo"
   ]
  },
  {
   "cell_type": "markdown",
   "metadata": {},
   "source": [
    "Para explorar este problema, ignoremos por ahora el sistema *binario* y veamos lo que ocurre en el sistema **decimal**. "
   ]
  },
  {
   "cell_type": "code",
   "execution_count": 19,
   "metadata": {
    "scrolled": true
   },
   "outputs": [
    {
     "data": {
      "text/plain": [
       "3.141592653589793"
      ]
     },
     "execution_count": 19,
     "metadata": {},
     "output_type": "execute_result"
    }
   ],
   "source": [
    "np.pi"
   ]
  },
  {
   "cell_type": "markdown",
   "metadata": {},
   "source": [
    "En este caso, si queremos representar el número $\\pi$ con una cierta cantidad $n$ de cifras significativas podemos hacer dos cosas:"
   ]
  },
  {
   "cell_type": "markdown",
   "metadata": {},
   "source": [
    "* Truncar: Ignoramos las cifras adicionales, más allá de la $n$-ésima cifra."
   ]
  },
  {
   "cell_type": "code",
   "execution_count": 20,
   "metadata": {},
   "outputs": [],
   "source": [
    "pi_truncado = 3.1415"
   ]
  },
  {
   "cell_type": "markdown",
   "metadata": {},
   "source": [
    "* Redondear: Si la cifra $n + 1$ es menor a 5 truncamos, pero si la cifra $n + 1$ es mayor o igual que 5"
   ]
  },
  {
   "cell_type": "code",
   "execution_count": 21,
   "metadata": {},
   "outputs": [],
   "source": [
    "pi_redondeado = 3.1416"
   ]
  },
  {
   "cell_type": "markdown",
   "metadata": {},
   "source": [
    "Al truncar o redondear cometemos un error. Podemos cuantificar el error de varias maneras:"
   ]
  },
  {
   "cell_type": "markdown",
   "metadata": {},
   "source": [
    "* Error real: estimación - valor verdadero"
   ]
  },
  {
   "cell_type": "code",
   "execution_count": 22,
   "metadata": {},
   "outputs": [
    {
     "data": {
      "text/plain": [
       "-9.265358979293481e-05"
      ]
     },
     "execution_count": 22,
     "metadata": {},
     "output_type": "execute_result"
    }
   ],
   "source": [
    "pi_truncado - np.pi"
   ]
  },
  {
   "cell_type": "code",
   "execution_count": 23,
   "metadata": {},
   "outputs": [
    {
     "data": {
      "text/plain": [
       "7.346410206832132e-06"
      ]
     },
     "execution_count": 23,
     "metadata": {},
     "output_type": "execute_result"
    }
   ],
   "source": [
    "pi_redondeado - np.pi"
   ]
  },
  {
   "cell_type": "markdown",
   "metadata": {},
   "source": [
    "* Error absoluto: |estimación - valor verdadero|"
   ]
  },
  {
   "cell_type": "code",
   "execution_count": 25,
   "metadata": {},
   "outputs": [
    {
     "data": {
      "text/plain": [
       "9.265358979293481e-05"
      ]
     },
     "execution_count": 25,
     "metadata": {},
     "output_type": "execute_result"
    }
   ],
   "source": [
    "np.abs(pi_truncado - np.pi)"
   ]
  },
  {
   "cell_type": "code",
   "execution_count": 26,
   "metadata": {},
   "outputs": [
    {
     "data": {
      "text/plain": [
       "7.346410206832132e-06"
      ]
     },
     "execution_count": 26,
     "metadata": {},
     "output_type": "execute_result"
    }
   ],
   "source": [
    "np.abs(pi_redondeado - np.pi)"
   ]
  },
  {
   "cell_type": "markdown",
   "metadata": {},
   "source": [
    "* Error relativo: |estimación - valor verdadero|/|valor verdadero|"
   ]
  },
  {
   "cell_type": "code",
   "execution_count": 27,
   "metadata": {},
   "outputs": [
    {
     "data": {
      "text/plain": [
       "2.9492553621508708e-05"
      ]
     },
     "execution_count": 27,
     "metadata": {},
     "output_type": "execute_result"
    }
   ],
   "source": [
    "np.abs(pi_truncado - np.pi)/np.abs(np.pi)"
   ]
  },
  {
   "cell_type": "code",
   "execution_count": 28,
   "metadata": {},
   "outputs": [
    {
     "data": {
      "text/plain": [
       "2.3384349967961744e-06"
      ]
     },
     "execution_count": 28,
     "metadata": {},
     "output_type": "execute_result"
    }
   ],
   "source": [
    "np.abs(pi_redondeado - np.pi)/np.abs(np.pi)"
   ]
  },
  {
   "cell_type": "markdown",
   "metadata": {},
   "source": [
    "## Aritmética de dígitos finitos"
   ]
  },
  {
   "cell_type": "markdown",
   "metadata": {},
   "source": [
    "Lo que hace el computador es aproximar el resultado de cada operación haciendo una truncación o redondeo. Esto quiere decir que si quiero multiplicar el número $2$ por el número $\\pi$, primero aproximo $2 \\simeq fl(2)$ y $\\pi \\simeq fl(\\pi)$ (donde $fl$ representa la aproximación de un número dado), y luego de hacer la multiplicación vuelve a aproximar $$2\\pi \\simeq fl(fl(2)\\times fl(\\pi))$$."
   ]
  },
  {
   "cell_type": "markdown",
   "metadata": {},
   "source": [
    "**Hagamos un ejemplo.** Supogamos que queremos calcular lo siguiente\n",
    "\n",
    "$$10000\\times(u - v)$$\n",
    "\n",
    "donde $u = 1/5$ y $v = 399/2000$. Sabemos que el resultado debe ser $5$. Veamos qué pasa si usamos números de 16 bits."
   ]
  },
  {
   "cell_type": "code",
   "execution_count": 38,
   "metadata": {
    "scrolled": true
   },
   "outputs": [
    {
     "data": {
      "text/plain": [
       "4.883"
      ]
     },
     "execution_count": 38,
     "metadata": {},
     "output_type": "execute_result"
    }
   ],
   "source": [
    "fl_u = np.float16(1)/np.float16(5)\n",
    "fl_v = np.float16(399)/np.float16(2000)\n",
    "np.float16(10000)*(fl_u - fl_v)"
   ]
  },
  {
   "cell_type": "code",
   "execution_count": 41,
   "metadata": {},
   "outputs": [
    {
     "data": {
      "text/plain": [
       "0.0234375"
      ]
     },
     "execution_count": 41,
     "metadata": {},
     "output_type": "execute_result"
    }
   ],
   "source": [
    "np.abs(np.float16(10000)*(fl_u - fl_v) - 5)/5"
   ]
  },
  {
   "cell_type": "markdown",
   "metadata": {},
   "source": [
    "Esto ocurre porque hay una resta entre dos números muy similares, que luego se multiplica por un número grande. Este tipo de errores ocurre también para los números que usamos de 64 bits, para números más cercanos multiplicados por números más grandes."
   ]
  },
  {
   "cell_type": "markdown",
   "metadata": {},
   "source": [
    "**Hagamos otro ejemplo.** Busquemos la solución de la ecuación: $$x^2 + 200 x + 1 = 0$$\n",
    "\n",
    "Las soluciones son $$x = \\frac{-200 \\pm \\sqrt{200^2 - 4}}{2}$$"
   ]
  },
  {
   "cell_type": "code",
   "execution_count": 56,
   "metadata": {},
   "outputs": [],
   "source": [
    "doscientos = np.float16(200)\n",
    "dos = np.float16(2)\n",
    "cuatro = np.float16(4)\n",
    "discr = np.float16(np.sqrt(np.float16(doscientos**2) - cuatro))\n",
    "x1 = np.float16(np.float16(-1*doscientos - discr)/dos)\n",
    "x2 = np.float16(np.float16(-1*doscientos + discr)/dos)"
   ]
  },
  {
   "cell_type": "code",
   "execution_count": 57,
   "metadata": {},
   "outputs": [
    {
     "data": {
      "text/plain": [
       "-200.0"
      ]
     },
     "execution_count": 57,
     "metadata": {},
     "output_type": "execute_result"
    }
   ],
   "source": [
    "x1"
   ]
  },
  {
   "cell_type": "code",
   "execution_count": 58,
   "metadata": {},
   "outputs": [
    {
     "data": {
      "text/plain": [
       "0.0"
      ]
     },
     "execution_count": 58,
     "metadata": {},
     "output_type": "execute_result"
    }
   ],
   "source": [
    "x2"
   ]
  },
  {
   "cell_type": "code",
   "execution_count": 65,
   "metadata": {},
   "outputs": [],
   "source": [
    "x1v = (-200 - np.sqrt(200**2 - 4))/2\n",
    "x2v = (-200 + np.sqrt(200**2 - 4))/2"
   ]
  },
  {
   "cell_type": "code",
   "execution_count": 66,
   "metadata": {},
   "outputs": [
    {
     "data": {
      "text/plain": [
       "-199.99499987499377"
      ]
     },
     "execution_count": 66,
     "metadata": {},
     "output_type": "execute_result"
    }
   ],
   "source": [
    "x1v"
   ]
  },
  {
   "cell_type": "code",
   "execution_count": 67,
   "metadata": {},
   "outputs": [
    {
     "data": {
      "text/plain": [
       "-0.005000125006247913"
      ]
     },
     "execution_count": 67,
     "metadata": {},
     "output_type": "execute_result"
    }
   ],
   "source": [
    "x2v"
   ]
  },
  {
   "cell_type": "code",
   "execution_count": null,
   "metadata": {},
   "outputs": [],
   "source": [
    "x1 - x1v"
   ]
  },
  {
   "cell_type": "markdown",
   "metadata": {},
   "source": [
    "Una manera de resolver este problema, es escribir la solución 2 para que no contenga la diferencia de dos números muy similares, esto se logra escribiendo\n",
    "\n",
    "$$\n",
    "\\frac{-200 + \\sqrt{200^2 - 4}}{2} = \\frac{(-200 + \\sqrt{200^2 - 4})}{2}\\frac{(-200 - \\sqrt{200^2 - 4})}{(-200 - \\sqrt{200^2 - 4})} = \\frac{4}{2(-200 - \\sqrt{200^2 - 4})}\n",
    "$$"
   ]
  },
  {
   "cell_type": "code",
   "execution_count": 70,
   "metadata": {},
   "outputs": [
    {
     "data": {
      "text/plain": [
       "-0.005"
      ]
     },
     "execution_count": 70,
     "metadata": {},
     "output_type": "execute_result"
    }
   ],
   "source": [
    "np.float16(dos/np.float16(-1*doscientos - discr))"
   ]
  },
  {
   "cell_type": "markdown",
   "metadata": {},
   "source": [
    "En general cuando estamos tratando de resolver una ecuación con coeficientes que no tienen el mismo orden de magnitud encontraremos este tipo de problemas."
   ]
  },
  {
   "cell_type": "markdown",
   "metadata": {},
   "source": [
    "**Otro ejemplo**. Consideremos que queremos evaluar la siguiente función\n",
    "\n",
    "$$\n",
    "P(x) = x^3 - 6.1 x^2 + 3.2 x + 1.5\n",
    "$$\n",
    "\n",
    "en el punto $x = \\pi$."
   ]
  },
  {
   "cell_type": "code",
   "execution_count": 199,
   "metadata": {},
   "outputs": [],
   "source": [
    "tres = np.float16(3)\n",
    "t1 = np.float16(pi**tres)\n",
    "t2 = np.float16(np.float16(6.1)*np.float16(pi**dos))\n",
    "t3 = np.float16(np.float16(3.2)*pi)\n",
    "t4 = np.float16(1.5)\n",
    "aproximado = np.float16(np.float16(np.float16(t1 - t2) + t3) + t4)\n",
    "exacto = np.pi**3 - 6.1*np.pi**2 + 3.2*np.pi + 1.5"
   ]
  },
  {
   "cell_type": "code",
   "execution_count": 200,
   "metadata": {},
   "outputs": [
    {
     "data": {
      "text/plain": [
       "-17.69"
      ]
     },
     "execution_count": 200,
     "metadata": {},
     "output_type": "execute_result"
    }
   ],
   "source": [
    "aproximado"
   ]
  },
  {
   "cell_type": "code",
   "execution_count": 201,
   "metadata": {},
   "outputs": [
    {
     "data": {
      "text/plain": [
       "-17.645213674857924"
      ]
     },
     "execution_count": 201,
     "metadata": {},
     "output_type": "execute_result"
    }
   ],
   "source": [
    "exacto"
   ]
  },
  {
   "cell_type": "code",
   "execution_count": 202,
   "metadata": {},
   "outputs": [
    {
     "data": {
      "text/plain": [
       "0.002396475663104501"
      ]
     },
     "execution_count": 202,
     "metadata": {},
     "output_type": "execute_result"
    }
   ],
   "source": [
    "np.abs(aproximado - exacto)/np.abs(exacto)"
   ]
  },
  {
   "cell_type": "markdown",
   "metadata": {},
   "source": [
    "Este error es relativamente grande porque la expresión original contiene un gran número de operaciones y cada operación introduce un error. Podemos reducir este error reduciendo el número de operaciones que tenemos que hacer. Para eso reescribimos la expresión de la siguiente manera\n",
    "\n",
    "$$P(x) = x(x(x - 6.1) + 3.2) + 1.5$$\n",
    "\n",
    "Esta se llama aritmética anidada y reduce el número de operaciones."
   ]
  },
  {
   "cell_type": "code",
   "execution_count": 205,
   "metadata": {},
   "outputs": [],
   "source": [
    "p1 = np.float16(pi - np.float16(6.1))\n",
    "p2 = np.float(np.float16(pi*p1) + np.float16(3.2))\n",
    "aproximado = np.float16(np.float16(pi*p2) + np.float16(1.5))\n",
    "exacto = np.pi**3 - 6.1*np.pi**2 + 3.2*np.pi + 1.5"
   ]
  },
  {
   "cell_type": "code",
   "execution_count": 206,
   "metadata": {},
   "outputs": [
    {
     "data": {
      "text/plain": [
       "0.0006254571548658005"
      ]
     },
     "execution_count": 206,
     "metadata": {},
     "output_type": "execute_result"
    }
   ],
   "source": [
    "np.abs(aproximado - exacto)/np.abs(exacto)"
   ]
  },
  {
   "cell_type": "markdown",
   "metadata": {},
   "source": [
    "## Tareas"
   ]
  },
  {
   "cell_type": "markdown",
   "metadata": {},
   "source": [
    "### Tarea 2.6"
   ]
  },
  {
   "cell_type": "markdown",
   "metadata": {},
   "source": [
    "Escriba a cuál número corresponde la siguiente representación de 16 bits\n",
    "\n",
    "1 00110 1110110101"
   ]
  },
  {
   "cell_type": "markdown",
   "metadata": {},
   "source": [
    "### Tarea 2.7"
   ]
  },
  {
   "cell_type": "markdown",
   "metadata": {},
   "source": [
    "Escriba el siguiente número en su representación de 16 bits: 9.75"
   ]
  },
  {
   "cell_type": "markdown",
   "metadata": {},
   "source": [
    "### Tarea 2.8"
   ]
  },
  {
   "cell_type": "markdown",
   "metadata": {},
   "source": [
    "Use la serie de Taylor del seno para calcular $\\sin(2)$ con un error relativo menor que $0.01$."
   ]
  },
  {
   "cell_type": "markdown",
   "metadata": {},
   "source": [
    "### Tarea 2.9"
   ]
  },
  {
   "cell_type": "markdown",
   "metadata": {},
   "source": [
    "Ejercicio 22, sección 1.2 del libro de Burden. "
   ]
  },
  {
   "cell_type": "markdown",
   "metadata": {},
   "source": [
    "Queremos aproximar la función $e^{-5}$ y lo hacemos de dos maneras\n",
    "\n",
    "* $\\sum_{n=0}^9 \\frac{1}{n!}(-5)^n$\n",
    "\n",
    "\n",
    "* $\\frac{1}{\\sum_{n=0}^9 \\frac{1}{n!} 5^n}$"
   ]
  },
  {
   "cell_type": "markdown",
   "metadata": {},
   "source": [
    "Calcule los errores absolutos y relativos de cada aproximación. ¿Cuál es más precisa y por qué?"
   ]
  },
  {
   "cell_type": "markdown",
   "metadata": {},
   "source": [
    "### Tarea 2.10"
   ]
  },
  {
   "cell_type": "markdown",
   "metadata": {},
   "source": [
    "En ciertos cálculos importantes en cosmología surge un problema análogo al siguiente. Queremos calcular algunas integrales\n",
    "\n",
    "$$\n",
    "I_{1} = \\int_{0}^{q_{max}} q^2\\left(\\frac{1}{q^4} + \\frac{3}{q}\\right)\\,dq\n",
    "$$\n",
    "\n",
    "$$\n",
    "I_{2} = \\int_{0}^{q_{max}} q^2\\left(\\frac{-1}{q^4} + \\frac{1}{q}\\right)\\,dq\n",
    "$$\n",
    "\n",
    "Estas integrales se pueden aproximar numéricamente por medio de su suma\n",
    "\n",
    "$$\n",
    "\\int_0^{q_{max}} f(q)\\,dq \\approx \\frac{q_{max}}{N} \\sum_{i = 1}^{N} f\\left(i*\\frac{q_{max}}{N}\\right) \n",
    "$$\n",
    "\n",
    "Profundizaremos en el cálculo numérico de integrales más adelante.\n",
    "\n",
    "La cantidad de interés es $I = I_{1} + I_{2}$."
   ]
  },
  {
   "cell_type": "markdown",
   "metadata": {},
   "source": [
    "* Usando $q_{max} = 0.1$ y $N = 500000$, calcule ambas integrales por separado usando la aproximación, y luego súmelas."
   ]
  },
  {
   "cell_type": "markdown",
   "metadata": {},
   "source": [
    "* La suma de las integrales $I$ se puede escribir como la integral de la suma de los integrandos:\n",
    "\n",
    "$$\n",
    "I = \\int_0^{q_{max}} q^2 \\frac{4}{q}\\,dq\n",
    "$$\n",
    "\n",
    "Calcule $I$ de esta manera usando la aproximación."
   ]
  },
  {
   "cell_type": "markdown",
   "metadata": {},
   "source": [
    "* ¿Por qué son diferentes los resultados? Compare con el resultado exacto de la integral $I$."
   ]
  }
 ],
 "metadata": {
  "kernelspec": {
   "display_name": "Python 3",
   "language": "python",
   "name": "python3"
  },
  "language_info": {
   "codemirror_mode": {
    "name": "ipython",
    "version": 3
   },
   "file_extension": ".py",
   "mimetype": "text/x-python",
   "name": "python",
   "nbconvert_exporter": "python",
   "pygments_lexer": "ipython3",
   "version": "3.7.7"
  }
 },
 "nbformat": 4,
 "nbformat_minor": 2
}
